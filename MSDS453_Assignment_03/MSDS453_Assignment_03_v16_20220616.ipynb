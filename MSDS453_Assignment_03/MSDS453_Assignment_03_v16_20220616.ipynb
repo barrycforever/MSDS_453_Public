{
 "cells": [
  {
   "cell_type": "markdown",
   "metadata": {},
   "source": [
    "<img src=\"https://github.com/djp840/MSDS_453_Public/blob/main/images/NorthwesternHeader.png?raw=1\">"
   ]
  },
  {
   "cell_type": "markdown",
   "metadata": {},
   "source": [
    "## MSDS453 - Research Assignment 03 - Ontology Plus Context and Modeling"
   ]
  },
  {
   "cell_type": "markdown",
   "metadata": {},
   "source": [
    "Take the ontology that you developed in week 6 and consider how your ten chosen documents for this quarter's class corpus map to that ontology.\n",
    "\n",
    "Protégé is a tool that takes inputs for a human-created Ontology and creates a visualization. \n",
    "\n",
    "Use Python algorithms to generate Knowledge Graphs from your documents.\n",
    "\n",
    "TensorFlow Bidirectional RNN Model"
   ]
  },
  {
   "cell_type": "code",
   "execution_count": 1,
   "metadata": {},
   "outputs": [],
   "source": [
    "import pandas as pd\n",
    "import numpy as np\n",
    "import re\n",
    "import string\n",
    "import seaborn as sns\n",
    "import matplotlib.pyplot as plt\n",
    "import nltk\n",
    "from collections import Counter\n",
    "from dataclasses import dataclass\n",
    "from timeit import default_timer as timer\n",
    "\n",
    "from nltk.corpus import stopwords\n",
    "from nltk.stem.wordnet import WordNetLemmatizer\n",
    "from nltk.tokenize import word_tokenize \n",
    "\n",
    "import gensim\n",
    "from gensim.models import Word2Vec\n",
    "\n",
    "import spacy\n",
    "from spacy import displacy\n",
    "\n",
    "from spacy.matcher import Matcher \n",
    "from spacy.tokens import Span \n",
    "\n",
    "import networkx as nx\n",
    "import matplotlib.pyplot as plt\n",
    "from tqdm import tqdm\n",
    "\n",
    "\n",
    "from sklearn.feature_extraction.text import TfidfVectorizer\n",
    "from sklearn.feature_extraction.text import CountVectorizer\n",
    "from sklearn.metrics.pairwise import cosine_similarity\n",
    "from sklearn.svm import SVC\n",
    "from sklearn.metrics import accuracy_score, f1_score\n",
    "from sklearn.model_selection import train_test_split\n",
    "\n",
    "from IPython.display import display, HTML\n",
    "\n",
    "from sklearn.metrics import confusion_matrix, classification_report\n",
    "from sklearn.metrics import accuracy_score, f1_score\n",
    "\n",
    "import tensorflow as tf\n",
    "from tensorflow import keras\n",
    "import tensorflow_datasets as tfds\n",
    "tf.random.set_seed(2022)\n",
    "\n",
    "from typing import List, Callable, Dict, Tuple, Set"
   ]
  },
  {
   "cell_type": "markdown",
   "metadata": {},
   "source": [
    "<div class=\"alert alert-block alert-danger\">\n",
    "<b>Required Installation: en_core_web_lg</b><br>\"python -m spacy download en_core_web_lg\"<br><br>English pipeline optimized for CPU. Components: tok2vec, tagger, parser, senter, ner, attribute_ruler, lemmatizer<br>\n",
    "    <b>https://spacy.io/models/en#en_core_web_lg </b>\n",
    "</div>"
   ]
  },
  {
   "cell_type": "markdown",
   "metadata": {},
   "source": [
    "## Requires Restart Of Runtime After Installation"
   ]
  },
  {
   "cell_type": "code",
   "execution_count": 2,
   "metadata": {},
   "outputs": [],
   "source": [
    "#!python -m spacy download en_core_web_lg -q"
   ]
  },
  {
   "cell_type": "code",
   "execution_count": 3,
   "metadata": {},
   "outputs": [],
   "source": [
    "nlp = spacy.load('en_core_web_lg')"
   ]
  },
  {
   "cell_type": "markdown",
   "metadata": {},
   "source": [
    "### Mount Google Drive to Colab Environment"
   ]
  },
  {
   "cell_type": "code",
   "execution_count": 4,
   "metadata": {},
   "outputs": [],
   "source": [
    "#from google.colab import drive\n",
    "#drive.mount('/content/gdrive')"
   ]
  },
  {
   "cell_type": "markdown",
   "metadata": {},
   "source": [
    "### NLTK Downloads"
   ]
  },
  {
   "cell_type": "code",
   "execution_count": 5,
   "metadata": {},
   "outputs": [
    {
     "data": {
      "text/plain": [
       "True"
      ]
     },
     "execution_count": 5,
     "metadata": {},
     "output_type": "execute_result"
    }
   ],
   "source": [
    "# Only run this once, they will be downloaded.\n",
    "nltk.download('stopwords',quiet=True)\n",
    "nltk.download('wordnet',quiet=True)\n",
    "nltk.download('punkt',quiet=True)\n",
    "nltk.download('omw-1.4',quiet=True)"
   ]
  },
  {
   "cell_type": "markdown",
   "metadata": {},
   "source": [
    "<div class=\"alert alert-block alert-danger\">\n",
    "<b>Gensim</b> is a Python library for topic modelling, document indexing and similarity retrieval with large corpora. Target audience is the natural language processing (NLP) and information retrieval (IR) community <br><br>\n",
    "    <b>https://pypi.org/project/gensim/ </b>\n",
    "</div>"
   ]
  },
  {
   "cell_type": "code",
   "execution_count": 6,
   "metadata": {},
   "outputs": [],
   "source": [
    "import pkg_resources\n",
    "pkg_resources.require(\"gensim<=3.8.3\");"
   ]
  },
  {
   "cell_type": "code",
   "execution_count": 7,
   "metadata": {},
   "outputs": [
    {
     "name": "stdout",
     "output_type": "stream",
     "text": [
      "Genism Version:  3.8.3\n"
     ]
    }
   ],
   "source": [
    "print(\"Genism Version: \", gensim.__version__)"
   ]
  },
  {
   "cell_type": "markdown",
   "metadata": {},
   "source": [
    "<div class=\"alert alert-block alert-info\">\n",
    "    <b>Suppress warning messages</b></div>"
   ]
  },
  {
   "cell_type": "code",
   "execution_count": 8,
   "metadata": {},
   "outputs": [],
   "source": [
    "def warn(*args, **kwargs):\n",
    "    pass\n",
    "import warnings\n",
    "warnings.warn = warn"
   ]
  },
  {
   "cell_type": "markdown",
   "metadata": {},
   "source": [
    "## Data Wrangling Utility Functions"
   ]
  },
  {
   "cell_type": "code",
   "execution_count": 9,
   "metadata": {},
   "outputs": [],
   "source": [
    "def add_movie_descriptor(data: pd.DataFrame, corpus_df: pd.DataFrame):\n",
    "    \"\"\"\n",
    "    Adds \"Movie Description\" to the supplied dataframe, in the form {Genre}_{P|N}_{Movie Title}_{DocID}\n",
    "    \"\"\"\n",
    "    review = np.where(corpus_df['Review Type (pos or neg)'] == 'Positive', 'P', 'N')\n",
    "    data['Descriptor'] = corpus_df['Genre of Movie'] + '_' + corpus_df['Movie Title'] + '_' + review + '_' + corpus_df['Doc_ID'].astype(str)\n",
    "    \n",
    "def get_corpus_df(path: str) -> pd.DataFrame:\n",
    "    data = pd.read_csv(path)\n",
    "    add_movie_descriptor(data, data)\n",
    "    sorted_data = data.sort_values(['Descriptor'])\n",
    "    indexed_data = sorted_data.set_index(['Doc_ID'])\n",
    "    indexed_data['Doc_ID'] = indexed_data.index\n",
    "    return indexed_data\n",
    "\n",
    "def remove_punctuation(text: str) -> str:\n",
    "    return re.sub('[^a-zA-Z]', '', str(text))\n",
    "\n",
    "def remove_tags(text: str) -> str:    \n",
    "    return re.sub('&lt;/?.*?&gt;', '', text)\n",
    "\n",
    "def remove_special_chars_and_digits(text: str) -> str:\n",
    "    return re.sub('(\\\\d|\\\\W)+', '', text)\n",
    "\n",
    "def get_sentences(text: str) -> List[str]:\n",
    "    return [str(x) for x in nlp(text).sents]\n",
    "\n",
    "def get_coref_resolved_sentences(text: str) -> List[str]:\n",
    "    return [str(x) for x in nlp(text).sents]\n",
    "\n",
    "def get_lemmas(text: str, stopwords: Set[str]) -> List[str]:\n",
    "    initial = [remove_tags(remove_special_chars_and_digits(remove_punctuation(x.lemma_.lower()))) for x in nlp(text)]\n",
    "    return [x for x in initial if x not in stopwords]\n",
    "\n",
    "def lemmatize_sentence(text: str, stopwords: Set[str]) -> str:\n",
    "    return ' '.join(get_lemmas(text, stopwords))\n",
    "\n",
    "def clean_doc(doc): \n",
    "    #doc = remove_punctuation(doc)\n",
    "    doc= ' '.join(remove_stop_words(doc))\n",
    "    doc = apply_lemmatization(doc)\n",
    "    return doc\n",
    "\n",
    "def remove_stop_words(in_text):\n",
    "    stop_words = set(stopwords.words('english')) \n",
    "    word_tokens = word_tokenize(in_text)  \n",
    "    filtered_sentence = [w for w in word_tokens if not w in stop_words] \n",
    "    return filtered_sentence\n",
    "\n",
    "def apply_lemmatization(in_text):\n",
    "    # Lemmatization\n",
    "    lem = WordNetLemmatizer()\n",
    "    word_list = nltk.word_tokenize(in_text)\n",
    "    output = ' '.join([lem.lemmatize(w) for w in word_list])\n",
    "    return output\n",
    "\n",
    "def counter_word(text):\n",
    "  count=Counter()\n",
    "  for i in text.values:\n",
    "    for word in i.split():\n",
    "      count[word]=+1\n",
    "  return count"
   ]
  },
  {
   "cell_type": "markdown",
   "metadata": {},
   "source": [
    "## Knowledge Context Graph Functions"
   ]
  },
  {
   "cell_type": "code",
   "execution_count": 10,
   "metadata": {},
   "outputs": [],
   "source": [
    "def map_edges(map_to: str, map_from: Set[str], df: pd.DataFrame):\n",
    "    print(f'Before mapping {\", \".join(map_from)} -> {map_to}: {sum(df.edge == map_to)}')\n",
    "    df['edge'] = np.where(kg_df.edge.isin(map_from), map_to, kg_df.edge)\n",
    "    print(f'After mapping {\", \".join(map_from)} -> {map_to}: {sum(df.edge == map_to)}')\n",
    "    \n",
    "def map_sources_and_targets(map_to: str, map_from: Set[str], df: pd.DataFrame):\n",
    "    before = sum(df.source == map_to) + sum(df.target == map_to)\n",
    "    print(f'Before mapping {\", \".join(map_from)} -> {map_to}: {before}')\n",
    "    \n",
    "    df['source'] = np.where(kg_df.source.isin(map_from), map_to, kg_df.source)\n",
    "    df['target'] = np.where(kg_df.target.isin(map_from), map_to, kg_df.target)\n",
    "    \n",
    "    after = sum(df.source == map_to) + sum(df.target == map_to)\n",
    "    print(f'After mapping {\", \".join(map_from)} -> {map_to}: {after}')\n",
    "    \n",
    "def get_neighborhood(sources: Set[str], edge_types: Set[str], depth: int, df: pd.DataFrame) -> pd.DataFrame:\n",
    "    output = []\n",
    "    \n",
    "    for d in range(depth):\n",
    "        if edge_types is not None:\n",
    "            rows = df[(df.edge.isin(edge_types)) & ((df.source.isin(sources)) | (df.target.isin(sources)))].copy()\n",
    "        else:\n",
    "            rows = df[(df.source.isin(sources)) | (df.target.isin(sources))].copy()\n",
    "            \n",
    "        output.append(rows)\n",
    "        sources = set(rows.target).union(set(rows.source))\n",
    "        \n",
    "    return pd.concat(output).drop_duplicates()\n",
    "\n",
    "def find_sources_and_targets_with_patterns(patterns: List[str], df: pd.DataFrame):\n",
    "    mask = np.zeros(kg_df.shape[0])\n",
    "    for pattern in patterns:\n",
    "        mask = mask | (df.source.str.contains(pattern)) | (df.target.str.contains(pattern))\n",
    "        \n",
    "    return df[mask]\n",
    "# Examples of how to use the function:\n",
    "# find_sources_and_targets_with_patterns(['action'], kg_df)\n",
    "# find_sources_and_targets_with_patterns(['terror'], kg_df)\n",
    "# find_sources_and_targets_with_patterns(['novel'], kg_df)\n",
    "# find_sources_and_targets_with_patterns(['director', 'campbell'], kg_df)\n",
    "\n",
    "\n",
    "def plot_graph(df: pd.DataFrame, show_edges: bool = False, figsize: Tuple[int, int] = (12, 12), use_circular: bool=True):\n",
    "    graph = nx.from_pandas_edgelist(df, \"source\", \"target\", edge_attr='edge', create_using=nx.MultiDiGraph())\n",
    "\n",
    "    plt.figure(figsize=figsize)\n",
    "    if use_circular:\n",
    "        pos = nx.circular_layout(graph)\n",
    "    else:\n",
    "        pos = nx.kamada_kawai_layout(graph)\n",
    "        \n",
    "    nx.draw(graph, with_labels=True, node_color='skyblue', edge_cmap=plt.cm.Blues, pos=pos)\n",
    "    if show_edges:\n",
    "        nx.draw_networkx_edge_labels(graph, pos=pos, font_size=8)\n",
    "        \n",
    "    plt.show()\n",
    "    \n",
    "def get_top_sources_and_targets(df: pd.DataFrame, top: int = 10):\n",
    "    return (Counter(df.source) + Counter(df.target)).most_common(top)\n",
    "\n",
    "def get_top_edges(df: pd.DataFrame, top: int = 10):\n",
    "    return Counter(df.edge).most_common(top)\n",
    "\n",
    "def get_dataset_partitions_pd(df, train_split=0.8, val_split=0.10, test_split=0.10):\n",
    "       # Specify seed to always have the same split distribution between runs\n",
    "    df_sample = df.sample(frac=1, random_state=12)\n",
    "    indices_or_sections = [int(.8*len(df)), int(.9*len(df))]\n",
    "    train_ds, val_ds, test_ds = np.split(df_sample, indices_or_sections)\n",
    "    return train_ds, val_ds, test_ds"
   ]
  },
  {
   "cell_type": "markdown",
   "metadata": {},
   "source": [
    "## Entity Extraction Functions"
   ]
  },
  {
   "cell_type": "code",
   "execution_count": 11,
   "metadata": {},
   "outputs": [],
   "source": [
    "def get_entities(sent):\n",
    "  ## chunk 1\n",
    "  ent1 = \"\"\n",
    "  ent2 = \"\"\n",
    "\n",
    "  prv_tok_dep = \"\"    # dependency tag of previous token in the sentence\n",
    "  prv_tok_text = \"\"   # previous token in the sentence\n",
    "\n",
    "  prefix = \"\"\n",
    "  modifier = \"\"\n",
    "\n",
    "  for tok in nlp(sent):\n",
    "    ## chunk 2\n",
    "    # if token is a punctuation mark then move on to the next token\n",
    "    if tok.dep_ != \"punct\":\n",
    "      # check: token is a compound word or not\n",
    "      if tok.dep_ == \"compound\":\n",
    "        prefix = tok.text\n",
    "        # if the previous word was also a 'compound' then add the current word to it\n",
    "        if prv_tok_dep == \"compound\":\n",
    "          prefix = prv_tok_text + \" \"+ tok.text\n",
    "      \n",
    "      # check: token is a modifier or not\n",
    "      if tok.dep_.endswith(\"mod\") == True:\n",
    "        modifier = tok.text\n",
    "        # if the previous word was also a 'compound' then add the current word to it\n",
    "        if prv_tok_dep == \"compound\":\n",
    "          modifier = prv_tok_text + \" \"+ tok.text\n",
    "      \n",
    "      ## chunk 3\n",
    "      if tok.dep_.find(\"subj\") == True:\n",
    "        ent1 = modifier +\" \"+ prefix + \" \"+ tok.text\n",
    "        prefix = \"\"\n",
    "        modifier = \"\"\n",
    "        prv_tok_dep = \"\"\n",
    "        prv_tok_text = \"\"      \n",
    "\n",
    "      ## chunk 4\n",
    "      if tok.dep_.find(\"obj\") == True:\n",
    "        ent2 = modifier +\" \"+ prefix +\" \"+ tok.text\n",
    "        \n",
    "      ## chunk 5  \n",
    "      # update variables\n",
    "      prv_tok_dep = tok.dep_\n",
    "      prv_tok_text = tok.text\n",
    "\n",
    "  return [ent1.strip(), ent2.strip()]\n",
    "\n",
    "def get_relation(sent):\n",
    "    try:\n",
    "        doc = nlp(sent)\n",
    "        \n",
    "        # Matcher class object \n",
    "        matcher = Matcher(nlp.vocab)\n",
    "\n",
    "        #define the pattern \n",
    "        pattern = [{'DEP':'ROOT'}, \n",
    "                {'DEP':'prep','OP':\"?\"},\n",
    "                {'DEP':'agent','OP':\"?\"},  \n",
    "                {'POS':'ADJ','OP':\"?\"}] \n",
    "        matcher.add(\"matching_1\", [pattern]) \n",
    "        matches = matcher(doc)\n",
    "        k = len(matches) - 1\n",
    "        span = doc[matches[k][1]:matches[k][2]] \n",
    "        \n",
    "        return(span.text)\n",
    "    except:\n",
    "        pass\n",
    "    \n",
    "def get_subject_verb_object(sent):\n",
    "  ent1 = \"\"\n",
    "  ent2 = \"\"\n",
    "  root = \"\"\n",
    "\n",
    "  for tok in nlp(sent):\n",
    "      if tok.dep_ == 'ROOT':\n",
    "        root = tok.text\n",
    "      elif tok.dep_ == \"nsubj\":\n",
    "        ent1 = tok.text\n",
    "      elif tok.dep_ == \"dobj\":\n",
    "        ent2 = tok.text\n",
    "\n",
    "      if ent1 != '' and ent2 != '' and root != '':\n",
    "        break\n",
    "\n",
    "  return [ent1, root, ent2]"
   ]
  },
  {
   "cell_type": "markdown",
   "metadata": {},
   "source": [
    "## Visualization Utility Functions"
   ]
  },
  {
   "cell_type": "code",
   "execution_count": 12,
   "metadata": {},
   "outputs": [],
   "source": [
    "def plot_confusion_matrix_labeled(y_true, y_pred, CLASSES_LIST):\n",
    "    mtx = confusion_matrix(y_true, y_pred)\n",
    "    # define classes \n",
    "    classes = CLASSES_LIST\n",
    "    temp_df = pd.DataFrame(data=mtx,columns=classes)\n",
    "    temp_df.index = classes\n",
    "    fig, ax = plt.subplots(figsize=(10,10))\n",
    "    sns.heatmap(temp_df, annot=True, fmt='d', linewidths=.75,  cbar=False, ax=ax,cmap='Blues',linecolor='white')\n",
    "    #  square=True,\n",
    "    plt.ylabel('true label')\n",
    "    plt.xlabel('predicted label')\n",
    "    \n",
    "def plot_graphs(history, metric):\n",
    "  plt.plot(history.history[metric])\n",
    "  plt.plot(history.history['val_'+metric], '')\n",
    "  plt.xlabel(\"Epochs\")\n",
    "  plt.ylabel(metric)\n",
    "  plt.legend([metric, 'val_'+metric])"
   ]
  },
  {
   "cell_type": "markdown",
   "metadata": {},
   "source": [
    "## Loading the Class Corpus"
   ]
  },
  {
   "cell_type": "code",
   "execution_count": 13,
   "metadata": {},
   "outputs": [],
   "source": [
    "CORPUS_PATH = './data/MSDS453_Sec57_TestQA_ClassCorpus.csv'\n",
    "corpus_df = get_corpus_df(CORPUS_PATH)"
   ]
  },
  {
   "cell_type": "markdown",
   "metadata": {},
   "source": [
    "## Exploratory Data Analysis"
   ]
  },
  {
   "cell_type": "code",
   "execution_count": 14,
   "metadata": {},
   "outputs": [
    {
     "data": {
      "text/html": [
       "<div>\n",
       "<style scoped>\n",
       "    .dataframe tbody tr th:only-of-type {\n",
       "        vertical-align: middle;\n",
       "    }\n",
       "\n",
       "    .dataframe tbody tr th {\n",
       "        vertical-align: top;\n",
       "    }\n",
       "\n",
       "    .dataframe thead th {\n",
       "        text-align: right;\n",
       "    }\n",
       "</style>\n",
       "<table border=\"1\" class=\"dataframe\">\n",
       "  <thead>\n",
       "    <tr style=\"text-align: right;\">\n",
       "      <th>Doc_ID</th>\n",
       "      <th>111</th>\n",
       "      <th>112</th>\n",
       "      <th>113</th>\n",
       "    </tr>\n",
       "  </thead>\n",
       "  <tbody>\n",
       "    <tr>\n",
       "      <th>DSI_Title</th>\n",
       "      <td>SPM_Doc2_CasinoRoyale</td>\n",
       "      <td>SPM_Doc3_CasinoRoyale</td>\n",
       "      <td>SPM_Doc4_CasinoRoyale</td>\n",
       "    </tr>\n",
       "    <tr>\n",
       "      <th>Text</th>\n",
       "      <td>The introduction of a new James Bond always br...</td>\n",
       "      <td>Although box office has remained strong worldw...</td>\n",
       "      <td>Give or take the odd Octopussy, I suppose, lik...</td>\n",
       "    </tr>\n",
       "    <tr>\n",
       "      <th>Submission File Name</th>\n",
       "      <td>SPM_Doc2_CasinoRoyale</td>\n",
       "      <td>SPM_Doc3_CasinoRoyale</td>\n",
       "      <td>SPM_Doc4_CasinoRoyale</td>\n",
       "    </tr>\n",
       "    <tr>\n",
       "      <th>Student Name</th>\n",
       "      <td>SPM</td>\n",
       "      <td>SPM</td>\n",
       "      <td>SPM</td>\n",
       "    </tr>\n",
       "    <tr>\n",
       "      <th>Genre of Movie</th>\n",
       "      <td>Action</td>\n",
       "      <td>Action</td>\n",
       "      <td>Action</td>\n",
       "    </tr>\n",
       "    <tr>\n",
       "      <th>Review Type (pos or neg)</th>\n",
       "      <td>Negative</td>\n",
       "      <td>Negative</td>\n",
       "      <td>Negative</td>\n",
       "    </tr>\n",
       "    <tr>\n",
       "      <th>Movie Title</th>\n",
       "      <td>Casino_Royale</td>\n",
       "      <td>Casino_Royale</td>\n",
       "      <td>Casino_Royale</td>\n",
       "    </tr>\n",
       "    <tr>\n",
       "      <th>Descriptor</th>\n",
       "      <td>Action_Casino_Royale_N_111</td>\n",
       "      <td>Action_Casino_Royale_N_112</td>\n",
       "      <td>Action_Casino_Royale_N_113</td>\n",
       "    </tr>\n",
       "    <tr>\n",
       "      <th>Doc_ID</th>\n",
       "      <td>111</td>\n",
       "      <td>112</td>\n",
       "      <td>113</td>\n",
       "    </tr>\n",
       "    <tr>\n",
       "      <th>raw_sentences</th>\n",
       "      <td>[The introduction of a new James Bond always b...</td>\n",
       "      <td>[Although box office has remained strong world...</td>\n",
       "      <td>[Give or take the odd Octopussy, I suppose, li...</td>\n",
       "    </tr>\n",
       "  </tbody>\n",
       "</table>\n",
       "</div>"
      ],
      "text/plain": [
       "Doc_ID                                                                  111  \\\n",
       "DSI_Title                                             SPM_Doc2_CasinoRoyale   \n",
       "Text                      The introduction of a new James Bond always br...   \n",
       "Submission File Name                                  SPM_Doc2_CasinoRoyale   \n",
       "Student Name                                                            SPM   \n",
       "Genre of Movie                                                       Action   \n",
       "Review Type (pos or neg)                                           Negative   \n",
       "Movie Title                                                   Casino_Royale   \n",
       "Descriptor                                       Action_Casino_Royale_N_111   \n",
       "Doc_ID                                                                  111   \n",
       "raw_sentences             [The introduction of a new James Bond always b...   \n",
       "\n",
       "Doc_ID                                                                  112  \\\n",
       "DSI_Title                                             SPM_Doc3_CasinoRoyale   \n",
       "Text                      Although box office has remained strong worldw...   \n",
       "Submission File Name                                  SPM_Doc3_CasinoRoyale   \n",
       "Student Name                                                            SPM   \n",
       "Genre of Movie                                                       Action   \n",
       "Review Type (pos or neg)                                           Negative   \n",
       "Movie Title                                                   Casino_Royale   \n",
       "Descriptor                                       Action_Casino_Royale_N_112   \n",
       "Doc_ID                                                                  112   \n",
       "raw_sentences             [Although box office has remained strong world...   \n",
       "\n",
       "Doc_ID                                                                  113  \n",
       "DSI_Title                                             SPM_Doc4_CasinoRoyale  \n",
       "Text                      Give or take the odd Octopussy, I suppose, lik...  \n",
       "Submission File Name                                  SPM_Doc4_CasinoRoyale  \n",
       "Student Name                                                            SPM  \n",
       "Genre of Movie                                                       Action  \n",
       "Review Type (pos or neg)                                           Negative  \n",
       "Movie Title                                                   Casino_Royale  \n",
       "Descriptor                                       Action_Casino_Royale_N_113  \n",
       "Doc_ID                                                                  113  \n",
       "raw_sentences             [Give or take the odd Octopussy, I suppose, li...  "
      ]
     },
     "execution_count": 14,
     "metadata": {},
     "output_type": "execute_result"
    }
   ],
   "source": [
    "# Tokenize sentences\n",
    "corpus_df['raw_sentences'] = corpus_df.Text.apply(get_sentences)\n",
    "corpus_df.head(3).T"
   ]
  },
  {
   "cell_type": "markdown",
   "metadata": {},
   "source": [
    "## Tokenize Words"
   ]
  },
  {
   "cell_type": "code",
   "execution_count": 15,
   "metadata": {
    "scrolled": false
   },
   "outputs": [
    {
     "data": {
      "text/plain": [
       "Doc_ID\n",
       "111    [introduction, new, james, bond, bring, skepti...\n",
       "112    [box, office, remain, strong, worldwide, arden...\n",
       "113    [odd, octopussy, suppose, like, pretty, memora...\n",
       "115    [love, bond, film, music, gadget, fascinating,...\n",
       "116    [watch, james, bond, flick, connery, brosnan, ...\n",
       "Name: lemmas, dtype: object"
      ]
     },
     "execution_count": 15,
     "metadata": {},
     "output_type": "execute_result"
    }
   ],
   "source": [
    "default_stopwords=\\\n",
    "set(nltk.corpus.stopwords.words('english')).union(set(nlp.Defaults.stop_words)).union({' ', ''})\n",
    "corpus_df['lemmas'] = corpus_df.Text.apply(lambda x: get_lemmas(x, default_stopwords))\n",
    "corpus_df.lemmas.head()"
   ]
  },
  {
   "cell_type": "code",
   "execution_count": 16,
   "metadata": {},
   "outputs": [
    {
     "data": {
      "text/html": [
       "<div>\n",
       "<style scoped>\n",
       "    .dataframe tbody tr th:only-of-type {\n",
       "        vertical-align: middle;\n",
       "    }\n",
       "\n",
       "    .dataframe tbody tr th {\n",
       "        vertical-align: top;\n",
       "    }\n",
       "\n",
       "    .dataframe thead th {\n",
       "        text-align: right;\n",
       "    }\n",
       "</style>\n",
       "<table border=\"1\" class=\"dataframe\">\n",
       "  <thead>\n",
       "    <tr style=\"text-align: right;\">\n",
       "      <th>Doc_ID</th>\n",
       "      <th>111</th>\n",
       "      <th>112</th>\n",
       "      <th>113</th>\n",
       "    </tr>\n",
       "  </thead>\n",
       "  <tbody>\n",
       "    <tr>\n",
       "      <th>DSI_Title</th>\n",
       "      <td>SPM_Doc2_CasinoRoyale</td>\n",
       "      <td>SPM_Doc3_CasinoRoyale</td>\n",
       "      <td>SPM_Doc4_CasinoRoyale</td>\n",
       "    </tr>\n",
       "    <tr>\n",
       "      <th>Text</th>\n",
       "      <td>The introduction of a new James Bond always br...</td>\n",
       "      <td>Although box office has remained strong worldw...</td>\n",
       "      <td>Give or take the odd Octopussy, I suppose, lik...</td>\n",
       "    </tr>\n",
       "    <tr>\n",
       "      <th>Submission File Name</th>\n",
       "      <td>SPM_Doc2_CasinoRoyale</td>\n",
       "      <td>SPM_Doc3_CasinoRoyale</td>\n",
       "      <td>SPM_Doc4_CasinoRoyale</td>\n",
       "    </tr>\n",
       "    <tr>\n",
       "      <th>Student Name</th>\n",
       "      <td>SPM</td>\n",
       "      <td>SPM</td>\n",
       "      <td>SPM</td>\n",
       "    </tr>\n",
       "    <tr>\n",
       "      <th>Genre of Movie</th>\n",
       "      <td>Action</td>\n",
       "      <td>Action</td>\n",
       "      <td>Action</td>\n",
       "    </tr>\n",
       "    <tr>\n",
       "      <th>Review Type (pos or neg)</th>\n",
       "      <td>Negative</td>\n",
       "      <td>Negative</td>\n",
       "      <td>Negative</td>\n",
       "    </tr>\n",
       "    <tr>\n",
       "      <th>Movie Title</th>\n",
       "      <td>Casino_Royale</td>\n",
       "      <td>Casino_Royale</td>\n",
       "      <td>Casino_Royale</td>\n",
       "    </tr>\n",
       "    <tr>\n",
       "      <th>Descriptor</th>\n",
       "      <td>Action_Casino_Royale_N_111</td>\n",
       "      <td>Action_Casino_Royale_N_112</td>\n",
       "      <td>Action_Casino_Royale_N_113</td>\n",
       "    </tr>\n",
       "    <tr>\n",
       "      <th>Doc_ID</th>\n",
       "      <td>111</td>\n",
       "      <td>112</td>\n",
       "      <td>113</td>\n",
       "    </tr>\n",
       "    <tr>\n",
       "      <th>raw_sentences</th>\n",
       "      <td>[The introduction of a new James Bond always b...</td>\n",
       "      <td>[Although box office has remained strong world...</td>\n",
       "      <td>[Give or take the odd Octopussy, I suppose, li...</td>\n",
       "    </tr>\n",
       "    <tr>\n",
       "      <th>lemmas</th>\n",
       "      <td>[introduction, new, james, bond, bring, skepti...</td>\n",
       "      <td>[box, office, remain, strong, worldwide, arden...</td>\n",
       "      <td>[odd, octopussy, suppose, like, pretty, memora...</td>\n",
       "    </tr>\n",
       "  </tbody>\n",
       "</table>\n",
       "</div>"
      ],
      "text/plain": [
       "Doc_ID                                                                  111  \\\n",
       "DSI_Title                                             SPM_Doc2_CasinoRoyale   \n",
       "Text                      The introduction of a new James Bond always br...   \n",
       "Submission File Name                                  SPM_Doc2_CasinoRoyale   \n",
       "Student Name                                                            SPM   \n",
       "Genre of Movie                                                       Action   \n",
       "Review Type (pos or neg)                                           Negative   \n",
       "Movie Title                                                   Casino_Royale   \n",
       "Descriptor                                       Action_Casino_Royale_N_111   \n",
       "Doc_ID                                                                  111   \n",
       "raw_sentences             [The introduction of a new James Bond always b...   \n",
       "lemmas                    [introduction, new, james, bond, bring, skepti...   \n",
       "\n",
       "Doc_ID                                                                  112  \\\n",
       "DSI_Title                                             SPM_Doc3_CasinoRoyale   \n",
       "Text                      Although box office has remained strong worldw...   \n",
       "Submission File Name                                  SPM_Doc3_CasinoRoyale   \n",
       "Student Name                                                            SPM   \n",
       "Genre of Movie                                                       Action   \n",
       "Review Type (pos or neg)                                           Negative   \n",
       "Movie Title                                                   Casino_Royale   \n",
       "Descriptor                                       Action_Casino_Royale_N_112   \n",
       "Doc_ID                                                                  112   \n",
       "raw_sentences             [Although box office has remained strong world...   \n",
       "lemmas                    [box, office, remain, strong, worldwide, arden...   \n",
       "\n",
       "Doc_ID                                                                  113  \n",
       "DSI_Title                                             SPM_Doc4_CasinoRoyale  \n",
       "Text                      Give or take the odd Octopussy, I suppose, lik...  \n",
       "Submission File Name                                  SPM_Doc4_CasinoRoyale  \n",
       "Student Name                                                            SPM  \n",
       "Genre of Movie                                                       Action  \n",
       "Review Type (pos or neg)                                           Negative  \n",
       "Movie Title                                                   Casino_Royale  \n",
       "Descriptor                                       Action_Casino_Royale_N_113  \n",
       "Doc_ID                                                                  113  \n",
       "raw_sentences             [Give or take the odd Octopussy, I suppose, li...  \n",
       "lemmas                    [odd, octopussy, suppose, like, pretty, memora...  "
      ]
     },
     "execution_count": 16,
     "metadata": {},
     "output_type": "execute_result"
    }
   ],
   "source": [
    "corpus_df.head(3).T"
   ]
  },
  {
   "cell_type": "markdown",
   "metadata": {},
   "source": [
    "## Reassemble Leminized Words"
   ]
  },
  {
   "cell_type": "code",
   "execution_count": 17,
   "metadata": {},
   "outputs": [],
   "source": [
    "corpus_df['lemmas_joined'] = corpus_df.lemmas.apply(lambda x: ' '.join(x))"
   ]
  },
  {
   "cell_type": "code",
   "execution_count": 18,
   "metadata": {},
   "outputs": [
    {
     "data": {
      "text/plain": [
       "Doc_ID\n",
       "111    introduction new james bond bring skepticism m...\n",
       "112    box office remain strong worldwide ardent fan ...\n",
       "113    odd octopussy suppose like pretty memorably fo...\n",
       "115    love bond film music gadget fascinating woman ...\n",
       "116    watch james bond flick connery brosnan charact...\n",
       "Name: lemmas_joined, dtype: object"
      ]
     },
     "execution_count": 18,
     "metadata": {},
     "output_type": "execute_result"
    }
   ],
   "source": [
    "corpus_df['lemmas_joined'].head()"
   ]
  },
  {
   "cell_type": "code",
   "execution_count": 19,
   "metadata": {},
   "outputs": [
    {
     "data": {
      "text/html": [
       "<div>\n",
       "<style scoped>\n",
       "    .dataframe tbody tr th:only-of-type {\n",
       "        vertical-align: middle;\n",
       "    }\n",
       "\n",
       "    .dataframe tbody tr th {\n",
       "        vertical-align: top;\n",
       "    }\n",
       "\n",
       "    .dataframe thead th {\n",
       "        text-align: right;\n",
       "    }\n",
       "</style>\n",
       "<table border=\"1\" class=\"dataframe\">\n",
       "  <thead>\n",
       "    <tr style=\"text-align: right;\">\n",
       "      <th>Doc_ID</th>\n",
       "      <th>111</th>\n",
       "      <th>112</th>\n",
       "      <th>113</th>\n",
       "    </tr>\n",
       "  </thead>\n",
       "  <tbody>\n",
       "    <tr>\n",
       "      <th>DSI_Title</th>\n",
       "      <td>SPM_Doc2_CasinoRoyale</td>\n",
       "      <td>SPM_Doc3_CasinoRoyale</td>\n",
       "      <td>SPM_Doc4_CasinoRoyale</td>\n",
       "    </tr>\n",
       "    <tr>\n",
       "      <th>Text</th>\n",
       "      <td>The introduction of a new James Bond always br...</td>\n",
       "      <td>Although box office has remained strong worldw...</td>\n",
       "      <td>Give or take the odd Octopussy, I suppose, lik...</td>\n",
       "    </tr>\n",
       "    <tr>\n",
       "      <th>Submission File Name</th>\n",
       "      <td>SPM_Doc2_CasinoRoyale</td>\n",
       "      <td>SPM_Doc3_CasinoRoyale</td>\n",
       "      <td>SPM_Doc4_CasinoRoyale</td>\n",
       "    </tr>\n",
       "    <tr>\n",
       "      <th>Student Name</th>\n",
       "      <td>SPM</td>\n",
       "      <td>SPM</td>\n",
       "      <td>SPM</td>\n",
       "    </tr>\n",
       "    <tr>\n",
       "      <th>Genre of Movie</th>\n",
       "      <td>Action</td>\n",
       "      <td>Action</td>\n",
       "      <td>Action</td>\n",
       "    </tr>\n",
       "    <tr>\n",
       "      <th>Review Type (pos or neg)</th>\n",
       "      <td>Negative</td>\n",
       "      <td>Negative</td>\n",
       "      <td>Negative</td>\n",
       "    </tr>\n",
       "    <tr>\n",
       "      <th>Movie Title</th>\n",
       "      <td>Casino_Royale</td>\n",
       "      <td>Casino_Royale</td>\n",
       "      <td>Casino_Royale</td>\n",
       "    </tr>\n",
       "    <tr>\n",
       "      <th>Descriptor</th>\n",
       "      <td>Action_Casino_Royale_N_111</td>\n",
       "      <td>Action_Casino_Royale_N_112</td>\n",
       "      <td>Action_Casino_Royale_N_113</td>\n",
       "    </tr>\n",
       "    <tr>\n",
       "      <th>Doc_ID</th>\n",
       "      <td>111</td>\n",
       "      <td>112</td>\n",
       "      <td>113</td>\n",
       "    </tr>\n",
       "    <tr>\n",
       "      <th>raw_sentences</th>\n",
       "      <td>[The introduction of a new James Bond always b...</td>\n",
       "      <td>[Although box office has remained strong world...</td>\n",
       "      <td>[Give or take the odd Octopussy, I suppose, li...</td>\n",
       "    </tr>\n",
       "    <tr>\n",
       "      <th>lemmas</th>\n",
       "      <td>[introduction, new, james, bond, bring, skepti...</td>\n",
       "      <td>[box, office, remain, strong, worldwide, arden...</td>\n",
       "      <td>[odd, octopussy, suppose, like, pretty, memora...</td>\n",
       "    </tr>\n",
       "    <tr>\n",
       "      <th>lemmas_joined</th>\n",
       "      <td>introduction new james bond bring skepticism m...</td>\n",
       "      <td>box office remain strong worldwide ardent fan ...</td>\n",
       "      <td>odd octopussy suppose like pretty memorably fo...</td>\n",
       "    </tr>\n",
       "  </tbody>\n",
       "</table>\n",
       "</div>"
      ],
      "text/plain": [
       "Doc_ID                                                                  111  \\\n",
       "DSI_Title                                             SPM_Doc2_CasinoRoyale   \n",
       "Text                      The introduction of a new James Bond always br...   \n",
       "Submission File Name                                  SPM_Doc2_CasinoRoyale   \n",
       "Student Name                                                            SPM   \n",
       "Genre of Movie                                                       Action   \n",
       "Review Type (pos or neg)                                           Negative   \n",
       "Movie Title                                                   Casino_Royale   \n",
       "Descriptor                                       Action_Casino_Royale_N_111   \n",
       "Doc_ID                                                                  111   \n",
       "raw_sentences             [The introduction of a new James Bond always b...   \n",
       "lemmas                    [introduction, new, james, bond, bring, skepti...   \n",
       "lemmas_joined             introduction new james bond bring skepticism m...   \n",
       "\n",
       "Doc_ID                                                                  112  \\\n",
       "DSI_Title                                             SPM_Doc3_CasinoRoyale   \n",
       "Text                      Although box office has remained strong worldw...   \n",
       "Submission File Name                                  SPM_Doc3_CasinoRoyale   \n",
       "Student Name                                                            SPM   \n",
       "Genre of Movie                                                       Action   \n",
       "Review Type (pos or neg)                                           Negative   \n",
       "Movie Title                                                   Casino_Royale   \n",
       "Descriptor                                       Action_Casino_Royale_N_112   \n",
       "Doc_ID                                                                  112   \n",
       "raw_sentences             [Although box office has remained strong world...   \n",
       "lemmas                    [box, office, remain, strong, worldwide, arden...   \n",
       "lemmas_joined             box office remain strong worldwide ardent fan ...   \n",
       "\n",
       "Doc_ID                                                                  113  \n",
       "DSI_Title                                             SPM_Doc4_CasinoRoyale  \n",
       "Text                      Give or take the odd Octopussy, I suppose, lik...  \n",
       "Submission File Name                                  SPM_Doc4_CasinoRoyale  \n",
       "Student Name                                                            SPM  \n",
       "Genre of Movie                                                       Action  \n",
       "Review Type (pos or neg)                                           Negative  \n",
       "Movie Title                                                   Casino_Royale  \n",
       "Descriptor                                       Action_Casino_Royale_N_113  \n",
       "Doc_ID                                                                  113  \n",
       "raw_sentences             [Give or take the odd Octopussy, I suppose, li...  \n",
       "lemmas                    [odd, octopussy, suppose, like, pretty, memora...  \n",
       "lemmas_joined             odd octopussy suppose like pretty memorably fo...  "
      ]
     },
     "execution_count": 19,
     "metadata": {},
     "output_type": "execute_result"
    }
   ],
   "source": [
    "corpus_df.head(3).T"
   ]
  },
  {
   "cell_type": "markdown",
   "metadata": {},
   "source": [
    "## Vocabulary Data Wrangling"
   ]
  },
  {
   "cell_type": "code",
   "execution_count": 20,
   "metadata": {},
   "outputs": [
    {
     "name": "stdout",
     "output_type": "stream",
     "text": [
      "All Word Vocabulary size: 13458\n",
      "Curated Vocabulary size: 3478\n"
     ]
    }
   ],
   "source": [
    "vectorizer = CountVectorizer(ngram_range=(1, 1))\n",
    "transformed_documents = vectorizer.fit_transform(corpus_df.lemmas_joined)\n",
    "doc_term_matrix = transformed_documents.todense()\n",
    "doc_term_df = pd.DataFrame(doc_term_matrix, \n",
    "                           columns=vectorizer.get_feature_names_out(), \n",
    "                           index=corpus_df.Descriptor)\n",
    "print(f'All Word Vocabulary size: {doc_term_df.shape[1]}')\n",
    "all_words = set(doc_term_df.columns)\n",
    "\n",
    "vectorizer = CountVectorizer(ngram_range=(1, 1), min_df=5, max_df=.8)\n",
    "transformed_documents = vectorizer.fit_transform(corpus_df.lemmas_joined)\n",
    "doc_term_matrix = transformed_documents.todense()\n",
    "doc_term_df = pd.DataFrame(doc_term_matrix, \n",
    "                           columns=vectorizer.get_feature_names_out(), \n",
    "                           index=corpus_df.Descriptor)\n",
    "print(f'Curated Vocabulary size: {doc_term_df.shape[1]}')\n",
    "vocabulary = set(doc_term_df.columns)\n",
    "\n",
    "words_to_remove = default_stopwords.union(all_words - vocabulary)"
   ]
  },
  {
   "cell_type": "code",
   "execution_count": 21,
   "metadata": {},
   "outputs": [
    {
     "data": {
      "image/png": "[encoded data removed]",
      "text/plain": [
       "<Figure size 432x288 with 1 Axes>"
      ]
     },
     "metadata": {
      "needs_background": "light"
     },
     "output_type": "display_data"
    }
   ],
   "source": [
    "plt.hist(doc_term_df.sum(axis=0).T, range=(0, 200))\n",
    "plt.xlabel('Number of Occurrences')\n",
    "plt.ylabel('Number of Terms');"
   ]
  },
  {
   "cell_type": "code",
   "execution_count": 22,
   "metadata": {},
   "outputs": [
    {
     "data": {
      "text/plain": [
       "Doc_ID\n",
       "111    [introduction, new, james, bond, bring, skepti...\n",
       "112    [box, office, remain, strong, fan, james, bond...\n",
       "113    [odd, suppose, pretty, forget, memory, process...\n",
       "115    [love, bond, music, gadget, fascinating, woman...\n",
       "116    [watch, james, bond, flick, connery, brosnan, ...\n",
       "Name: lemmas, dtype: object"
      ]
     },
     "execution_count": 22,
     "metadata": {},
     "output_type": "execute_result"
    }
   ],
   "source": [
    "# Re-tokenize words, recreate joined documents\n",
    "corpus_df['lemmas'] = corpus_df.Text.apply(lambda x: get_lemmas(x, words_to_remove))\n",
    "corpus_df['lemmas_joined'] = corpus_df.lemmas.apply(lambda x: ' '.join(x))\n",
    "corpus_df.lemmas.head()"
   ]
  },
  {
   "cell_type": "markdown",
   "metadata": {},
   "source": [
    "## Get Lemmatized and Filtered Sentences"
   ]
  },
  {
   "cell_type": "markdown",
   "metadata": {},
   "source": [
    "Removes the additional words "
   ]
  },
  {
   "cell_type": "code",
   "execution_count": 23,
   "metadata": {},
   "outputs": [],
   "source": [
    "corpus_df['sentences_lemmatized']=\\\n",
    "corpus_df.raw_sentences.apply(lambda x: [lemmatize_sentence(s, words_to_remove) for s in x])"
   ]
  },
  {
   "cell_type": "code",
   "execution_count": 24,
   "metadata": {},
   "outputs": [
    {
     "data": {
      "text/html": [
       "<div>\n",
       "<style scoped>\n",
       "    .dataframe tbody tr th:only-of-type {\n",
       "        vertical-align: middle;\n",
       "    }\n",
       "\n",
       "    .dataframe tbody tr th {\n",
       "        vertical-align: top;\n",
       "    }\n",
       "\n",
       "    .dataframe thead th {\n",
       "        text-align: right;\n",
       "    }\n",
       "</style>\n",
       "<table border=\"1\" class=\"dataframe\">\n",
       "  <thead>\n",
       "    <tr style=\"text-align: right;\">\n",
       "      <th>Doc_ID</th>\n",
       "      <th>111</th>\n",
       "      <th>112</th>\n",
       "      <th>113</th>\n",
       "      <th>115</th>\n",
       "      <th>116</th>\n",
       "    </tr>\n",
       "  </thead>\n",
       "  <tbody>\n",
       "    <tr>\n",
       "      <th>DSI_Title</th>\n",
       "      <td>SPM_Doc2_CasinoRoyale</td>\n",
       "      <td>SPM_Doc3_CasinoRoyale</td>\n",
       "      <td>SPM_Doc4_CasinoRoyale</td>\n",
       "      <td>SPM_Doc6_CasinoRoyale</td>\n",
       "      <td>SPM_Doc7_CasinoRoyale</td>\n",
       "    </tr>\n",
       "    <tr>\n",
       "      <th>Text</th>\n",
       "      <td>The introduction of a new James Bond always br...</td>\n",
       "      <td>Although box office has remained strong worldw...</td>\n",
       "      <td>Give or take the odd Octopussy, I suppose, lik...</td>\n",
       "      <td>What is it that you love about the Bond films?...</td>\n",
       "      <td>I've watched all the James Bond flicks from Co...</td>\n",
       "    </tr>\n",
       "    <tr>\n",
       "      <th>Submission File Name</th>\n",
       "      <td>SPM_Doc2_CasinoRoyale</td>\n",
       "      <td>SPM_Doc3_CasinoRoyale</td>\n",
       "      <td>SPM_Doc4_CasinoRoyale</td>\n",
       "      <td>SPM_Doc6_CasinoRoyale</td>\n",
       "      <td>SPM_Doc7_CasinoRoyale</td>\n",
       "    </tr>\n",
       "    <tr>\n",
       "      <th>Student Name</th>\n",
       "      <td>SPM</td>\n",
       "      <td>SPM</td>\n",
       "      <td>SPM</td>\n",
       "      <td>SPM</td>\n",
       "      <td>SPM</td>\n",
       "    </tr>\n",
       "    <tr>\n",
       "      <th>Genre of Movie</th>\n",
       "      <td>Action</td>\n",
       "      <td>Action</td>\n",
       "      <td>Action</td>\n",
       "      <td>Action</td>\n",
       "      <td>Action</td>\n",
       "    </tr>\n",
       "    <tr>\n",
       "      <th>Review Type (pos or neg)</th>\n",
       "      <td>Negative</td>\n",
       "      <td>Negative</td>\n",
       "      <td>Negative</td>\n",
       "      <td>Negative</td>\n",
       "      <td>Negative</td>\n",
       "    </tr>\n",
       "    <tr>\n",
       "      <th>Movie Title</th>\n",
       "      <td>Casino_Royale</td>\n",
       "      <td>Casino_Royale</td>\n",
       "      <td>Casino_Royale</td>\n",
       "      <td>Casino_Royale</td>\n",
       "      <td>Casino_Royale</td>\n",
       "    </tr>\n",
       "    <tr>\n",
       "      <th>Descriptor</th>\n",
       "      <td>Action_Casino_Royale_N_111</td>\n",
       "      <td>Action_Casino_Royale_N_112</td>\n",
       "      <td>Action_Casino_Royale_N_113</td>\n",
       "      <td>Action_Casino_Royale_N_115</td>\n",
       "      <td>Action_Casino_Royale_N_116</td>\n",
       "    </tr>\n",
       "    <tr>\n",
       "      <th>Doc_ID</th>\n",
       "      <td>111</td>\n",
       "      <td>112</td>\n",
       "      <td>113</td>\n",
       "      <td>115</td>\n",
       "      <td>116</td>\n",
       "    </tr>\n",
       "    <tr>\n",
       "      <th>raw_sentences</th>\n",
       "      <td>[The introduction of a new James Bond always b...</td>\n",
       "      <td>[Although box office has remained strong world...</td>\n",
       "      <td>[Give or take the odd Octopussy, I suppose, li...</td>\n",
       "      <td>[What is it that you love about the Bond films...</td>\n",
       "      <td>[I've watched all the James Bond flicks from C...</td>\n",
       "    </tr>\n",
       "    <tr>\n",
       "      <th>lemmas</th>\n",
       "      <td>[introduction, new, james, bond, bring, skepti...</td>\n",
       "      <td>[box, office, remain, strong, fan, james, bond...</td>\n",
       "      <td>[odd, suppose, pretty, forget, memory, process...</td>\n",
       "      <td>[love, bond, music, gadget, fascinating, woman...</td>\n",
       "      <td>[watch, james, bond, flick, connery, brosnan, ...</td>\n",
       "    </tr>\n",
       "    <tr>\n",
       "      <th>lemmas_joined</th>\n",
       "      <td>introduction new james bond bring skepticism m...</td>\n",
       "      <td>box office remain strong fan james bond series...</td>\n",
       "      <td>odd suppose pretty forget memory process drama...</td>\n",
       "      <td>love bond music gadget fascinating woman utter...</td>\n",
       "      <td>watch james bond flick connery brosnan charact...</td>\n",
       "    </tr>\n",
       "    <tr>\n",
       "      <th>sentences_lemmatized</th>\n",
       "      <td>[introduction new james bond bring skepticism ...</td>\n",
       "      <td>[box office remain strong fan james bond serie...</td>\n",
       "      <td>[odd suppose pretty, forget memory process, dr...</td>\n",
       "      <td>[love bond, music, gadget, fascinating woman, ...</td>\n",
       "      <td>[watch james bond flick connery brosnan charac...</td>\n",
       "    </tr>\n",
       "  </tbody>\n",
       "</table>\n",
       "</div>"
      ],
      "text/plain": [
       "Doc_ID                                                                  111  \\\n",
       "DSI_Title                                             SPM_Doc2_CasinoRoyale   \n",
       "Text                      The introduction of a new James Bond always br...   \n",
       "Submission File Name                                  SPM_Doc2_CasinoRoyale   \n",
       "Student Name                                                            SPM   \n",
       "Genre of Movie                                                       Action   \n",
       "Review Type (pos or neg)                                           Negative   \n",
       "Movie Title                                                   Casino_Royale   \n",
       "Descriptor                                       Action_Casino_Royale_N_111   \n",
       "Doc_ID                                                                  111   \n",
       "raw_sentences             [The introduction of a new James Bond always b...   \n",
       "lemmas                    [introduction, new, james, bond, bring, skepti...   \n",
       "lemmas_joined             introduction new james bond bring skepticism m...   \n",
       "sentences_lemmatized      [introduction new james bond bring skepticism ...   \n",
       "\n",
       "Doc_ID                                                                  112  \\\n",
       "DSI_Title                                             SPM_Doc3_CasinoRoyale   \n",
       "Text                      Although box office has remained strong worldw...   \n",
       "Submission File Name                                  SPM_Doc3_CasinoRoyale   \n",
       "Student Name                                                            SPM   \n",
       "Genre of Movie                                                       Action   \n",
       "Review Type (pos or neg)                                           Negative   \n",
       "Movie Title                                                   Casino_Royale   \n",
       "Descriptor                                       Action_Casino_Royale_N_112   \n",
       "Doc_ID                                                                  112   \n",
       "raw_sentences             [Although box office has remained strong world...   \n",
       "lemmas                    [box, office, remain, strong, fan, james, bond...   \n",
       "lemmas_joined             box office remain strong fan james bond series...   \n",
       "sentences_lemmatized      [box office remain strong fan james bond serie...   \n",
       "\n",
       "Doc_ID                                                                  113  \\\n",
       "DSI_Title                                             SPM_Doc4_CasinoRoyale   \n",
       "Text                      Give or take the odd Octopussy, I suppose, lik...   \n",
       "Submission File Name                                  SPM_Doc4_CasinoRoyale   \n",
       "Student Name                                                            SPM   \n",
       "Genre of Movie                                                       Action   \n",
       "Review Type (pos or neg)                                           Negative   \n",
       "Movie Title                                                   Casino_Royale   \n",
       "Descriptor                                       Action_Casino_Royale_N_113   \n",
       "Doc_ID                                                                  113   \n",
       "raw_sentences             [Give or take the odd Octopussy, I suppose, li...   \n",
       "lemmas                    [odd, suppose, pretty, forget, memory, process...   \n",
       "lemmas_joined             odd suppose pretty forget memory process drama...   \n",
       "sentences_lemmatized      [odd suppose pretty, forget memory process, dr...   \n",
       "\n",
       "Doc_ID                                                                  115  \\\n",
       "DSI_Title                                             SPM_Doc6_CasinoRoyale   \n",
       "Text                      What is it that you love about the Bond films?...   \n",
       "Submission File Name                                  SPM_Doc6_CasinoRoyale   \n",
       "Student Name                                                            SPM   \n",
       "Genre of Movie                                                       Action   \n",
       "Review Type (pos or neg)                                           Negative   \n",
       "Movie Title                                                   Casino_Royale   \n",
       "Descriptor                                       Action_Casino_Royale_N_115   \n",
       "Doc_ID                                                                  115   \n",
       "raw_sentences             [What is it that you love about the Bond films...   \n",
       "lemmas                    [love, bond, music, gadget, fascinating, woman...   \n",
       "lemmas_joined             love bond music gadget fascinating woman utter...   \n",
       "sentences_lemmatized      [love bond, music, gadget, fascinating woman, ...   \n",
       "\n",
       "Doc_ID                                                                  116  \n",
       "DSI_Title                                             SPM_Doc7_CasinoRoyale  \n",
       "Text                      I've watched all the James Bond flicks from Co...  \n",
       "Submission File Name                                  SPM_Doc7_CasinoRoyale  \n",
       "Student Name                                                            SPM  \n",
       "Genre of Movie                                                       Action  \n",
       "Review Type (pos or neg)                                           Negative  \n",
       "Movie Title                                                   Casino_Royale  \n",
       "Descriptor                                       Action_Casino_Royale_N_116  \n",
       "Doc_ID                                                                  116  \n",
       "raw_sentences             [I've watched all the James Bond flicks from C...  \n",
       "lemmas                    [watch, james, bond, flick, connery, brosnan, ...  \n",
       "lemmas_joined             watch james bond flick connery brosnan charact...  \n",
       "sentences_lemmatized      [watch james bond flick connery brosnan charac...  "
      ]
     },
     "execution_count": 24,
     "metadata": {},
     "output_type": "execute_result"
    }
   ],
   "source": [
    "corpus_df.head().T"
   ]
  },
  {
   "cell_type": "markdown",
   "metadata": {},
   "source": [
    "## Review Documents By Movie Title"
   ]
  },
  {
   "cell_type": "code",
   "execution_count": 25,
   "metadata": {},
   "outputs": [
    {
     "name": "stdout",
     "output_type": "stream",
     "text": [
      "['Casino_Royale' 'Mission_Impossible_Fallout'\n",
      " 'Pirates_of_the_Caribbean_Curse_of_the_Black_Pearl' 'Red_Notice'\n",
      " 'Speed_Racer' 'Spider_Man_3' 'Sudden_Impact' 'Cruella' 'Encanto'\n",
      " 'Frozen_2' 'Groundhog_Day' 'KingOfStatenIsland' 'The Martian'\n",
      " 'Hereditary' 'Lamb' 'Poltergeist' 'The Ring'\n",
      " 'The_Conjuring_The_Devil_Made_Me_Do_It' 'Us_2019' 'Arrival'\n",
      " 'Guardians_of_the_Galaxy' 'Interstellar' 'Pacific_Rim'\n",
      " 'The_Matrix_Resurrecton']\n"
     ]
    }
   ],
   "source": [
    "print(corpus_df['Movie Title'].unique())"
   ]
  },
  {
   "cell_type": "code",
   "execution_count": 26,
   "metadata": {
    "scrolled": false
   },
   "outputs": [
    {
     "data": {
      "text/html": [
       "<div>\n",
       "<style scoped>\n",
       "    .dataframe tbody tr th:only-of-type {\n",
       "        vertical-align: middle;\n",
       "    }\n",
       "\n",
       "    .dataframe tbody tr th {\n",
       "        vertical-align: top;\n",
       "    }\n",
       "\n",
       "    .dataframe thead th {\n",
       "        text-align: right;\n",
       "    }\n",
       "</style>\n",
       "<table border=\"1\" class=\"dataframe\">\n",
       "  <thead>\n",
       "    <tr style=\"text-align: right;\">\n",
       "      <th>Doc_ID</th>\n",
       "      <th>71</th>\n",
       "      <th>73</th>\n",
       "      <th>74</th>\n",
       "    </tr>\n",
       "  </thead>\n",
       "  <tbody>\n",
       "    <tr>\n",
       "      <th>DSI_Title</th>\n",
       "      <td>MLD_Doc2_Encanto</td>\n",
       "      <td>MLD_Doc4_Encanto</td>\n",
       "      <td>MLD_Doc5_Encanto</td>\n",
       "    </tr>\n",
       "    <tr>\n",
       "      <th>Text</th>\n",
       "      <td>Walt Disney’s 60th animation boasts songs from...</td>\n",
       "      <td>Despite my fervent hopes, Disney’s Encanto did...</td>\n",
       "      <td>The animation is a riot of colors wrapped arou...</td>\n",
       "    </tr>\n",
       "    <tr>\n",
       "      <th>Submission File Name</th>\n",
       "      <td>MLD_Doc2_Encanto</td>\n",
       "      <td>MLD_Doc4_Encanto</td>\n",
       "      <td>MLD_Doc5_Encanto</td>\n",
       "    </tr>\n",
       "    <tr>\n",
       "      <th>Student Name</th>\n",
       "      <td>MLD</td>\n",
       "      <td>MLD</td>\n",
       "      <td>MLD</td>\n",
       "    </tr>\n",
       "    <tr>\n",
       "      <th>Genre of Movie</th>\n",
       "      <td>Comedy</td>\n",
       "      <td>Comedy</td>\n",
       "      <td>Comedy</td>\n",
       "    </tr>\n",
       "    <tr>\n",
       "      <th>Review Type (pos or neg)</th>\n",
       "      <td>Negative</td>\n",
       "      <td>Negative</td>\n",
       "      <td>Negative</td>\n",
       "    </tr>\n",
       "    <tr>\n",
       "      <th>Movie Title</th>\n",
       "      <td>Encanto</td>\n",
       "      <td>Encanto</td>\n",
       "      <td>Encanto</td>\n",
       "    </tr>\n",
       "    <tr>\n",
       "      <th>Descriptor</th>\n",
       "      <td>Comedy_Encanto_N_71</td>\n",
       "      <td>Comedy_Encanto_N_73</td>\n",
       "      <td>Comedy_Encanto_N_74</td>\n",
       "    </tr>\n",
       "    <tr>\n",
       "      <th>Doc_ID</th>\n",
       "      <td>71</td>\n",
       "      <td>73</td>\n",
       "      <td>74</td>\n",
       "    </tr>\n",
       "    <tr>\n",
       "      <th>raw_sentences</th>\n",
       "      <td>[Walt Disney’s 60th animation boasts songs fro...</td>\n",
       "      <td>[Despite my fervent hopes, Disney’s Encanto di...</td>\n",
       "      <td>[The animation is a riot of colors wrapped aro...</td>\n",
       "    </tr>\n",
       "    <tr>\n",
       "      <th>lemmas</th>\n",
       "      <td>[walt, disney, th, animation, boast, song, lin...</td>\n",
       "      <td>[despite, hope, disney, encanto, nt, cast, spe...</td>\n",
       "      <td>[animation, color, wrap, south, american, glor...</td>\n",
       "    </tr>\n",
       "    <tr>\n",
       "      <th>lemmas_joined</th>\n",
       "      <td>walt disney th animation boast song lin manuel...</td>\n",
       "      <td>despite hope disney encanto nt cast spell love...</td>\n",
       "      <td>animation color wrap south american glorious a...</td>\n",
       "    </tr>\n",
       "    <tr>\n",
       "      <th>sentences_lemmatized</th>\n",
       "      <td>[walt disney th animation boast song lin manue...</td>\n",
       "      <td>[despite hope disney encanto nt cast spell, lo...</td>\n",
       "      <td>[animation color wrap south american glorious ...</td>\n",
       "    </tr>\n",
       "  </tbody>\n",
       "</table>\n",
       "</div>"
      ],
      "text/plain": [
       "Doc_ID                                                                   71  \\\n",
       "DSI_Title                                                  MLD_Doc2_Encanto   \n",
       "Text                      Walt Disney’s 60th animation boasts songs from...   \n",
       "Submission File Name                                       MLD_Doc2_Encanto   \n",
       "Student Name                                                            MLD   \n",
       "Genre of Movie                                                       Comedy   \n",
       "Review Type (pos or neg)                                           Negative   \n",
       "Movie Title                                                         Encanto   \n",
       "Descriptor                                              Comedy_Encanto_N_71   \n",
       "Doc_ID                                                                   71   \n",
       "raw_sentences             [Walt Disney’s 60th animation boasts songs fro...   \n",
       "lemmas                    [walt, disney, th, animation, boast, song, lin...   \n",
       "lemmas_joined             walt disney th animation boast song lin manuel...   \n",
       "sentences_lemmatized      [walt disney th animation boast song lin manue...   \n",
       "\n",
       "Doc_ID                                                                   73  \\\n",
       "DSI_Title                                                  MLD_Doc4_Encanto   \n",
       "Text                      Despite my fervent hopes, Disney’s Encanto did...   \n",
       "Submission File Name                                       MLD_Doc4_Encanto   \n",
       "Student Name                                                            MLD   \n",
       "Genre of Movie                                                       Comedy   \n",
       "Review Type (pos or neg)                                           Negative   \n",
       "Movie Title                                                         Encanto   \n",
       "Descriptor                                              Comedy_Encanto_N_73   \n",
       "Doc_ID                                                                   73   \n",
       "raw_sentences             [Despite my fervent hopes, Disney’s Encanto di...   \n",
       "lemmas                    [despite, hope, disney, encanto, nt, cast, spe...   \n",
       "lemmas_joined             despite hope disney encanto nt cast spell love...   \n",
       "sentences_lemmatized      [despite hope disney encanto nt cast spell, lo...   \n",
       "\n",
       "Doc_ID                                                                   74  \n",
       "DSI_Title                                                  MLD_Doc5_Encanto  \n",
       "Text                      The animation is a riot of colors wrapped arou...  \n",
       "Submission File Name                                       MLD_Doc5_Encanto  \n",
       "Student Name                                                            MLD  \n",
       "Genre of Movie                                                       Comedy  \n",
       "Review Type (pos or neg)                                           Negative  \n",
       "Movie Title                                                         Encanto  \n",
       "Descriptor                                              Comedy_Encanto_N_74  \n",
       "Doc_ID                                                                   74  \n",
       "raw_sentences             [The animation is a riot of colors wrapped aro...  \n",
       "lemmas                    [animation, color, wrap, south, american, glor...  \n",
       "lemmas_joined             animation color wrap south american glorious a...  \n",
       "sentences_lemmatized      [animation color wrap south american glorious ...  "
      ]
     },
     "execution_count": 26,
     "metadata": {},
     "output_type": "execute_result"
    }
   ],
   "source": [
    "movie_df = corpus_df[corpus_df['Movie Title'] == 'Encanto'].copy()\n",
    "movie_df.head(3).T"
   ]
  },
  {
   "cell_type": "markdown",
   "metadata": {},
   "source": [
    "## Knowledge Graph Extraction"
   ]
  },
  {
   "cell_type": "code",
   "execution_count": 27,
   "metadata": {},
   "outputs": [
    {
     "data": {
      "text/plain": [
       "'She is voiced by Stephanie Beatriz, who recently had a small role in\\xa0Miranda’s musical In the Heights\\xa0but is probably still best known for playing the supercool tough cop Diaz in the\\xa0TV comedy Brooklyn Nine-Nine.'"
      ]
     },
     "execution_count": 27,
     "metadata": {},
     "output_type": "execute_result"
    }
   ],
   "source": [
    "corpus_text_sentences = [y for x in movie_df.raw_sentences for y in x]\n",
    "example_sentence = nlp(corpus_text_sentences[5])\n",
    "corpus_text_sentences[5]"
   ]
  },
  {
   "cell_type": "code",
   "execution_count": 28,
   "metadata": {},
   "outputs": [
    {
     "name": "stderr",
     "output_type": "stream",
     "text": [
      "100%|██████████| 306/306 [00:04<00:00, 76.22it/s]\n"
     ]
    }
   ],
   "source": [
    "entity_pairs = [get_entities(x) for x in tqdm(corpus_text_sentences)]"
   ]
  },
  {
   "cell_type": "code",
   "execution_count": 29,
   "metadata": {},
   "outputs": [
    {
     "data": {
      "text/plain": [
       "[['fine voice it', 'contradictory  sparkle'],\n",
       " ['', 'canonical Disney Animation Studios'],\n",
       " ['creative  it', 'Stepford dream factory'],\n",
       " ['contrived  that', 'metaphorical  it'],\n",
       " ['somewhere Mirabel encanto', 'enchantment'],\n",
       " ['Stephanie who', 'tough TV comedy'],\n",
       " ['magical  house', 'great  sadness'],\n",
       " ['magic  Abuela', 'magic  which'],\n",
       " ['why  she', 'eyesight'],\n",
       " ['flowers', 'sheer  loveliness'],\n",
       " ['other  sister', 'Jessica buildings'],\n",
       " ['aunt', 'cousin hearing'],\n",
       " ['he', ''],\n",
       " ['', ''],\n",
       " ['that', 'gift'],\n",
       " ['him', 'own  fightback'],\n",
       " ['supernatural  superiority', 'neurotic group unhappiness'],\n",
       " ['Maybe  they', 'new  enlightenment'],\n",
       " ['So  gifts', ''],\n",
       " ['well  abilities', 'well  being'],\n",
       " ['broad  they', 'case'],\n",
       " ['This', ''],\n",
       " ['fervent  Encanto', 'quite  me'],\n",
       " ['soon  I', 'clearly  time'],\n",
       " ['that', 'solid  idea'],\n",
       " ['Lin Manuel Miranda', 'animated  musical'],\n",
       " ['where  story', 'location'],\n",
       " ['Encanto', 'multigenerational  family'],\n",
       " ['magic  story', 'clear  images'],\n",
       " ['particular  that', 'particular  sequence'],\n",
       " ['even standout Miranda that', 'enough  hook'],\n",
       " ['Encanto', 'extended Stephanie family'],\n",
       " ['floral cousins who', 'shape gift'],\n",
       " ['Then  they', 'magical Madrigal casa'],\n",
       " ['gift', ''],\n",
       " ['kids', 'Mirabel'],\n",
       " ['her', 'family'],\n",
       " ['She', 'perceived  shortcomings'],\n",
       " ['special  Mirabel', 'magical  house'],\n",
       " ['they', 'attention'],\n",
       " ['beloved  abuela', 'way'],\n",
       " ['it', 'powers'],\n",
       " ['John he', 'Uncle Bruno'],\n",
       " ['Madrigals', 'magic'],\n",
       " ['external girl it', 'external girl challenge'],\n",
       " ['tension', 'multigenerational  family'],\n",
       " ['where  things', ''],\n",
       " ['which', 'community exodus'],\n",
       " ['how  that', 'gift'],\n",
       " ['when  it', 'exact Madrigal clan'],\n",
       " ['hard  Madrigals', 'magic'],\n",
       " ['Why  they', 'first  place'],\n",
       " ['questions', 'narrative'],\n",
       " ['story', 'parts'],\n",
       " ['many  people', 'food'],\n",
       " ['however  Encanto', 'affection'],\n",
       " ['animation', 'animated Walt Fantasia'],\n",
       " ['Encanto', 'almost  finish'],\n",
       " ['where  it', 'two  it'],\n",
       " ['it', ''],\n",
       " ['musical  he', 'Hamilton'],\n",
       " ['forgettable  notes', 'soundtrack'],\n",
       " ['two', 'screenplay  me'],\n",
       " ['here  they', 'here  script'],\n",
       " ['who', 'matriarchal Salma Hayek'],\n",
       " ['it', ''],\n",
       " ['they', 'often  much'],\n",
       " ['where South somebody', 'river crossing'],\n",
       " ['it', ''],\n",
       " ['culture', ''],\n",
       " ['They', 'press release'],\n",
       " ['', ''],\n",
       " ['where Madrigal locals', 'generosity'],\n",
       " ['where  she', ''],\n",
       " ['', ''],\n",
       " ['where  they', 'idea'],\n",
       " ['house', 'luster'],\n",
       " ['relatives', 'gift'],\n",
       " ['missing family she', 'missing family uncle'],\n",
       " ['she', 'as  us'],\n",
       " ['that', 'screenplay'],\n",
       " ['certain  ’s', 'more problem solving'],\n",
       " ['toucan  we', 'usual Disney him'],\n",
       " ['that', ''],\n",
       " ['best funnyman John I', 'laugh'],\n",
       " ['few sight gags', 'shape  uncle'],\n",
       " ['anyone', 'much'],\n",
       " ['dread', 'upcoming Lin BOOM'],\n",
       " ['Coco', 'all  story'],\n",
       " ['We', 'still story kinks'],\n",
       " ['Foundations', 'family  films'],\n",
       " ['Family Madrigal', 'six week history minutes'],\n",
       " ['Happily  all', 'well Madrigal Mirabel'],\n",
       " ['constant  she', 'constant  reminders'],\n",
       " ['encanto', 'ensuing  celebration'],\n",
       " ['dire  warning', 'only Family Madrigal'],\n",
       " ['feature Encanto', 'Colombian  customs'],\n",
       " ['how Madrigal family', 'tragedy'],\n",
       " ['odd  it', 'way'],\n",
       " ['who', 'colorful  theaters'],\n",
       " ['sorry  it', 'political  genocide'],\n",
       " ['film', 'countless  cues'],\n",
       " ['final  cut', 'hidden  dangers'],\n",
       " ['too  who', 'advertising poster'],\n",
       " ['eclectic Mary Poppins that', 'perfect song Disney'],\n",
       " ['songs', 'songs'],\n",
       " ['changes', 'it'],\n",
       " ['certainly  what', 'comparison'],\n",
       " ['repeated  hints', 'pure  bait'],\n",
       " ['something', 'more  that'],\n",
       " ['who', 'back'],\n",
       " ['false  that', 'false  hurt'],\n",
       " ['even  they', 'end'],\n",
       " ['Mirabel', 'home release'],\n",
       " ['Encanto', 'times  Roxanne'],\n",
       " ['Encanto', 'song'],\n",
       " ['latest family offering', 'bore'],\n",
       " ['how  they', 'typically story something'],\n",
       " ['so  it', 'real  consequence'],\n",
       " ['much  you', 'much  film'],\n",
       " ['positively  that', 'them'],\n",
       " ['when  they', 'riding family member'],\n",
       " ['she', 'special  sort'],\n",
       " ['why  somebody', 'valuable  gift'],\n",
       " ['when  it', 'lotto horse'],\n",
       " ['magic', 'good  thing'],\n",
       " ['palatial  abode', 'magical  itself'],\n",
       " ['that', 'family'],\n",
       " ['', ''],\n",
       " ['What', ''],\n",
       " ['Mirabel', 'it'],\n",
       " ['even  she', ''],\n",
       " ['she', ''],\n",
       " ['', 'us'],\n",
       " ['', ''],\n",
       " ['animated  it', 'animated  feature'],\n",
       " ['Even  some', 'such  ground'],\n",
       " ['either  it', 'story'],\n",
       " ['most kids films', 'same  drum'],\n",
       " ['Encanto', 'magic'],\n",
       " ['that', 'it'],\n",
       " ['animated family that', 'theme'],\n",
       " ['course  it', 'when  trouble'],\n",
       " ['instead  what', 'instead  song'],\n",
       " ['Storywise  it', 'just  spot'],\n",
       " ['You', 'literally  anything'],\n",
       " ['stark  songs', 'deeply Dear Evan story'],\n",
       " ['it', 'Latino  costumes'],\n",
       " ['it', ''],\n",
       " ['magical  they', 'aside  possibility'],\n",
       " ['strained  charm', 'afraid  anybody'],\n",
       " ['Nobody', 'film'],\n",
       " ['that', ''],\n",
       " ['why  film', 'real  villain'],\n",
       " ['', ''],\n",
       " ['too  story', 'emotional  audience'],\n",
       " ['This', 'animated  features'],\n",
       " ['Maybe  creators', 'something'],\n",
       " ['that', 'rendered  bells'],\n",
       " ['We', 'way  times'],\n",
       " ['everyone', 'special  us'],\n",
       " ['imposter  who', 'magical  powers'],\n",
       " ['harder  it', ''],\n",
       " ['very Stephanie mother', 'healing  superstrength'],\n",
       " ['Other family members', 'future'],\n",
       " ['superpower', ''],\n",
       " ['Madrigal family', 'storied  history'],\n",
       " ['they', 'home'],\n",
       " ['they', 'people'],\n",
       " ['community', 'powers'],\n",
       " ['later  family', 'magical  powers'],\n",
       " ['floor that', 'new family highlights'],\n",
       " ['when  member', 'magical  powers'],\n",
       " ['Mirabel', 'reason'],\n",
       " ['how  she', 'character'],\n",
       " ['family', 'pride'],\n",
       " ['only  family', 'them'],\n",
       " ['That', 'adventure'],\n",
       " ['functional  families', 'secrets'],\n",
       " ['happy  others', 'happy  fear'],\n",
       " ['someone', 'Bruno'],\n",
       " ['it', 'good  some'],\n",
       " ['more  we', 'Encanto'],\n",
       " ['movie', 'fantasy peril'],\n",
       " ['magical Family you', 'magical Family power'],\n",
       " ['', ''],\n",
       " ['How  you', 'miracle'],\n",
       " ['you', 'Raya'],\n",
       " ['latest  stop', 'Last Fantasy Asia'],\n",
       " ['new One Encanto', 'wonderful  enchantments'],\n",
       " ['often  that', 'unforgettable Buendia jungle'],\n",
       " ['bloodstained Latin none', 'suitable Disney movie'],\n",
       " ['So  Encanto', 'familiar U.S. media touchstones'],\n",
       " ['beautiful Diane flowers', 'all  her'],\n",
       " ['well  they', 'family'],\n",
       " ['it', 'decline'],\n",
       " ['precognitive  visions', 'coming  troubles'],\n",
       " ['quest', 'other family help'],\n",
       " ['always  Isabela', 'golden child facade'],\n",
       " ['original Jared songs', 'Hamilton maestro'],\n",
       " ['third  film', 'many  Heights'],\n",
       " ['also  Encantosoundtrack', 'releases'],\n",
       " ['they', 'probably  days'],\n",
       " ['why  she', 'unique living house'],\n",
       " ['they', 'familial  who'],\n",
       " ['sometimes  families', 'second  Earth'],\n",
       " ['whole  family', 'holidays'],\n",
       " ['It', 'much Christmas radio'],\n",
       " ['realist  that', 'special  tragedy'],\n",
       " ['magical  member', 'other  animals'],\n",
       " ['casita', 'moods'],\n",
       " ['bedroom', 'magically  relative'],\n",
       " ['', 'All  one'],\n",
       " ['judgmental Abuela Alma', 'only María Cecilia turn'],\n",
       " ['Jessica sister', 'barely Diane it'],\n",
       " ['one', 'something'],\n",
       " ['up  what', 'family'],\n",
       " ['Last Charise Castro who', 'right  thing'],\n",
       " ['', 'unknown Disney family'],\n",
       " ['it', 'also  movie'],\n",
       " ['musical  that', 'artistic  freedom'],\n",
       " ['Lin Manuel Miranda', 'break'],\n",
       " ['', 'Hamilton'],\n",
       " ['finally  he', 'well song writing duties'],\n",
       " ['numbers', ''],\n",
       " ['one  he', 'drum'],\n",
       " ['musical  numbers', 'other  projects'],\n",
       " ['They', 'new  heads'],\n",
       " ['Else  I', 'What'],\n",
       " ['Family Madrigal', 'effective opening Heights'],\n",
       " ['Only Carlos rendition', 'memorable stand out'],\n",
       " ['Unimpressive  songs', 'animated  Encanto'],\n",
       " ['Latin Mauro music', 'Maluma'],\n",
       " ['animated Disney movie', 'colorful hair details'],\n",
       " ['character', 'goofy  playfulness'],\n",
       " ['singing voice', 'Heights Olga alum'],\n",
       " ['specific  that', 'musical  palette'],\n",
       " ['matriarchal  abuelas', 'younger  movie'],\n",
       " ['they', 'thematic  elements'],\n",
       " ['Madrigal grandparents', 'artistic  flashback'],\n",
       " ['at Disney others', 'experience'],\n",
       " ['that', 'those'],\n",
       " ['few  Encanto', 'animated  theaters'],\n",
       " ['Encanto', ''],\n",
       " ['exuberant  it', 'exuberant  sweetness'],\n",
       " ['whimsical  dose', 'stunning  visuals'],\n",
       " ['inescapable  It', 'contemporary valet kids'],\n",
       " ['that', 'transporting  degree'],\n",
       " ['project', 'impressive Hill House'],\n",
       " ['original  that', 'rapid hip hop'],\n",
       " ['it', 'principal  figure'],\n",
       " ['also  who', 'cheery  helpfulness'],\n",
       " ['same  song', 'magical fairy tale powers'],\n",
       " ['roof', 'physical floor comedy'],\n",
       " ['grandmother', 'salt María Cecilia matriarch'],\n",
       " ['literally  that', 'eternally  magic'],\n",
       " ['newborn  Alma', 'bandits'],\n",
       " ['Madrigal house', 'fifth  birthday'],\n",
       " ['extraordinary  cousin', 'shifting Rhenzy powers'],\n",
       " ['Only  Mirabel', 'gift'],\n",
       " ['magical birthday doorway', 'heavily  her'],\n",
       " ['', 'young gift cousin'],\n",
       " ['three village that', 'them'],\n",
       " ['Herculean  feats', 'effort'],\n",
       " ['She', 'mighty  song'],\n",
       " ['mysterious John who', 'mysterious Uncle Bruno'],\n",
       " ['even  story', 'contrasting  personalities'],\n",
       " ['golden mean girl attitude', 'older  responsibility'],\n",
       " ['unexceptional  who', 'special  traits'],\n",
       " ['that', 'life Mauro family'],\n",
       " ['one  they', 'complicated  harmony'],\n",
       " ['together  what', 'process'],\n",
       " ['late Abuela Colombia', 'national pop superstar'],\n",
       " ['artistic singing voice', 'Heights Abuela'],\n",
       " ['Last  which', 'Mexican  sensibility'],\n",
       " ['marvelous  detail', 'animated production house'],\n",
       " ['where  Abuela', 'story'],\n",
       " ['whole Alan that', 'tapirs  capybaras'],\n",
       " ['rounding', 'big  laughs'],\n",
       " ['theatrical Disney+ premiere', 'December'],\n",
       " ['short Natalie which', 'curious raccoon harm'],\n",
       " ['animated Walt feature', 'best  Beauty'],\n",
       " ['2021', 'either spring it'],\n",
       " ['when  it', 'broken  family'],\n",
       " ['visual  design', 'memorable Lin Manuel story'],\n",
       " ['ago María Cecilia husband', 'three border patrol horseback'],\n",
       " ['magical  that', 'surrounding  mountains'],\n",
       " ['mostly  each', 'magical  power'],\n",
       " ['Carolina it', 'own  head'],\n",
       " ['subconscious Disney Camilo', 'Rhenzy person'],\n",
       " ['one  who', 'inexplicably  gift'],\n",
       " ['own  that', 'everything'],\n",
       " ['huge  that', 'itself'],\n",
       " ['tile floors', 'falling  animation'],\n",
       " ['Camille Andre', 'art characters'],\n",
       " ['literally family members', 'it'],\n",
       " ['emotional  cracks', 'Madrigal family'],\n",
       " ['magic  gifts', 'growth'],\n",
       " ['Madrigals', 'magic  kingdom'],\n",
       " ['Why  blame', 'always  Mirabel'],\n",
       " ['uncle  Bruno', 'John it'],\n",
       " ['franchise who', 'physical  superpowers'],\n",
       " ['often computer effects', 'formed  personality'],\n",
       " ['Encanto', 'surreptitiously Castro cliche'],\n",
       " ['physical  they', 'inner  selves'],\n",
       " ['Perhaps  Mirabel', 'greatest  them']]"
      ]
     },
     "execution_count": 29,
     "metadata": {},
     "output_type": "execute_result"
    }
   ],
   "source": [
    "entity_pairs"
   ]
  },
  {
   "cell_type": "markdown",
   "metadata": {},
   "source": [
    "### Create DataFrame (Source, Target, Edge)"
   ]
  },
  {
   "cell_type": "code",
   "execution_count": 30,
   "metadata": {},
   "outputs": [],
   "source": [
    "relations = [get_relation(x) for x in corpus_text_sentences]   \n",
    "#extract subject and object\n",
    "source = [i[0] for i in entity_pairs]\n",
    "target = [i[1] for i in entity_pairs]\n",
    "kg_df = pd.DataFrame({'source': source, 'target': target, 'edge': relations})"
   ]
  },
  {
   "cell_type": "markdown",
   "metadata": {},
   "source": [
    "### Knowledge Graph Preprocessing (Lowercase, Remove Empty Spaces)"
   ]
  },
  {
   "cell_type": "code",
   "execution_count": 31,
   "metadata": {},
   "outputs": [],
   "source": [
    "# Move everything to lower case\n",
    "kg_df.source = kg_df.source.str.lower()\n",
    "kg_df.target = kg_df.target.str.lower()\n",
    "kg_df.edge = kg_df.edge.str.lower()\n",
    "\n",
    "# Filter out empties\n",
    "kg_df = kg_df[kg_df.source != '']\n",
    "kg_df = kg_df[kg_df.target != '']\n",
    "kg_df = kg_df[kg_df.edge != ''].copy()"
   ]
  },
  {
   "cell_type": "code",
   "execution_count": 32,
   "metadata": {},
   "outputs": [
    {
     "data": {
      "text/html": [
       "<div>\n",
       "<style scoped>\n",
       "    .dataframe tbody tr th:only-of-type {\n",
       "        vertical-align: middle;\n",
       "    }\n",
       "\n",
       "    .dataframe tbody tr th {\n",
       "        vertical-align: top;\n",
       "    }\n",
       "\n",
       "    .dataframe thead th {\n",
       "        text-align: right;\n",
       "    }\n",
       "</style>\n",
       "<table border=\"1\" class=\"dataframe\">\n",
       "  <thead>\n",
       "    <tr style=\"text-align: right;\">\n",
       "      <th></th>\n",
       "      <th>0</th>\n",
       "      <th>2</th>\n",
       "      <th>3</th>\n",
       "      <th>4</th>\n",
       "      <th>5</th>\n",
       "      <th>6</th>\n",
       "    </tr>\n",
       "  </thead>\n",
       "  <tbody>\n",
       "    <tr>\n",
       "      <th>source</th>\n",
       "      <td>fine voice it</td>\n",
       "      <td>creative  it</td>\n",
       "      <td>contrived  that</td>\n",
       "      <td>somewhere mirabel encanto</td>\n",
       "      <td>stephanie who</td>\n",
       "      <td>magical  house</td>\n",
       "    </tr>\n",
       "    <tr>\n",
       "      <th>target</th>\n",
       "      <td>contradictory  sparkle</td>\n",
       "      <td>stepford dream factory</td>\n",
       "      <td>metaphorical  it</td>\n",
       "      <td>enchantment</td>\n",
       "      <td>tough tv comedy</td>\n",
       "      <td>great  sadness</td>\n",
       "    </tr>\n",
       "    <tr>\n",
       "      <th>edge</th>\n",
       "      <td>boasts</td>\n",
       "      <td>feels like</td>\n",
       "      <td>are</td>\n",
       "      <td>is</td>\n",
       "      <td>voiced by</td>\n",
       "      <td>is</td>\n",
       "    </tr>\n",
       "  </tbody>\n",
       "</table>\n",
       "</div>"
      ],
      "text/plain": [
       "                             0                       2                 3  \\\n",
       "source           fine voice it            creative  it   contrived  that   \n",
       "target  contradictory  sparkle  stepford dream factory  metaphorical  it   \n",
       "edge                    boasts              feels like               are   \n",
       "\n",
       "                                4                5               6  \n",
       "source  somewhere mirabel encanto    stephanie who  magical  house  \n",
       "target                enchantment  tough tv comedy  great  sadness  \n",
       "edge                           is        voiced by              is  "
      ]
     },
     "execution_count": 32,
     "metadata": {},
     "output_type": "execute_result"
    }
   ],
   "source": [
    "kg_df.head(6).T"
   ]
  },
  {
   "cell_type": "code",
   "execution_count": 33,
   "metadata": {},
   "outputs": [
    {
     "data": {
      "text/plain": [
       "306"
      ]
     },
     "execution_count": 33,
     "metadata": {},
     "output_type": "execute_result"
    }
   ],
   "source": [
    "len(corpus_text_sentences)"
   ]
  },
  {
   "cell_type": "code",
   "execution_count": 34,
   "metadata": {},
   "outputs": [
    {
     "data": {
      "image/png": "[encoded data removed]",
      "text/plain": [
       "<Figure size 864x864 with 1 Axes>"
      ]
     },
     "metadata": {},
     "output_type": "display_data"
    }
   ],
   "source": [
    "plot_graph(kg_df, use_circular=False)"
   ]
  },
  {
   "cell_type": "markdown",
   "metadata": {},
   "source": [
    "## Recurrent Neural Network (RNN) Model Development"
   ]
  },
  {
   "cell_type": "markdown",
   "metadata": {},
   "source": [
    "<img src=\"https://github.com/djp840/MSDS_453_Public/blob/main/images/BidirectionalRNN.png?raw=true\">"
   ]
  },
  {
   "cell_type": "markdown",
   "metadata": {},
   "source": [
    "<div class=\"alert alert-block alert-info\">\n",
    "    <b>tf.keras.layers.Bidirectional</b><br>\n",
    "    https://www.tensorflow.org/api_docs/python/tf/keras/layers/Bidirectional\n",
    "    </div>"
   ]
  },
  {
   "cell_type": "code",
   "execution_count": 35,
   "metadata": {
    "scrolled": false
   },
   "outputs": [
    {
     "data": {
      "text/html": [
       "<div>\n",
       "<style scoped>\n",
       "    .dataframe tbody tr th:only-of-type {\n",
       "        vertical-align: middle;\n",
       "    }\n",
       "\n",
       "    .dataframe tbody tr th {\n",
       "        vertical-align: top;\n",
       "    }\n",
       "\n",
       "    .dataframe thead th {\n",
       "        text-align: right;\n",
       "    }\n",
       "</style>\n",
       "<table border=\"1\" class=\"dataframe\">\n",
       "  <thead>\n",
       "    <tr style=\"text-align: right;\">\n",
       "      <th></th>\n",
       "      <th>0</th>\n",
       "      <th>1</th>\n",
       "      <th>2</th>\n",
       "      <th>3</th>\n",
       "      <th>4</th>\n",
       "    </tr>\n",
       "  </thead>\n",
       "  <tbody>\n",
       "    <tr>\n",
       "      <th>DSI_Title</th>\n",
       "      <td>SPM_Doc2_CasinoRoyale</td>\n",
       "      <td>SPM_Doc3_CasinoRoyale</td>\n",
       "      <td>SPM_Doc4_CasinoRoyale</td>\n",
       "      <td>SPM_Doc6_CasinoRoyale</td>\n",
       "      <td>SPM_Doc7_CasinoRoyale</td>\n",
       "    </tr>\n",
       "    <tr>\n",
       "      <th>Text</th>\n",
       "      <td>The introduction of a new James Bond always br...</td>\n",
       "      <td>Although box office has remained strong worldw...</td>\n",
       "      <td>Give or take the odd Octopussy, I suppose, lik...</td>\n",
       "      <td>What is it that you love about the Bond films?...</td>\n",
       "      <td>I've watched all the James Bond flicks from Co...</td>\n",
       "    </tr>\n",
       "    <tr>\n",
       "      <th>Submission File Name</th>\n",
       "      <td>SPM_Doc2_CasinoRoyale</td>\n",
       "      <td>SPM_Doc3_CasinoRoyale</td>\n",
       "      <td>SPM_Doc4_CasinoRoyale</td>\n",
       "      <td>SPM_Doc6_CasinoRoyale</td>\n",
       "      <td>SPM_Doc7_CasinoRoyale</td>\n",
       "    </tr>\n",
       "    <tr>\n",
       "      <th>Student Name</th>\n",
       "      <td>SPM</td>\n",
       "      <td>SPM</td>\n",
       "      <td>SPM</td>\n",
       "      <td>SPM</td>\n",
       "      <td>SPM</td>\n",
       "    </tr>\n",
       "    <tr>\n",
       "      <th>Genre of Movie</th>\n",
       "      <td>Action</td>\n",
       "      <td>Action</td>\n",
       "      <td>Action</td>\n",
       "      <td>Action</td>\n",
       "      <td>Action</td>\n",
       "    </tr>\n",
       "    <tr>\n",
       "      <th>Review Type (pos or neg)</th>\n",
       "      <td>Negative</td>\n",
       "      <td>Negative</td>\n",
       "      <td>Negative</td>\n",
       "      <td>Negative</td>\n",
       "      <td>Negative</td>\n",
       "    </tr>\n",
       "    <tr>\n",
       "      <th>Movie Title</th>\n",
       "      <td>Casino_Royale</td>\n",
       "      <td>Casino_Royale</td>\n",
       "      <td>Casino_Royale</td>\n",
       "      <td>Casino_Royale</td>\n",
       "      <td>Casino_Royale</td>\n",
       "    </tr>\n",
       "    <tr>\n",
       "      <th>Descriptor</th>\n",
       "      <td>Action_Casino_Royale_N_111</td>\n",
       "      <td>Action_Casino_Royale_N_112</td>\n",
       "      <td>Action_Casino_Royale_N_113</td>\n",
       "      <td>Action_Casino_Royale_N_115</td>\n",
       "      <td>Action_Casino_Royale_N_116</td>\n",
       "    </tr>\n",
       "    <tr>\n",
       "      <th>Doc_ID</th>\n",
       "      <td>111</td>\n",
       "      <td>112</td>\n",
       "      <td>113</td>\n",
       "      <td>115</td>\n",
       "      <td>116</td>\n",
       "    </tr>\n",
       "    <tr>\n",
       "      <th>raw_sentences</th>\n",
       "      <td>[The introduction of a new James Bond always b...</td>\n",
       "      <td>[Although box office has remained strong world...</td>\n",
       "      <td>[Give or take the odd Octopussy, I suppose, li...</td>\n",
       "      <td>[What is it that you love about the Bond films...</td>\n",
       "      <td>[I've watched all the James Bond flicks from C...</td>\n",
       "    </tr>\n",
       "    <tr>\n",
       "      <th>lemmas</th>\n",
       "      <td>[introduction, new, james, bond, bring, skepti...</td>\n",
       "      <td>[box, office, remain, strong, fan, james, bond...</td>\n",
       "      <td>[odd, suppose, pretty, forget, memory, process...</td>\n",
       "      <td>[love, bond, music, gadget, fascinating, woman...</td>\n",
       "      <td>[watch, james, bond, flick, connery, brosnan, ...</td>\n",
       "    </tr>\n",
       "    <tr>\n",
       "      <th>lemmas_joined</th>\n",
       "      <td>introduction new james bond bring skepticism m...</td>\n",
       "      <td>box office remain strong fan james bond series...</td>\n",
       "      <td>odd suppose pretty forget memory process drama...</td>\n",
       "      <td>love bond music gadget fascinating woman utter...</td>\n",
       "      <td>watch james bond flick connery brosnan charact...</td>\n",
       "    </tr>\n",
       "    <tr>\n",
       "      <th>sentences_lemmatized</th>\n",
       "      <td>[introduction new james bond bring skepticism ...</td>\n",
       "      <td>[box office remain strong fan james bond serie...</td>\n",
       "      <td>[odd suppose pretty, forget memory process, dr...</td>\n",
       "      <td>[love bond, music, gadget, fascinating woman, ...</td>\n",
       "      <td>[watch james bond flick connery brosnan charac...</td>\n",
       "    </tr>\n",
       "  </tbody>\n",
       "</table>\n",
       "</div>"
      ],
      "text/plain": [
       "                                                                          0  \\\n",
       "DSI_Title                                             SPM_Doc2_CasinoRoyale   \n",
       "Text                      The introduction of a new James Bond always br...   \n",
       "Submission File Name                                  SPM_Doc2_CasinoRoyale   \n",
       "Student Name                                                            SPM   \n",
       "Genre of Movie                                                       Action   \n",
       "Review Type (pos or neg)                                           Negative   \n",
       "Movie Title                                                   Casino_Royale   \n",
       "Descriptor                                       Action_Casino_Royale_N_111   \n",
       "Doc_ID                                                                  111   \n",
       "raw_sentences             [The introduction of a new James Bond always b...   \n",
       "lemmas                    [introduction, new, james, bond, bring, skepti...   \n",
       "lemmas_joined             introduction new james bond bring skepticism m...   \n",
       "sentences_lemmatized      [introduction new james bond bring skepticism ...   \n",
       "\n",
       "                                                                          1  \\\n",
       "DSI_Title                                             SPM_Doc3_CasinoRoyale   \n",
       "Text                      Although box office has remained strong worldw...   \n",
       "Submission File Name                                  SPM_Doc3_CasinoRoyale   \n",
       "Student Name                                                            SPM   \n",
       "Genre of Movie                                                       Action   \n",
       "Review Type (pos or neg)                                           Negative   \n",
       "Movie Title                                                   Casino_Royale   \n",
       "Descriptor                                       Action_Casino_Royale_N_112   \n",
       "Doc_ID                                                                  112   \n",
       "raw_sentences             [Although box office has remained strong world...   \n",
       "lemmas                    [box, office, remain, strong, fan, james, bond...   \n",
       "lemmas_joined             box office remain strong fan james bond series...   \n",
       "sentences_lemmatized      [box office remain strong fan james bond serie...   \n",
       "\n",
       "                                                                          2  \\\n",
       "DSI_Title                                             SPM_Doc4_CasinoRoyale   \n",
       "Text                      Give or take the odd Octopussy, I suppose, lik...   \n",
       "Submission File Name                                  SPM_Doc4_CasinoRoyale   \n",
       "Student Name                                                            SPM   \n",
       "Genre of Movie                                                       Action   \n",
       "Review Type (pos or neg)                                           Negative   \n",
       "Movie Title                                                   Casino_Royale   \n",
       "Descriptor                                       Action_Casino_Royale_N_113   \n",
       "Doc_ID                                                                  113   \n",
       "raw_sentences             [Give or take the odd Octopussy, I suppose, li...   \n",
       "lemmas                    [odd, suppose, pretty, forget, memory, process...   \n",
       "lemmas_joined             odd suppose pretty forget memory process drama...   \n",
       "sentences_lemmatized      [odd suppose pretty, forget memory process, dr...   \n",
       "\n",
       "                                                                          3  \\\n",
       "DSI_Title                                             SPM_Doc6_CasinoRoyale   \n",
       "Text                      What is it that you love about the Bond films?...   \n",
       "Submission File Name                                  SPM_Doc6_CasinoRoyale   \n",
       "Student Name                                                            SPM   \n",
       "Genre of Movie                                                       Action   \n",
       "Review Type (pos or neg)                                           Negative   \n",
       "Movie Title                                                   Casino_Royale   \n",
       "Descriptor                                       Action_Casino_Royale_N_115   \n",
       "Doc_ID                                                                  115   \n",
       "raw_sentences             [What is it that you love about the Bond films...   \n",
       "lemmas                    [love, bond, music, gadget, fascinating, woman...   \n",
       "lemmas_joined             love bond music gadget fascinating woman utter...   \n",
       "sentences_lemmatized      [love bond, music, gadget, fascinating woman, ...   \n",
       "\n",
       "                                                                          4  \n",
       "DSI_Title                                             SPM_Doc7_CasinoRoyale  \n",
       "Text                      I've watched all the James Bond flicks from Co...  \n",
       "Submission File Name                                  SPM_Doc7_CasinoRoyale  \n",
       "Student Name                                                            SPM  \n",
       "Genre of Movie                                                       Action  \n",
       "Review Type (pos or neg)                                           Negative  \n",
       "Movie Title                                                   Casino_Royale  \n",
       "Descriptor                                       Action_Casino_Royale_N_116  \n",
       "Doc_ID                                                                  116  \n",
       "raw_sentences             [I've watched all the James Bond flicks from C...  \n",
       "lemmas                    [watch, james, bond, flick, connery, brosnan, ...  \n",
       "lemmas_joined             watch james bond flick connery brosnan charact...  \n",
       "sentences_lemmatized      [watch james bond flick connery brosnan charac...  "
      ]
     },
     "execution_count": 35,
     "metadata": {},
     "output_type": "execute_result"
    }
   ],
   "source": [
    "datafull=corpus_df.copy() \n",
    "datafull.reset_index(drop=True, inplace=True)\n",
    "datafull.head().T"
   ]
  },
  {
   "cell_type": "code",
   "execution_count": 36,
   "metadata": {},
   "outputs": [],
   "source": [
    "datafull['Text'] = datafull['Text'].apply(lambda x :clean_doc(x))"
   ]
  },
  {
   "cell_type": "markdown",
   "metadata": {},
   "source": [
    "## Preprocess DataSet "
   ]
  },
  {
   "cell_type": "code",
   "execution_count": 37,
   "metadata": {},
   "outputs": [],
   "source": [
    "data = datafull[['Text','Genre of Movie']].copy()"
   ]
  },
  {
   "cell_type": "code",
   "execution_count": 38,
   "metadata": {},
   "outputs": [
    {
     "data": {
      "text/plain": [
       "244    4\n",
       "245    4\n",
       "246    4\n",
       "247    4\n",
       "248    4\n",
       "Name: Genre of Movie code, dtype: int8"
      ]
     },
     "execution_count": 38,
     "metadata": {},
     "output_type": "execute_result"
    }
   ],
   "source": [
    "data['Genre of Movie'] = data['Genre of Movie'].astype(\"category\")\n",
    "data['Genre of Movie code'] = data['Genre of Movie'].cat.codes\n",
    "data['Genre of Movie code'].tail().T"
   ]
  },
  {
   "cell_type": "code",
   "execution_count": 39,
   "metadata": {},
   "outputs": [
    {
     "data": {
      "text/plain": [
       "Genre of Movie  Genre of Movie code\n",
       "Action          0                      70\n",
       "Comedy          1                      60\n",
       "Horror          3                      60\n",
       "Sci_Fi          4                      50\n",
       "Drama           2                       9\n",
       "dtype: int64"
      ]
     },
     "execution_count": 39,
     "metadata": {},
     "output_type": "execute_result"
    }
   ],
   "source": [
    "features, targets = data['Text'], data['Genre of Movie code']\n",
    " \n",
    "train_features, test_features, train_targets, test_targets = train_test_split(features\n",
    "                                                                              ,targets\n",
    "                                                                              ,test_size=0.20\n",
    "                                                                              ,random_state=42\n",
    "                                                                              ,shuffle = True\n",
    "                                                                              ,stratify=targets)\n",
    "data[[\"Genre of Movie\",\"Genre of Movie code\"]].value_counts()"
   ]
  },
  {
   "cell_type": "markdown",
   "metadata": {},
   "source": [
    "## Create Datasets for Model Development"
   ]
  },
  {
   "cell_type": "code",
   "execution_count": 40,
   "metadata": {},
   "outputs": [
    {
     "data": {
      "text/plain": [
       "((199, 2), (25, 2), (25, 2))"
      ]
     },
     "execution_count": 40,
     "metadata": {},
     "output_type": "execute_result"
    }
   ],
   "source": [
    "trainds, valds, testds = get_dataset_partitions_pd(data[['Text','Genre of Movie code']])\n",
    "trainds.shape, valds.shape, testds.shape"
   ]
  },
  {
   "cell_type": "markdown",
   "metadata": {},
   "source": [
    "## Convert DataFrame to TensorFlow DataSet"
   ]
  },
  {
   "cell_type": "code",
   "execution_count": 41,
   "metadata": {},
   "outputs": [],
   "source": [
    "# train X & y\n",
    "train_text_ds_raw = tf.data.Dataset.from_tensor_slices(\n",
    "            tf.cast(trainds['Text'].values, tf.string)\n",
    ") \n",
    "train_cat_ds_raw = tf.data.Dataset.from_tensor_slices(\n",
    "            tf.cast(trainds['Genre of Movie code'].values, tf.int64),\n",
    "  ) \n",
    "# test X & y\n",
    "test_text_ds_raw = tf.data.Dataset.from_tensor_slices(\n",
    "            tf.cast(testds['Text'].values, tf.string)\n",
    ") \n",
    "test_cat_ds_raw = tf.data.Dataset.from_tensor_slices(\n",
    "            tf.cast(testds['Genre of Movie code'].values, tf.int64),\n",
    ")\n",
    "#val X & Y\n",
    "val_text_ds_raw = tf.data.Dataset.from_tensor_slices(\n",
    "            tf.cast(valds['Text'].values, tf.string)\n",
    ") \n",
    "val_cat_ds_raw = tf.data.Dataset.from_tensor_slices(\n",
    "            tf.cast(valds['Genre of Movie code'].values, tf.int64),\n",
    ")"
   ]
  },
  {
   "cell_type": "markdown",
   "metadata": {},
   "source": [
    "## Create DataSets (X=Preprocessed Text, Y=Encoded Categories)"
   ]
  },
  {
   "cell_type": "code",
   "execution_count": 42,
   "metadata": {},
   "outputs": [],
   "source": [
    "train_ds = tf.data.Dataset.zip(\n",
    "    (\n",
    "            train_text_ds_raw,\n",
    "            train_cat_ds_raw\n",
    "     )\n",
    ")\n",
    "test_ds = tf.data.Dataset.zip(\n",
    "    (\n",
    "            test_text_ds_raw,\n",
    "            test_cat_ds_raw\n",
    "     )\n",
    ")\n",
    "val_ds = tf.data.Dataset.zip(\n",
    "    (\n",
    "            val_text_ds_raw,\n",
    "            val_cat_ds_raw\n",
    "     )\n",
    ")"
   ]
  },
  {
   "cell_type": "markdown",
   "metadata": {},
   "source": [
    "## Create Data Pipelines (Batching, Shuffling, and Optimizing)"
   ]
  },
  {
   "cell_type": "code",
   "execution_count": 43,
   "metadata": {},
   "outputs": [],
   "source": [
    "batch_size = 3\n",
    "AUTOTUNE = tf.data.experimental.AUTOTUNE\n",
    "buffer_size=train_ds.cardinality().numpy()\n",
    "\n",
    "train_ds = train_ds.shuffle(buffer_size=buffer_size)\\\n",
    "                   .batch(batch_size=batch_size,drop_remainder=True)\\\n",
    "                   .cache()\\\n",
    "                   .prefetch(AUTOTUNE)\n",
    "\n",
    "test_ds = test_ds.shuffle(buffer_size=buffer_size)\\\n",
    "                   .batch(batch_size=batch_size,drop_remainder=True)\\\n",
    "                   .cache()\\\n",
    "                   .prefetch(AUTOTUNE)\n",
    "\n",
    "\n",
    "val_ds = val_ds.shuffle(buffer_size=buffer_size)\\\n",
    "                   .batch(batch_size=batch_size,drop_remainder=True)\\\n",
    "                   .cache()\\\n",
    "                   .prefetch(AUTOTUNE)"
   ]
  },
  {
   "cell_type": "code",
   "execution_count": 44,
   "metadata": {},
   "outputs": [
    {
     "name": "stdout",
     "output_type": "stream",
     "text": [
      "<class 'pandas.core.frame.DataFrame'>\n",
      "RangeIndex: 249 entries, 0 to 248\n",
      "Data columns (total 3 columns):\n",
      " #   Column               Non-Null Count  Dtype   \n",
      "---  ------               --------------  -----   \n",
      " 0   Text                 249 non-null    object  \n",
      " 1   Genre of Movie       249 non-null    category\n",
      " 2   Genre of Movie code  249 non-null    int8    \n",
      "dtypes: category(1), int8(1), object(1)\n",
      "memory usage: 2.8+ KB\n"
     ]
    }
   ],
   "source": [
    "data.info()"
   ]
  },
  {
   "cell_type": "markdown",
   "metadata": {},
   "source": [
    "## Create the Text Encoder"
   ]
  },
  {
   "cell_type": "markdown",
   "metadata": {},
   "source": [
    "The raw text loaded by `tfds` needs to be processed before it can be used in a model. The simplest way to process text for training is using the `experimental.preprocessing.TextVectorization` layer. This layer has many capabilities, but this tutorial sticks to the default behavior."
   ]
  },
  {
   "cell_type": "markdown",
   "metadata": {},
   "source": [
    "Create the layer, and pass the dataset's text to the layer's `.adapt` method:\n",
    "The processing of each sample contains the following steps:\n",
    "\n",
    "    standardize each sample (usually lowercasing + punctuation stripping)\n",
    "    split each sample into substrings (usually words)\n",
    "    recombine substrings into tokens (usually ngrams)\n",
    "    index tokens (associate a unique int value with each token)\n",
    "    transform each sample using this index, either into a vector of ints or a dense float vector."
   ]
  },
  {
   "cell_type": "markdown",
   "metadata": {},
   "source": [
    "<div class=\"alert alert-block alert-info\">\n",
    "    <b>tf.keras.layers.TextVectorization</b><br>\n",
    "   https://www.tensorflow.org/api_docs/python/tf/keras/layers/TextVectorization\n",
    "    </div>"
   ]
  },
  {
   "cell_type": "code",
   "execution_count": 45,
   "metadata": {},
   "outputs": [],
   "source": [
    "VOCAB_SIZE=5000\n",
    "encoder = tf.keras.layers.TextVectorization(\n",
    "    max_tokens=VOCAB_SIZE, standardize=\"lower_and_strip_punctuation\", pad_to_max_tokens= True)\n",
    "encoder.adapt(train_ds.map(lambda text, label: text), batch_size= None)"
   ]
  },
  {
   "cell_type": "code",
   "execution_count": 46,
   "metadata": {},
   "outputs": [
    {
     "data": {
      "text/plain": [
       "5000"
      ]
     },
     "execution_count": 46,
     "metadata": {},
     "output_type": "execute_result"
    }
   ],
   "source": [
    "vocab = np.array(encoder.get_vocabulary())\n",
    "len(vocab)"
   ]
  },
  {
   "cell_type": "code",
   "execution_count": 47,
   "metadata": {},
   "outputs": [
    {
     "data": {
      "text/plain": [
       "array(['', '[UNK]', '’', 'the', 'film', 's', 'movie', 'i', 'one', '”',\n",
       "       '“', 'like', 'it', 'time', 'but', 'character', 'make', 'get',\n",
       "       'even', 'story'], dtype='<U17')"
      ]
     },
     "execution_count": 47,
     "metadata": {},
     "output_type": "execute_result"
    }
   ],
   "source": [
    "vocab = np.array(encoder.get_vocabulary())\n",
    "vocab[:20]"
   ]
  },
  {
   "cell_type": "code",
   "execution_count": 48,
   "metadata": {},
   "outputs": [
    {
     "data": {
      "text/plain": [
       "array(['martha', 'marker', 'marked', 'margaret', 'marc', 'mara', 'map',\n",
       "       'mantra', 'mansion', 'manipulated', 'managing', 'maleficent',\n",
       "       'majority', 'maitre', 'maintain', 'mailer', 'magnetism', 'madison',\n",
       "       'maddeningly', 'machination'], dtype='<U17')"
      ]
     },
     "execution_count": 48,
     "metadata": {},
     "output_type": "execute_result"
    }
   ],
   "source": [
    "vocab[-20:]"
   ]
  },
  {
   "cell_type": "markdown",
   "metadata": {},
   "source": [
    "## Example of Encoded Words"
   ]
  },
  {
   "cell_type": "code",
   "execution_count": 49,
   "metadata": {},
   "outputs": [
    {
     "data": {
      "text/plain": [
       "array([ 395,  165, 1072,  717, 4341, 1830,  521,  521])"
      ]
     },
     "execution_count": 49,
     "metadata": {},
     "output_type": "execute_result"
    }
   ],
   "source": [
    "encoded_example = encoder('encanto we dont talk about bruno no no').numpy()\n",
    "encoded_example[:]"
   ]
  },
  {
   "cell_type": "code",
   "execution_count": 50,
   "metadata": {},
   "outputs": [
    {
     "data": {
      "text/plain": [
       "5000"
      ]
     },
     "execution_count": 50,
     "metadata": {},
     "output_type": "execute_result"
    }
   ],
   "source": [
    "len(encoder.get_vocabulary())"
   ]
  },
  {
   "cell_type": "code",
   "execution_count": 51,
   "metadata": {},
   "outputs": [
    {
     "data": {
      "text/plain": [
       "<tf.Tensor: shape=(527,), dtype=int64, numpy=\n",
       "array([   3, 3969,   29,  180,   24,  164,  532, 3699,    8,  631,  213,\n",
       "         24,    5, 1854, 2171,  845,  534, 3699,  788,  547,  448, 1720,\n",
       "        721, 1593,  740, 2367, 1223,  331,   29, 1049,    1,   24,  331,\n",
       "          1,    1, 4258, 1092, 2353,    1,  895,    1, 1827,    1,  932,\n",
       "        464, 1520,  153, 2209,    5, 3217,  135,    5,  153,    5,  691,\n",
       "         63,  331,  158,   75,  804,   29,   24, 1352,  358,  406,    5,\n",
       "         29, 2381,   15, 1104, 4923, 4779,  974, 3065, 1923,    1,  790,\n",
       "        884,  781,   24,    1, 4497,    1,    1, 1493, 2312, 2374, 1168,\n",
       "         34,  880,  170, 1594,  331,    5,  448,  200,   69,    1,  889,\n",
       "          1,  153,  135,    6,  917,  440,    1,  163,  551,  158,  646,\n",
       "       1972, 1388,    5,   21,   24,  688, 1765,   15, 1167, 2960, 1811,\n",
       "         16,  125,    6, 1881, 2807,    3,    6,  418,   24,    1,    1,\n",
       "       1886, 1762,   42,  581,  966, 4330,  119,    8, 3076,  271,  233,\n",
       "        106,  944, 2472, 1938,   36,  355, 4615, 2910,    1,   24, 1479,\n",
       "       2186, 2358,  903, 2184, 4661, 2913, 2405, 1285,  264, 1069,  332,\n",
       "        297,  336, 2184, 2606,  101, 2915,    1,   24,  985, 1361, 2193,\n",
       "        322,    5, 1960, 2011,   69,  334,   24, 1510,    1, 1285,    1,\n",
       "        903,   16,   22, 3509,  819,  426,   40,   24,   96, 1420,    1,\n",
       "       1711,    1,  207, 2545,  903, 3040,  897,    1,    1,    1,  264,\n",
       "          1,    1,   24, 1305,    1,  517,  562, 1508,   29, 3285,    1,\n",
       "       4963,   92,  517,  179,    1,  895,   24,   61,  911,  322,    5,\n",
       "         46,  334,  925,  214, 1484, 3322,    1,    1, 1590,  339,  345,\n",
       "        106,  944,  358,  406, 3246,    3, 1082,   24,  221,  594, 4480,\n",
       "       1074,    5,    1,  780, 1945, 1798,  769,  480,  112, 1381,   78,\n",
       "          1,  711,   16,   52,  125,  984,  171,    5,    1,    1,    1,\n",
       "         78, 1987,    1,  253,   24,   88,    1,    1,  131,  134, 3385,\n",
       "          1,   94,   46, 4226,   19, 4708,   81, 1590,  339,   83,  830,\n",
       "        890,   48,    1,    1,  572,   39,   40,    5,    8,    6,    5,\n",
       "       1068,   37,   73,  332,    1, 3190, 1556,  764, 1590,   78,    1,\n",
       "         27,   32,  693,    3,   37,   73, 1297,   20,   90,  162,    1,\n",
       "       2546,   37,  385,  189,    1,   73,  463,  911,  579,    3,    1,\n",
       "        332, 2186, 3114,   24, 2184,  538, 4219, 4583, 2024, 1447,   49,\n",
       "         24, 4018, 4161,   70, 3607,    1, 4074,  903,  440, 2483,    3,\n",
       "       1079, 3711,  495,    1,    1, 2671, 1262, 2320, 1071,   59,  293,\n",
       "       1252,  415, 1354,   19,    5, 3569,   77,    5,   25,  213,  106,\n",
       "        944,  494, 1984,  435, 1437,    1,    1,   24,    5,    1,   96,\n",
       "       4968, 3936,   15,   34,    5, 1386,  134,   69, 3252, 1333,  279,\n",
       "          8,    1,   39,  106,  944, 4489,   24,  875,    1,   24,    1,\n",
       "       4236, 1832, 2191, 2139,  155,  134,  145, 4970,   39, 1373,  181,\n",
       "         24,  148,    1,    1,    3, 1189,    8,   90,   15,   91,   24,\n",
       "       2515,  717,  253,  317,    6,  155,  331,    8,   57,  620,    1,\n",
       "         24,    5,    1,  334,   44,    1,   24,  405, 2417,   74,   20,\n",
       "         12,    5, 2333,  312,  148,   24,   86, 2057,   15, 1798,  769,\n",
       "       4830, 1164,  153,  556,  179,    6, 1490, 2034,   15,  385,  189,\n",
       "        375,   89,   24,   88,   22, 3826,  756, 1039, 1353, 2086,   29,\n",
       "        554,  124, 1977,   59,  822,    5,   46, 1735,   94,   15,   11,\n",
       "         24,  319,  293, 4403,  708,    6, 1052,   19,  132,    1, 4077,\n",
       "         66,   12,   23,  179,    5,  358,  406,  512,   32,   11])>"
      ]
     },
     "execution_count": 51,
     "metadata": {},
     "output_type": "execute_result"
    }
   ],
   "source": [
    "encoder(data['Text'][0])"
   ]
  },
  {
   "cell_type": "code",
   "execution_count": 52,
   "metadata": {},
   "outputs": [
    {
     "name": "stdout",
     "output_type": "stream",
     "text": [
      "texts:  [b'It \\xe2\\x80\\x99 colourful , boisterous , brimming song magic , yet Disney \\xe2\\x80\\x99 \\xe2\\x80\\x98 Encanto \\xe2\\x80\\x99 far-from-enchanting , little forced , well , rather dull . It \\xe2\\x80\\x99 beautiful look , animation first-class , \\xe2\\x80\\x99 full lovely song quirky character magic , positive messaging community togetherness family value , perfectly honest , latest offering Disney , well , bit bore . One issue emerged lot animated feature late heightened way , story core typically involving something outlandish , weird magical . Encanto turn heightened , crammed full magic lack real punch sense consequence . There \\xe2\\x80\\x99 much magic film kind get bit magicked . Young Mirabel Madrigal ( Stephanie Beatriz ) life magical house magical family person magic gift use make life positively magical community grown around . The magical state affair came magic candle used protect family running ill-defined horseback-riding foe lost family member . But sibling relative special gift sort , Mirabel \\xe2\\x80\\x99 , making different , though still much loved . Less loved Uncle Bruno ( John Leguizamo ) , whose power foresight estranged family , though \\xe2\\x80\\x99 never clearly explained somebody immeasurably valuable gift would alienated . Surely \\xe2\\x80\\x99 want keep somebody could see future close , especially come filling lotto ticket betting horse . But magic much good thing ? Cue movie \\xe2\\x80\\x99 message Mirabel begin disturbing vision crack appearing throughout house , even though palatial abode magical power repair . The strength magic imbues family seems waning . Oh ! What done ? Can Mirabel something ? Something magical , even though \\xe2\\x80\\x99 magical ? Or ? Is magic within u ? And forth . Encanto got one abstracted narrative Disney animated feature , making occasionally hard follow certainly difficult relate . Even conceptually wackier film , Monsters , Inc , kept foot ground . There \\xe2\\x80\\x99 much quest sense adventure involved story either , making feel somewhat inert . Thematically , film beat drum kid film . Everybody magic , film champion , know magic Encanto talking . It \\xe2\\x80\\x99 magic come \\xe2\\x80\\x93 get ready \\xe2\\x80\\x93 . Just \\xe2\\x80\\x99 great see animated family film \\xe2\\x80\\x99 feature theme somewhere . Of course \\xe2\\x80\\x99 important yet , surely , time get , others , lot trouble . And splendour , colour movement many song Encanto \\xe2\\x80\\x93 written Hamilton \\xe2\\x80\\x99 Lin-Manuel Miranda , le \\xe2\\x80\\x93 go long \\xe2\\x80\\x99 really develop story character , instead repeating song already established . Storywise , \\xe2\\x80\\x99 lot running spot . You literally pop popcorn visit lav worry missing anything important . ( In stark contrast , song upcoming musical-drama Dear Evan Hansenare deeply woven story . ) The magical setting Encanto Columbia , film respectfully adorned appropriate Latino costume , architecture , d\\xc3\\xa9cor design \\xe2\\x80\\x99 expect , look lovely . But \\xe2\\x80\\x99 icing . What \\xe2\\x80\\x99 missing real sense threat \\xe2\\x80\\x93 aside possibility magical house live might stop magical . The strained charm Encanto anodyne feel film afraid offend anybody . Nobody film bad , misunderstood . Sorry , \\xe2\\x80\\x99 boring . Perhaps film real villain . Again , Dullsville . Apologies laboured metaphor , oyster need grain grit make pearl , , , story need touch nasty create tension emotional engagement audience . This actually put Encanto odds classic Disney animated feature . Maybe creator eager avoid convention something different . Unfortunately , make film , beautifully rendered bell whistle , \\xe2\\x80\\x99 interesting .']\n",
      "\n"
     ]
    }
   ],
   "source": [
    "for example, label in train_ds.take(1):\n",
    "  print('texts: ', example.numpy()[:1])\n",
    "  print()"
   ]
  },
  {
   "cell_type": "markdown",
   "metadata": {},
   "source": [
    "## Build RNN Sequential Model "
   ]
  },
  {
   "cell_type": "markdown",
   "metadata": {},
   "source": [
    "<div class=\"alert alert-block alert-info\">\n",
    "    <b>tf.keras.layers</b><br>\n",
    "    https://www.tensorflow.org/api_docs/python/tf/keras/layers\n",
    "    </div>"
   ]
  },
  {
   "cell_type": "code",
   "execution_count": 53,
   "metadata": {},
   "outputs": [],
   "source": [
    "num_classes=5\n",
    "model=tf.keras.Sequential([encoder\n",
    "   ,tf.keras.layers.Embedding(len(encoder.get_vocabulary()), 64, mask_zero=True)\n",
    "   ,tf.keras.layers.Bidirectional(tf.keras.layers.LSTM(64,  return_sequences=True, dropout=0.3))\n",
    "   ,tf.keras.layers.Bidirectional(tf.keras.layers.LSTM(32,dropout=0.3))\n",
    "   ,tf.keras.layers.Dense(64, activation='relu')\n",
    "   ,tf.keras.layers.Dense(num_classes,activation='softmax')  \n",
    "])"
   ]
  },
  {
   "cell_type": "code",
   "execution_count": 54,
   "metadata": {},
   "outputs": [],
   "source": [
    "model.compile(optimizer= tf.keras.optimizers.Adam( )\n",
    "              ,loss=tf.keras.losses.SparseCategoricalCrossentropy() \n",
    "              ,metrics=['accuracy'])"
   ]
  },
  {
   "cell_type": "code",
   "execution_count": 55,
   "metadata": {},
   "outputs": [
    {
     "name": "stdout",
     "output_type": "stream",
     "text": [
      "Epoch 1/200\n",
      "66/66 [==============================] - 96s 1s/step - loss: 1.5454 - accuracy: 0.2525 - val_loss: 1.4639 - val_accuracy: 0.1111\n",
      "Epoch 2/200\n",
      "66/66 [==============================] - 75s 1s/step - loss: 1.4475 - accuracy: 0.3283 - val_loss: 1.4236 - val_accuracy: 0.1111\n",
      "Epoch 3/200\n",
      "66/66 [==============================] - 75s 1s/step - loss: 1.2307 - accuracy: 0.4697 - val_loss: 1.8750 - val_accuracy: 0.0000e+00\n",
      "CPU times: user 14min 4s, sys: 19.8 s, total: 14min 24s\n",
      "Wall time: 4min 7s\n"
     ]
    }
   ],
   "source": [
    "%%time\n",
    "history = model.fit(train_ds\n",
    "         ,epochs=200\n",
    "         ,validation_data=val_ds\n",
    "         ,validation_steps=3\n",
    "         ,callbacks=[tf.keras.callbacks.EarlyStopping(monitor='val_accuracy', patience=2)])"
   ]
  },
  {
   "cell_type": "markdown",
   "metadata": {},
   "source": [
    "## Model Performance Test Accuracy"
   ]
  },
  {
   "cell_type": "code",
   "execution_count": 56,
   "metadata": {},
   "outputs": [
    {
     "name": "stdout",
     "output_type": "stream",
     "text": [
      "8/8 [==============================] - 1s 167ms/step - loss: 1.5410 - accuracy: 0.3750\n",
      "Test Loss: 1.5409826040267944\n",
      "Test Accuracy: 0.375\n"
     ]
    }
   ],
   "source": [
    "test_loss, test_acc = model.evaluate(val_ds)\n",
    "\n",
    "print('Test Loss: {}'.format(test_loss))\n",
    "print('Test Accuracy: {}'.format(test_acc))"
   ]
  },
  {
   "cell_type": "markdown",
   "metadata": {},
   "source": [
    "## Plotting Performance Metrics - Multi-Layer Bidirectional RNN"
   ]
  },
  {
   "cell_type": "code",
   "execution_count": 57,
   "metadata": {},
   "outputs": [
    {
     "data": {
      "text/plain": [
       "dict_keys(['loss', 'accuracy', 'val_loss', 'val_accuracy'])"
      ]
     },
     "execution_count": 57,
     "metadata": {},
     "output_type": "execute_result"
    }
   ],
   "source": [
    "history_dict = history.history\n",
    "history_dict.keys()"
   ]
  },
  {
   "cell_type": "code",
   "execution_count": 58,
   "metadata": {},
   "outputs": [
    {
     "data": {
      "text/html": [
       "<div>\n",
       "<style scoped>\n",
       "    .dataframe tbody tr th:only-of-type {\n",
       "        vertical-align: middle;\n",
       "    }\n",
       "\n",
       "    .dataframe tbody tr th {\n",
       "        vertical-align: top;\n",
       "    }\n",
       "\n",
       "    .dataframe thead th {\n",
       "        text-align: right;\n",
       "    }\n",
       "</style>\n",
       "<table border=\"1\" class=\"dataframe\">\n",
       "  <thead>\n",
       "    <tr style=\"text-align: right;\">\n",
       "      <th></th>\n",
       "      <th>loss</th>\n",
       "      <th>accuracy</th>\n",
       "      <th>val_loss</th>\n",
       "      <th>val_accuracy</th>\n",
       "    </tr>\n",
       "  </thead>\n",
       "  <tbody>\n",
       "    <tr>\n",
       "      <th>0</th>\n",
       "      <td>1.545</td>\n",
       "      <td>0.253</td>\n",
       "      <td>1.464</td>\n",
       "      <td>0.111</td>\n",
       "    </tr>\n",
       "    <tr>\n",
       "      <th>1</th>\n",
       "      <td>1.448</td>\n",
       "      <td>0.328</td>\n",
       "      <td>1.424</td>\n",
       "      <td>0.111</td>\n",
       "    </tr>\n",
       "    <tr>\n",
       "      <th>2</th>\n",
       "      <td>1.231</td>\n",
       "      <td>0.470</td>\n",
       "      <td>1.875</td>\n",
       "      <td>0.000</td>\n",
       "    </tr>\n",
       "  </tbody>\n",
       "</table>\n",
       "</div>"
      ],
      "text/plain": [
       "    loss  accuracy  val_loss  val_accuracy\n",
       "0  1.545     0.253     1.464         0.111\n",
       "1  1.448     0.328     1.424         0.111\n",
       "2  1.231     0.470     1.875         0.000"
      ]
     },
     "execution_count": 58,
     "metadata": {},
     "output_type": "execute_result"
    }
   ],
   "source": [
    "history_df=pd.DataFrame(history_dict)\n",
    "history_df.tail().round(3)"
   ]
  },
  {
   "cell_type": "code",
   "execution_count": 59,
   "metadata": {},
   "outputs": [],
   "source": [
    "losses = history.history['loss']\n",
    "accs = history.history['accuracy']\n",
    "val_losses = history.history['val_loss']\n",
    "val_accs = history.history['val_accuracy']\n",
    "epochs = len(losses)"
   ]
  },
  {
   "cell_type": "code",
   "execution_count": 60,
   "metadata": {},
   "outputs": [
    {
     "data": {
      "image/png": "[encoded data removed]",
      "text/plain": [
       "<Figure size 1152x432 with 2 Axes>"
      ]
     },
     "metadata": {
      "needs_background": "light"
     },
     "output_type": "display_data"
    }
   ],
   "source": [
    "plt.figure(figsize=(16, 6))\n",
    "for i, metrics in enumerate(zip([losses, accs], [val_losses, val_accs], ['Loss', 'Accuracy'])):\n",
    "    plt.subplot(1, 2, i + 1)\n",
    "    plt.plot(range(epochs), metrics[0], label='Training {}'.format(metrics[2]))\n",
    "    plt.plot(range(epochs), metrics[1], label='Validation {}'.format(metrics[2]))\n",
    "    plt.legend()\n",
    "plt.show()"
   ]
  },
  {
   "cell_type": "markdown",
   "metadata": {},
   "source": [
    "## Confusion Matrix Post Model Performance Analysis"
   ]
  },
  {
   "cell_type": "code",
   "execution_count": 61,
   "metadata": {},
   "outputs": [],
   "source": [
    "preds2 = model.predict(test_ds)\n",
    "y_pred2 = np.argmax(preds2, axis=1)\n",
    "y2 = np.concatenate([y for x, y in test_ds], axis=0)"
   ]
  },
  {
   "cell_type": "code",
   "execution_count": 62,
   "metadata": {},
   "outputs": [],
   "source": [
    "CLASSES_LIST = ['Action','Comedy','Horror','Sci Fi','Drama']"
   ]
  },
  {
   "cell_type": "code",
   "execution_count": 63,
   "metadata": {},
   "outputs": [
    {
     "data": {
      "image/png": "[encoded data removed]",
      "text/plain": [
       "<Figure size 720x720 with 1 Axes>"
      ]
     },
     "metadata": {
      "needs_background": "light"
     },
     "output_type": "display_data"
    }
   ],
   "source": [
    "plot_confusion_matrix_labeled(y2,y_pred2, CLASSES_LIST=CLASSES_LIST)"
   ]
  },
  {
   "cell_type": "code",
   "execution_count": 64,
   "metadata": {},
   "outputs": [],
   "source": [
    "cm = sns.light_palette((260, 75, 60), input=\"husl\", as_cmap=True)"
   ]
  },
  {
   "cell_type": "code",
   "execution_count": 65,
   "metadata": {},
   "outputs": [
    {
     "data": {
      "text/html": [
       "<style type=\"text/css\">\n",
       "#T_f5e29_row0_col0, #T_f5e29_row0_col3 {\n",
       "  background-color: #8799e6;\n",
       "  color: #f1f1f1;\n",
       "}\n",
       "#T_f5e29_row0_col1, #T_f5e29_row0_col7 {\n",
       "  background-color: #8597e5;\n",
       "  color: #f1f1f1;\n",
       "}\n",
       "#T_f5e29_row0_col2, #T_f5e29_row0_col13 {\n",
       "  background-color: #8799e5;\n",
       "  color: #f1f1f1;\n",
       "}\n",
       "#T_f5e29_row0_col4 {\n",
       "  background-color: #e8e9f1;\n",
       "  color: #000000;\n",
       "}\n",
       "#T_f5e29_row0_col5, #T_f5e29_row0_col10, #T_f5e29_row0_col11, #T_f5e29_row0_col12 {\n",
       "  background-color: #8698e5;\n",
       "  color: #f1f1f1;\n",
       "}\n",
       "#T_f5e29_row0_col6 {\n",
       "  background-color: #e6e8f1;\n",
       "  color: #000000;\n",
       "}\n",
       "#T_f5e29_row0_col8 {\n",
       "  background-color: #e7e9f1;\n",
       "  color: #000000;\n",
       "}\n",
       "#T_f5e29_row0_col9 {\n",
       "  background-color: #e9eaf1;\n",
       "  color: #000000;\n",
       "}\n",
       "#T_f5e29_row0_col14 {\n",
       "  background-color: #8899e6;\n",
       "  color: #f1f1f1;\n",
       "}\n",
       "#T_f5e29_row1_col0, #T_f5e29_row1_col1, #T_f5e29_row1_col2, #T_f5e29_row1_col3, #T_f5e29_row1_col4, #T_f5e29_row1_col5, #T_f5e29_row1_col6, #T_f5e29_row1_col7, #T_f5e29_row1_col8, #T_f5e29_row1_col9, #T_f5e29_row1_col10, #T_f5e29_row1_col11, #T_f5e29_row1_col12, #T_f5e29_row1_col13, #T_f5e29_row1_col14 {\n",
       "  background-color: #778ce4;\n",
       "  color: #f1f1f1;\n",
       "}\n",
       "#T_f5e29_row2_col0, #T_f5e29_row2_col1, #T_f5e29_row2_col2, #T_f5e29_row2_col3, #T_f5e29_row2_col4, #T_f5e29_row2_col5, #T_f5e29_row2_col6, #T_f5e29_row2_col7, #T_f5e29_row2_col8, #T_f5e29_row2_col9, #T_f5e29_row2_col10, #T_f5e29_row2_col11, #T_f5e29_row2_col12, #T_f5e29_row2_col13, #T_f5e29_row2_col14 {\n",
       "  background-color: #f0f1f2;\n",
       "  color: #000000;\n",
       "}\n",
       "#T_f5e29_row3_col0, #T_f5e29_row3_col12, #T_f5e29_row3_col13, #T_f5e29_row3_col14 {\n",
       "  background-color: #ccd2ee;\n",
       "  color: #000000;\n",
       "}\n",
       "#T_f5e29_row3_col1, #T_f5e29_row3_col3, #T_f5e29_row3_col7, #T_f5e29_row3_col10, #T_f5e29_row3_col11 {\n",
       "  background-color: #cbd2ee;\n",
       "  color: #000000;\n",
       "}\n",
       "#T_f5e29_row3_col2, #T_f5e29_row3_col5 {\n",
       "  background-color: #cbd1ee;\n",
       "  color: #000000;\n",
       "}\n",
       "#T_f5e29_row3_col4 {\n",
       "  background-color: #9eace8;\n",
       "  color: #000000;\n",
       "}\n",
       "#T_f5e29_row3_col6 {\n",
       "  background-color: #a0aee9;\n",
       "  color: #000000;\n",
       "}\n",
       "#T_f5e29_row3_col8 {\n",
       "  background-color: #9cabe8;\n",
       "  color: #000000;\n",
       "}\n",
       "#T_f5e29_row3_col9 {\n",
       "  background-color: #a1afe9;\n",
       "  color: #000000;\n",
       "}\n",
       "#T_f5e29_row4_col0, #T_f5e29_row4_col1, #T_f5e29_row4_col2, #T_f5e29_row4_col5, #T_f5e29_row4_col7, #T_f5e29_row4_col10, #T_f5e29_row4_col11, #T_f5e29_row4_col12 {\n",
       "  background-color: #ebedf2;\n",
       "  color: #000000;\n",
       "}\n",
       "#T_f5e29_row4_col3, #T_f5e29_row4_col13, #T_f5e29_row4_col14 {\n",
       "  background-color: #ecedf2;\n",
       "  color: #000000;\n",
       "}\n",
       "#T_f5e29_row4_col4, #T_f5e29_row4_col9 {\n",
       "  background-color: #b3bdeb;\n",
       "  color: #000000;\n",
       "}\n",
       "#T_f5e29_row4_col6 {\n",
       "  background-color: #b5bfeb;\n",
       "  color: #000000;\n",
       "}\n",
       "#T_f5e29_row4_col8 {\n",
       "  background-color: #b2bdeb;\n",
       "  color: #000000;\n",
       "}\n",
       "</style>\n",
       "<table id=\"T_f5e29\">\n",
       "  <thead>\n",
       "    <tr>\n",
       "      <th class=\"blank level0\" >&nbsp;</th>\n",
       "      <th id=\"T_f5e29_level0_col0\" class=\"col_heading level0 col0\" >0</th>\n",
       "      <th id=\"T_f5e29_level0_col1\" class=\"col_heading level0 col1\" >1</th>\n",
       "      <th id=\"T_f5e29_level0_col2\" class=\"col_heading level0 col2\" >2</th>\n",
       "      <th id=\"T_f5e29_level0_col3\" class=\"col_heading level0 col3\" >3</th>\n",
       "      <th id=\"T_f5e29_level0_col4\" class=\"col_heading level0 col4\" >4</th>\n",
       "      <th id=\"T_f5e29_level0_col5\" class=\"col_heading level0 col5\" >5</th>\n",
       "      <th id=\"T_f5e29_level0_col6\" class=\"col_heading level0 col6\" >6</th>\n",
       "      <th id=\"T_f5e29_level0_col7\" class=\"col_heading level0 col7\" >7</th>\n",
       "      <th id=\"T_f5e29_level0_col8\" class=\"col_heading level0 col8\" >8</th>\n",
       "      <th id=\"T_f5e29_level0_col9\" class=\"col_heading level0 col9\" >9</th>\n",
       "      <th id=\"T_f5e29_level0_col10\" class=\"col_heading level0 col10\" >10</th>\n",
       "      <th id=\"T_f5e29_level0_col11\" class=\"col_heading level0 col11\" >11</th>\n",
       "      <th id=\"T_f5e29_level0_col12\" class=\"col_heading level0 col12\" >12</th>\n",
       "      <th id=\"T_f5e29_level0_col13\" class=\"col_heading level0 col13\" >13</th>\n",
       "      <th id=\"T_f5e29_level0_col14\" class=\"col_heading level0 col14\" >14</th>\n",
       "    </tr>\n",
       "  </thead>\n",
       "  <tbody>\n",
       "    <tr>\n",
       "      <th id=\"T_f5e29_level0_row0\" class=\"row_heading level0 row0\" >Action</th>\n",
       "      <td id=\"T_f5e29_row0_col0\" class=\"data row0 col0\" >36.62%</td>\n",
       "      <td id=\"T_f5e29_row0_col1\" class=\"data row0 col1\" >36.88%</td>\n",
       "      <td id=\"T_f5e29_row0_col2\" class=\"data row0 col2\" >36.64%</td>\n",
       "      <td id=\"T_f5e29_row0_col3\" class=\"data row0 col3\" >36.63%</td>\n",
       "      <td id=\"T_f5e29_row0_col4\" class=\"data row0 col4\" >12.26%</td>\n",
       "      <td id=\"T_f5e29_row0_col5\" class=\"data row0 col5\" >36.81%</td>\n",
       "      <td id=\"T_f5e29_row0_col6\" class=\"data row0 col6\" >12.50%</td>\n",
       "      <td id=\"T_f5e29_row0_col7\" class=\"data row0 col7\" >36.94%</td>\n",
       "      <td id=\"T_f5e29_row0_col8\" class=\"data row0 col8\" >12.38%</td>\n",
       "      <td id=\"T_f5e29_row0_col9\" class=\"data row0 col9\" >12.31%</td>\n",
       "      <td id=\"T_f5e29_row0_col10\" class=\"data row0 col10\" >36.84%</td>\n",
       "      <td id=\"T_f5e29_row0_col11\" class=\"data row0 col11\" >36.78%</td>\n",
       "      <td id=\"T_f5e29_row0_col12\" class=\"data row0 col12\" >36.84%</td>\n",
       "      <td id=\"T_f5e29_row0_col13\" class=\"data row0 col13\" >36.78%</td>\n",
       "      <td id=\"T_f5e29_row0_col14\" class=\"data row0 col14\" >36.56%</td>\n",
       "    </tr>\n",
       "    <tr>\n",
       "      <th id=\"T_f5e29_level0_row1\" class=\"row_heading level0 row1\" >Comedy</th>\n",
       "      <td id=\"T_f5e29_row1_col0\" class=\"data row1 col0\" >41.82%</td>\n",
       "      <td id=\"T_f5e29_row1_col1\" class=\"data row1 col1\" >41.57%</td>\n",
       "      <td id=\"T_f5e29_row1_col2\" class=\"data row1 col2\" >41.69%</td>\n",
       "      <td id=\"T_f5e29_row1_col3\" class=\"data row1 col3\" >41.89%</td>\n",
       "      <td id=\"T_f5e29_row1_col4\" class=\"data row1 col4\" >31.25%</td>\n",
       "      <td id=\"T_f5e29_row1_col5\" class=\"data row1 col5\" >41.58%</td>\n",
       "      <td id=\"T_f5e29_row1_col6\" class=\"data row1 col6\" >31.51%</td>\n",
       "      <td id=\"T_f5e29_row1_col7\" class=\"data row1 col7\" >41.62%</td>\n",
       "      <td id=\"T_f5e29_row1_col8\" class=\"data row1 col8\" >31.02%</td>\n",
       "      <td id=\"T_f5e29_row1_col9\" class=\"data row1 col9\" >31.22%</td>\n",
       "      <td id=\"T_f5e29_row1_col10\" class=\"data row1 col10\" >41.63%</td>\n",
       "      <td id=\"T_f5e29_row1_col11\" class=\"data row1 col11\" >41.70%</td>\n",
       "      <td id=\"T_f5e29_row1_col12\" class=\"data row1 col12\" >41.78%</td>\n",
       "      <td id=\"T_f5e29_row1_col13\" class=\"data row1 col13\" >41.91%</td>\n",
       "      <td id=\"T_f5e29_row1_col14\" class=\"data row1 col14\" >41.94%</td>\n",
       "    </tr>\n",
       "    <tr>\n",
       "      <th id=\"T_f5e29_level0_row2\" class=\"row_heading level0 row2\" >Horror</th>\n",
       "      <td id=\"T_f5e29_row2_col0\" class=\"data row2 col0\" >2.74%</td>\n",
       "      <td id=\"T_f5e29_row2_col1\" class=\"data row2 col1\" >2.67%</td>\n",
       "      <td id=\"T_f5e29_row2_col2\" class=\"data row2 col2\" >2.67%</td>\n",
       "      <td id=\"T_f5e29_row2_col3\" class=\"data row2 col3\" >2.66%</td>\n",
       "      <td id=\"T_f5e29_row2_col4\" class=\"data row2 col4\" >10.78%</td>\n",
       "      <td id=\"T_f5e29_row2_col5\" class=\"data row2 col5\" >2.64%</td>\n",
       "      <td id=\"T_f5e29_row2_col6\" class=\"data row2 col6\" >10.74%</td>\n",
       "      <td id=\"T_f5e29_row2_col7\" class=\"data row2 col7\" >2.63%</td>\n",
       "      <td id=\"T_f5e29_row2_col8\" class=\"data row2 col8\" >10.73%</td>\n",
       "      <td id=\"T_f5e29_row2_col9\" class=\"data row2 col9\" >11.04%</td>\n",
       "      <td id=\"T_f5e29_row2_col10\" class=\"data row2 col10\" >2.67%</td>\n",
       "      <td id=\"T_f5e29_row2_col11\" class=\"data row2 col11\" >2.65%</td>\n",
       "      <td id=\"T_f5e29_row2_col12\" class=\"data row2 col12\" >2.66%</td>\n",
       "      <td id=\"T_f5e29_row2_col13\" class=\"data row2 col13\" >2.67%</td>\n",
       "      <td id=\"T_f5e29_row2_col14\" class=\"data row2 col14\" >2.69%</td>\n",
       "    </tr>\n",
       "    <tr>\n",
       "      <th id=\"T_f5e29_level0_row3\" class=\"row_heading level0 row3\" >Sci Fi</th>\n",
       "      <td id=\"T_f5e29_row3_col0\" class=\"data row3 col0\" >14.55%</td>\n",
       "      <td id=\"T_f5e29_row3_col1\" class=\"data row3 col1\" >14.61%</td>\n",
       "      <td id=\"T_f5e29_row3_col2\" class=\"data row3 col2\" >14.77%</td>\n",
       "      <td id=\"T_f5e29_row3_col3\" class=\"data row3 col3\" >14.65%</td>\n",
       "      <td id=\"T_f5e29_row3_col4\" class=\"data row3 col4\" >24.54%</td>\n",
       "      <td id=\"T_f5e29_row3_col5\" class=\"data row3 col5\" >14.80%</td>\n",
       "      <td id=\"T_f5e29_row3_col6\" class=\"data row3 col6\" >24.38%</td>\n",
       "      <td id=\"T_f5e29_row3_col7\" class=\"data row3 col7\" >14.64%</td>\n",
       "      <td id=\"T_f5e29_row3_col8\" class=\"data row3 col8\" >24.69%</td>\n",
       "      <td id=\"T_f5e29_row3_col9\" class=\"data row3 col9\" >24.17%</td>\n",
       "      <td id=\"T_f5e29_row3_col10\" class=\"data row3 col10\" >14.64%</td>\n",
       "      <td id=\"T_f5e29_row3_col11\" class=\"data row3 col11\" >14.63%</td>\n",
       "      <td id=\"T_f5e29_row3_col12\" class=\"data row3 col12\" >14.52%</td>\n",
       "      <td id=\"T_f5e29_row3_col13\" class=\"data row3 col13\" >14.46%</td>\n",
       "      <td id=\"T_f5e29_row3_col14\" class=\"data row3 col14\" >14.62%</td>\n",
       "    </tr>\n",
       "    <tr>\n",
       "      <th id=\"T_f5e29_level0_row4\" class=\"row_heading level0 row4\" >Drama</th>\n",
       "      <td id=\"T_f5e29_row4_col0\" class=\"data row4 col0\" >4.27%</td>\n",
       "      <td id=\"T_f5e29_row4_col1\" class=\"data row4 col1\" >4.26%</td>\n",
       "      <td id=\"T_f5e29_row4_col2\" class=\"data row4 col2\" >4.24%</td>\n",
       "      <td id=\"T_f5e29_row4_col3\" class=\"data row4 col3\" >4.17%</td>\n",
       "      <td id=\"T_f5e29_row4_col4\" class=\"data row4 col4\" >21.16%</td>\n",
       "      <td id=\"T_f5e29_row4_col5\" class=\"data row4 col5\" >4.18%</td>\n",
       "      <td id=\"T_f5e29_row4_col6\" class=\"data row4 col6\" >20.87%</td>\n",
       "      <td id=\"T_f5e29_row4_col7\" class=\"data row4 col7\" >4.16%</td>\n",
       "      <td id=\"T_f5e29_row4_col8\" class=\"data row4 col8\" >21.18%</td>\n",
       "      <td id=\"T_f5e29_row4_col9\" class=\"data row4 col9\" >21.26%</td>\n",
       "      <td id=\"T_f5e29_row4_col10\" class=\"data row4 col10\" >4.23%</td>\n",
       "      <td id=\"T_f5e29_row4_col11\" class=\"data row4 col11\" >4.24%</td>\n",
       "      <td id=\"T_f5e29_row4_col12\" class=\"data row4 col12\" >4.20%</td>\n",
       "      <td id=\"T_f5e29_row4_col13\" class=\"data row4 col13\" >4.18%</td>\n",
       "      <td id=\"T_f5e29_row4_col14\" class=\"data row4 col14\" >4.19%</td>\n",
       "    </tr>\n",
       "  </tbody>\n",
       "</table>\n"
      ],
      "text/plain": [
       "<pandas.io.formats.style.Styler at 0x7f6cc47d7460>"
      ]
     },
     "execution_count": 65,
     "metadata": {},
     "output_type": "execute_result"
    }
   ],
   "source": [
    "df2 = pd.DataFrame(preds2[0:15]\n",
    "                  ,columns = CLASSES_LIST).T\n",
    "df2.style.format(\"{:.2%}\").background_gradient(cmap=cm)"
   ]
  },
  {
   "cell_type": "markdown",
   "metadata": {},
   "source": [
    "## RNN Model Architecture"
   ]
  },
  {
   "cell_type": "code",
   "execution_count": 66,
   "metadata": {
    "scrolled": false
   },
   "outputs": [
    {
     "name": "stdout",
     "output_type": "stream",
     "text": [
      "Model: \"sequential\"\n",
      "_________________________________________________________________\n",
      " Layer (type)                Output Shape              Param #   \n",
      "=================================================================\n",
      " text_vectorization (TextVec  (None, None)             0         \n",
      " torization)                                                     \n",
      "                                                                 \n",
      " embedding (Embedding)       (None, None, 64)          320000    \n",
      "                                                                 \n",
      " bidirectional (Bidirectiona  (None, None, 128)        66048     \n",
      " l)                                                              \n",
      "                                                                 \n",
      " bidirectional_1 (Bidirectio  (None, 64)               41216     \n",
      " nal)                                                            \n",
      "                                                                 \n",
      " dense (Dense)               (None, 64)                4160      \n",
      "                                                                 \n",
      " dense_1 (Dense)             (None, 5)                 325       \n",
      "                                                                 \n",
      "=================================================================\n",
      "Total params: 431,749\n",
      "Trainable params: 431,749\n",
      "Non-trainable params: 0\n",
      "_________________________________________________________________\n"
     ]
    }
   ],
   "source": [
    "model.summary()"
   ]
  },
  {
   "cell_type": "code",
   "execution_count": null,
   "metadata": {},
   "outputs": [],
   "source": []
  }
 ],
 "metadata": {
  "kernelspec": {
   "display_name": "Python 3",
   "language": "python",
   "name": "python3"
  },
  "language_info": {
   "codemirror_mode": {
    "name": "ipython",
    "version": 3
   },
   "file_extension": ".py",
   "mimetype": "text/x-python",
   "name": "python",
   "nbconvert_exporter": "python",
   "pygments_lexer": "ipython3",
   "version": "3.8.10"
  }
 },
 "nbformat": 4,
 "nbformat_minor": 5
}
