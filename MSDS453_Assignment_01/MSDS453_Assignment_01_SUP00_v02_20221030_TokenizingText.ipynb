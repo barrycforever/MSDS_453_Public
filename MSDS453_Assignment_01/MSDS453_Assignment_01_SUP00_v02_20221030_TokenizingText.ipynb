{
 "cells": [
  {
   "cell_type": "code",
   "execution_count": 1,
   "metadata": {
    "executionInfo": {
     "elapsed": 1380,
     "status": "ok",
     "timestamp": 1664463246731,
     "user": {
      "displayName": "Pavankumar Gurazada",
      "userId": "10690826909418856210"
     },
     "user_tz": -330
    },
    "id": "W5Sl2wTqw5Iu"
   },
   "outputs": [],
   "source": [
    "import nltk\n",
    "import re\n",
    "\n",
    "import pandas as pd\n",
    "import numpy as np\n",
    "\n",
    "from nltk.stem.wordnet import WordNetLemmatizer\n",
    "from sklearn.feature_extraction.text import CountVectorizer\n",
    "\n",
    "from nltk.corpus import stopwords"
   ]
  },
  {
   "cell_type": "code",
   "execution_count": 2,
   "metadata": {},
   "outputs": [],
   "source": [
    "def add_movie_descriptor(data: pd.DataFrame, corpus_df: pd.DataFrame):\n",
    "    \"\"\"\n",
    "    Adds \"Movie Description\" to the supplied dataframe, in the form {Genre}_{P|N}_{Movie Title}_{DocID}\n",
    "    \"\"\"\n",
    "    review = np.where(corpus_df['Review Type (pos or neg)'] == 'Positive', 'P', 'N')\n",
    "    data['Descriptor'] = corpus_df['Genre of Movie'] + '_' + corpus_df['Movie Title'] + '_' + review + '_' + corpus_df['Doc_ID'].astype(str)\n",
    "\n",
    "def get_corpus_df(path):\n",
    "    data = pd.read_csv(path, encoding=\"utf-8\")\n",
    "    add_movie_descriptor(data, data)\n",
    "    sorted_data = data.sort_values(['Descriptor'])\n",
    "    indexed_data = sorted_data.set_index(['Doc_ID'])\n",
    "    indexed_data['Doc_ID'] = indexed_data.index\n",
    "    return indexed_data"
   ]
  },
  {
   "cell_type": "markdown",
   "metadata": {
    "id": "8WLR_34yw5Iy"
   },
   "source": [
    "# Data"
   ]
  },
  {
   "cell_type": "code",
   "execution_count": 3,
   "metadata": {},
   "outputs": [],
   "source": [
    "CORPUS_PATH=\\\n",
    "'https://raw.githubusercontent.com/djp840/MSDS_453_Public/main/MSDS453_ClassCorpus/MSDS453_QA_20220906.csv'\n",
    "class_corpus= get_corpus_df(CORPUS_PATH)"
   ]
  },
  {
   "cell_type": "code",
   "execution_count": 4,
   "metadata": {
    "colab": {
     "base_uri": "https://localhost:8080/"
    },
    "executionInfo": {
     "elapsed": 3,
     "status": "ok",
     "timestamp": 1664463266359,
     "user": {
      "displayName": "Pavankumar Gurazada",
      "userId": "10690826909418856210"
     },
     "user_tz": -330
    },
    "id": "s-1s7Lv2w5I1",
    "outputId": "c1a884b8-5b31-41bb-d096-76e9d0860dc5"
   },
   "outputs": [
    {
     "name": "stdout",
     "output_type": "stream",
     "text": [
      "<class 'pandas.core.frame.DataFrame'>\n",
      "Int64Index: 200 entries, 40 to 199\n",
      "Data columns (total 9 columns):\n",
      " #   Column                    Non-Null Count  Dtype \n",
      "---  ------                    --------------  ----- \n",
      " 0   DSI_Title                 200 non-null    object\n",
      " 1   Text                      200 non-null    object\n",
      " 2   Submission File Name      200 non-null    object\n",
      " 3   Student Name              200 non-null    object\n",
      " 4   Genre of Movie            200 non-null    object\n",
      " 5   Review Type (pos or neg)  200 non-null    object\n",
      " 6   Movie Title               200 non-null    object\n",
      " 7   Descriptor                200 non-null    object\n",
      " 8   Doc_ID                    200 non-null    int64 \n",
      "dtypes: int64(1), object(8)\n",
      "memory usage: 15.6+ KB\n"
     ]
    }
   ],
   "source": [
    "class_corpus.info()"
   ]
  },
  {
   "cell_type": "markdown",
   "metadata": {
    "id": "piRTZ-0-w5I2"
   },
   "source": [
    "# Data Wrangling"
   ]
  },
  {
   "cell_type": "markdown",
   "metadata": {
    "id": "JnRXGvTayVva"
   },
   "source": [
    "To conduct data wrangling using `nltk` we need the following additional modules to be downloaded."
   ]
  },
  {
   "cell_type": "code",
   "execution_count": 5,
   "metadata": {
    "colab": {
     "base_uri": "https://localhost:8080/"
    },
    "executionInfo": {
     "elapsed": 1051,
     "status": "ok",
     "timestamp": 1664463272183,
     "user": {
      "displayName": "Pavankumar Gurazada",
      "userId": "10690826909418856210"
     },
     "user_tz": -330
    },
    "id": "7Br0vfkPxZ57",
    "outputId": "5ed7ac58-6399-407a-f873-ea8e662af7fb"
   },
   "outputs": [
    {
     "name": "stderr",
     "output_type": "stream",
     "text": [
      "[nltk_data] Downloading package stopwords to\n",
      "[nltk_data]     /home/jensen116/nltk_data...\n",
      "[nltk_data]   Package stopwords is already up-to-date!\n",
      "[nltk_data] Downloading package punkt to /home/jensen116/nltk_data...\n",
      "[nltk_data]   Package punkt is already up-to-date!\n",
      "[nltk_data] Downloading package wordnet to\n",
      "[nltk_data]     /home/jensen116/nltk_data...\n",
      "[nltk_data]   Package wordnet is already up-to-date!\n",
      "[nltk_data] Downloading package omw-1.4 to\n",
      "[nltk_data]     /home/jensen116/nltk_data...\n",
      "[nltk_data]   Package omw-1.4 is already up-to-date!\n"
     ]
    },
    {
     "data": {
      "text/plain": [
       "True"
      ]
     },
     "execution_count": 5,
     "metadata": {},
     "output_type": "execute_result"
    }
   ],
   "source": [
    "nltk.download('stopwords')\n",
    "nltk.download('punkt')\n",
    "nltk.download('wordnet')\n",
    "nltk.download('omw-1.4')"
   ]
  },
  {
   "cell_type": "code",
   "execution_count": 6,
   "metadata": {
    "executionInfo": {
     "elapsed": 401,
     "status": "ok",
     "timestamp": 1664463283820,
     "user": {
      "displayName": "Pavankumar Gurazada",
      "userId": "10690826909418856210"
     },
     "user_tz": -330
    },
    "id": "1wQ8guwBw5I3"
   },
   "outputs": [],
   "source": [
    "STOP_WORDS = set(nltk.corpus.stopwords.words('english'))"
   ]
  },
  {
   "cell_type": "markdown",
   "metadata": {
    "id": "uO1dxV1Cw5I4"
   },
   "source": [
    "## Step 1: Pre-processing"
   ]
  },
  {
   "cell_type": "markdown",
   "metadata": {
    "id": "7cZvnlt9w5I4"
   },
   "source": [
    "Below is a set of helper functions that help us format the text of the reviews. "
   ]
  },
  {
   "cell_type": "code",
   "execution_count": 7,
   "metadata": {
    "executionInfo": {
     "elapsed": 3,
     "status": "ok",
     "timestamp": 1664463285633,
     "user": {
      "displayName": "Pavankumar Gurazada",
      "userId": "10690826909418856210"
     },
     "user_tz": -330
    },
    "id": "XgHa2dLWw5I4"
   },
   "outputs": [],
   "source": [
    "def remove_punctuation(text):\n",
    "    return re.sub('[^a-zA-Z]', ' ', str(text))\n",
    "\n",
    "def lower_case(text):\n",
    "    return text.lower()    \n",
    "\n",
    "def remove_tags(text):    \n",
    "    return re.sub(\"&lt;/?.*?&gt;\",\" &lt;&gt; \", text)\n",
    "\n",
    "def remove_special_chars_and_digits(text):\n",
    "    return re.sub(\"(\\\\d|\\\\W)+\",\" \", text)\n",
    "\n",
    "def remove_stop_words(tokenized_text):\n",
    "    return [w for w in tokenized_text if not w in STOP_WORDS]"
   ]
  },
  {
   "cell_type": "markdown",
   "metadata": {
    "id": "Y2KDp9NCw5I5"
   },
   "source": [
    "Let us now look at the impact of applying these functions on our reviews text."
   ]
  },
  {
   "cell_type": "code",
   "execution_count": 8,
   "metadata": {
    "executionInfo": {
     "elapsed": 372,
     "status": "ok",
     "timestamp": 1664463294392,
     "user": {
      "displayName": "Pavankumar Gurazada",
      "userId": "10690826909418856210"
     },
     "user_tz": -330
    },
    "id": "gdncN2gAw5I5"
   },
   "outputs": [],
   "source": [
    "sample_review_text = class_corpus['Text'][9]"
   ]
  },
  {
   "cell_type": "code",
   "execution_count": 9,
   "metadata": {
    "colab": {
     "base_uri": "https://localhost:8080/",
     "height": 35
    },
    "executionInfo": {
     "elapsed": 423,
     "status": "ok",
     "timestamp": 1664463296995,
     "user": {
      "displayName": "Pavankumar Gurazada",
      "userId": "10690826909418856210"
     },
     "user_tz": -330
    },
    "id": "TqoXTUPcw5I6",
    "outputId": "d49d4519-f727-4151-c42b-6d8401873556"
   },
   "outputs": [
    {
     "data": {
      "text/plain": [
       "'Liam Neeson was up for\\x97but never got to play\\x97James Bond, and now he\\x92s getting even. In the violent, '"
      ]
     },
     "execution_count": 9,
     "metadata": {},
     "output_type": "execute_result"
    }
   ],
   "source": [
    "sample_review_text[0:100]"
   ]
  },
  {
   "cell_type": "code",
   "execution_count": 10,
   "metadata": {
    "executionInfo": {
     "elapsed": 2,
     "status": "ok",
     "timestamp": 1664463298719,
     "user": {
      "displayName": "Pavankumar Gurazada",
      "userId": "10690826909418856210"
     },
     "user_tz": -330
    },
    "id": "9pPiM5yRw5I6"
   },
   "outputs": [],
   "source": [
    "normalized_sample_text = remove_punctuation(sample_review_text)\n",
    "normalized_sample_text = lower_case(normalized_sample_text)\n",
    "normalized_sample_text = remove_tags(normalized_sample_text)\n",
    "normalized_sample_text = remove_special_chars_and_digits(normalized_sample_text)"
   ]
  },
  {
   "cell_type": "code",
   "execution_count": 11,
   "metadata": {
    "colab": {
     "base_uri": "https://localhost:8080/",
     "height": 35
    },
    "executionInfo": {
     "elapsed": 6,
     "status": "ok",
     "timestamp": 1664463300200,
     "user": {
      "displayName": "Pavankumar Gurazada",
      "userId": "10690826909418856210"
     },
     "user_tz": -330
    },
    "id": "8AW5HfkTw5I6",
    "outputId": "f08a2e79-12ff-4e12-d6d0-f18c7ea0a7e2"
   },
   "outputs": [
    {
     "data": {
      "text/plain": [
       "'liam neeson was up for but never got to play james bond and now he s getting even in the violent chu'"
      ]
     },
     "execution_count": 11,
     "metadata": {},
     "output_type": "execute_result"
    }
   ],
   "source": [
    "normalized_sample_text[0:100]"
   ]
  },
  {
   "cell_type": "markdown",
   "metadata": {
    "id": "ZtOTmbzUw5I7"
   },
   "source": [
    "Once the text is free of punctuation, tags and special characters we tokenize the text (i.e., split the text at white spaces). There is a built-in `word_tokenize` function from `nltk` that helps achieve this task."
   ]
  },
  {
   "cell_type": "code",
   "execution_count": 12,
   "metadata": {
    "executionInfo": {
     "elapsed": 378,
     "status": "ok",
     "timestamp": 1664463303841,
     "user": {
      "displayName": "Pavankumar Gurazada",
      "userId": "10690826909418856210"
     },
     "user_tz": -330
    },
    "id": "OBOISdqGw5I7"
   },
   "outputs": [],
   "source": [
    "normalized_sample_tokens = nltk.word_tokenize(normalized_sample_text)"
   ]
  },
  {
   "cell_type": "code",
   "execution_count": 13,
   "metadata": {
    "colab": {
     "base_uri": "https://localhost:8080/"
    },
    "executionInfo": {
     "elapsed": 3,
     "status": "ok",
     "timestamp": 1664463304764,
     "user": {
      "displayName": "Pavankumar Gurazada",
      "userId": "10690826909418856210"
     },
     "user_tz": -330
    },
    "id": "cQ5V2n0Xw5I8",
    "outputId": "62d53f01-8600-4544-889f-e3fa127dc290"
   },
   "outputs": [
    {
     "data": {
      "text/plain": [
       "['liam',\n",
       " 'neeson',\n",
       " 'was',\n",
       " 'up',\n",
       " 'for',\n",
       " 'but',\n",
       " 'never',\n",
       " 'got',\n",
       " 'to',\n",
       " 'play',\n",
       " 'james',\n",
       " 'bond',\n",
       " 'and',\n",
       " 'now',\n",
       " 'he']"
      ]
     },
     "execution_count": 13,
     "metadata": {},
     "output_type": "execute_result"
    }
   ],
   "source": [
    "normalized_sample_tokens[0:15]"
   ]
  },
  {
   "cell_type": "markdown",
   "metadata": {
    "id": "jJZizAMrw5I8"
   },
   "source": [
    "A crucial step after word tokenization is to remove stop words from the tokens generated. "
   ]
  },
  {
   "cell_type": "code",
   "execution_count": 14,
   "metadata": {
    "executionInfo": {
     "elapsed": 3,
     "status": "ok",
     "timestamp": 1664463306840,
     "user": {
      "displayName": "Pavankumar Gurazada",
      "userId": "10690826909418856210"
     },
     "user_tz": -330
    },
    "id": "6RRzvXKrw5I8"
   },
   "outputs": [],
   "source": [
    "normalized_sample_tokens = remove_stop_words(normalized_sample_tokens)"
   ]
  },
  {
   "cell_type": "code",
   "execution_count": 15,
   "metadata": {
    "colab": {
     "base_uri": "https://localhost:8080/"
    },
    "executionInfo": {
     "elapsed": 3,
     "status": "ok",
     "timestamp": 1664463306840,
     "user": {
      "displayName": "Pavankumar Gurazada",
      "userId": "10690826909418856210"
     },
     "user_tz": -330
    },
    "id": "R8uhHumhw5I8",
    "outputId": "ac467708-ba2b-4109-ea91-680d3bb76ccd"
   },
   "outputs": [
    {
     "data": {
      "text/plain": [
       "['liam',\n",
       " 'neeson',\n",
       " 'never',\n",
       " 'got',\n",
       " 'play',\n",
       " 'james',\n",
       " 'bond',\n",
       " 'getting',\n",
       " 'even',\n",
       " 'violent',\n",
       " 'churning',\n",
       " 'laughably',\n",
       " 'derivative',\n",
       " 'action',\n",
       " 'bruiser']"
      ]
     },
     "execution_count": 15,
     "metadata": {},
     "output_type": "execute_result"
    }
   ],
   "source": [
    "normalized_sample_tokens[0:15]"
   ]
  },
  {
   "cell_type": "markdown",
   "metadata": {
    "id": "zfgPvQKxw5I9"
   },
   "source": [
    "## Step 2: Lemmatization"
   ]
  },
  {
   "cell_type": "markdown",
   "metadata": {
    "id": "6Wek9J15w5I9"
   },
   "source": [
    "Once we have the tokens free of stop words, we then consider lemmatization. This helps bring variations of the words to a common base (i.e., the lemma). "
   ]
  },
  {
   "cell_type": "code",
   "execution_count": 16,
   "metadata": {
    "executionInfo": {
     "elapsed": 438,
     "status": "ok",
     "timestamp": 1664463309727,
     "user": {
      "displayName": "Pavankumar Gurazada",
      "userId": "10690826909418856210"
     },
     "user_tz": -330
    },
    "id": "XrrdpXAHw5I9"
   },
   "outputs": [],
   "source": [
    "lemmatizer = WordNetLemmatizer()"
   ]
  },
  {
   "cell_type": "code",
   "execution_count": 17,
   "metadata": {
    "colab": {
     "base_uri": "https://localhost:8080/"
    },
    "executionInfo": {
     "elapsed": 1500,
     "status": "ok",
     "timestamp": 1664463311224,
     "user": {
      "displayName": "Pavankumar Gurazada",
      "userId": "10690826909418856210"
     },
     "user_tz": -330
    },
    "id": "vr9eOnTRw5I9",
    "outputId": "d2a2dec6-83cf-4c28-951e-48f3a2c89c12"
   },
   "outputs": [
    {
     "name": "stdout",
     "output_type": "stream",
     "text": [
      "liam | liam\n",
      "neeson | neeson\n",
      "never | never\n",
      "got | got\n",
      "play | play\n",
      "james | james\n",
      "bond | bond\n",
      "getting | getting\n",
      "even | even\n",
      "violent | violent\n",
      "churning | churning\n",
      "laughably | laughably\n",
      "derivative | derivative\n",
      "action | action\n",
      "bruiser | bruiser\n"
     ]
    }
   ],
   "source": [
    "for word in normalized_sample_tokens[0:15]:\n",
    "    lemmatized_word = lemmatizer.lemmatize(word)\n",
    "    print(word + ' | ' + lemmatized_word)"
   ]
  },
  {
   "cell_type": "markdown",
   "metadata": {
    "id": "ukYWgpVtw5I9"
   },
   "source": [
    "Detail on [lemmatization and stemming](https://nlp.stanford.edu/IR-book/html/htmledition/stemming-and-lemmatization-1.html#:~:text=Lemmatization%20usually%20refers%20to%20doing,is%20known%20as%20the%20lemma%20.)"
   ]
  },
  {
   "cell_type": "code",
   "execution_count": 18,
   "metadata": {
    "executionInfo": {
     "elapsed": 3,
     "status": "ok",
     "timestamp": 1664463314295,
     "user": {
      "displayName": "Pavankumar Gurazada",
      "userId": "10690826909418856210"
     },
     "user_tz": -330
    },
    "id": "2OURoCKzw5I-"
   },
   "outputs": [],
   "source": [
    "def apply_lemmatization(tokenized_text):\n",
    "    return [lemmatizer.lemmatize(word) for word in tokenized_text]"
   ]
  },
  {
   "cell_type": "code",
   "execution_count": 19,
   "metadata": {
    "colab": {
     "base_uri": "https://localhost:8080/"
    },
    "executionInfo": {
     "elapsed": 3,
     "status": "ok",
     "timestamp": 1664463314296,
     "user": {
      "displayName": "Pavankumar Gurazada",
      "userId": "10690826909418856210"
     },
     "user_tz": -330
    },
    "id": "BbfvzF5_w5I-",
    "outputId": "2a6fbdcd-12e3-498f-9add-91aa8f71d6b8"
   },
   "outputs": [
    {
     "data": {
      "text/plain": [
       "['liam',\n",
       " 'neeson',\n",
       " 'never',\n",
       " 'got',\n",
       " 'play',\n",
       " 'james',\n",
       " 'bond',\n",
       " 'getting',\n",
       " 'even',\n",
       " 'violent',\n",
       " 'churning',\n",
       " 'laughably',\n",
       " 'derivative',\n",
       " 'action',\n",
       " 'bruiser',\n",
       " 'taken',\n",
       " 'suave',\n",
       " 'power',\n",
       " 'knuckled',\n",
       " 'lethal',\n",
       " 'secret',\n",
       " 'agent',\n",
       " 'named',\n",
       " 'bryan',\n",
       " 'mill']"
      ]
     },
     "execution_count": 19,
     "metadata": {},
     "output_type": "execute_result"
    }
   ],
   "source": [
    "apply_lemmatization(normalized_sample_tokens)[0:25]"
   ]
  },
  {
   "cell_type": "markdown",
   "metadata": {
    "id": "ZiwT_K4Mw5I-"
   },
   "source": [
    "# Important - Prevalent Terms"
   ]
  },
  {
   "cell_type": "markdown",
   "metadata": {
    "id": "0M_qIFTrw5I-"
   },
   "source": [
    "Exploratory data analysis on text involves getting a sense of tokens that you feel are important (i.e., they represent the *intent* of the corpus) and are prevalent (i.e., they are abundantly represented in the corpus).\n",
    "\n",
    "This is a qualitative exercise. Judgement of what tokens are *important* rests with the analyst."
   ]
  },
  {
   "cell_type": "markdown",
   "metadata": {
    "id": "WWkm9vT-w5I-"
   },
   "source": [
    "Let us apply all the wrangling steps detailed earlier in this notebook to bring the data to a form where we can arrive at important-prevalent terms."
   ]
  },
  {
   "cell_type": "markdown",
   "metadata": {
    "id": "AadMMTIhw5I_"
   },
   "source": [
    "Note that we are about to execute a specific set of data wrangling steps to generate tokens from input text. Changing one or more of the steps followed at this stage will alter the number and variety of the tokens generated."
   ]
  },
  {
   "cell_type": "code",
   "execution_count": 20,
   "metadata": {
    "executionInfo": {
     "elapsed": 2,
     "status": "ok",
     "timestamp": 1664463318465,
     "user": {
      "displayName": "Pavankumar Gurazada",
      "userId": "10690826909418856210"
     },
     "user_tz": -330
    },
    "id": "O4GLg0CMw5I_"
   },
   "outputs": [],
   "source": [
    "def normalize(input_text):\n",
    "    '''\n",
    "    Normalization involves the following steps:\n",
    "    1. Remove punctuation\n",
    "    2. Lower case all words\n",
    "    3. Remove tags (i.e., HTML tags)\n",
    "    4. Remove all special characters and digits\n",
    "    '''\n",
    "    text = remove_punctuation(input_text)\n",
    "    text = lower_case(text)\n",
    "    text = remove_tags(text)\n",
    "    text = remove_special_chars_and_digits(text)\n",
    "\n",
    "    return text"
   ]
  },
  {
   "cell_type": "code",
   "execution_count": 21,
   "metadata": {
    "executionInfo": {
     "elapsed": 3,
     "status": "ok",
     "timestamp": 1664463319074,
     "user": {
      "displayName": "Pavankumar Gurazada",
      "userId": "10690826909418856210"
     },
     "user_tz": -330
    },
    "id": "0oaMAywAw5I_"
   },
   "outputs": [],
   "source": [
    "def tokenize(text):\n",
    "    '''\n",
    "    Tokenization involves the following steps:\n",
    "    1. Break text down to tokens (i.e., words separated by white spaces)\n",
    "    2. Remove stop words from the tokens generated in step 1\n",
    "    '''\n",
    "    tokens = nltk.word_tokenize(text)\n",
    "    tokenized_text = remove_stop_words(tokens)\n",
    "    \n",
    "    return tokenized_text"
   ]
  },
  {
   "cell_type": "code",
   "execution_count": 22,
   "metadata": {
    "executionInfo": {
     "elapsed": 3,
     "status": "ok",
     "timestamp": 1664463319075,
     "user": {
      "displayName": "Pavankumar Gurazada",
      "userId": "10690826909418856210"
     },
     "user_tz": -330
    },
    "id": "TvqqwOGuw5I_"
   },
   "outputs": [],
   "source": [
    "def lemmatize(tokenized_text, lemmatizer=WordNetLemmatizer()):\n",
    "    '''\n",
    "    Lemmatization is applied to each word in the list of normalized tokens\n",
    "    (stop words are removed)\n",
    "    '''\n",
    "    return [lemmatizer.lemmatize(word) for word in tokenized_text]"
   ]
  },
  {
   "cell_type": "code",
   "execution_count": 23,
   "metadata": {
    "colab": {
     "base_uri": "https://localhost:8080/",
     "height": 354
    },
    "executionInfo": {
     "elapsed": 4,
     "status": "ok",
     "timestamp": 1664463319600,
     "user": {
      "displayName": "Pavankumar Gurazada",
      "userId": "10690826909418856210"
     },
     "user_tz": -330
    },
    "id": "8Sc-U1kCw5I_",
    "outputId": "68baebe6-0581-41db-d65a-8276f1d97f31"
   },
   "outputs": [
    {
     "data": {
      "text/html": [
       "<div>\n",
       "<style scoped>\n",
       "    .dataframe tbody tr th:only-of-type {\n",
       "        vertical-align: middle;\n",
       "    }\n",
       "\n",
       "    .dataframe tbody tr th {\n",
       "        vertical-align: top;\n",
       "    }\n",
       "\n",
       "    .dataframe thead th {\n",
       "        text-align: right;\n",
       "    }\n",
       "</style>\n",
       "<table border=\"1\" class=\"dataframe\">\n",
       "  <thead>\n",
       "    <tr style=\"text-align: right;\">\n",
       "      <th></th>\n",
       "      <th>DSI_Title</th>\n",
       "      <th>Text</th>\n",
       "      <th>Submission File Name</th>\n",
       "      <th>Student Name</th>\n",
       "      <th>Genre of Movie</th>\n",
       "      <th>Review Type (pos or neg)</th>\n",
       "      <th>Movie Title</th>\n",
       "      <th>Descriptor</th>\n",
       "      <th>Doc_ID</th>\n",
       "    </tr>\n",
       "    <tr>\n",
       "      <th>Doc_ID</th>\n",
       "      <th></th>\n",
       "      <th></th>\n",
       "      <th></th>\n",
       "      <th></th>\n",
       "      <th></th>\n",
       "      <th></th>\n",
       "      <th></th>\n",
       "      <th></th>\n",
       "      <th></th>\n",
       "    </tr>\n",
       "  </thead>\n",
       "  <tbody>\n",
       "    <tr>\n",
       "      <th>40</th>\n",
       "      <td>KCM_Doc1_AngelHasFallen</td>\n",
       "      <td>Boredom sets in long before the start of Angel...</td>\n",
       "      <td>KCM_Doc1_AngelHasFallen</td>\n",
       "      <td>KCM</td>\n",
       "      <td>Action</td>\n",
       "      <td>Negative</td>\n",
       "      <td>Angel Has Fallen</td>\n",
       "      <td>Action_Angel Has Fallen_N_40</td>\n",
       "      <td>40</td>\n",
       "    </tr>\n",
       "    <tr>\n",
       "      <th>41</th>\n",
       "      <td>KCM_Doc2_AngelHasFallen</td>\n",
       "      <td>\\nWho ARE all these people?\\n\\nThat was what...</td>\n",
       "      <td>KCM_Doc2_AngelHasFallen</td>\n",
       "      <td>KCM</td>\n",
       "      <td>Action</td>\n",
       "      <td>Negative</td>\n",
       "      <td>Angel Has Fallen</td>\n",
       "      <td>Action_Angel Has Fallen_N_41</td>\n",
       "      <td>41</td>\n",
       "    </tr>\n",
       "    <tr>\n",
       "      <th>42</th>\n",
       "      <td>KCM_Doc3_AngelHasFallen</td>\n",
       "      <td>Ric Roman Waughs Angel Has Fallen sees U.S. S...</td>\n",
       "      <td>KCM_Doc3_AngelHasFallen</td>\n",
       "      <td>KCM</td>\n",
       "      <td>Action</td>\n",
       "      <td>Negative</td>\n",
       "      <td>Angel Has Fallen</td>\n",
       "      <td>Action_Angel Has Fallen_N_42</td>\n",
       "      <td>42</td>\n",
       "    </tr>\n",
       "    <tr>\n",
       "      <th>43</th>\n",
       "      <td>KCM_Doc4_AngelHasFallen</td>\n",
       "      <td>There is a certain mindless pleasure in the Fa...</td>\n",
       "      <td>KCM_Doc4_AngelHasFallen</td>\n",
       "      <td>KCM</td>\n",
       "      <td>Action</td>\n",
       "      <td>Negative</td>\n",
       "      <td>Angel Has Fallen</td>\n",
       "      <td>Action_Angel Has Fallen_N_43</td>\n",
       "      <td>43</td>\n",
       "    </tr>\n",
       "    <tr>\n",
       "      <th>44</th>\n",
       "      <td>KCM_Doc5_AngelHasFallen</td>\n",
       "      <td>No, you dont need to have seen Olympus Has F...</td>\n",
       "      <td>KCM_Doc5_AngelHasFallen</td>\n",
       "      <td>KCM</td>\n",
       "      <td>Action</td>\n",
       "      <td>Negative</td>\n",
       "      <td>Angel Has Fallen</td>\n",
       "      <td>Action_Angel Has Fallen_N_44</td>\n",
       "      <td>44</td>\n",
       "    </tr>\n",
       "  </tbody>\n",
       "</table>\n",
       "</div>"
      ],
      "text/plain": [
       "                      DSI_Title  \\\n",
       "Doc_ID                            \n",
       "40      KCM_Doc1_AngelHasFallen   \n",
       "41      KCM_Doc2_AngelHasFallen   \n",
       "42      KCM_Doc3_AngelHasFallen   \n",
       "43      KCM_Doc4_AngelHasFallen   \n",
       "44      KCM_Doc5_AngelHasFallen   \n",
       "\n",
       "                                                     Text  \\\n",
       "Doc_ID                                                      \n",
       "40      Boredom sets in long before the start of Angel...   \n",
       "41      \\nWho ARE all these people?\\n\\nThat was what...   \n",
       "42      Ric Roman Waughs Angel Has Fallen sees U.S. S...   \n",
       "43      There is a certain mindless pleasure in the Fa...   \n",
       "44      No, you dont need to have seen Olympus Has F...   \n",
       "\n",
       "           Submission File Name Student Name Genre of Movie  \\\n",
       "Doc_ID                                                        \n",
       "40      KCM_Doc1_AngelHasFallen          KCM         Action   \n",
       "41      KCM_Doc2_AngelHasFallen          KCM         Action   \n",
       "42      KCM_Doc3_AngelHasFallen          KCM         Action   \n",
       "43      KCM_Doc4_AngelHasFallen          KCM         Action   \n",
       "44      KCM_Doc5_AngelHasFallen          KCM         Action   \n",
       "\n",
       "       Review Type (pos or neg)       Movie Title  \\\n",
       "Doc_ID                                              \n",
       "40                     Negative  Angel Has Fallen   \n",
       "41                     Negative  Angel Has Fallen   \n",
       "42                     Negative  Angel Has Fallen   \n",
       "43                     Negative  Angel Has Fallen   \n",
       "44                     Negative  Angel Has Fallen   \n",
       "\n",
       "                          Descriptor  Doc_ID  \n",
       "Doc_ID                                        \n",
       "40      Action_Angel Has Fallen_N_40      40  \n",
       "41      Action_Angel Has Fallen_N_41      41  \n",
       "42      Action_Angel Has Fallen_N_42      42  \n",
       "43      Action_Angel Has Fallen_N_43      43  \n",
       "44      Action_Angel Has Fallen_N_44      44  "
      ]
     },
     "execution_count": 23,
     "metadata": {},
     "output_type": "execute_result"
    }
   ],
   "source": [
    "class_corpus.head()"
   ]
  },
  {
   "cell_type": "code",
   "execution_count": 24,
   "metadata": {
    "executionInfo": {
     "elapsed": 469,
     "status": "ok",
     "timestamp": 1664463329742,
     "user": {
      "displayName": "Pavankumar Gurazada",
      "userId": "10690826909418856210"
     },
     "user_tz": -330
    },
    "id": "w4Ub06I6w5JA"
   },
   "outputs": [],
   "source": [
    "class_corpus['normalized_review'] = class_corpus['Text'].apply(normalize)"
   ]
  },
  {
   "cell_type": "code",
   "execution_count": 25,
   "metadata": {
    "colab": {
     "base_uri": "https://localhost:8080/",
     "height": 441
    },
    "executionInfo": {
     "elapsed": 4,
     "status": "ok",
     "timestamp": 1664463332253,
     "user": {
      "displayName": "Pavankumar Gurazada",
      "userId": "10690826909418856210"
     },
     "user_tz": -330
    },
    "id": "_jRDXfzJw5JA",
    "outputId": "a38c9ba3-ce83-4024-9f81-726d112e3dfd"
   },
   "outputs": [
    {
     "data": {
      "text/html": [
       "<div>\n",
       "<style scoped>\n",
       "    .dataframe tbody tr th:only-of-type {\n",
       "        vertical-align: middle;\n",
       "    }\n",
       "\n",
       "    .dataframe tbody tr th {\n",
       "        vertical-align: top;\n",
       "    }\n",
       "\n",
       "    .dataframe thead th {\n",
       "        text-align: right;\n",
       "    }\n",
       "</style>\n",
       "<table border=\"1\" class=\"dataframe\">\n",
       "  <thead>\n",
       "    <tr style=\"text-align: right;\">\n",
       "      <th></th>\n",
       "      <th>DSI_Title</th>\n",
       "      <th>Text</th>\n",
       "      <th>Submission File Name</th>\n",
       "      <th>Student Name</th>\n",
       "      <th>Genre of Movie</th>\n",
       "      <th>Review Type (pos or neg)</th>\n",
       "      <th>Movie Title</th>\n",
       "      <th>Descriptor</th>\n",
       "      <th>Doc_ID</th>\n",
       "      <th>normalized_review</th>\n",
       "    </tr>\n",
       "    <tr>\n",
       "      <th>Doc_ID</th>\n",
       "      <th></th>\n",
       "      <th></th>\n",
       "      <th></th>\n",
       "      <th></th>\n",
       "      <th></th>\n",
       "      <th></th>\n",
       "      <th></th>\n",
       "      <th></th>\n",
       "      <th></th>\n",
       "      <th></th>\n",
       "    </tr>\n",
       "  </thead>\n",
       "  <tbody>\n",
       "    <tr>\n",
       "      <th>40</th>\n",
       "      <td>KCM_Doc1_AngelHasFallen</td>\n",
       "      <td>Boredom sets in long before the start of Angel...</td>\n",
       "      <td>KCM_Doc1_AngelHasFallen</td>\n",
       "      <td>KCM</td>\n",
       "      <td>Action</td>\n",
       "      <td>Negative</td>\n",
       "      <td>Angel Has Fallen</td>\n",
       "      <td>Action_Angel Has Fallen_N_40</td>\n",
       "      <td>40</td>\n",
       "      <td>boredom sets in long before the start of angel...</td>\n",
       "    </tr>\n",
       "    <tr>\n",
       "      <th>41</th>\n",
       "      <td>KCM_Doc2_AngelHasFallen</td>\n",
       "      <td>\\nWho ARE all these people?\\n\\nThat was what...</td>\n",
       "      <td>KCM_Doc2_AngelHasFallen</td>\n",
       "      <td>KCM</td>\n",
       "      <td>Action</td>\n",
       "      <td>Negative</td>\n",
       "      <td>Angel Has Fallen</td>\n",
       "      <td>Action_Angel Has Fallen_N_41</td>\n",
       "      <td>41</td>\n",
       "      <td>who are all these people that was what i mutt...</td>\n",
       "    </tr>\n",
       "    <tr>\n",
       "      <th>42</th>\n",
       "      <td>KCM_Doc3_AngelHasFallen</td>\n",
       "      <td>Ric Roman Waughs Angel Has Fallen sees U.S. S...</td>\n",
       "      <td>KCM_Doc3_AngelHasFallen</td>\n",
       "      <td>KCM</td>\n",
       "      <td>Action</td>\n",
       "      <td>Negative</td>\n",
       "      <td>Angel Has Fallen</td>\n",
       "      <td>Action_Angel Has Fallen_N_42</td>\n",
       "      <td>42</td>\n",
       "      <td>ric roman waugh s angel has fallen sees u s se...</td>\n",
       "    </tr>\n",
       "    <tr>\n",
       "      <th>43</th>\n",
       "      <td>KCM_Doc4_AngelHasFallen</td>\n",
       "      <td>There is a certain mindless pleasure in the Fa...</td>\n",
       "      <td>KCM_Doc4_AngelHasFallen</td>\n",
       "      <td>KCM</td>\n",
       "      <td>Action</td>\n",
       "      <td>Negative</td>\n",
       "      <td>Angel Has Fallen</td>\n",
       "      <td>Action_Angel Has Fallen_N_43</td>\n",
       "      <td>43</td>\n",
       "      <td>there is a certain mindless pleasure in the fa...</td>\n",
       "    </tr>\n",
       "    <tr>\n",
       "      <th>44</th>\n",
       "      <td>KCM_Doc5_AngelHasFallen</td>\n",
       "      <td>No, you dont need to have seen Olympus Has F...</td>\n",
       "      <td>KCM_Doc5_AngelHasFallen</td>\n",
       "      <td>KCM</td>\n",
       "      <td>Action</td>\n",
       "      <td>Negative</td>\n",
       "      <td>Angel Has Fallen</td>\n",
       "      <td>Action_Angel Has Fallen_N_44</td>\n",
       "      <td>44</td>\n",
       "      <td>no you don t need to have seen olympus has fal...</td>\n",
       "    </tr>\n",
       "  </tbody>\n",
       "</table>\n",
       "</div>"
      ],
      "text/plain": [
       "                      DSI_Title  \\\n",
       "Doc_ID                            \n",
       "40      KCM_Doc1_AngelHasFallen   \n",
       "41      KCM_Doc2_AngelHasFallen   \n",
       "42      KCM_Doc3_AngelHasFallen   \n",
       "43      KCM_Doc4_AngelHasFallen   \n",
       "44      KCM_Doc5_AngelHasFallen   \n",
       "\n",
       "                                                     Text  \\\n",
       "Doc_ID                                                      \n",
       "40      Boredom sets in long before the start of Angel...   \n",
       "41      \\nWho ARE all these people?\\n\\nThat was what...   \n",
       "42      Ric Roman Waughs Angel Has Fallen sees U.S. S...   \n",
       "43      There is a certain mindless pleasure in the Fa...   \n",
       "44      No, you dont need to have seen Olympus Has F...   \n",
       "\n",
       "           Submission File Name Student Name Genre of Movie  \\\n",
       "Doc_ID                                                        \n",
       "40      KCM_Doc1_AngelHasFallen          KCM         Action   \n",
       "41      KCM_Doc2_AngelHasFallen          KCM         Action   \n",
       "42      KCM_Doc3_AngelHasFallen          KCM         Action   \n",
       "43      KCM_Doc4_AngelHasFallen          KCM         Action   \n",
       "44      KCM_Doc5_AngelHasFallen          KCM         Action   \n",
       "\n",
       "       Review Type (pos or neg)       Movie Title  \\\n",
       "Doc_ID                                              \n",
       "40                     Negative  Angel Has Fallen   \n",
       "41                     Negative  Angel Has Fallen   \n",
       "42                     Negative  Angel Has Fallen   \n",
       "43                     Negative  Angel Has Fallen   \n",
       "44                     Negative  Angel Has Fallen   \n",
       "\n",
       "                          Descriptor  Doc_ID  \\\n",
       "Doc_ID                                         \n",
       "40      Action_Angel Has Fallen_N_40      40   \n",
       "41      Action_Angel Has Fallen_N_41      41   \n",
       "42      Action_Angel Has Fallen_N_42      42   \n",
       "43      Action_Angel Has Fallen_N_43      43   \n",
       "44      Action_Angel Has Fallen_N_44      44   \n",
       "\n",
       "                                        normalized_review  \n",
       "Doc_ID                                                     \n",
       "40      boredom sets in long before the start of angel...  \n",
       "41       who are all these people that was what i mutt...  \n",
       "42      ric roman waugh s angel has fallen sees u s se...  \n",
       "43      there is a certain mindless pleasure in the fa...  \n",
       "44      no you don t need to have seen olympus has fal...  "
      ]
     },
     "execution_count": 25,
     "metadata": {},
     "output_type": "execute_result"
    }
   ],
   "source": [
    "class_corpus.head()"
   ]
  },
  {
   "cell_type": "code",
   "execution_count": 26,
   "metadata": {
    "executionInfo": {
     "elapsed": 3,
     "status": "ok",
     "timestamp": 1664463332889,
     "user": {
      "displayName": "Pavankumar Gurazada",
      "userId": "10690826909418856210"
     },
     "user_tz": -330
    },
    "id": "P6MGCl5gw5JA"
   },
   "outputs": [],
   "source": [
    "class_corpus['tokenized_review'] = class_corpus['normalized_review'].apply(tokenize)"
   ]
  },
  {
   "cell_type": "code",
   "execution_count": 27,
   "metadata": {
    "colab": {
     "base_uri": "https://localhost:8080/",
     "height": 563
    },
    "executionInfo": {
     "elapsed": 5,
     "status": "ok",
     "timestamp": 1664463333898,
     "user": {
      "displayName": "Pavankumar Gurazada",
      "userId": "10690826909418856210"
     },
     "user_tz": -330
    },
    "id": "vRjCEkc2w5JB",
    "outputId": "6bc154ef-53de-48c2-8c7c-511f17d76f31"
   },
   "outputs": [
    {
     "data": {
      "text/html": [
       "<div>\n",
       "<style scoped>\n",
       "    .dataframe tbody tr th:only-of-type {\n",
       "        vertical-align: middle;\n",
       "    }\n",
       "\n",
       "    .dataframe tbody tr th {\n",
       "        vertical-align: top;\n",
       "    }\n",
       "\n",
       "    .dataframe thead th {\n",
       "        text-align: right;\n",
       "    }\n",
       "</style>\n",
       "<table border=\"1\" class=\"dataframe\">\n",
       "  <thead>\n",
       "    <tr style=\"text-align: right;\">\n",
       "      <th></th>\n",
       "      <th>DSI_Title</th>\n",
       "      <th>Text</th>\n",
       "      <th>Submission File Name</th>\n",
       "      <th>Student Name</th>\n",
       "      <th>Genre of Movie</th>\n",
       "      <th>Review Type (pos or neg)</th>\n",
       "      <th>Movie Title</th>\n",
       "      <th>Descriptor</th>\n",
       "      <th>Doc_ID</th>\n",
       "      <th>normalized_review</th>\n",
       "      <th>tokenized_review</th>\n",
       "    </tr>\n",
       "    <tr>\n",
       "      <th>Doc_ID</th>\n",
       "      <th></th>\n",
       "      <th></th>\n",
       "      <th></th>\n",
       "      <th></th>\n",
       "      <th></th>\n",
       "      <th></th>\n",
       "      <th></th>\n",
       "      <th></th>\n",
       "      <th></th>\n",
       "      <th></th>\n",
       "      <th></th>\n",
       "    </tr>\n",
       "  </thead>\n",
       "  <tbody>\n",
       "    <tr>\n",
       "      <th>40</th>\n",
       "      <td>KCM_Doc1_AngelHasFallen</td>\n",
       "      <td>Boredom sets in long before the start of Angel...</td>\n",
       "      <td>KCM_Doc1_AngelHasFallen</td>\n",
       "      <td>KCM</td>\n",
       "      <td>Action</td>\n",
       "      <td>Negative</td>\n",
       "      <td>Angel Has Fallen</td>\n",
       "      <td>Action_Angel Has Fallen_N_40</td>\n",
       "      <td>40</td>\n",
       "      <td>boredom sets in long before the start of angel...</td>\n",
       "      <td>[boredom, sets, long, start, angel, fallen, st...</td>\n",
       "    </tr>\n",
       "    <tr>\n",
       "      <th>41</th>\n",
       "      <td>KCM_Doc2_AngelHasFallen</td>\n",
       "      <td>\\nWho ARE all these people?\\n\\nThat was what...</td>\n",
       "      <td>KCM_Doc2_AngelHasFallen</td>\n",
       "      <td>KCM</td>\n",
       "      <td>Action</td>\n",
       "      <td>Negative</td>\n",
       "      <td>Angel Has Fallen</td>\n",
       "      <td>Action_Angel Has Fallen_N_41</td>\n",
       "      <td>41</td>\n",
       "      <td>who are all these people that was what i mutt...</td>\n",
       "      <td>[people, muttered, entered, first, screening, ...</td>\n",
       "    </tr>\n",
       "    <tr>\n",
       "      <th>42</th>\n",
       "      <td>KCM_Doc3_AngelHasFallen</td>\n",
       "      <td>Ric Roman Waughs Angel Has Fallen sees U.S. S...</td>\n",
       "      <td>KCM_Doc3_AngelHasFallen</td>\n",
       "      <td>KCM</td>\n",
       "      <td>Action</td>\n",
       "      <td>Negative</td>\n",
       "      <td>Angel Has Fallen</td>\n",
       "      <td>Action_Angel Has Fallen_N_42</td>\n",
       "      <td>42</td>\n",
       "      <td>ric roman waugh s angel has fallen sees u s se...</td>\n",
       "      <td>[ric, roman, waugh, angel, fallen, sees, u, se...</td>\n",
       "    </tr>\n",
       "    <tr>\n",
       "      <th>43</th>\n",
       "      <td>KCM_Doc4_AngelHasFallen</td>\n",
       "      <td>There is a certain mindless pleasure in the Fa...</td>\n",
       "      <td>KCM_Doc4_AngelHasFallen</td>\n",
       "      <td>KCM</td>\n",
       "      <td>Action</td>\n",
       "      <td>Negative</td>\n",
       "      <td>Angel Has Fallen</td>\n",
       "      <td>Action_Angel Has Fallen_N_43</td>\n",
       "      <td>43</td>\n",
       "      <td>there is a certain mindless pleasure in the fa...</td>\n",
       "      <td>[certain, mindless, pleasure, fallen, movies, ...</td>\n",
       "    </tr>\n",
       "    <tr>\n",
       "      <th>44</th>\n",
       "      <td>KCM_Doc5_AngelHasFallen</td>\n",
       "      <td>No, you dont need to have seen Olympus Has F...</td>\n",
       "      <td>KCM_Doc5_AngelHasFallen</td>\n",
       "      <td>KCM</td>\n",
       "      <td>Action</td>\n",
       "      <td>Negative</td>\n",
       "      <td>Angel Has Fallen</td>\n",
       "      <td>Action_Angel Has Fallen_N_44</td>\n",
       "      <td>44</td>\n",
       "      <td>no you don t need to have seen olympus has fal...</td>\n",
       "      <td>[need, seen, olympus, fallen, london, fallen, ...</td>\n",
       "    </tr>\n",
       "  </tbody>\n",
       "</table>\n",
       "</div>"
      ],
      "text/plain": [
       "                      DSI_Title  \\\n",
       "Doc_ID                            \n",
       "40      KCM_Doc1_AngelHasFallen   \n",
       "41      KCM_Doc2_AngelHasFallen   \n",
       "42      KCM_Doc3_AngelHasFallen   \n",
       "43      KCM_Doc4_AngelHasFallen   \n",
       "44      KCM_Doc5_AngelHasFallen   \n",
       "\n",
       "                                                     Text  \\\n",
       "Doc_ID                                                      \n",
       "40      Boredom sets in long before the start of Angel...   \n",
       "41      \\nWho ARE all these people?\\n\\nThat was what...   \n",
       "42      Ric Roman Waughs Angel Has Fallen sees U.S. S...   \n",
       "43      There is a certain mindless pleasure in the Fa...   \n",
       "44      No, you dont need to have seen Olympus Has F...   \n",
       "\n",
       "           Submission File Name Student Name Genre of Movie  \\\n",
       "Doc_ID                                                        \n",
       "40      KCM_Doc1_AngelHasFallen          KCM         Action   \n",
       "41      KCM_Doc2_AngelHasFallen          KCM         Action   \n",
       "42      KCM_Doc3_AngelHasFallen          KCM         Action   \n",
       "43      KCM_Doc4_AngelHasFallen          KCM         Action   \n",
       "44      KCM_Doc5_AngelHasFallen          KCM         Action   \n",
       "\n",
       "       Review Type (pos or neg)       Movie Title  \\\n",
       "Doc_ID                                              \n",
       "40                     Negative  Angel Has Fallen   \n",
       "41                     Negative  Angel Has Fallen   \n",
       "42                     Negative  Angel Has Fallen   \n",
       "43                     Negative  Angel Has Fallen   \n",
       "44                     Negative  Angel Has Fallen   \n",
       "\n",
       "                          Descriptor  Doc_ID  \\\n",
       "Doc_ID                                         \n",
       "40      Action_Angel Has Fallen_N_40      40   \n",
       "41      Action_Angel Has Fallen_N_41      41   \n",
       "42      Action_Angel Has Fallen_N_42      42   \n",
       "43      Action_Angel Has Fallen_N_43      43   \n",
       "44      Action_Angel Has Fallen_N_44      44   \n",
       "\n",
       "                                        normalized_review  \\\n",
       "Doc_ID                                                      \n",
       "40      boredom sets in long before the start of angel...   \n",
       "41       who are all these people that was what i mutt...   \n",
       "42      ric roman waugh s angel has fallen sees u s se...   \n",
       "43      there is a certain mindless pleasure in the fa...   \n",
       "44      no you don t need to have seen olympus has fal...   \n",
       "\n",
       "                                         tokenized_review  \n",
       "Doc_ID                                                     \n",
       "40      [boredom, sets, long, start, angel, fallen, st...  \n",
       "41      [people, muttered, entered, first, screening, ...  \n",
       "42      [ric, roman, waugh, angel, fallen, sees, u, se...  \n",
       "43      [certain, mindless, pleasure, fallen, movies, ...  \n",
       "44      [need, seen, olympus, fallen, london, fallen, ...  "
      ]
     },
     "execution_count": 27,
     "metadata": {},
     "output_type": "execute_result"
    }
   ],
   "source": [
    "class_corpus.head()"
   ]
  },
  {
   "cell_type": "code",
   "execution_count": 28,
   "metadata": {
    "executionInfo": {
     "elapsed": 581,
     "status": "ok",
     "timestamp": 1664463335947,
     "user": {
      "displayName": "Pavankumar Gurazada",
      "userId": "10690826909418856210"
     },
     "user_tz": -330
    },
    "id": "qLhi3bvjw5JB"
   },
   "outputs": [],
   "source": [
    "class_corpus['lemmatized_tokens'] = class_corpus['tokenized_review'].apply(lemmatize)"
   ]
  },
  {
   "cell_type": "code",
   "execution_count": 29,
   "metadata": {
    "colab": {
     "base_uri": "https://localhost:8080/",
     "height": 687
    },
    "executionInfo": {
     "elapsed": 619,
     "status": "ok",
     "timestamp": 1664463338209,
     "user": {
      "displayName": "Pavankumar Gurazada",
      "userId": "10690826909418856210"
     },
     "user_tz": -330
    },
    "id": "87HUmbNKw5JB",
    "outputId": "179d4b8c-a8b1-4394-a55e-306e3af34a4f"
   },
   "outputs": [
    {
     "data": {
      "text/html": [
       "<div>\n",
       "<style scoped>\n",
       "    .dataframe tbody tr th:only-of-type {\n",
       "        vertical-align: middle;\n",
       "    }\n",
       "\n",
       "    .dataframe tbody tr th {\n",
       "        vertical-align: top;\n",
       "    }\n",
       "\n",
       "    .dataframe thead th {\n",
       "        text-align: right;\n",
       "    }\n",
       "</style>\n",
       "<table border=\"1\" class=\"dataframe\">\n",
       "  <thead>\n",
       "    <tr style=\"text-align: right;\">\n",
       "      <th></th>\n",
       "      <th>DSI_Title</th>\n",
       "      <th>Text</th>\n",
       "      <th>Submission File Name</th>\n",
       "      <th>Student Name</th>\n",
       "      <th>Genre of Movie</th>\n",
       "      <th>Review Type (pos or neg)</th>\n",
       "      <th>Movie Title</th>\n",
       "      <th>Descriptor</th>\n",
       "      <th>Doc_ID</th>\n",
       "      <th>normalized_review</th>\n",
       "      <th>tokenized_review</th>\n",
       "      <th>lemmatized_tokens</th>\n",
       "    </tr>\n",
       "    <tr>\n",
       "      <th>Doc_ID</th>\n",
       "      <th></th>\n",
       "      <th></th>\n",
       "      <th></th>\n",
       "      <th></th>\n",
       "      <th></th>\n",
       "      <th></th>\n",
       "      <th></th>\n",
       "      <th></th>\n",
       "      <th></th>\n",
       "      <th></th>\n",
       "      <th></th>\n",
       "      <th></th>\n",
       "    </tr>\n",
       "  </thead>\n",
       "  <tbody>\n",
       "    <tr>\n",
       "      <th>40</th>\n",
       "      <td>KCM_Doc1_AngelHasFallen</td>\n",
       "      <td>Boredom sets in long before the start of Angel...</td>\n",
       "      <td>KCM_Doc1_AngelHasFallen</td>\n",
       "      <td>KCM</td>\n",
       "      <td>Action</td>\n",
       "      <td>Negative</td>\n",
       "      <td>Angel Has Fallen</td>\n",
       "      <td>Action_Angel Has Fallen_N_40</td>\n",
       "      <td>40</td>\n",
       "      <td>boredom sets in long before the start of angel...</td>\n",
       "      <td>[boredom, sets, long, start, angel, fallen, st...</td>\n",
       "      <td>[boredom, set, long, start, angel, fallen, sta...</td>\n",
       "    </tr>\n",
       "    <tr>\n",
       "      <th>41</th>\n",
       "      <td>KCM_Doc2_AngelHasFallen</td>\n",
       "      <td>\\nWho ARE all these people?\\n\\nThat was what...</td>\n",
       "      <td>KCM_Doc2_AngelHasFallen</td>\n",
       "      <td>KCM</td>\n",
       "      <td>Action</td>\n",
       "      <td>Negative</td>\n",
       "      <td>Angel Has Fallen</td>\n",
       "      <td>Action_Angel Has Fallen_N_41</td>\n",
       "      <td>41</td>\n",
       "      <td>who are all these people that was what i mutt...</td>\n",
       "      <td>[people, muttered, entered, first, screening, ...</td>\n",
       "      <td>[people, muttered, entered, first, screening, ...</td>\n",
       "    </tr>\n",
       "    <tr>\n",
       "      <th>42</th>\n",
       "      <td>KCM_Doc3_AngelHasFallen</td>\n",
       "      <td>Ric Roman Waughs Angel Has Fallen sees U.S. S...</td>\n",
       "      <td>KCM_Doc3_AngelHasFallen</td>\n",
       "      <td>KCM</td>\n",
       "      <td>Action</td>\n",
       "      <td>Negative</td>\n",
       "      <td>Angel Has Fallen</td>\n",
       "      <td>Action_Angel Has Fallen_N_42</td>\n",
       "      <td>42</td>\n",
       "      <td>ric roman waugh s angel has fallen sees u s se...</td>\n",
       "      <td>[ric, roman, waugh, angel, fallen, sees, u, se...</td>\n",
       "      <td>[ric, roman, waugh, angel, fallen, see, u, sec...</td>\n",
       "    </tr>\n",
       "    <tr>\n",
       "      <th>43</th>\n",
       "      <td>KCM_Doc4_AngelHasFallen</td>\n",
       "      <td>There is a certain mindless pleasure in the Fa...</td>\n",
       "      <td>KCM_Doc4_AngelHasFallen</td>\n",
       "      <td>KCM</td>\n",
       "      <td>Action</td>\n",
       "      <td>Negative</td>\n",
       "      <td>Angel Has Fallen</td>\n",
       "      <td>Action_Angel Has Fallen_N_43</td>\n",
       "      <td>43</td>\n",
       "      <td>there is a certain mindless pleasure in the fa...</td>\n",
       "      <td>[certain, mindless, pleasure, fallen, movies, ...</td>\n",
       "      <td>[certain, mindless, pleasure, fallen, movie, w...</td>\n",
       "    </tr>\n",
       "    <tr>\n",
       "      <th>44</th>\n",
       "      <td>KCM_Doc5_AngelHasFallen</td>\n",
       "      <td>No, you dont need to have seen Olympus Has F...</td>\n",
       "      <td>KCM_Doc5_AngelHasFallen</td>\n",
       "      <td>KCM</td>\n",
       "      <td>Action</td>\n",
       "      <td>Negative</td>\n",
       "      <td>Angel Has Fallen</td>\n",
       "      <td>Action_Angel Has Fallen_N_44</td>\n",
       "      <td>44</td>\n",
       "      <td>no you don t need to have seen olympus has fal...</td>\n",
       "      <td>[need, seen, olympus, fallen, london, fallen, ...</td>\n",
       "      <td>[need, seen, olympus, fallen, london, fallen, ...</td>\n",
       "    </tr>\n",
       "  </tbody>\n",
       "</table>\n",
       "</div>"
      ],
      "text/plain": [
       "                      DSI_Title  \\\n",
       "Doc_ID                            \n",
       "40      KCM_Doc1_AngelHasFallen   \n",
       "41      KCM_Doc2_AngelHasFallen   \n",
       "42      KCM_Doc3_AngelHasFallen   \n",
       "43      KCM_Doc4_AngelHasFallen   \n",
       "44      KCM_Doc5_AngelHasFallen   \n",
       "\n",
       "                                                     Text  \\\n",
       "Doc_ID                                                      \n",
       "40      Boredom sets in long before the start of Angel...   \n",
       "41      \\nWho ARE all these people?\\n\\nThat was what...   \n",
       "42      Ric Roman Waughs Angel Has Fallen sees U.S. S...   \n",
       "43      There is a certain mindless pleasure in the Fa...   \n",
       "44      No, you dont need to have seen Olympus Has F...   \n",
       "\n",
       "           Submission File Name Student Name Genre of Movie  \\\n",
       "Doc_ID                                                        \n",
       "40      KCM_Doc1_AngelHasFallen          KCM         Action   \n",
       "41      KCM_Doc2_AngelHasFallen          KCM         Action   \n",
       "42      KCM_Doc3_AngelHasFallen          KCM         Action   \n",
       "43      KCM_Doc4_AngelHasFallen          KCM         Action   \n",
       "44      KCM_Doc5_AngelHasFallen          KCM         Action   \n",
       "\n",
       "       Review Type (pos or neg)       Movie Title  \\\n",
       "Doc_ID                                              \n",
       "40                     Negative  Angel Has Fallen   \n",
       "41                     Negative  Angel Has Fallen   \n",
       "42                     Negative  Angel Has Fallen   \n",
       "43                     Negative  Angel Has Fallen   \n",
       "44                     Negative  Angel Has Fallen   \n",
       "\n",
       "                          Descriptor  Doc_ID  \\\n",
       "Doc_ID                                         \n",
       "40      Action_Angel Has Fallen_N_40      40   \n",
       "41      Action_Angel Has Fallen_N_41      41   \n",
       "42      Action_Angel Has Fallen_N_42      42   \n",
       "43      Action_Angel Has Fallen_N_43      43   \n",
       "44      Action_Angel Has Fallen_N_44      44   \n",
       "\n",
       "                                        normalized_review  \\\n",
       "Doc_ID                                                      \n",
       "40      boredom sets in long before the start of angel...   \n",
       "41       who are all these people that was what i mutt...   \n",
       "42      ric roman waugh s angel has fallen sees u s se...   \n",
       "43      there is a certain mindless pleasure in the fa...   \n",
       "44      no you don t need to have seen olympus has fal...   \n",
       "\n",
       "                                         tokenized_review  \\\n",
       "Doc_ID                                                      \n",
       "40      [boredom, sets, long, start, angel, fallen, st...   \n",
       "41      [people, muttered, entered, first, screening, ...   \n",
       "42      [ric, roman, waugh, angel, fallen, sees, u, se...   \n",
       "43      [certain, mindless, pleasure, fallen, movies, ...   \n",
       "44      [need, seen, olympus, fallen, london, fallen, ...   \n",
       "\n",
       "                                        lemmatized_tokens  \n",
       "Doc_ID                                                     \n",
       "40      [boredom, set, long, start, angel, fallen, sta...  \n",
       "41      [people, muttered, entered, first, screening, ...  \n",
       "42      [ric, roman, waugh, angel, fallen, see, u, sec...  \n",
       "43      [certain, mindless, pleasure, fallen, movie, w...  \n",
       "44      [need, seen, olympus, fallen, london, fallen, ...  "
      ]
     },
     "execution_count": 29,
     "metadata": {},
     "output_type": "execute_result"
    }
   ],
   "source": [
    "class_corpus.head()"
   ]
  },
  {
   "cell_type": "markdown",
   "metadata": {
    "id": "BhQHYiQ5w5JB"
   },
   "source": [
    "To count the occurrences of each token across the corpus we use the [CountVectorizer](https://scikit-learn.org/stable/modules/generated/sklearn.feature_extraction.text.CountVectorizer.html) from scikit-learn."
   ]
  },
  {
   "cell_type": "markdown",
   "metadata": {
    "id": "G8iVfCKrw5JC"
   },
   "source": [
    "To be able to use the count vectorizer, we need the corpus to be a list of sentences. Let us apply this to the lemmatized review column in the class corpus."
   ]
  },
  {
   "cell_type": "code",
   "execution_count": 30,
   "metadata": {
    "executionInfo": {
     "elapsed": 422,
     "status": "ok",
     "timestamp": 1664463340917,
     "user": {
      "displayName": "Pavankumar Gurazada",
      "userId": "10690826909418856210"
     },
     "user_tz": -330
    },
    "id": "JWtOVSQPw5JC"
   },
   "outputs": [],
   "source": [
    "def join_tokens(lemmatized_tokens):\n",
    "    return ' '.join(lemmatized_tokens)"
   ]
  },
  {
   "cell_type": "code",
   "execution_count": 31,
   "metadata": {
    "executionInfo": {
     "elapsed": 2,
     "status": "ok",
     "timestamp": 1664463341693,
     "user": {
      "displayName": "Pavankumar Gurazada",
      "userId": "10690826909418856210"
     },
     "user_tz": -330
    },
    "id": "aihXcpE2w5JC"
   },
   "outputs": [],
   "source": [
    "class_corpus['lemmatized_text'] = class_corpus['lemmatized_tokens'].apply(join_tokens)"
   ]
  },
  {
   "cell_type": "code",
   "execution_count": 32,
   "metadata": {
    "colab": {
     "base_uri": "https://localhost:8080/",
     "height": 687
    },
    "executionInfo": {
     "elapsed": 4,
     "status": "ok",
     "timestamp": 1664463342309,
     "user": {
      "displayName": "Pavankumar Gurazada",
      "userId": "10690826909418856210"
     },
     "user_tz": -330
    },
    "id": "p00gmM6Hw5JC",
    "outputId": "f59bfb59-dd45-4cd1-8db9-75c8f2d59f5b"
   },
   "outputs": [
    {
     "data": {
      "text/html": [
       "<div>\n",
       "<style scoped>\n",
       "    .dataframe tbody tr th:only-of-type {\n",
       "        vertical-align: middle;\n",
       "    }\n",
       "\n",
       "    .dataframe tbody tr th {\n",
       "        vertical-align: top;\n",
       "    }\n",
       "\n",
       "    .dataframe thead th {\n",
       "        text-align: right;\n",
       "    }\n",
       "</style>\n",
       "<table border=\"1\" class=\"dataframe\">\n",
       "  <thead>\n",
       "    <tr style=\"text-align: right;\">\n",
       "      <th></th>\n",
       "      <th>DSI_Title</th>\n",
       "      <th>Text</th>\n",
       "      <th>Submission File Name</th>\n",
       "      <th>Student Name</th>\n",
       "      <th>Genre of Movie</th>\n",
       "      <th>Review Type (pos or neg)</th>\n",
       "      <th>Movie Title</th>\n",
       "      <th>Descriptor</th>\n",
       "      <th>Doc_ID</th>\n",
       "      <th>normalized_review</th>\n",
       "      <th>tokenized_review</th>\n",
       "      <th>lemmatized_tokens</th>\n",
       "      <th>lemmatized_text</th>\n",
       "    </tr>\n",
       "    <tr>\n",
       "      <th>Doc_ID</th>\n",
       "      <th></th>\n",
       "      <th></th>\n",
       "      <th></th>\n",
       "      <th></th>\n",
       "      <th></th>\n",
       "      <th></th>\n",
       "      <th></th>\n",
       "      <th></th>\n",
       "      <th></th>\n",
       "      <th></th>\n",
       "      <th></th>\n",
       "      <th></th>\n",
       "      <th></th>\n",
       "    </tr>\n",
       "  </thead>\n",
       "  <tbody>\n",
       "    <tr>\n",
       "      <th>40</th>\n",
       "      <td>KCM_Doc1_AngelHasFallen</td>\n",
       "      <td>Boredom sets in long before the start of Angel...</td>\n",
       "      <td>KCM_Doc1_AngelHasFallen</td>\n",
       "      <td>KCM</td>\n",
       "      <td>Action</td>\n",
       "      <td>Negative</td>\n",
       "      <td>Angel Has Fallen</td>\n",
       "      <td>Action_Angel Has Fallen_N_40</td>\n",
       "      <td>40</td>\n",
       "      <td>boredom sets in long before the start of angel...</td>\n",
       "      <td>[boredom, sets, long, start, angel, fallen, st...</td>\n",
       "      <td>[boredom, set, long, start, angel, fallen, sta...</td>\n",
       "      <td>boredom set long start angel fallen start jour...</td>\n",
       "    </tr>\n",
       "    <tr>\n",
       "      <th>41</th>\n",
       "      <td>KCM_Doc2_AngelHasFallen</td>\n",
       "      <td>\\nWho ARE all these people?\\n\\nThat was what...</td>\n",
       "      <td>KCM_Doc2_AngelHasFallen</td>\n",
       "      <td>KCM</td>\n",
       "      <td>Action</td>\n",
       "      <td>Negative</td>\n",
       "      <td>Angel Has Fallen</td>\n",
       "      <td>Action_Angel Has Fallen_N_41</td>\n",
       "      <td>41</td>\n",
       "      <td>who are all these people that was what i mutt...</td>\n",
       "      <td>[people, muttered, entered, first, screening, ...</td>\n",
       "      <td>[people, muttered, entered, first, screening, ...</td>\n",
       "      <td>people muttered entered first screening angel ...</td>\n",
       "    </tr>\n",
       "    <tr>\n",
       "      <th>42</th>\n",
       "      <td>KCM_Doc3_AngelHasFallen</td>\n",
       "      <td>Ric Roman Waughs Angel Has Fallen sees U.S. S...</td>\n",
       "      <td>KCM_Doc3_AngelHasFallen</td>\n",
       "      <td>KCM</td>\n",
       "      <td>Action</td>\n",
       "      <td>Negative</td>\n",
       "      <td>Angel Has Fallen</td>\n",
       "      <td>Action_Angel Has Fallen_N_42</td>\n",
       "      <td>42</td>\n",
       "      <td>ric roman waugh s angel has fallen sees u s se...</td>\n",
       "      <td>[ric, roman, waugh, angel, fallen, sees, u, se...</td>\n",
       "      <td>[ric, roman, waugh, angel, fallen, see, u, sec...</td>\n",
       "      <td>ric roman waugh angel fallen see u secret serv...</td>\n",
       "    </tr>\n",
       "    <tr>\n",
       "      <th>43</th>\n",
       "      <td>KCM_Doc4_AngelHasFallen</td>\n",
       "      <td>There is a certain mindless pleasure in the Fa...</td>\n",
       "      <td>KCM_Doc4_AngelHasFallen</td>\n",
       "      <td>KCM</td>\n",
       "      <td>Action</td>\n",
       "      <td>Negative</td>\n",
       "      <td>Angel Has Fallen</td>\n",
       "      <td>Action_Angel Has Fallen_N_43</td>\n",
       "      <td>43</td>\n",
       "      <td>there is a certain mindless pleasure in the fa...</td>\n",
       "      <td>[certain, mindless, pleasure, fallen, movies, ...</td>\n",
       "      <td>[certain, mindless, pleasure, fallen, movie, w...</td>\n",
       "      <td>certain mindless pleasure fallen movie watchin...</td>\n",
       "    </tr>\n",
       "    <tr>\n",
       "      <th>44</th>\n",
       "      <td>KCM_Doc5_AngelHasFallen</td>\n",
       "      <td>No, you dont need to have seen Olympus Has F...</td>\n",
       "      <td>KCM_Doc5_AngelHasFallen</td>\n",
       "      <td>KCM</td>\n",
       "      <td>Action</td>\n",
       "      <td>Negative</td>\n",
       "      <td>Angel Has Fallen</td>\n",
       "      <td>Action_Angel Has Fallen_N_44</td>\n",
       "      <td>44</td>\n",
       "      <td>no you don t need to have seen olympus has fal...</td>\n",
       "      <td>[need, seen, olympus, fallen, london, fallen, ...</td>\n",
       "      <td>[need, seen, olympus, fallen, london, fallen, ...</td>\n",
       "      <td>need seen olympus fallen london fallen underst...</td>\n",
       "    </tr>\n",
       "  </tbody>\n",
       "</table>\n",
       "</div>"
      ],
      "text/plain": [
       "                      DSI_Title  \\\n",
       "Doc_ID                            \n",
       "40      KCM_Doc1_AngelHasFallen   \n",
       "41      KCM_Doc2_AngelHasFallen   \n",
       "42      KCM_Doc3_AngelHasFallen   \n",
       "43      KCM_Doc4_AngelHasFallen   \n",
       "44      KCM_Doc5_AngelHasFallen   \n",
       "\n",
       "                                                     Text  \\\n",
       "Doc_ID                                                      \n",
       "40      Boredom sets in long before the start of Angel...   \n",
       "41      \\nWho ARE all these people?\\n\\nThat was what...   \n",
       "42      Ric Roman Waughs Angel Has Fallen sees U.S. S...   \n",
       "43      There is a certain mindless pleasure in the Fa...   \n",
       "44      No, you dont need to have seen Olympus Has F...   \n",
       "\n",
       "           Submission File Name Student Name Genre of Movie  \\\n",
       "Doc_ID                                                        \n",
       "40      KCM_Doc1_AngelHasFallen          KCM         Action   \n",
       "41      KCM_Doc2_AngelHasFallen          KCM         Action   \n",
       "42      KCM_Doc3_AngelHasFallen          KCM         Action   \n",
       "43      KCM_Doc4_AngelHasFallen          KCM         Action   \n",
       "44      KCM_Doc5_AngelHasFallen          KCM         Action   \n",
       "\n",
       "       Review Type (pos or neg)       Movie Title  \\\n",
       "Doc_ID                                              \n",
       "40                     Negative  Angel Has Fallen   \n",
       "41                     Negative  Angel Has Fallen   \n",
       "42                     Negative  Angel Has Fallen   \n",
       "43                     Negative  Angel Has Fallen   \n",
       "44                     Negative  Angel Has Fallen   \n",
       "\n",
       "                          Descriptor  Doc_ID  \\\n",
       "Doc_ID                                         \n",
       "40      Action_Angel Has Fallen_N_40      40   \n",
       "41      Action_Angel Has Fallen_N_41      41   \n",
       "42      Action_Angel Has Fallen_N_42      42   \n",
       "43      Action_Angel Has Fallen_N_43      43   \n",
       "44      Action_Angel Has Fallen_N_44      44   \n",
       "\n",
       "                                        normalized_review  \\\n",
       "Doc_ID                                                      \n",
       "40      boredom sets in long before the start of angel...   \n",
       "41       who are all these people that was what i mutt...   \n",
       "42      ric roman waugh s angel has fallen sees u s se...   \n",
       "43      there is a certain mindless pleasure in the fa...   \n",
       "44      no you don t need to have seen olympus has fal...   \n",
       "\n",
       "                                         tokenized_review  \\\n",
       "Doc_ID                                                      \n",
       "40      [boredom, sets, long, start, angel, fallen, st...   \n",
       "41      [people, muttered, entered, first, screening, ...   \n",
       "42      [ric, roman, waugh, angel, fallen, sees, u, se...   \n",
       "43      [certain, mindless, pleasure, fallen, movies, ...   \n",
       "44      [need, seen, olympus, fallen, london, fallen, ...   \n",
       "\n",
       "                                        lemmatized_tokens  \\\n",
       "Doc_ID                                                      \n",
       "40      [boredom, set, long, start, angel, fallen, sta...   \n",
       "41      [people, muttered, entered, first, screening, ...   \n",
       "42      [ric, roman, waugh, angel, fallen, see, u, sec...   \n",
       "43      [certain, mindless, pleasure, fallen, movie, w...   \n",
       "44      [need, seen, olympus, fallen, london, fallen, ...   \n",
       "\n",
       "                                          lemmatized_text  \n",
       "Doc_ID                                                     \n",
       "40      boredom set long start angel fallen start jour...  \n",
       "41      people muttered entered first screening angel ...  \n",
       "42      ric roman waugh angel fallen see u secret serv...  \n",
       "43      certain mindless pleasure fallen movie watchin...  \n",
       "44      need seen olympus fallen london fallen underst...  "
      ]
     },
     "execution_count": 32,
     "metadata": {},
     "output_type": "execute_result"
    }
   ],
   "source": [
    "class_corpus.head()"
   ]
  },
  {
   "cell_type": "code",
   "execution_count": 33,
   "metadata": {
    "executionInfo": {
     "elapsed": 2,
     "status": "ok",
     "timestamp": 1664463343984,
     "user": {
      "displayName": "Pavankumar Gurazada",
      "userId": "10690826909418856210"
     },
     "user_tz": -330
    },
    "id": "3_45_iVZw5JD"
   },
   "outputs": [],
   "source": [
    "count_vectorizer = CountVectorizer()"
   ]
  },
  {
   "cell_type": "code",
   "execution_count": 34,
   "metadata": {
    "executionInfo": {
     "elapsed": 1,
     "status": "ok",
     "timestamp": 1664463345113,
     "user": {
      "displayName": "Pavankumar Gurazada",
      "userId": "10690826909418856210"
     },
     "user_tz": -330
    },
    "id": "E1T9SrSaw5JD"
   },
   "outputs": [],
   "source": [
    "dtm_class_corpus = count_vectorizer.fit_transform(class_corpus['lemmatized_text'])"
   ]
  },
  {
   "cell_type": "code",
   "execution_count": 35,
   "metadata": {
    "executionInfo": {
     "elapsed": 2,
     "status": "ok",
     "timestamp": 1664463345757,
     "user": {
      "displayName": "Pavankumar Gurazada",
      "userId": "10690826909418856210"
     },
     "user_tz": -330
    },
    "id": "jtQbgheEw5JD"
   },
   "outputs": [],
   "source": [
    "word_counts_class_corpus = pd.DataFrame(dtm_class_corpus.toarray(), \n",
    "                                        columns=count_vectorizer.get_feature_names_out(), \n",
    "                                        index=class_corpus.index)"
   ]
  },
  {
   "cell_type": "code",
   "execution_count": 36,
   "metadata": {
    "colab": {
     "base_uri": "https://localhost:8080/",
     "height": 300
    },
    "executionInfo": {
     "elapsed": 6,
     "status": "ok",
     "timestamp": 1664463347535,
     "user": {
      "displayName": "Pavankumar Gurazada",
      "userId": "10690826909418856210"
     },
     "user_tz": -330
    },
    "id": "-ti5dCWGw5JD",
    "outputId": "f349a13a-c8f3-4755-af95-c8a10c9214d0"
   },
   "outputs": [
    {
     "data": {
      "text/html": [
       "<div>\n",
       "<style scoped>\n",
       "    .dataframe tbody tr th:only-of-type {\n",
       "        vertical-align: middle;\n",
       "    }\n",
       "\n",
       "    .dataframe tbody tr th {\n",
       "        vertical-align: top;\n",
       "    }\n",
       "\n",
       "    .dataframe thead th {\n",
       "        text-align: right;\n",
       "    }\n",
       "</style>\n",
       "<table border=\"1\" class=\"dataframe\">\n",
       "  <thead>\n",
       "    <tr style=\"text-align: right;\">\n",
       "      <th></th>\n",
       "      <th>aaron</th>\n",
       "      <th>ab</th>\n",
       "      <th>abandon</th>\n",
       "      <th>abandoned</th>\n",
       "      <th>abandoning</th>\n",
       "      <th>abandonment</th>\n",
       "      <th>abducted</th>\n",
       "      <th>abduction</th>\n",
       "      <th>abductor</th>\n",
       "      <th>abducts</th>\n",
       "      <th>...</th>\n",
       "      <th>zip</th>\n",
       "      <th>zippier</th>\n",
       "      <th>zipping</th>\n",
       "      <th>zippy</th>\n",
       "      <th>zoey</th>\n",
       "      <th>zombie</th>\n",
       "      <th>zone</th>\n",
       "      <th>zonk</th>\n",
       "      <th>zoom</th>\n",
       "      <th>zora</th>\n",
       "    </tr>\n",
       "    <tr>\n",
       "      <th>Doc_ID</th>\n",
       "      <th></th>\n",
       "      <th></th>\n",
       "      <th></th>\n",
       "      <th></th>\n",
       "      <th></th>\n",
       "      <th></th>\n",
       "      <th></th>\n",
       "      <th></th>\n",
       "      <th></th>\n",
       "      <th></th>\n",
       "      <th></th>\n",
       "      <th></th>\n",
       "      <th></th>\n",
       "      <th></th>\n",
       "      <th></th>\n",
       "      <th></th>\n",
       "      <th></th>\n",
       "      <th></th>\n",
       "      <th></th>\n",
       "      <th></th>\n",
       "      <th></th>\n",
       "    </tr>\n",
       "  </thead>\n",
       "  <tbody>\n",
       "    <tr>\n",
       "      <th>40</th>\n",
       "      <td>0</td>\n",
       "      <td>0</td>\n",
       "      <td>0</td>\n",
       "      <td>0</td>\n",
       "      <td>0</td>\n",
       "      <td>0</td>\n",
       "      <td>0</td>\n",
       "      <td>0</td>\n",
       "      <td>0</td>\n",
       "      <td>0</td>\n",
       "      <td>...</td>\n",
       "      <td>0</td>\n",
       "      <td>0</td>\n",
       "      <td>0</td>\n",
       "      <td>0</td>\n",
       "      <td>0</td>\n",
       "      <td>0</td>\n",
       "      <td>0</td>\n",
       "      <td>0</td>\n",
       "      <td>0</td>\n",
       "      <td>0</td>\n",
       "    </tr>\n",
       "    <tr>\n",
       "      <th>41</th>\n",
       "      <td>0</td>\n",
       "      <td>0</td>\n",
       "      <td>0</td>\n",
       "      <td>0</td>\n",
       "      <td>0</td>\n",
       "      <td>0</td>\n",
       "      <td>0</td>\n",
       "      <td>0</td>\n",
       "      <td>0</td>\n",
       "      <td>0</td>\n",
       "      <td>...</td>\n",
       "      <td>0</td>\n",
       "      <td>0</td>\n",
       "      <td>0</td>\n",
       "      <td>0</td>\n",
       "      <td>0</td>\n",
       "      <td>0</td>\n",
       "      <td>0</td>\n",
       "      <td>0</td>\n",
       "      <td>0</td>\n",
       "      <td>0</td>\n",
       "    </tr>\n",
       "    <tr>\n",
       "      <th>42</th>\n",
       "      <td>0</td>\n",
       "      <td>0</td>\n",
       "      <td>0</td>\n",
       "      <td>1</td>\n",
       "      <td>0</td>\n",
       "      <td>0</td>\n",
       "      <td>0</td>\n",
       "      <td>0</td>\n",
       "      <td>0</td>\n",
       "      <td>0</td>\n",
       "      <td>...</td>\n",
       "      <td>0</td>\n",
       "      <td>0</td>\n",
       "      <td>0</td>\n",
       "      <td>0</td>\n",
       "      <td>0</td>\n",
       "      <td>0</td>\n",
       "      <td>0</td>\n",
       "      <td>0</td>\n",
       "      <td>0</td>\n",
       "      <td>0</td>\n",
       "    </tr>\n",
       "    <tr>\n",
       "      <th>43</th>\n",
       "      <td>0</td>\n",
       "      <td>0</td>\n",
       "      <td>0</td>\n",
       "      <td>0</td>\n",
       "      <td>0</td>\n",
       "      <td>0</td>\n",
       "      <td>0</td>\n",
       "      <td>0</td>\n",
       "      <td>0</td>\n",
       "      <td>0</td>\n",
       "      <td>...</td>\n",
       "      <td>0</td>\n",
       "      <td>0</td>\n",
       "      <td>0</td>\n",
       "      <td>0</td>\n",
       "      <td>0</td>\n",
       "      <td>0</td>\n",
       "      <td>0</td>\n",
       "      <td>0</td>\n",
       "      <td>0</td>\n",
       "      <td>0</td>\n",
       "    </tr>\n",
       "    <tr>\n",
       "      <th>44</th>\n",
       "      <td>0</td>\n",
       "      <td>0</td>\n",
       "      <td>0</td>\n",
       "      <td>0</td>\n",
       "      <td>0</td>\n",
       "      <td>0</td>\n",
       "      <td>0</td>\n",
       "      <td>0</td>\n",
       "      <td>0</td>\n",
       "      <td>0</td>\n",
       "      <td>...</td>\n",
       "      <td>0</td>\n",
       "      <td>0</td>\n",
       "      <td>0</td>\n",
       "      <td>0</td>\n",
       "      <td>0</td>\n",
       "      <td>0</td>\n",
       "      <td>0</td>\n",
       "      <td>0</td>\n",
       "      <td>0</td>\n",
       "      <td>0</td>\n",
       "    </tr>\n",
       "  </tbody>\n",
       "</table>\n",
       "<p>5 rows × 13478 columns</p>\n",
       "</div>"
      ],
      "text/plain": [
       "        aaron  ab  abandon  abandoned  abandoning  abandonment  abducted  \\\n",
       "Doc_ID                                                                     \n",
       "40          0   0        0          0           0            0         0   \n",
       "41          0   0        0          0           0            0         0   \n",
       "42          0   0        0          1           0            0         0   \n",
       "43          0   0        0          0           0            0         0   \n",
       "44          0   0        0          0           0            0         0   \n",
       "\n",
       "        abduction  abductor  abducts  ...  zip  zippier  zipping  zippy  zoey  \\\n",
       "Doc_ID                                ...                                       \n",
       "40              0         0        0  ...    0        0        0      0     0   \n",
       "41              0         0        0  ...    0        0        0      0     0   \n",
       "42              0         0        0  ...    0        0        0      0     0   \n",
       "43              0         0        0  ...    0        0        0      0     0   \n",
       "44              0         0        0  ...    0        0        0      0     0   \n",
       "\n",
       "        zombie  zone  zonk  zoom  zora  \n",
       "Doc_ID                                  \n",
       "40           0     0     0     0     0  \n",
       "41           0     0     0     0     0  \n",
       "42           0     0     0     0     0  \n",
       "43           0     0     0     0     0  \n",
       "44           0     0     0     0     0  \n",
       "\n",
       "[5 rows x 13478 columns]"
      ]
     },
     "execution_count": 36,
     "metadata": {},
     "output_type": "execute_result"
    }
   ],
   "source": [
    "word_counts_class_corpus.head()"
   ]
  },
  {
   "cell_type": "code",
   "execution_count": 37,
   "metadata": {
    "colab": {
     "base_uri": "https://localhost:8080/"
    },
    "executionInfo": {
     "elapsed": 4,
     "status": "ok",
     "timestamp": 1664463349027,
     "user": {
      "displayName": "Pavankumar Gurazada",
      "userId": "10690826909418856210"
     },
     "user_tz": -330
    },
    "id": "YHsWcfvxw5JE",
    "outputId": "6b3366d5-8516-4bc9-d9bc-666e6e0129e4"
   },
   "outputs": [
    {
     "data": {
      "text/plain": [
       "film         1005\n",
       "movie         804\n",
       "one           614\n",
       "like          495\n",
       "time          427\n",
       "get           355\n",
       "make          353\n",
       "character     327\n",
       "even          309\n",
       "scene         289\n",
       "much          264\n",
       "way           256\n",
       "action        256\n",
       "would         250\n",
       "also          232\n",
       "thing         231\n",
       "first         225\n",
       "year          220\n",
       "come          220\n",
       "take          218\n",
       "well          213\n",
       "story         213\n",
       "good          210\n",
       "see           205\n",
       "go            205\n",
       "dtype: int64"
      ]
     },
     "execution_count": 37,
     "metadata": {},
     "output_type": "execute_result"
    }
   ],
   "source": [
    "(word_counts_class_corpus.sum()\n",
    "                         .sort_values(ascending=False)\n",
    "                         .head(25))"
   ]
  },
  {
   "cell_type": "markdown",
   "metadata": {
    "id": "wmMQm62lw5JE"
   },
   "source": [
    "Based on these prevalent terms, we will need to take a call on which of these are also important in the context of the movie reviews."
   ]
  },
  {
   "cell_type": "markdown",
   "metadata": {
    "id": "AxLKnvGtw5JE"
   },
   "source": [
    "# Summary"
   ]
  },
  {
   "cell_type": "markdown",
   "metadata": {
    "id": "1OK5Se2kw5JE"
   },
   "source": [
    "Data wrangling in the context of text as input comes down to a two stage process:\n",
    "1. Pre-processing (or *Normalizing*) the text by removing punctuation, tags & special characters, lower casing the words and removing the stop words. The end result at this point is a list of tokens for each review.\n",
    "2. *Lemmatization* applied on the normalized list of tokens to bring them down to a common lemma. "
   ]
  }
 ],
 "metadata": {
  "colab": {
   "collapsed_sections": [],
   "provenance": []
  },
  "kernelspec": {
   "display_name": "Python 3",
   "language": "python",
   "name": "python3"
  },
  "language_info": {
   "codemirror_mode": {
    "name": "ipython",
    "version": 3
   },
   "file_extension": ".py",
   "mimetype": "text/x-python",
   "name": "python",
   "nbconvert_exporter": "python",
   "pygments_lexer": "ipython3",
   "version": "3.8.10"
  },
  "vscode": {
   "interpreter": {
    "hash": "3c1e73e333da691d1541ae9459c12b06f935e3cff125444867bb111cd49f9379"
   }
  }
 },
 "nbformat": 4,
 "nbformat_minor": 1
}
