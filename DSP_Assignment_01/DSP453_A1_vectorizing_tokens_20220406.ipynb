{
 "cells": [
  {
   "cell_type": "code",
   "execution_count": 1,
   "metadata": {},
   "outputs": [],
   "source": [
    "import nltk\n",
    "import re\n",
    "\n",
    "import pandas as pd\n",
    "\n",
    "import matplotlib.pyplot as plt\n",
    "import seaborn as sns\n",
    "\n",
    "from nltk.stem.wordnet import WordNetLemmatizer\n",
    "from nltk.stem import PorterStemmer\n",
    "\n",
    "from nltk.corpus import stopwords\n",
    "\n",
    "from gensim.models import Word2Vec\n",
    "from gensim.models.doc2vec import Doc2Vec, TaggedDocument\n",
    "\n",
    "from sklearn.feature_extraction.text import CountVectorizer\n",
    "from sklearn.feature_extraction.text import TfidfVectorizer\n",
    "\n",
    "from sklearn.manifold import TSNE\n",
    "from sklearn.metrics.pairwise import cosine_similarity"
   ]
  },
  {
   "cell_type": "code",
   "execution_count": 2,
   "metadata": {},
   "outputs": [],
   "source": [
    "data_file = 'DSP453_ClassCorpus.csv'"
   ]
  },
  {
   "cell_type": "code",
   "execution_count": 3,
   "metadata": {},
   "outputs": [],
   "source": [
    "class_corpus = pd.read_csv(data_file)"
   ]
  },
  {
   "cell_type": "code",
   "execution_count": 4,
   "metadata": {},
   "outputs": [
    {
     "data": {
      "text/html": [
       "<div>\n",
       "<style scoped>\n",
       "    .dataframe tbody tr th:only-of-type {\n",
       "        vertical-align: middle;\n",
       "    }\n",
       "\n",
       "    .dataframe tbody tr th {\n",
       "        vertical-align: top;\n",
       "    }\n",
       "\n",
       "    .dataframe thead th {\n",
       "        text-align: right;\n",
       "    }\n",
       "</style>\n",
       "<table border=\"1\" class=\"dataframe\">\n",
       "  <thead>\n",
       "    <tr style=\"text-align: right;\">\n",
       "      <th></th>\n",
       "      <th>FileName</th>\n",
       "      <th>StudentName</th>\n",
       "      <th>Genre</th>\n",
       "      <th>ReviewType</th>\n",
       "      <th>MovieTitle</th>\n",
       "      <th>MovieReview</th>\n",
       "    </tr>\n",
       "  </thead>\n",
       "  <tbody>\n",
       "    <tr>\n",
       "      <th>0</th>\n",
       "      <td>KHS_Doc1_TheRing</td>\n",
       "      <td>KHS</td>\n",
       "      <td>Horror</td>\n",
       "      <td>Negative</td>\n",
       "      <td>The Ring</td>\n",
       "      <td>Described as a drama, horror and mystery, The ...</td>\n",
       "    </tr>\n",
       "    <tr>\n",
       "      <th>1</th>\n",
       "      <td>KHS_Doc2_TheRing</td>\n",
       "      <td>KHS</td>\n",
       "      <td>Horror</td>\n",
       "      <td>Negative</td>\n",
       "      <td>The Ring</td>\n",
       "      <td>I hated it, but I grant that it does tap into...</td>\n",
       "    </tr>\n",
       "    <tr>\n",
       "      <th>2</th>\n",
       "      <td>KHS_Doc3_TheRing</td>\n",
       "      <td>KHS</td>\n",
       "      <td>Horror</td>\n",
       "      <td>Negative</td>\n",
       "      <td>The Ring</td>\n",
       "      <td>Ehren Kruger (no relation to Freddy) showed a ...</td>\n",
       "    </tr>\n",
       "    <tr>\n",
       "      <th>3</th>\n",
       "      <td>KHS_Doc4_TheRing</td>\n",
       "      <td>KHS</td>\n",
       "      <td>Horror</td>\n",
       "      <td>Negative</td>\n",
       "      <td>The Ring</td>\n",
       "      <td>Not all arthouse thrillers are destined to be ...</td>\n",
       "    </tr>\n",
       "    <tr>\n",
       "      <th>4</th>\n",
       "      <td>KHS_Doc5_TheRing</td>\n",
       "      <td>KHS</td>\n",
       "      <td>Horror</td>\n",
       "      <td>Negative</td>\n",
       "      <td>The Ring</td>\n",
       "      <td>Rarely has a more serious effort produced a le...</td>\n",
       "    </tr>\n",
       "  </tbody>\n",
       "</table>\n",
       "</div>"
      ],
      "text/plain": [
       "           FileName StudentName   Genre ReviewType MovieTitle  \\\n",
       "0  KHS_Doc1_TheRing         KHS  Horror   Negative   The Ring   \n",
       "1  KHS_Doc2_TheRing         KHS  Horror   Negative   The Ring   \n",
       "2  KHS_Doc3_TheRing         KHS  Horror   Negative   The Ring   \n",
       "3  KHS_Doc4_TheRing         KHS  Horror   Negative   The Ring   \n",
       "4  KHS_Doc5_TheRing         KHS  Horror   Negative   The Ring   \n",
       "\n",
       "                                         MovieReview  \n",
       "0  Described as a drama, horror and mystery, The ...  \n",
       "1   I hated it, but I grant that it does tap into...  \n",
       "2  Ehren Kruger (no relation to Freddy) showed a ...  \n",
       "3  Not all arthouse thrillers are destined to be ...  \n",
       "4  Rarely has a more serious effort produced a le...  "
      ]
     },
     "execution_count": 4,
     "metadata": {},
     "output_type": "execute_result"
    }
   ],
   "source": [
    "class_corpus.head()"
   ]
  },
  {
   "cell_type": "code",
   "execution_count": 5,
   "metadata": {},
   "outputs": [
    {
     "data": {
      "text/plain": [
       "array(['The Ring', 'Speed racer', 'Arrival', 'Hereditary',\n",
       "       'James Bond Casino Royale', 'Us', 'Baby Driver', 'The Conjuring 3',\n",
       "       'Pirates of the Carribean: The Curse of the Black Pearl',\n",
       "       'Mission Impossible Fallout', 'IT', 'Interstellar',\n",
       "       'Once upon a time in Hollywood', 'Cruella', 'Spider Man 3',\n",
       "       'Frozen II', 'The Matrix Resurrections', 'Red Notice',\n",
       "       'The Martian'], dtype=object)"
      ]
     },
     "execution_count": 5,
     "metadata": {},
     "output_type": "execute_result"
    }
   ],
   "source": [
    "class_corpus.MovieTitle.unique()"
   ]
  },
  {
   "cell_type": "code",
   "execution_count": 6,
   "metadata": {},
   "outputs": [],
   "source": [
    "SAMPLE_MOVIE_TITLE = 'James Bond Casino Royale'"
   ]
  },
  {
   "cell_type": "code",
   "execution_count": 7,
   "metadata": {},
   "outputs": [],
   "source": [
    "movie_title_flag = class_corpus['MovieTitle'] == SAMPLE_MOVIE_TITLE"
   ]
  },
  {
   "cell_type": "code",
   "execution_count": 8,
   "metadata": {},
   "outputs": [],
   "source": [
    "sample_reviews_corpus = class_corpus.loc[movie_title_flag, ['FileName', 'MovieReview']]"
   ]
  },
  {
   "cell_type": "code",
   "execution_count": 9,
   "metadata": {},
   "outputs": [
    {
     "data": {
      "text/html": [
       "<div>\n",
       "<style scoped>\n",
       "    .dataframe tbody tr th:only-of-type {\n",
       "        vertical-align: middle;\n",
       "    }\n",
       "\n",
       "    .dataframe tbody tr th {\n",
       "        vertical-align: top;\n",
       "    }\n",
       "\n",
       "    .dataframe thead th {\n",
       "        text-align: right;\n",
       "    }\n",
       "</style>\n",
       "<table border=\"1\" class=\"dataframe\">\n",
       "  <thead>\n",
       "    <tr style=\"text-align: right;\">\n",
       "      <th></th>\n",
       "      <th>FileName</th>\n",
       "      <th>MovieReview</th>\n",
       "    </tr>\n",
       "  </thead>\n",
       "  <tbody>\n",
       "    <tr>\n",
       "      <th>40</th>\n",
       "      <td>GDO_Doc1_JamesBondCasinoRoyale</td>\n",
       "      <td>Sometimes a film speaks most clearly in what i...</td>\n",
       "    </tr>\n",
       "    <tr>\n",
       "      <th>41</th>\n",
       "      <td>GDO_Doc2_JamesBondCasinoRoyale</td>\n",
       "      <td>Daniel Craig enters the picture as Casino Roya...</td>\n",
       "    </tr>\n",
       "    <tr>\n",
       "      <th>42</th>\n",
       "      <td>GDO_Doc3_JamesBondCasinoRoyale</td>\n",
       "      <td>Casino Royale saw the debut of both Daniel Cra...</td>\n",
       "    </tr>\n",
       "    <tr>\n",
       "      <th>43</th>\n",
       "      <td>GDO_Doc4_JamesBondCasinoRoyale</td>\n",
       "      <td>This was the basis for how Casino Royale came ...</td>\n",
       "    </tr>\n",
       "    <tr>\n",
       "      <th>44</th>\n",
       "      <td>GDO_Doc5_JamesBondCasinoRoyale</td>\n",
       "      <td>15 years ago today (16th November, 2021), the ...</td>\n",
       "    </tr>\n",
       "    <tr>\n",
       "      <th>45</th>\n",
       "      <td>GDO_Doc6_JamesBondCasinoRoyale</td>\n",
       "      <td>In the new film, the first version of Flemings...</td>\n",
       "    </tr>\n",
       "    <tr>\n",
       "      <th>46</th>\n",
       "      <td>GDO_Doc7_JamesBondCasinoRoyale</td>\n",
       "      <td>The introduction of a new James Bond always br...</td>\n",
       "    </tr>\n",
       "    <tr>\n",
       "      <th>47</th>\n",
       "      <td>GDO_Doc8_JamesBondCasinoRoyale</td>\n",
       "      <td>After the lackluster previous three Bond entri...</td>\n",
       "    </tr>\n",
       "    <tr>\n",
       "      <th>48</th>\n",
       "      <td>GDO_Doc9_JamesBondCasinoRoyale</td>\n",
       "      <td>Anyhow, with some of this in mind, I went alon...</td>\n",
       "    </tr>\n",
       "    <tr>\n",
       "      <th>49</th>\n",
       "      <td>GDO_Doc10_JamesBondCasinoRoyale</td>\n",
       "      <td>So what are the commonalities between CR 2006 ...</td>\n",
       "    </tr>\n",
       "  </tbody>\n",
       "</table>\n",
       "</div>"
      ],
      "text/plain": [
       "                           FileName  \\\n",
       "40   GDO_Doc1_JamesBondCasinoRoyale   \n",
       "41   GDO_Doc2_JamesBondCasinoRoyale   \n",
       "42   GDO_Doc3_JamesBondCasinoRoyale   \n",
       "43   GDO_Doc4_JamesBondCasinoRoyale   \n",
       "44   GDO_Doc5_JamesBondCasinoRoyale   \n",
       "45   GDO_Doc6_JamesBondCasinoRoyale   \n",
       "46   GDO_Doc7_JamesBondCasinoRoyale   \n",
       "47   GDO_Doc8_JamesBondCasinoRoyale   \n",
       "48   GDO_Doc9_JamesBondCasinoRoyale   \n",
       "49  GDO_Doc10_JamesBondCasinoRoyale   \n",
       "\n",
       "                                          MovieReview  \n",
       "40  Sometimes a film speaks most clearly in what i...  \n",
       "41  Daniel Craig enters the picture as Casino Roya...  \n",
       "42  Casino Royale saw the debut of both Daniel Cra...  \n",
       "43  This was the basis for how Casino Royale came ...  \n",
       "44  15 years ago today (16th November, 2021), the ...  \n",
       "45  In the new film, the first version of Flemings...  \n",
       "46  The introduction of a new James Bond always br...  \n",
       "47  After the lackluster previous three Bond entri...  \n",
       "48  Anyhow, with some of this in mind, I went alon...  \n",
       "49  So what are the commonalities between CR 2006 ...  "
      ]
     },
     "execution_count": 9,
     "metadata": {},
     "output_type": "execute_result"
    }
   ],
   "source": [
    "sample_reviews_corpus"
   ]
  },
  {
   "cell_type": "code",
   "execution_count": 10,
   "metadata": {},
   "outputs": [],
   "source": [
    "stop_words = set(nltk.corpus.stopwords.words('english'))"
   ]
  },
  {
   "cell_type": "code",
   "execution_count": 11,
   "metadata": {},
   "outputs": [],
   "source": [
    "def remove_punctuation(text):\n",
    "    return re.sub('[^a-zA-Z]', ' ', str(text))\n",
    "\n",
    "def lower_case(text):\n",
    "    return text.lower()    \n",
    "\n",
    "def remove_tags(text):    \n",
    "    return re.sub(\"&lt;/?.*?&gt;\",\" &lt;&gt; \", text)\n",
    "\n",
    "def remove_special_chars_and_digits(text):\n",
    "    return re.sub(\"(\\\\d|\\\\W)+\",\" \", text)\n",
    "\n",
    "def remove_stop_words(tokenized_text):\n",
    "    return [w for w in tokenized_text if not w in stop_words]\n",
    "\n",
    "def normalize_text(text: str) -> str:\n",
    "    text = remove_punctuation(text)\n",
    "    text = lower_case(text)\n",
    "    text = remove_tags(text)\n",
    "    text = remove_special_chars_and_digits(text)\n",
    "    \n",
    "    return text"
   ]
  },
  {
   "cell_type": "code",
   "execution_count": 12,
   "metadata": {},
   "outputs": [],
   "source": [
    "sample_reviews_corpus['normalized_review_text'] = sample_reviews_corpus['MovieReview'].apply(normalize_text)"
   ]
  },
  {
   "cell_type": "code",
   "execution_count": 13,
   "metadata": {},
   "outputs": [
    {
     "data": {
      "text/html": [
       "<div>\n",
       "<style scoped>\n",
       "    .dataframe tbody tr th:only-of-type {\n",
       "        vertical-align: middle;\n",
       "    }\n",
       "\n",
       "    .dataframe tbody tr th {\n",
       "        vertical-align: top;\n",
       "    }\n",
       "\n",
       "    .dataframe thead th {\n",
       "        text-align: right;\n",
       "    }\n",
       "</style>\n",
       "<table border=\"1\" class=\"dataframe\">\n",
       "  <thead>\n",
       "    <tr style=\"text-align: right;\">\n",
       "      <th></th>\n",
       "      <th>FileName</th>\n",
       "      <th>MovieReview</th>\n",
       "      <th>normalized_review_text</th>\n",
       "    </tr>\n",
       "  </thead>\n",
       "  <tbody>\n",
       "    <tr>\n",
       "      <th>40</th>\n",
       "      <td>GDO_Doc1_JamesBondCasinoRoyale</td>\n",
       "      <td>Sometimes a film speaks most clearly in what i...</td>\n",
       "      <td>sometimes a film speaks most clearly in what i...</td>\n",
       "    </tr>\n",
       "    <tr>\n",
       "      <th>41</th>\n",
       "      <td>GDO_Doc2_JamesBondCasinoRoyale</td>\n",
       "      <td>Daniel Craig enters the picture as Casino Roya...</td>\n",
       "      <td>daniel craig enters the picture as casino roya...</td>\n",
       "    </tr>\n",
       "    <tr>\n",
       "      <th>42</th>\n",
       "      <td>GDO_Doc3_JamesBondCasinoRoyale</td>\n",
       "      <td>Casino Royale saw the debut of both Daniel Cra...</td>\n",
       "      <td>casino royale saw the debut of both daniel cra...</td>\n",
       "    </tr>\n",
       "    <tr>\n",
       "      <th>43</th>\n",
       "      <td>GDO_Doc4_JamesBondCasinoRoyale</td>\n",
       "      <td>This was the basis for how Casino Royale came ...</td>\n",
       "      <td>this was the basis for how casino royale came ...</td>\n",
       "    </tr>\n",
       "    <tr>\n",
       "      <th>44</th>\n",
       "      <td>GDO_Doc5_JamesBondCasinoRoyale</td>\n",
       "      <td>15 years ago today (16th November, 2021), the ...</td>\n",
       "      <td>years ago today th november the st james bond...</td>\n",
       "    </tr>\n",
       "    <tr>\n",
       "      <th>45</th>\n",
       "      <td>GDO_Doc6_JamesBondCasinoRoyale</td>\n",
       "      <td>In the new film, the first version of Flemings...</td>\n",
       "      <td>in the new film the first version of flemings ...</td>\n",
       "    </tr>\n",
       "    <tr>\n",
       "      <th>46</th>\n",
       "      <td>GDO_Doc7_JamesBondCasinoRoyale</td>\n",
       "      <td>The introduction of a new James Bond always br...</td>\n",
       "      <td>the introduction of a new james bond always br...</td>\n",
       "    </tr>\n",
       "    <tr>\n",
       "      <th>47</th>\n",
       "      <td>GDO_Doc8_JamesBondCasinoRoyale</td>\n",
       "      <td>After the lackluster previous three Bond entri...</td>\n",
       "      <td>after the lackluster previous three bond entri...</td>\n",
       "    </tr>\n",
       "    <tr>\n",
       "      <th>48</th>\n",
       "      <td>GDO_Doc9_JamesBondCasinoRoyale</td>\n",
       "      <td>Anyhow, with some of this in mind, I went alon...</td>\n",
       "      <td>anyhow with some of this in mind i went along ...</td>\n",
       "    </tr>\n",
       "    <tr>\n",
       "      <th>49</th>\n",
       "      <td>GDO_Doc10_JamesBondCasinoRoyale</td>\n",
       "      <td>So what are the commonalities between CR 2006 ...</td>\n",
       "      <td>so what are the commonalities between cr and c...</td>\n",
       "    </tr>\n",
       "  </tbody>\n",
       "</table>\n",
       "</div>"
      ],
      "text/plain": [
       "                           FileName  \\\n",
       "40   GDO_Doc1_JamesBondCasinoRoyale   \n",
       "41   GDO_Doc2_JamesBondCasinoRoyale   \n",
       "42   GDO_Doc3_JamesBondCasinoRoyale   \n",
       "43   GDO_Doc4_JamesBondCasinoRoyale   \n",
       "44   GDO_Doc5_JamesBondCasinoRoyale   \n",
       "45   GDO_Doc6_JamesBondCasinoRoyale   \n",
       "46   GDO_Doc7_JamesBondCasinoRoyale   \n",
       "47   GDO_Doc8_JamesBondCasinoRoyale   \n",
       "48   GDO_Doc9_JamesBondCasinoRoyale   \n",
       "49  GDO_Doc10_JamesBondCasinoRoyale   \n",
       "\n",
       "                                          MovieReview  \\\n",
       "40  Sometimes a film speaks most clearly in what i...   \n",
       "41  Daniel Craig enters the picture as Casino Roya...   \n",
       "42  Casino Royale saw the debut of both Daniel Cra...   \n",
       "43  This was the basis for how Casino Royale came ...   \n",
       "44  15 years ago today (16th November, 2021), the ...   \n",
       "45  In the new film, the first version of Flemings...   \n",
       "46  The introduction of a new James Bond always br...   \n",
       "47  After the lackluster previous three Bond entri...   \n",
       "48  Anyhow, with some of this in mind, I went alon...   \n",
       "49  So what are the commonalities between CR 2006 ...   \n",
       "\n",
       "                               normalized_review_text  \n",
       "40  sometimes a film speaks most clearly in what i...  \n",
       "41  daniel craig enters the picture as casino roya...  \n",
       "42  casino royale saw the debut of both daniel cra...  \n",
       "43  this was the basis for how casino royale came ...  \n",
       "44   years ago today th november the st james bond...  \n",
       "45  in the new film the first version of flemings ...  \n",
       "46  the introduction of a new james bond always br...  \n",
       "47  after the lackluster previous three bond entri...  \n",
       "48  anyhow with some of this in mind i went along ...  \n",
       "49  so what are the commonalities between cr and c...  "
      ]
     },
     "execution_count": 13,
     "metadata": {},
     "output_type": "execute_result"
    }
   ],
   "source": [
    "sample_reviews_corpus"
   ]
  },
  {
   "cell_type": "markdown",
   "metadata": {},
   "source": [
    "# Count Vectorizer"
   ]
  },
  {
   "cell_type": "markdown",
   "metadata": {},
   "source": [
    "## Sample"
   ]
  },
  {
   "cell_type": "code",
   "execution_count": 14,
   "metadata": {},
   "outputs": [],
   "source": [
    "vectorizer_count = CountVectorizer(stop_words=stop_words)"
   ]
  },
  {
   "cell_type": "code",
   "execution_count": 15,
   "metadata": {},
   "outputs": [],
   "source": [
    "dtm_sample = vectorizer_count.fit_transform(sample_reviews_corpus['normalized_review_text'])"
   ]
  },
  {
   "cell_type": "code",
   "execution_count": 16,
   "metadata": {},
   "outputs": [
    {
     "data": {
      "text/plain": [
       "array(['abkarian', 'able', 'ably', ..., 'youd', 'young', 'youve'],\n",
       "      dtype=object)"
      ]
     },
     "execution_count": 16,
     "metadata": {},
     "output_type": "execute_result"
    }
   ],
   "source": [
    "vectorizer_count.get_feature_names_out()"
   ]
  },
  {
   "cell_type": "code",
   "execution_count": 17,
   "metadata": {},
   "outputs": [
    {
     "data": {
      "text/plain": [
       "array([[0, 1, 0, ..., 0, 0, 0],\n",
       "       [1, 0, 0, ..., 0, 0, 0],\n",
       "       [0, 0, 0, ..., 0, 0, 0],\n",
       "       ...,\n",
       "       [0, 0, 0, ..., 0, 0, 0],\n",
       "       [0, 0, 0, ..., 0, 0, 0],\n",
       "       [0, 1, 0, ..., 0, 2, 0]])"
      ]
     },
     "execution_count": 17,
     "metadata": {},
     "output_type": "execute_result"
    }
   ],
   "source": [
    "dtm_sample.toarray()"
   ]
  },
  {
   "cell_type": "code",
   "execution_count": 18,
   "metadata": {},
   "outputs": [],
   "source": [
    "word_counts_sample = pd.DataFrame(dtm_sample.toarray(), \n",
    "                                  columns=vectorizer_count.get_feature_names_out(), \n",
    "                                  index=sample_reviews_corpus.index)"
   ]
  },
  {
   "cell_type": "code",
   "execution_count": 19,
   "metadata": {},
   "outputs": [
    {
     "data": {
      "text/plain": [
       "40    2\n",
       "41    0\n",
       "42    0\n",
       "43    2\n",
       "44    2\n",
       "45    0\n",
       "46    1\n",
       "47    0\n",
       "48    0\n",
       "49    0\n",
       "Name: spy, dtype: int64"
      ]
     },
     "execution_count": 19,
     "metadata": {},
     "output_type": "execute_result"
    }
   ],
   "source": [
    "word_counts_sample['spy']"
   ]
  },
  {
   "cell_type": "code",
   "execution_count": 20,
   "metadata": {},
   "outputs": [],
   "source": [
    "INPUT_WORD_FOR_EXPLORATION = 'spy'"
   ]
  },
  {
   "cell_type": "code",
   "execution_count": 21,
   "metadata": {},
   "outputs": [
    {
     "data": {
      "text/plain": [
       "0.7"
      ]
     },
     "execution_count": 21,
     "metadata": {},
     "output_type": "execute_result"
    }
   ],
   "source": [
    "word_counts_sample[INPUT_WORD_FOR_EXPLORATION].mean()"
   ]
  },
  {
   "cell_type": "markdown",
   "metadata": {},
   "source": [
    "## Corpus"
   ]
  },
  {
   "cell_type": "code",
   "execution_count": 22,
   "metadata": {},
   "outputs": [],
   "source": [
    "class_corpus_copy = class_corpus.copy()"
   ]
  },
  {
   "cell_type": "code",
   "execution_count": 23,
   "metadata": {},
   "outputs": [],
   "source": [
    "class_corpus_copy['normalized_review_text'] = class_corpus_copy['MovieReview'].apply(normalize_text)\n",
    "vectorizer_count = CountVectorizer(stop_words=stop_words)\n",
    "dtm_corpus = vectorizer_count.fit_transform(class_corpus_copy['normalized_review_text'])\n",
    "\n",
    "word_counts_corpus = pd.DataFrame(dtm_corpus.toarray(), \n",
    "                                  columns=vectorizer_count.get_feature_names_out(), \n",
    "                                  index=class_corpus_copy.index)"
   ]
  },
  {
   "cell_type": "code",
   "execution_count": 24,
   "metadata": {},
   "outputs": [
    {
     "data": {
      "text/plain": [
       "'spy'"
      ]
     },
     "execution_count": 24,
     "metadata": {},
     "output_type": "execute_result"
    }
   ],
   "source": [
    "INPUT_WORD_FOR_EXPLORATION"
   ]
  },
  {
   "cell_type": "code",
   "execution_count": 25,
   "metadata": {},
   "outputs": [
    {
     "data": {
      "text/plain": [
       "0.07368421052631578"
      ]
     },
     "execution_count": 25,
     "metadata": {},
     "output_type": "execute_result"
    }
   ],
   "source": [
    "word_counts_corpus[INPUT_WORD_FOR_EXPLORATION].mean()"
   ]
  },
  {
   "cell_type": "markdown",
   "metadata": {},
   "source": [
    "# TF-IDF Vectorizer"
   ]
  },
  {
   "cell_type": "markdown",
   "metadata": {},
   "source": [
    "## Sample"
   ]
  },
  {
   "cell_type": "code",
   "execution_count": 26,
   "metadata": {},
   "outputs": [],
   "source": [
    "vectorizer_tfidf = TfidfVectorizer(stop_words=stop_words)"
   ]
  },
  {
   "cell_type": "code",
   "execution_count": 27,
   "metadata": {},
   "outputs": [],
   "source": [
    "dtm_sample = vectorizer_tfidf.fit_transform(sample_reviews_corpus['normalized_review_text'])"
   ]
  },
  {
   "cell_type": "code",
   "execution_count": 28,
   "metadata": {},
   "outputs": [
    {
     "data": {
      "text/plain": [
       "array(['abkarian', 'able', 'ably', ..., 'youd', 'young', 'youve'],\n",
       "      dtype=object)"
      ]
     },
     "execution_count": 28,
     "metadata": {},
     "output_type": "execute_result"
    }
   ],
   "source": [
    "vectorizer_tfidf.get_feature_names_out()"
   ]
  },
  {
   "cell_type": "code",
   "execution_count": 29,
   "metadata": {},
   "outputs": [
    {
     "data": {
      "text/plain": [
       "array([[0.        , 0.03045192, 0.        , ..., 0.        , 0.        ,\n",
       "        0.        ],\n",
       "       [0.04255746, 0.        , 0.        , ..., 0.        , 0.        ,\n",
       "        0.        ],\n",
       "       [0.        , 0.        , 0.        , ..., 0.        , 0.        ,\n",
       "        0.        ],\n",
       "       ...,\n",
       "       [0.        , 0.        , 0.        , ..., 0.        , 0.        ,\n",
       "        0.        ],\n",
       "       [0.        , 0.        , 0.        , ..., 0.        , 0.        ,\n",
       "        0.        ],\n",
       "       [0.        , 0.04024992, 0.        , ..., 0.        , 0.09469551,\n",
       "        0.        ]])"
      ]
     },
     "execution_count": 29,
     "metadata": {},
     "output_type": "execute_result"
    }
   ],
   "source": [
    "dtm_sample.toarray()"
   ]
  },
  {
   "cell_type": "code",
   "execution_count": 30,
   "metadata": {},
   "outputs": [],
   "source": [
    "tfidf_scores_sample = pd.DataFrame(dtm_sample.toarray(), \n",
    "                                   columns=vectorizer_tfidf.get_feature_names_out(), \n",
    "                                   index=sample_reviews_corpus.index)"
   ]
  },
  {
   "cell_type": "code",
   "execution_count": 31,
   "metadata": {},
   "outputs": [
    {
     "data": {
      "text/html": [
       "<div>\n",
       "<style scoped>\n",
       "    .dataframe tbody tr th:only-of-type {\n",
       "        vertical-align: middle;\n",
       "    }\n",
       "\n",
       "    .dataframe tbody tr th {\n",
       "        vertical-align: top;\n",
       "    }\n",
       "\n",
       "    .dataframe thead th {\n",
       "        text-align: right;\n",
       "    }\n",
       "</style>\n",
       "<table border=\"1\" class=\"dataframe\">\n",
       "  <thead>\n",
       "    <tr style=\"text-align: right;\">\n",
       "      <th></th>\n",
       "      <th>abkarian</th>\n",
       "      <th>able</th>\n",
       "      <th>ably</th>\n",
       "      <th>abrupt</th>\n",
       "      <th>absolutely</th>\n",
       "      <th>accidentally</th>\n",
       "      <th>accompanied</th>\n",
       "      <th>accorded</th>\n",
       "      <th>according</th>\n",
       "      <th>account</th>\n",
       "      <th>...</th>\n",
       "      <th>wrong</th>\n",
       "      <th>wry</th>\n",
       "      <th>yawn</th>\n",
       "      <th>year</th>\n",
       "      <th>years</th>\n",
       "      <th>yes</th>\n",
       "      <th>yet</th>\n",
       "      <th>youd</th>\n",
       "      <th>young</th>\n",
       "      <th>youve</th>\n",
       "    </tr>\n",
       "  </thead>\n",
       "  <tbody>\n",
       "    <tr>\n",
       "      <th>40</th>\n",
       "      <td>0.000000</td>\n",
       "      <td>0.030452</td>\n",
       "      <td>0.000000</td>\n",
       "      <td>0.035822</td>\n",
       "      <td>0.000000</td>\n",
       "      <td>0.000000</td>\n",
       "      <td>0.035822</td>\n",
       "      <td>0.000000</td>\n",
       "      <td>0.071644</td>\n",
       "      <td>0.000000</td>\n",
       "      <td>...</td>\n",
       "      <td>0.000000</td>\n",
       "      <td>0.000000</td>\n",
       "      <td>0.000000</td>\n",
       "      <td>0.000000</td>\n",
       "      <td>0.000000</td>\n",
       "      <td>0.047373</td>\n",
       "      <td>0.021272</td>\n",
       "      <td>0.000000</td>\n",
       "      <td>0.000000</td>\n",
       "      <td>0.000000</td>\n",
       "    </tr>\n",
       "    <tr>\n",
       "      <th>41</th>\n",
       "      <td>0.042557</td>\n",
       "      <td>0.000000</td>\n",
       "      <td>0.000000</td>\n",
       "      <td>0.000000</td>\n",
       "      <td>0.074465</td>\n",
       "      <td>0.000000</td>\n",
       "      <td>0.000000</td>\n",
       "      <td>0.000000</td>\n",
       "      <td>0.000000</td>\n",
       "      <td>0.000000</td>\n",
       "      <td>...</td>\n",
       "      <td>0.000000</td>\n",
       "      <td>0.000000</td>\n",
       "      <td>0.000000</td>\n",
       "      <td>0.000000</td>\n",
       "      <td>0.037233</td>\n",
       "      <td>0.000000</td>\n",
       "      <td>0.000000</td>\n",
       "      <td>0.000000</td>\n",
       "      <td>0.000000</td>\n",
       "      <td>0.000000</td>\n",
       "    </tr>\n",
       "    <tr>\n",
       "      <th>42</th>\n",
       "      <td>0.000000</td>\n",
       "      <td>0.000000</td>\n",
       "      <td>0.000000</td>\n",
       "      <td>0.000000</td>\n",
       "      <td>0.000000</td>\n",
       "      <td>0.000000</td>\n",
       "      <td>0.000000</td>\n",
       "      <td>0.000000</td>\n",
       "      <td>0.000000</td>\n",
       "      <td>0.074358</td>\n",
       "      <td>...</td>\n",
       "      <td>0.000000</td>\n",
       "      <td>0.000000</td>\n",
       "      <td>0.000000</td>\n",
       "      <td>0.000000</td>\n",
       "      <td>0.000000</td>\n",
       "      <td>0.024584</td>\n",
       "      <td>0.044155</td>\n",
       "      <td>0.000000</td>\n",
       "      <td>0.000000</td>\n",
       "      <td>0.000000</td>\n",
       "    </tr>\n",
       "    <tr>\n",
       "      <th>43</th>\n",
       "      <td>0.000000</td>\n",
       "      <td>0.000000</td>\n",
       "      <td>0.000000</td>\n",
       "      <td>0.000000</td>\n",
       "      <td>0.022416</td>\n",
       "      <td>0.000000</td>\n",
       "      <td>0.000000</td>\n",
       "      <td>0.000000</td>\n",
       "      <td>0.000000</td>\n",
       "      <td>0.000000</td>\n",
       "      <td>...</td>\n",
       "      <td>0.030141</td>\n",
       "      <td>0.000000</td>\n",
       "      <td>0.000000</td>\n",
       "      <td>0.000000</td>\n",
       "      <td>0.022416</td>\n",
       "      <td>0.000000</td>\n",
       "      <td>0.017898</td>\n",
       "      <td>0.000000</td>\n",
       "      <td>0.000000</td>\n",
       "      <td>0.000000</td>\n",
       "    </tr>\n",
       "    <tr>\n",
       "      <th>44</th>\n",
       "      <td>0.000000</td>\n",
       "      <td>0.000000</td>\n",
       "      <td>0.047722</td>\n",
       "      <td>0.000000</td>\n",
       "      <td>0.070985</td>\n",
       "      <td>0.000000</td>\n",
       "      <td>0.000000</td>\n",
       "      <td>0.000000</td>\n",
       "      <td>0.000000</td>\n",
       "      <td>0.000000</td>\n",
       "      <td>...</td>\n",
       "      <td>0.000000</td>\n",
       "      <td>0.000000</td>\n",
       "      <td>0.000000</td>\n",
       "      <td>0.047722</td>\n",
       "      <td>0.106477</td>\n",
       "      <td>0.031555</td>\n",
       "      <td>0.000000</td>\n",
       "      <td>0.000000</td>\n",
       "      <td>0.000000</td>\n",
       "      <td>0.000000</td>\n",
       "    </tr>\n",
       "    <tr>\n",
       "      <th>45</th>\n",
       "      <td>0.000000</td>\n",
       "      <td>0.000000</td>\n",
       "      <td>0.000000</td>\n",
       "      <td>0.000000</td>\n",
       "      <td>0.000000</td>\n",
       "      <td>0.049429</td>\n",
       "      <td>0.000000</td>\n",
       "      <td>0.049429</td>\n",
       "      <td>0.000000</td>\n",
       "      <td>0.000000</td>\n",
       "      <td>...</td>\n",
       "      <td>0.000000</td>\n",
       "      <td>0.000000</td>\n",
       "      <td>0.000000</td>\n",
       "      <td>0.000000</td>\n",
       "      <td>0.000000</td>\n",
       "      <td>0.000000</td>\n",
       "      <td>0.000000</td>\n",
       "      <td>0.049429</td>\n",
       "      <td>0.000000</td>\n",
       "      <td>0.049429</td>\n",
       "    </tr>\n",
       "    <tr>\n",
       "      <th>46</th>\n",
       "      <td>0.038425</td>\n",
       "      <td>0.000000</td>\n",
       "      <td>0.000000</td>\n",
       "      <td>0.000000</td>\n",
       "      <td>0.000000</td>\n",
       "      <td>0.000000</td>\n",
       "      <td>0.000000</td>\n",
       "      <td>0.000000</td>\n",
       "      <td>0.000000</td>\n",
       "      <td>0.000000</td>\n",
       "      <td>...</td>\n",
       "      <td>0.000000</td>\n",
       "      <td>0.000000</td>\n",
       "      <td>0.000000</td>\n",
       "      <td>0.000000</td>\n",
       "      <td>0.000000</td>\n",
       "      <td>0.000000</td>\n",
       "      <td>0.000000</td>\n",
       "      <td>0.000000</td>\n",
       "      <td>0.000000</td>\n",
       "      <td>0.000000</td>\n",
       "    </tr>\n",
       "    <tr>\n",
       "      <th>47</th>\n",
       "      <td>0.000000</td>\n",
       "      <td>0.000000</td>\n",
       "      <td>0.000000</td>\n",
       "      <td>0.000000</td>\n",
       "      <td>0.000000</td>\n",
       "      <td>0.000000</td>\n",
       "      <td>0.000000</td>\n",
       "      <td>0.000000</td>\n",
       "      <td>0.000000</td>\n",
       "      <td>0.000000</td>\n",
       "      <td>...</td>\n",
       "      <td>0.000000</td>\n",
       "      <td>0.000000</td>\n",
       "      <td>0.000000</td>\n",
       "      <td>0.000000</td>\n",
       "      <td>0.000000</td>\n",
       "      <td>0.000000</td>\n",
       "      <td>0.000000</td>\n",
       "      <td>0.000000</td>\n",
       "      <td>0.000000</td>\n",
       "      <td>0.000000</td>\n",
       "    </tr>\n",
       "    <tr>\n",
       "      <th>48</th>\n",
       "      <td>0.000000</td>\n",
       "      <td>0.000000</td>\n",
       "      <td>0.000000</td>\n",
       "      <td>0.000000</td>\n",
       "      <td>0.000000</td>\n",
       "      <td>0.000000</td>\n",
       "      <td>0.000000</td>\n",
       "      <td>0.000000</td>\n",
       "      <td>0.000000</td>\n",
       "      <td>0.000000</td>\n",
       "      <td>...</td>\n",
       "      <td>0.000000</td>\n",
       "      <td>0.038716</td>\n",
       "      <td>0.000000</td>\n",
       "      <td>0.000000</td>\n",
       "      <td>0.000000</td>\n",
       "      <td>0.000000</td>\n",
       "      <td>0.022990</td>\n",
       "      <td>0.000000</td>\n",
       "      <td>0.000000</td>\n",
       "      <td>0.000000</td>\n",
       "    </tr>\n",
       "    <tr>\n",
       "      <th>49</th>\n",
       "      <td>0.000000</td>\n",
       "      <td>0.040250</td>\n",
       "      <td>0.000000</td>\n",
       "      <td>0.000000</td>\n",
       "      <td>0.000000</td>\n",
       "      <td>0.000000</td>\n",
       "      <td>0.000000</td>\n",
       "      <td>0.000000</td>\n",
       "      <td>0.000000</td>\n",
       "      <td>0.000000</td>\n",
       "      <td>...</td>\n",
       "      <td>0.000000</td>\n",
       "      <td>0.000000</td>\n",
       "      <td>0.047348</td>\n",
       "      <td>0.000000</td>\n",
       "      <td>0.000000</td>\n",
       "      <td>0.031308</td>\n",
       "      <td>0.028116</td>\n",
       "      <td>0.000000</td>\n",
       "      <td>0.094696</td>\n",
       "      <td>0.000000</td>\n",
       "    </tr>\n",
       "  </tbody>\n",
       "</table>\n",
       "<p>10 rows × 2356 columns</p>\n",
       "</div>"
      ],
      "text/plain": [
       "    abkarian      able      ably    abrupt  absolutely  accidentally  \\\n",
       "40  0.000000  0.030452  0.000000  0.035822    0.000000      0.000000   \n",
       "41  0.042557  0.000000  0.000000  0.000000    0.074465      0.000000   \n",
       "42  0.000000  0.000000  0.000000  0.000000    0.000000      0.000000   \n",
       "43  0.000000  0.000000  0.000000  0.000000    0.022416      0.000000   \n",
       "44  0.000000  0.000000  0.047722  0.000000    0.070985      0.000000   \n",
       "45  0.000000  0.000000  0.000000  0.000000    0.000000      0.049429   \n",
       "46  0.038425  0.000000  0.000000  0.000000    0.000000      0.000000   \n",
       "47  0.000000  0.000000  0.000000  0.000000    0.000000      0.000000   \n",
       "48  0.000000  0.000000  0.000000  0.000000    0.000000      0.000000   \n",
       "49  0.000000  0.040250  0.000000  0.000000    0.000000      0.000000   \n",
       "\n",
       "    accompanied  accorded  according   account  ...     wrong       wry  \\\n",
       "40     0.035822  0.000000   0.071644  0.000000  ...  0.000000  0.000000   \n",
       "41     0.000000  0.000000   0.000000  0.000000  ...  0.000000  0.000000   \n",
       "42     0.000000  0.000000   0.000000  0.074358  ...  0.000000  0.000000   \n",
       "43     0.000000  0.000000   0.000000  0.000000  ...  0.030141  0.000000   \n",
       "44     0.000000  0.000000   0.000000  0.000000  ...  0.000000  0.000000   \n",
       "45     0.000000  0.049429   0.000000  0.000000  ...  0.000000  0.000000   \n",
       "46     0.000000  0.000000   0.000000  0.000000  ...  0.000000  0.000000   \n",
       "47     0.000000  0.000000   0.000000  0.000000  ...  0.000000  0.000000   \n",
       "48     0.000000  0.000000   0.000000  0.000000  ...  0.000000  0.038716   \n",
       "49     0.000000  0.000000   0.000000  0.000000  ...  0.000000  0.000000   \n",
       "\n",
       "        yawn      year     years       yes       yet      youd     young  \\\n",
       "40  0.000000  0.000000  0.000000  0.047373  0.021272  0.000000  0.000000   \n",
       "41  0.000000  0.000000  0.037233  0.000000  0.000000  0.000000  0.000000   \n",
       "42  0.000000  0.000000  0.000000  0.024584  0.044155  0.000000  0.000000   \n",
       "43  0.000000  0.000000  0.022416  0.000000  0.017898  0.000000  0.000000   \n",
       "44  0.000000  0.047722  0.106477  0.031555  0.000000  0.000000  0.000000   \n",
       "45  0.000000  0.000000  0.000000  0.000000  0.000000  0.049429  0.000000   \n",
       "46  0.000000  0.000000  0.000000  0.000000  0.000000  0.000000  0.000000   \n",
       "47  0.000000  0.000000  0.000000  0.000000  0.000000  0.000000  0.000000   \n",
       "48  0.000000  0.000000  0.000000  0.000000  0.022990  0.000000  0.000000   \n",
       "49  0.047348  0.000000  0.000000  0.031308  0.028116  0.000000  0.094696   \n",
       "\n",
       "       youve  \n",
       "40  0.000000  \n",
       "41  0.000000  \n",
       "42  0.000000  \n",
       "43  0.000000  \n",
       "44  0.000000  \n",
       "45  0.049429  \n",
       "46  0.000000  \n",
       "47  0.000000  \n",
       "48  0.000000  \n",
       "49  0.000000  \n",
       "\n",
       "[10 rows x 2356 columns]"
      ]
     },
     "execution_count": 31,
     "metadata": {},
     "output_type": "execute_result"
    }
   ],
   "source": [
    "tfidf_scores_sample"
   ]
  },
  {
   "cell_type": "code",
   "execution_count": 32,
   "metadata": {},
   "outputs": [],
   "source": [
    "INPUT_WORD_FOR_EXPLORATION = 'spy'"
   ]
  },
  {
   "cell_type": "code",
   "execution_count": 33,
   "metadata": {},
   "outputs": [
    {
     "data": {
      "text/plain": [
       "40    0.047373\n",
       "41    0.000000\n",
       "42    0.000000\n",
       "43    0.039860\n",
       "44    0.063111\n",
       "45    0.000000\n",
       "46    0.029889\n",
       "47    0.000000\n",
       "48    0.000000\n",
       "49    0.000000\n",
       "Name: spy, dtype: float64"
      ]
     },
     "execution_count": 33,
     "metadata": {},
     "output_type": "execute_result"
    }
   ],
   "source": [
    "tfidf_scores_sample[INPUT_WORD_FOR_EXPLORATION]"
   ]
  },
  {
   "cell_type": "code",
   "execution_count": 34,
   "metadata": {},
   "outputs": [
    {
     "data": {
      "text/plain": [
       "0.018023185152061548"
      ]
     },
     "execution_count": 34,
     "metadata": {},
     "output_type": "execute_result"
    }
   ],
   "source": [
    "tfidf_scores_sample[INPUT_WORD_FOR_EXPLORATION].mean()"
   ]
  },
  {
   "cell_type": "markdown",
   "metadata": {},
   "source": [
    "## Corpus"
   ]
  },
  {
   "cell_type": "code",
   "execution_count": 35,
   "metadata": {},
   "outputs": [],
   "source": [
    "class_corpus_copy = class_corpus.copy()"
   ]
  },
  {
   "cell_type": "code",
   "execution_count": 36,
   "metadata": {},
   "outputs": [],
   "source": [
    "class_corpus_copy['normalized_review_text'] = class_corpus_copy['MovieReview'].apply(normalize_text)\n",
    "vectorizer_tfidf = TfidfVectorizer(stop_words=stop_words)\n",
    "dtm_corpus = vectorizer_tfidf.fit_transform(class_corpus_copy['normalized_review_text'])\n",
    "\n",
    "tfidf_scores_corpus = pd.DataFrame(dtm_corpus.toarray(), \n",
    "                                   columns=vectorizer_tfidf.get_feature_names_out(), \n",
    "                                   index=class_corpus_copy.index)"
   ]
  },
  {
   "cell_type": "code",
   "execution_count": 37,
   "metadata": {},
   "outputs": [
    {
     "data": {
      "text/plain": [
       "0.002259827092617493"
      ]
     },
     "execution_count": 37,
     "metadata": {},
     "output_type": "execute_result"
    }
   ],
   "source": [
    "tfidf_scores_corpus[INPUT_WORD_FOR_EXPLORATION].mean()"
   ]
  },
  {
   "cell_type": "code",
   "execution_count": 38,
   "metadata": {},
   "outputs": [
    {
     "data": {
      "text/plain": [
       "film      0.047998\n",
       "movie     0.037112\n",
       "one       0.034911\n",
       "bond      0.032235\n",
       "like      0.029353\n",
       "time      0.023447\n",
       "us        0.021314\n",
       "action    0.020591\n",
       "matrix    0.020376\n",
       "films     0.019989\n",
       "dtype: float64"
      ]
     },
     "execution_count": 38,
     "metadata": {},
     "output_type": "execute_result"
    }
   ],
   "source": [
    "(tfidf_scores_corpus.mean()\n",
    "                    .sort_values(ascending=False)\n",
    "                    .head(10))"
   ]
  },
  {
   "cell_type": "markdown",
   "metadata": {},
   "source": [
    "# Word2Vec vectorizer"
   ]
  },
  {
   "cell_type": "code",
   "execution_count": 39,
   "metadata": {},
   "outputs": [],
   "source": [
    "top100_tokens_tfidf = (tfidf_scores_corpus.mean()\n",
    "                                          .sort_values(ascending=False)\n",
    "                                          .head(100)\n",
    "                                          .index)"
   ]
  },
  {
   "cell_type": "code",
   "execution_count": 40,
   "metadata": {},
   "outputs": [],
   "source": [
    "class_corpus_copy = (class_corpus.copy()\n",
    "                                 .loc[:,['FileName', 'MovieReview']])"
   ]
  },
  {
   "cell_type": "code",
   "execution_count": 41,
   "metadata": {},
   "outputs": [],
   "source": [
    "class_corpus_copy['normalized_review_text'] = class_corpus_copy['MovieReview'].apply(normalize_text)\n",
    "class_corpus_copy['normalized_review_tokens'] = class_corpus_copy['normalized_review_text'].apply(nltk.word_tokenize)\n",
    "class_corpus_copy['normalized_review_tokens'] = class_corpus_copy['normalized_review_tokens'].apply(remove_stop_words)"
   ]
  },
  {
   "cell_type": "code",
   "execution_count": 42,
   "metadata": {},
   "outputs": [
    {
     "data": {
      "text/html": [
       "<div>\n",
       "<style scoped>\n",
       "    .dataframe tbody tr th:only-of-type {\n",
       "        vertical-align: middle;\n",
       "    }\n",
       "\n",
       "    .dataframe tbody tr th {\n",
       "        vertical-align: top;\n",
       "    }\n",
       "\n",
       "    .dataframe thead th {\n",
       "        text-align: right;\n",
       "    }\n",
       "</style>\n",
       "<table border=\"1\" class=\"dataframe\">\n",
       "  <thead>\n",
       "    <tr style=\"text-align: right;\">\n",
       "      <th></th>\n",
       "      <th>FileName</th>\n",
       "      <th>MovieReview</th>\n",
       "      <th>normalized_review_text</th>\n",
       "      <th>normalized_review_tokens</th>\n",
       "    </tr>\n",
       "  </thead>\n",
       "  <tbody>\n",
       "    <tr>\n",
       "      <th>0</th>\n",
       "      <td>KHS_Doc1_TheRing</td>\n",
       "      <td>Described as a drama, horror and mystery, The ...</td>\n",
       "      <td>described as a drama horror and mystery the ri...</td>\n",
       "      <td>[described, drama, horror, mystery, ring, horr...</td>\n",
       "    </tr>\n",
       "    <tr>\n",
       "      <th>1</th>\n",
       "      <td>KHS_Doc2_TheRing</td>\n",
       "      <td>I hated it, but I grant that it does tap into...</td>\n",
       "      <td>i hated it but i grant that it does tap into ...</td>\n",
       "      <td>[hated, grant, tap, vein, technological, horro...</td>\n",
       "    </tr>\n",
       "    <tr>\n",
       "      <th>2</th>\n",
       "      <td>KHS_Doc3_TheRing</td>\n",
       "      <td>Ehren Kruger (no relation to Freddy) showed a ...</td>\n",
       "      <td>ehren kruger no relation to freddy showed a ge...</td>\n",
       "      <td>[ehren, kruger, relation, freddy, showed, genu...</td>\n",
       "    </tr>\n",
       "    <tr>\n",
       "      <th>3</th>\n",
       "      <td>KHS_Doc4_TheRing</td>\n",
       "      <td>Not all arthouse thrillers are destined to be ...</td>\n",
       "      <td>not all arthouse thrillers are destined to be ...</td>\n",
       "      <td>[arthouse, thrillers, destined, ruined, hollyw...</td>\n",
       "    </tr>\n",
       "    <tr>\n",
       "      <th>4</th>\n",
       "      <td>KHS_Doc5_TheRing</td>\n",
       "      <td>Rarely has a more serious effort produced a le...</td>\n",
       "      <td>rarely has a more serious effort produced a le...</td>\n",
       "      <td>[rarely, serious, effort, produced, less, seri...</td>\n",
       "    </tr>\n",
       "  </tbody>\n",
       "</table>\n",
       "</div>"
      ],
      "text/plain": [
       "           FileName                                        MovieReview  \\\n",
       "0  KHS_Doc1_TheRing  Described as a drama, horror and mystery, The ...   \n",
       "1  KHS_Doc2_TheRing   I hated it, but I grant that it does tap into...   \n",
       "2  KHS_Doc3_TheRing  Ehren Kruger (no relation to Freddy) showed a ...   \n",
       "3  KHS_Doc4_TheRing  Not all arthouse thrillers are destined to be ...   \n",
       "4  KHS_Doc5_TheRing  Rarely has a more serious effort produced a le...   \n",
       "\n",
       "                              normalized_review_text  \\\n",
       "0  described as a drama horror and mystery the ri...   \n",
       "1   i hated it but i grant that it does tap into ...   \n",
       "2  ehren kruger no relation to freddy showed a ge...   \n",
       "3  not all arthouse thrillers are destined to be ...   \n",
       "4  rarely has a more serious effort produced a le...   \n",
       "\n",
       "                            normalized_review_tokens  \n",
       "0  [described, drama, horror, mystery, ring, horr...  \n",
       "1  [hated, grant, tap, vein, technological, horro...  \n",
       "2  [ehren, kruger, relation, freddy, showed, genu...  \n",
       "3  [arthouse, thrillers, destined, ruined, hollyw...  \n",
       "4  [rarely, serious, effort, produced, less, seri...  "
      ]
     },
     "execution_count": 42,
     "metadata": {},
     "output_type": "execute_result"
    }
   ],
   "source": [
    "class_corpus_copy.head()"
   ]
  },
  {
   "cell_type": "code",
   "execution_count": 43,
   "metadata": {},
   "outputs": [],
   "source": [
    "model_word2vec = Word2Vec(sentences=class_corpus_copy.normalized_review_tokens,\n",
    "                          size=100,\n",
    "                          min_count=1)"
   ]
  },
  {
   "cell_type": "code",
   "execution_count": 44,
   "metadata": {},
   "outputs": [
    {
     "data": {
      "text/plain": [
       "array([-4.2410302e-01, -2.0062084e-01, -6.3439143e-01, -9.3693584e-03,\n",
       "        1.3698424e-01, -3.9179039e-01,  1.8510719e-01, -5.5457133e-01,\n",
       "        2.3502164e-01, -7.1540403e-01,  5.3944248e-01,  2.7643470e-02,\n",
       "       -4.1522384e-02, -6.1033335e-02,  3.0540448e-02, -1.1617181e-01,\n",
       "       -7.1712486e-02, -5.3056365e-01, -2.7467480e-01, -3.4661341e-01,\n",
       "       -2.2664033e-01,  2.5238296e-01,  1.2604644e-02, -6.1114351e-03,\n",
       "       -7.6622590e-02,  5.8520192e-01, -1.7474972e-01, -4.3406125e-02,\n",
       "        6.4175028e-01, -1.5668584e-01, -2.3885040e-02, -3.3914182e-01,\n",
       "        2.1494594e-01,  5.1511896e-01,  4.2417815e-01,  7.2722733e-03,\n",
       "        2.8813982e-01, -2.8786969e-01, -6.8628915e-02,  2.8345516e-01,\n",
       "       -1.6835563e-02, -7.6769155e-01, -5.4173402e-02, -3.1043366e-01,\n",
       "       -1.2066330e-01, -2.6876906e-01, -7.5340873e-01, -1.1194940e-01,\n",
       "       -2.1290481e-01, -2.9834561e-02,  1.8984567e-01, -3.4648675e-01,\n",
       "        4.3128726e-01, -6.0646962e-02,  1.0262594e-02,  3.1085637e-01,\n",
       "        3.2110789e-01,  2.3802903e-01, -3.8766024e-01,  1.8247473e-01,\n",
       "        4.2384598e-01, -3.5325477e-01,  7.5026608e-01,  8.0979818e-01,\n",
       "       -3.5847285e-01, -4.0699390e-01,  1.1073809e-01,  2.0266680e-01,\n",
       "        9.1577113e-02, -1.6498718e-01, -4.1788517e-04, -2.4161699e-01,\n",
       "       -9.7457413e-03,  7.1944195e-01, -5.5985499e-02,  6.1562651e-01,\n",
       "        2.5350356e-02,  5.7703108e-01,  3.9854574e-01, -1.5231599e-02,\n",
       "        4.1767180e-01,  4.2577571e-01, -4.3368539e-01,  5.4148918e-01,\n",
       "       -2.7124383e-02,  5.1737016e-01, -1.7555743e-01,  1.0223773e-01,\n",
       "        3.2429200e-02,  3.8196478e-02, -1.7500505e-01, -2.2793494e-02,\n",
       "        6.0553151e-01,  1.0779838e-01, -2.8672799e-01,  4.0087062e-01,\n",
       "       -2.5922313e-01,  3.4677732e-01,  9.1890216e-02,  1.3293520e-01],\n",
       "      dtype=float32)"
      ]
     },
     "execution_count": 44,
     "metadata": {},
     "output_type": "execute_result"
    }
   ],
   "source": [
    "model_word2vec.wv['film']"
   ]
  },
  {
   "cell_type": "code",
   "execution_count": 45,
   "metadata": {},
   "outputs": [
    {
     "data": {
      "text/plain": [
       "(100,)"
      ]
     },
     "execution_count": 45,
     "metadata": {},
     "output_type": "execute_result"
    }
   ],
   "source": [
    "model_word2vec.wv['film'].shape"
   ]
  },
  {
   "cell_type": "code",
   "execution_count": 46,
   "metadata": {},
   "outputs": [],
   "source": [
    "top100_tokens_tfidf_vectors = {token: model_word2vec.wv[token] \n",
    "                               for token in top100_tokens_tfidf}"
   ]
  },
  {
   "cell_type": "code",
   "execution_count": 47,
   "metadata": {},
   "outputs": [],
   "source": [
    "top100_tfidf_word_vectors = (pd.DataFrame(top100_tokens_tfidf_vectors)\n",
    "                               .transpose())"
   ]
  },
  {
   "cell_type": "code",
   "execution_count": 48,
   "metadata": {},
   "outputs": [
    {
     "data": {
      "text/html": [
       "<div>\n",
       "<style scoped>\n",
       "    .dataframe tbody tr th:only-of-type {\n",
       "        vertical-align: middle;\n",
       "    }\n",
       "\n",
       "    .dataframe tbody tr th {\n",
       "        vertical-align: top;\n",
       "    }\n",
       "\n",
       "    .dataframe thead th {\n",
       "        text-align: right;\n",
       "    }\n",
       "</style>\n",
       "<table border=\"1\" class=\"dataframe\">\n",
       "  <thead>\n",
       "    <tr style=\"text-align: right;\">\n",
       "      <th></th>\n",
       "      <th>0</th>\n",
       "      <th>1</th>\n",
       "      <th>2</th>\n",
       "      <th>3</th>\n",
       "      <th>4</th>\n",
       "      <th>5</th>\n",
       "      <th>6</th>\n",
       "      <th>7</th>\n",
       "      <th>8</th>\n",
       "      <th>9</th>\n",
       "      <th>...</th>\n",
       "      <th>90</th>\n",
       "      <th>91</th>\n",
       "      <th>92</th>\n",
       "      <th>93</th>\n",
       "      <th>94</th>\n",
       "      <th>95</th>\n",
       "      <th>96</th>\n",
       "      <th>97</th>\n",
       "      <th>98</th>\n",
       "      <th>99</th>\n",
       "    </tr>\n",
       "  </thead>\n",
       "  <tbody>\n",
       "    <tr>\n",
       "      <th>film</th>\n",
       "      <td>-0.424103</td>\n",
       "      <td>-0.200621</td>\n",
       "      <td>-0.634391</td>\n",
       "      <td>-0.009369</td>\n",
       "      <td>0.136984</td>\n",
       "      <td>-0.391790</td>\n",
       "      <td>0.185107</td>\n",
       "      <td>-0.554571</td>\n",
       "      <td>0.235022</td>\n",
       "      <td>-0.715404</td>\n",
       "      <td>...</td>\n",
       "      <td>-0.175005</td>\n",
       "      <td>-0.022793</td>\n",
       "      <td>0.605532</td>\n",
       "      <td>0.107798</td>\n",
       "      <td>-0.286728</td>\n",
       "      <td>0.400871</td>\n",
       "      <td>-0.259223</td>\n",
       "      <td>0.346777</td>\n",
       "      <td>0.091890</td>\n",
       "      <td>0.132935</td>\n",
       "    </tr>\n",
       "    <tr>\n",
       "      <th>movie</th>\n",
       "      <td>-0.357516</td>\n",
       "      <td>-0.167273</td>\n",
       "      <td>-0.536880</td>\n",
       "      <td>-0.006669</td>\n",
       "      <td>0.108578</td>\n",
       "      <td>-0.329833</td>\n",
       "      <td>0.154632</td>\n",
       "      <td>-0.469727</td>\n",
       "      <td>0.197460</td>\n",
       "      <td>-0.599649</td>\n",
       "      <td>...</td>\n",
       "      <td>-0.144089</td>\n",
       "      <td>-0.019921</td>\n",
       "      <td>0.501904</td>\n",
       "      <td>0.094591</td>\n",
       "      <td>-0.239525</td>\n",
       "      <td>0.336321</td>\n",
       "      <td>-0.210055</td>\n",
       "      <td>0.289360</td>\n",
       "      <td>0.080138</td>\n",
       "      <td>0.106674</td>\n",
       "    </tr>\n",
       "    <tr>\n",
       "      <th>one</th>\n",
       "      <td>-0.368312</td>\n",
       "      <td>-0.176069</td>\n",
       "      <td>-0.553331</td>\n",
       "      <td>-0.006351</td>\n",
       "      <td>0.118489</td>\n",
       "      <td>-0.350917</td>\n",
       "      <td>0.159620</td>\n",
       "      <td>-0.484568</td>\n",
       "      <td>0.214180</td>\n",
       "      <td>-0.623691</td>\n",
       "      <td>...</td>\n",
       "      <td>-0.147604</td>\n",
       "      <td>-0.021464</td>\n",
       "      <td>0.525447</td>\n",
       "      <td>0.093567</td>\n",
       "      <td>-0.252597</td>\n",
       "      <td>0.353237</td>\n",
       "      <td>-0.221370</td>\n",
       "      <td>0.305889</td>\n",
       "      <td>0.080479</td>\n",
       "      <td>0.114219</td>\n",
       "    </tr>\n",
       "    <tr>\n",
       "      <th>bond</th>\n",
       "      <td>-0.311641</td>\n",
       "      <td>-0.141334</td>\n",
       "      <td>-0.465417</td>\n",
       "      <td>-0.004766</td>\n",
       "      <td>0.093550</td>\n",
       "      <td>-0.287692</td>\n",
       "      <td>0.125503</td>\n",
       "      <td>-0.410849</td>\n",
       "      <td>0.174675</td>\n",
       "      <td>-0.516892</td>\n",
       "      <td>...</td>\n",
       "      <td>-0.131909</td>\n",
       "      <td>-0.013320</td>\n",
       "      <td>0.442223</td>\n",
       "      <td>0.078736</td>\n",
       "      <td>-0.211900</td>\n",
       "      <td>0.292277</td>\n",
       "      <td>-0.180082</td>\n",
       "      <td>0.246612</td>\n",
       "      <td>0.072921</td>\n",
       "      <td>0.097045</td>\n",
       "    </tr>\n",
       "    <tr>\n",
       "      <th>like</th>\n",
       "      <td>-0.362139</td>\n",
       "      <td>-0.165082</td>\n",
       "      <td>-0.527893</td>\n",
       "      <td>-0.011645</td>\n",
       "      <td>0.116189</td>\n",
       "      <td>-0.338087</td>\n",
       "      <td>0.145937</td>\n",
       "      <td>-0.469587</td>\n",
       "      <td>0.202815</td>\n",
       "      <td>-0.595272</td>\n",
       "      <td>...</td>\n",
       "      <td>-0.149803</td>\n",
       "      <td>-0.018216</td>\n",
       "      <td>0.504664</td>\n",
       "      <td>0.087176</td>\n",
       "      <td>-0.237644</td>\n",
       "      <td>0.333630</td>\n",
       "      <td>-0.218167</td>\n",
       "      <td>0.289628</td>\n",
       "      <td>0.083335</td>\n",
       "      <td>0.113424</td>\n",
       "    </tr>\n",
       "    <tr>\n",
       "      <th>...</th>\n",
       "      <td>...</td>\n",
       "      <td>...</td>\n",
       "      <td>...</td>\n",
       "      <td>...</td>\n",
       "      <td>...</td>\n",
       "      <td>...</td>\n",
       "      <td>...</td>\n",
       "      <td>...</td>\n",
       "      <td>...</td>\n",
       "      <td>...</td>\n",
       "      <td>...</td>\n",
       "      <td>...</td>\n",
       "      <td>...</td>\n",
       "      <td>...</td>\n",
       "      <td>...</td>\n",
       "      <td>...</td>\n",
       "      <td>...</td>\n",
       "      <td>...</td>\n",
       "      <td>...</td>\n",
       "      <td>...</td>\n",
       "      <td>...</td>\n",
       "    </tr>\n",
       "    <tr>\n",
       "      <th>things</th>\n",
       "      <td>-0.123259</td>\n",
       "      <td>-0.054636</td>\n",
       "      <td>-0.179786</td>\n",
       "      <td>-0.006978</td>\n",
       "      <td>0.032489</td>\n",
       "      <td>-0.117195</td>\n",
       "      <td>0.046750</td>\n",
       "      <td>-0.152383</td>\n",
       "      <td>0.069245</td>\n",
       "      <td>-0.204483</td>\n",
       "      <td>...</td>\n",
       "      <td>-0.051816</td>\n",
       "      <td>-0.001866</td>\n",
       "      <td>0.168174</td>\n",
       "      <td>0.027606</td>\n",
       "      <td>-0.075280</td>\n",
       "      <td>0.113844</td>\n",
       "      <td>-0.067146</td>\n",
       "      <td>0.095246</td>\n",
       "      <td>0.028980</td>\n",
       "      <td>0.032049</td>\n",
       "    </tr>\n",
       "    <tr>\n",
       "      <th>music</th>\n",
       "      <td>-0.099396</td>\n",
       "      <td>-0.045971</td>\n",
       "      <td>-0.145454</td>\n",
       "      <td>-0.006848</td>\n",
       "      <td>0.030704</td>\n",
       "      <td>-0.093609</td>\n",
       "      <td>0.046950</td>\n",
       "      <td>-0.125423</td>\n",
       "      <td>0.051617</td>\n",
       "      <td>-0.166833</td>\n",
       "      <td>...</td>\n",
       "      <td>-0.038912</td>\n",
       "      <td>-0.008283</td>\n",
       "      <td>0.137192</td>\n",
       "      <td>0.023672</td>\n",
       "      <td>-0.062287</td>\n",
       "      <td>0.090394</td>\n",
       "      <td>-0.061578</td>\n",
       "      <td>0.080238</td>\n",
       "      <td>0.025085</td>\n",
       "      <td>0.033603</td>\n",
       "    </tr>\n",
       "    <tr>\n",
       "      <th>set</th>\n",
       "      <td>-0.125394</td>\n",
       "      <td>-0.065564</td>\n",
       "      <td>-0.195615</td>\n",
       "      <td>-0.000832</td>\n",
       "      <td>0.034711</td>\n",
       "      <td>-0.121179</td>\n",
       "      <td>0.050785</td>\n",
       "      <td>-0.172598</td>\n",
       "      <td>0.076655</td>\n",
       "      <td>-0.215363</td>\n",
       "      <td>...</td>\n",
       "      <td>-0.053352</td>\n",
       "      <td>-0.010358</td>\n",
       "      <td>0.179701</td>\n",
       "      <td>0.036250</td>\n",
       "      <td>-0.084211</td>\n",
       "      <td>0.125034</td>\n",
       "      <td>-0.076784</td>\n",
       "      <td>0.103028</td>\n",
       "      <td>0.027677</td>\n",
       "      <td>0.036993</td>\n",
       "    </tr>\n",
       "    <tr>\n",
       "      <th>though</th>\n",
       "      <td>-0.121567</td>\n",
       "      <td>-0.055185</td>\n",
       "      <td>-0.185279</td>\n",
       "      <td>-0.003114</td>\n",
       "      <td>0.041002</td>\n",
       "      <td>-0.117117</td>\n",
       "      <td>0.049592</td>\n",
       "      <td>-0.157804</td>\n",
       "      <td>0.066608</td>\n",
       "      <td>-0.210656</td>\n",
       "      <td>...</td>\n",
       "      <td>-0.054971</td>\n",
       "      <td>-0.001770</td>\n",
       "      <td>0.174703</td>\n",
       "      <td>0.027834</td>\n",
       "      <td>-0.083592</td>\n",
       "      <td>0.115449</td>\n",
       "      <td>-0.069144</td>\n",
       "      <td>0.100739</td>\n",
       "      <td>0.029320</td>\n",
       "      <td>0.037612</td>\n",
       "    </tr>\n",
       "    <tr>\n",
       "      <th>plot</th>\n",
       "      <td>-0.141311</td>\n",
       "      <td>-0.067316</td>\n",
       "      <td>-0.204688</td>\n",
       "      <td>-0.009525</td>\n",
       "      <td>0.048005</td>\n",
       "      <td>-0.129121</td>\n",
       "      <td>0.053678</td>\n",
       "      <td>-0.186023</td>\n",
       "      <td>0.082531</td>\n",
       "      <td>-0.227665</td>\n",
       "      <td>...</td>\n",
       "      <td>-0.052140</td>\n",
       "      <td>-0.011225</td>\n",
       "      <td>0.195410</td>\n",
       "      <td>0.036603</td>\n",
       "      <td>-0.092909</td>\n",
       "      <td>0.135178</td>\n",
       "      <td>-0.081707</td>\n",
       "      <td>0.116375</td>\n",
       "      <td>0.033436</td>\n",
       "      <td>0.037369</td>\n",
       "    </tr>\n",
       "  </tbody>\n",
       "</table>\n",
       "<p>100 rows × 100 columns</p>\n",
       "</div>"
      ],
      "text/plain": [
       "              0         1         2         3         4         5         6   \\\n",
       "film   -0.424103 -0.200621 -0.634391 -0.009369  0.136984 -0.391790  0.185107   \n",
       "movie  -0.357516 -0.167273 -0.536880 -0.006669  0.108578 -0.329833  0.154632   \n",
       "one    -0.368312 -0.176069 -0.553331 -0.006351  0.118489 -0.350917  0.159620   \n",
       "bond   -0.311641 -0.141334 -0.465417 -0.004766  0.093550 -0.287692  0.125503   \n",
       "like   -0.362139 -0.165082 -0.527893 -0.011645  0.116189 -0.338087  0.145937   \n",
       "...          ...       ...       ...       ...       ...       ...       ...   \n",
       "things -0.123259 -0.054636 -0.179786 -0.006978  0.032489 -0.117195  0.046750   \n",
       "music  -0.099396 -0.045971 -0.145454 -0.006848  0.030704 -0.093609  0.046950   \n",
       "set    -0.125394 -0.065564 -0.195615 -0.000832  0.034711 -0.121179  0.050785   \n",
       "though -0.121567 -0.055185 -0.185279 -0.003114  0.041002 -0.117117  0.049592   \n",
       "plot   -0.141311 -0.067316 -0.204688 -0.009525  0.048005 -0.129121  0.053678   \n",
       "\n",
       "              7         8         9   ...        90        91        92  \\\n",
       "film   -0.554571  0.235022 -0.715404  ... -0.175005 -0.022793  0.605532   \n",
       "movie  -0.469727  0.197460 -0.599649  ... -0.144089 -0.019921  0.501904   \n",
       "one    -0.484568  0.214180 -0.623691  ... -0.147604 -0.021464  0.525447   \n",
       "bond   -0.410849  0.174675 -0.516892  ... -0.131909 -0.013320  0.442223   \n",
       "like   -0.469587  0.202815 -0.595272  ... -0.149803 -0.018216  0.504664   \n",
       "...          ...       ...       ...  ...       ...       ...       ...   \n",
       "things -0.152383  0.069245 -0.204483  ... -0.051816 -0.001866  0.168174   \n",
       "music  -0.125423  0.051617 -0.166833  ... -0.038912 -0.008283  0.137192   \n",
       "set    -0.172598  0.076655 -0.215363  ... -0.053352 -0.010358  0.179701   \n",
       "though -0.157804  0.066608 -0.210656  ... -0.054971 -0.001770  0.174703   \n",
       "plot   -0.186023  0.082531 -0.227665  ... -0.052140 -0.011225  0.195410   \n",
       "\n",
       "              93        94        95        96        97        98        99  \n",
       "film    0.107798 -0.286728  0.400871 -0.259223  0.346777  0.091890  0.132935  \n",
       "movie   0.094591 -0.239525  0.336321 -0.210055  0.289360  0.080138  0.106674  \n",
       "one     0.093567 -0.252597  0.353237 -0.221370  0.305889  0.080479  0.114219  \n",
       "bond    0.078736 -0.211900  0.292277 -0.180082  0.246612  0.072921  0.097045  \n",
       "like    0.087176 -0.237644  0.333630 -0.218167  0.289628  0.083335  0.113424  \n",
       "...          ...       ...       ...       ...       ...       ...       ...  \n",
       "things  0.027606 -0.075280  0.113844 -0.067146  0.095246  0.028980  0.032049  \n",
       "music   0.023672 -0.062287  0.090394 -0.061578  0.080238  0.025085  0.033603  \n",
       "set     0.036250 -0.084211  0.125034 -0.076784  0.103028  0.027677  0.036993  \n",
       "though  0.027834 -0.083592  0.115449 -0.069144  0.100739  0.029320  0.037612  \n",
       "plot    0.036603 -0.092909  0.135178 -0.081707  0.116375  0.033436  0.037369  \n",
       "\n",
       "[100 rows x 100 columns]"
      ]
     },
     "execution_count": 48,
     "metadata": {},
     "output_type": "execute_result"
    }
   ],
   "source": [
    "top100_tfidf_word_vectors"
   ]
  },
  {
   "cell_type": "code",
   "execution_count": 49,
   "metadata": {},
   "outputs": [],
   "source": [
    "top100_tfidf_word_vectors.to_csv('top100_tfidf_wv.tsv', \n",
    "                                 sep='\\t',\n",
    "                                 header=False,\n",
    "                                 index=False)"
   ]
  },
  {
   "cell_type": "code",
   "execution_count": 50,
   "metadata": {},
   "outputs": [],
   "source": [
    "with open('top100_tfidf_labels.txt', 'w') as f:\n",
    "    for item in top100_tfidf_word_vectors.index:\n",
    "        f.write(\"%s\\n\" % item)"
   ]
  },
  {
   "cell_type": "markdown",
   "metadata": {},
   "source": [
    "These word vectors can then be visualized by uploading to the tensorflow projector. "
   ]
  },
  {
   "cell_type": "markdown",
   "metadata": {},
   "source": [
    "https://projector.tensorflow.org/"
   ]
  },
  {
   "cell_type": "markdown",
   "metadata": {},
   "source": [
    "Once word vectors are generated, we can then compute the cosine similarity between each pair of word vectors"
   ]
  },
  {
   "cell_type": "code",
   "execution_count": 51,
   "metadata": {},
   "outputs": [],
   "source": [
    "similarities = cosine_similarity(top100_tfidf_word_vectors, \n",
    "                                 top100_tfidf_word_vectors)"
   ]
  },
  {
   "cell_type": "code",
   "execution_count": 52,
   "metadata": {},
   "outputs": [
    {
     "data": {
      "text/plain": [
       "<AxesSubplot:>"
      ]
     },
     "execution_count": 52,
     "metadata": {},
     "output_type": "execute_result"
    },
    {
     "data": {
      "image/png": "[encoded data removed]",
      "text/plain": [
       "<Figure size 2880x2880 with 2 Axes>"
      ]
     },
     "metadata": {
      "needs_background": "light"
     },
     "output_type": "display_data"
    }
   ],
   "source": [
    "fig, ax = plt.subplots(figsize=(40, 40))\n",
    "sns.heatmap(ax=ax, \n",
    "            data=similarities,\n",
    "            xticklabels=top100_tfidf_word_vectors.index, \n",
    "            yticklabels=top100_tfidf_word_vectors.index)"
   ]
  }
 ],
 "metadata": {
  "interpreter": {
   "hash": "ed814b8eb4390c6b935a0c6c0dc3f300c9897d4069b031d69edadfac63e39578"
  },
  "kernelspec": {
   "display_name": "Python 3.8.12 ('msdsp453')",
   "language": "python",
   "name": "python3"
  },
  "language_info": {
   "codemirror_mode": {
    "name": "ipython",
    "version": 3
   },
   "file_extension": ".py",
   "mimetype": "text/x-python",
   "name": "python",
   "nbconvert_exporter": "python",
   "pygments_lexer": "ipython3",
   "version": "3.8.12"
  },
  "orig_nbformat": 4
 },
 "nbformat": 4,
 "nbformat_minor": 2
}
