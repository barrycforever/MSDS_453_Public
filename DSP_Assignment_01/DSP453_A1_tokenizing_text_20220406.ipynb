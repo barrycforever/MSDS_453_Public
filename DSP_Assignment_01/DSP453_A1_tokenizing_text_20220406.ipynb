{
 "cells": [
  {
   "cell_type": "markdown",
   "metadata": {},
   "source": [
    "# 1. Objective\n",
    "\n",
    "To illustrate the helper functions used for tokenization, normalization, stemming and lemmatization"
   ]
  },
  {
   "cell_type": "markdown",
   "metadata": {},
   "source": [
    "## Imports"
   ]
  },
  {
   "cell_type": "code",
   "execution_count": 1,
   "metadata": {},
   "outputs": [],
   "source": [
    "import nltk\n",
    "import re\n",
    "\n",
    "import pandas as pd\n",
    "\n",
    "from nltk.stem.wordnet import WordNetLemmatizer\n",
    "from nltk.stem import PorterStemmer\n",
    "\n",
    "from nltk.corpus import stopwords"
   ]
  },
  {
   "cell_type": "markdown",
   "metadata": {},
   "source": [
    "## Data"
   ]
  },
  {
   "cell_type": "code",
   "execution_count": 2,
   "metadata": {},
   "outputs": [],
   "source": [
    "data_file = 'DSP453_ClassCorpus.csv'"
   ]
  },
  {
   "cell_type": "code",
   "execution_count": 3,
   "metadata": {},
   "outputs": [],
   "source": [
    "class_corpus = pd.read_csv(data_file)"
   ]
  },
  {
   "cell_type": "code",
   "execution_count": 4,
   "metadata": {},
   "outputs": [
    {
     "data": {
      "text/plain": [
       "(190, 6)"
      ]
     },
     "execution_count": 4,
     "metadata": {},
     "output_type": "execute_result"
    }
   ],
   "source": [
    "class_corpus.shape"
   ]
  },
  {
   "cell_type": "code",
   "execution_count": 5,
   "metadata": {},
   "outputs": [
    {
     "data": {
      "text/html": [
       "<div>\n",
       "<style scoped>\n",
       "    .dataframe tbody tr th:only-of-type {\n",
       "        vertical-align: middle;\n",
       "    }\n",
       "\n",
       "    .dataframe tbody tr th {\n",
       "        vertical-align: top;\n",
       "    }\n",
       "\n",
       "    .dataframe thead th {\n",
       "        text-align: right;\n",
       "    }\n",
       "</style>\n",
       "<table border=\"1\" class=\"dataframe\">\n",
       "  <thead>\n",
       "    <tr style=\"text-align: right;\">\n",
       "      <th></th>\n",
       "      <th>FileName</th>\n",
       "      <th>StudentName</th>\n",
       "      <th>Genre</th>\n",
       "      <th>ReviewType</th>\n",
       "      <th>MovieTitle</th>\n",
       "      <th>MovieReview</th>\n",
       "    </tr>\n",
       "  </thead>\n",
       "  <tbody>\n",
       "    <tr>\n",
       "      <th>0</th>\n",
       "      <td>KHS_Doc1_TheRing</td>\n",
       "      <td>KHS</td>\n",
       "      <td>Horror</td>\n",
       "      <td>Negative</td>\n",
       "      <td>The Ring</td>\n",
       "      <td>Described as a drama, horror and mystery, The ...</td>\n",
       "    </tr>\n",
       "    <tr>\n",
       "      <th>1</th>\n",
       "      <td>KHS_Doc2_TheRing</td>\n",
       "      <td>KHS</td>\n",
       "      <td>Horror</td>\n",
       "      <td>Negative</td>\n",
       "      <td>The Ring</td>\n",
       "      <td>I hated it, but I grant that it does tap into...</td>\n",
       "    </tr>\n",
       "    <tr>\n",
       "      <th>2</th>\n",
       "      <td>KHS_Doc3_TheRing</td>\n",
       "      <td>KHS</td>\n",
       "      <td>Horror</td>\n",
       "      <td>Negative</td>\n",
       "      <td>The Ring</td>\n",
       "      <td>Ehren Kruger (no relation to Freddy) showed a ...</td>\n",
       "    </tr>\n",
       "    <tr>\n",
       "      <th>3</th>\n",
       "      <td>KHS_Doc4_TheRing</td>\n",
       "      <td>KHS</td>\n",
       "      <td>Horror</td>\n",
       "      <td>Negative</td>\n",
       "      <td>The Ring</td>\n",
       "      <td>Not all arthouse thrillers are destined to be ...</td>\n",
       "    </tr>\n",
       "    <tr>\n",
       "      <th>4</th>\n",
       "      <td>KHS_Doc5_TheRing</td>\n",
       "      <td>KHS</td>\n",
       "      <td>Horror</td>\n",
       "      <td>Negative</td>\n",
       "      <td>The Ring</td>\n",
       "      <td>Rarely has a more serious effort produced a le...</td>\n",
       "    </tr>\n",
       "    <tr>\n",
       "      <th>5</th>\n",
       "      <td>KHS_Doc6_TheRing</td>\n",
       "      <td>KHS</td>\n",
       "      <td>Horror</td>\n",
       "      <td>Positive</td>\n",
       "      <td>The Ring</td>\n",
       "      <td>The opening segment ends on an unsettling note...</td>\n",
       "    </tr>\n",
       "    <tr>\n",
       "      <th>6</th>\n",
       "      <td>KHS_Doc7_TheRing</td>\n",
       "      <td>KHS</td>\n",
       "      <td>Horror</td>\n",
       "      <td>Positive</td>\n",
       "      <td>The Ring</td>\n",
       "      <td>A big-budget American remake of a Japanese sen...</td>\n",
       "    </tr>\n",
       "    <tr>\n",
       "      <th>7</th>\n",
       "      <td>KHS_Doc8_TheRing</td>\n",
       "      <td>KHS</td>\n",
       "      <td>Horror</td>\n",
       "      <td>Positive</td>\n",
       "      <td>The Ring</td>\n",
       "      <td>Like most horror movies, \"The Ring\" is somethi...</td>\n",
       "    </tr>\n",
       "    <tr>\n",
       "      <th>8</th>\n",
       "      <td>KHS_Doc9_TheRing</td>\n",
       "      <td>KHS</td>\n",
       "      <td>Horror</td>\n",
       "      <td>Positive</td>\n",
       "      <td>The Ring</td>\n",
       "      <td>Paul Schrader turns Auto Focus into an anti-se...</td>\n",
       "    </tr>\n",
       "    <tr>\n",
       "      <th>9</th>\n",
       "      <td>KHS_Doc10_TheRing</td>\n",
       "      <td>KHS</td>\n",
       "      <td>Horror</td>\n",
       "      <td>Positive</td>\n",
       "      <td>The Ring</td>\n",
       "      <td>Gore Verbinskis The Ring , from a screenplay b...</td>\n",
       "    </tr>\n",
       "  </tbody>\n",
       "</table>\n",
       "</div>"
      ],
      "text/plain": [
       "            FileName StudentName   Genre ReviewType MovieTitle  \\\n",
       "0   KHS_Doc1_TheRing         KHS  Horror   Negative   The Ring   \n",
       "1   KHS_Doc2_TheRing         KHS  Horror   Negative   The Ring   \n",
       "2   KHS_Doc3_TheRing         KHS  Horror   Negative   The Ring   \n",
       "3   KHS_Doc4_TheRing         KHS  Horror   Negative   The Ring   \n",
       "4   KHS_Doc5_TheRing         KHS  Horror   Negative   The Ring   \n",
       "5   KHS_Doc6_TheRing         KHS  Horror   Positive   The Ring   \n",
       "6   KHS_Doc7_TheRing         KHS  Horror   Positive   The Ring   \n",
       "7   KHS_Doc8_TheRing         KHS  Horror   Positive   The Ring   \n",
       "8   KHS_Doc9_TheRing         KHS  Horror   Positive   The Ring   \n",
       "9  KHS_Doc10_TheRing         KHS  Horror   Positive   The Ring   \n",
       "\n",
       "                                         MovieReview  \n",
       "0  Described as a drama, horror and mystery, The ...  \n",
       "1   I hated it, but I grant that it does tap into...  \n",
       "2  Ehren Kruger (no relation to Freddy) showed a ...  \n",
       "3  Not all arthouse thrillers are destined to be ...  \n",
       "4  Rarely has a more serious effort produced a le...  \n",
       "5  The opening segment ends on an unsettling note...  \n",
       "6  A big-budget American remake of a Japanese sen...  \n",
       "7  Like most horror movies, \"The Ring\" is somethi...  \n",
       "8  Paul Schrader turns Auto Focus into an anti-se...  \n",
       "9  Gore Verbinskis The Ring , from a screenplay b...  "
      ]
     },
     "execution_count": 5,
     "metadata": {},
     "output_type": "execute_result"
    }
   ],
   "source": [
    "class_corpus.head(10)"
   ]
  },
  {
   "cell_type": "code",
   "execution_count": 6,
   "metadata": {},
   "outputs": [],
   "source": [
    "sample_review_text = class_corpus['MovieReview'][9]"
   ]
  },
  {
   "cell_type": "code",
   "execution_count": 7,
   "metadata": {},
   "outputs": [
    {
     "data": {
      "text/plain": [
       "'Gore Verbinskis The Ring , from a screenplay by Ehren Kruger, is not some Wagnerian operatic film, a'"
      ]
     },
     "execution_count": 7,
     "metadata": {},
     "output_type": "execute_result"
    }
   ],
   "source": [
    "sample_review_text[0:100]"
   ]
  },
  {
   "cell_type": "markdown",
   "metadata": {},
   "source": [
    "# 2. Normalization"
   ]
  },
  {
   "cell_type": "code",
   "execution_count": 8,
   "metadata": {},
   "outputs": [],
   "source": [
    "stop_words = set(nltk.corpus.stopwords.words('english'))"
   ]
  },
  {
   "cell_type": "code",
   "execution_count": 9,
   "metadata": {},
   "outputs": [],
   "source": [
    "def remove_punctuation(text):\n",
    "    return re.sub('[^a-zA-Z]', ' ', str(text))\n",
    "\n",
    "def lower_case(text):\n",
    "    return text.lower()    \n",
    "\n",
    "def remove_tags(text):    \n",
    "    return re.sub(\"&lt;/?.*?&gt;\",\" &lt;&gt; \", text)\n",
    "\n",
    "def remove_special_chars_and_digits(text):\n",
    "    return re.sub(\"(\\\\d|\\\\W)+\",\" \", text)\n",
    "\n",
    "def remove_stop_words(tokenized_text):\n",
    "    return [w for w in tokenized_text if not w in stop_words]\n"
   ]
  },
  {
   "cell_type": "code",
   "execution_count": 10,
   "metadata": {},
   "outputs": [],
   "source": [
    "normalized_sample_text = remove_punctuation(sample_review_text)\n",
    "normalized_sample_text = lower_case(normalized_sample_text)\n",
    "normalized_sample_text = remove_tags(normalized_sample_text)\n",
    "normalized_sample_text = remove_special_chars_and_digits(normalized_sample_text)"
   ]
  },
  {
   "cell_type": "code",
   "execution_count": 11,
   "metadata": {},
   "outputs": [
    {
     "data": {
      "text/plain": [
       "'gore verbinskis the ring from a screenplay by ehren kruger is not some wagnerian operatic film as it'"
      ]
     },
     "execution_count": 11,
     "metadata": {},
     "output_type": "execute_result"
    }
   ],
   "source": [
    "normalized_sample_text[0:100]"
   ]
  },
  {
   "cell_type": "code",
   "execution_count": 12,
   "metadata": {},
   "outputs": [],
   "source": [
    "normalized_sample_tokens = nltk.word_tokenize(normalized_sample_text)"
   ]
  },
  {
   "cell_type": "code",
   "execution_count": 13,
   "metadata": {},
   "outputs": [
    {
     "data": {
      "text/plain": [
       "['gore',\n",
       " 'verbinskis',\n",
       " 'the',\n",
       " 'ring',\n",
       " 'from',\n",
       " 'a',\n",
       " 'screenplay',\n",
       " 'by',\n",
       " 'ehren',\n",
       " 'kruger',\n",
       " 'is',\n",
       " 'not',\n",
       " 'some',\n",
       " 'wagnerian',\n",
       " 'operatic']"
      ]
     },
     "execution_count": 13,
     "metadata": {},
     "output_type": "execute_result"
    }
   ],
   "source": [
    "normalized_sample_tokens[0:15]"
   ]
  },
  {
   "cell_type": "code",
   "execution_count": 14,
   "metadata": {},
   "outputs": [],
   "source": [
    "normalized_sample_tokens = remove_stop_words(normalized_sample_tokens)"
   ]
  },
  {
   "cell_type": "markdown",
   "metadata": {},
   "source": [
    "# 3. Lemmatization "
   ]
  },
  {
   "cell_type": "code",
   "execution_count": 15,
   "metadata": {},
   "outputs": [],
   "source": [
    "lemmatizer = WordNetLemmatizer()"
   ]
  },
  {
   "cell_type": "code",
   "execution_count": 16,
   "metadata": {},
   "outputs": [
    {
     "name": "stdout",
     "output_type": "stream",
     "text": [
      "gore | gore\n",
      "verbinskis | verbinskis\n",
      "ring | ring\n",
      "screenplay | screenplay\n",
      "ehren | ehren\n",
      "kruger | kruger\n",
      "wagnerian | wagnerian\n",
      "operatic | operatic\n",
      "film | film\n",
      "title | title\n",
      "might | might\n",
      "suggest | suggest\n",
      "rather | rather\n",
      "remake | remake\n",
      "box | box\n"
     ]
    }
   ],
   "source": [
    "for word in normalized_sample_tokens[0:15]:\n",
    "    lemmatized_word = lemmatizer.lemmatize(word)\n",
    "    print(word + ' | ' + lemmatized_word)"
   ]
  },
  {
   "cell_type": "markdown",
   "metadata": {},
   "source": [
    "# 4. Stemming"
   ]
  },
  {
   "cell_type": "code",
   "execution_count": 17,
   "metadata": {},
   "outputs": [],
   "source": [
    "stemmer = PorterStemmer()"
   ]
  },
  {
   "cell_type": "code",
   "execution_count": 18,
   "metadata": {},
   "outputs": [
    {
     "name": "stdout",
     "output_type": "stream",
     "text": [
      "gore | gore\n",
      "verbinskis | verbinski\n",
      "ring | ring\n",
      "screenplay | screenplay\n",
      "ehren | ehren\n",
      "kruger | kruger\n",
      "wagnerian | wagnerian\n",
      "operatic | operat\n",
      "film | film\n",
      "title | titl\n",
      "might | might\n",
      "suggest | suggest\n",
      "rather | rather\n",
      "remake | remak\n",
      "box | box\n"
     ]
    }
   ],
   "source": [
    "for word in normalized_sample_tokens[0:15]:\n",
    "    stemmed_word = stemmer.stem(word)\n",
    "    print(word + ' | ' + stemmed_word)"
   ]
  },
  {
   "cell_type": "markdown",
   "metadata": {},
   "source": [
    "**Question:** Should we do lemmatization and stemming both? If so, is there any order in which these should be executed?"
   ]
  },
  {
   "cell_type": "code",
   "execution_count": 19,
   "metadata": {},
   "outputs": [
    {
     "name": "stdout",
     "output_type": "stream",
     "text": [
      "run\n",
      "run\n",
      "running\n",
      "ran\n"
     ]
    }
   ],
   "source": [
    "for word_ in ['run', 'runs', 'running', 'ran']:\n",
    "    print(lemmatizer.lemmatize(word_))"
   ]
  },
  {
   "cell_type": "code",
   "execution_count": 20,
   "metadata": {},
   "outputs": [
    {
     "name": "stdout",
     "output_type": "stream",
     "text": [
      "run\n",
      "run\n",
      "run\n",
      "ran\n",
      "random\n"
     ]
    }
   ],
   "source": [
    "for word_ in ['run', 'runs', 'running', 'ran', 'random']:\n",
    "    print(stemmer.stem(word_))"
   ]
  },
  {
   "cell_type": "markdown",
   "metadata": {},
   "source": [
    "# Reading\n",
    "[On lemmatization and stemming](https://nlp.stanford.edu/IR-book/html/htmledition/stemming-and-lemmatization-1.html#:~:text=Lemmatization%20usually%20refers%20to%20doing,is%20known%20as%20the%20lemma%20.)"
   ]
  }
 ],
 "metadata": {
  "interpreter": {
   "hash": "7950c13eb57d42f0116f3555e6571011998b5ceb62e53abca7a9544d8c7af083"
  },
  "kernelspec": {
   "display_name": "Python 3.8.12 ('msdsp453')",
   "language": "python",
   "name": "python3"
  },
  "language_info": {
   "codemirror_mode": {
    "name": "ipython",
    "version": 3
   },
   "file_extension": ".py",
   "mimetype": "text/x-python",
   "name": "python",
   "nbconvert_exporter": "python",
   "pygments_lexer": "ipython3",
   "version": "3.8.12"
  },
  "orig_nbformat": 4
 },
 "nbformat": 4,
 "nbformat_minor": 2
}
