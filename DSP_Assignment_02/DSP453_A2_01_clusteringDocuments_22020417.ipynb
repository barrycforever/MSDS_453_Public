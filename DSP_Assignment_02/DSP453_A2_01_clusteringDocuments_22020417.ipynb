{
 "cells": [
  {
   "cell_type": "code",
   "execution_count": 149,
   "metadata": {},
   "outputs": [],
   "source": [
    "import re\n",
    "import nltk\n",
    "import gensim\n",
    "import string\n",
    "\n",
    "import pandas as pd\n",
    "import numpy as np\n",
    "import matplotlib.pyplot as plt\n",
    "import seaborn as sns\n",
    "\n",
    "from nltk.corpus import stopwords\n",
    "from sklearn.feature_extraction.text import TfidfVectorizer\n",
    "from gensim.models.doc2vec import Doc2Vec, TaggedDocument\n",
    "\n",
    "from sklearn.preprocessing import normalize\n",
    "from sklearn.cluster import KMeans\n",
    "from sklearn.metrics import silhouette_score\n",
    "from sklearn.manifold import TSNE"
   ]
  },
  {
   "cell_type": "code",
   "execution_count": 2,
   "metadata": {},
   "outputs": [],
   "source": [
    "sns.set_context('talk')"
   ]
  },
  {
   "cell_type": "code",
   "execution_count": 28,
   "metadata": {},
   "outputs": [],
   "source": [
    "def remove_punctuation(text):\n",
    "    return re.sub('[^a-zA-Z]', ' ', str(text))\n",
    "\n",
    "def lower_case(text):\n",
    "    return text.lower()    \n",
    "\n",
    "def remove_tags(text):    \n",
    "    return re.sub(\"&lt;/?.*?&gt;\",\" &lt;&gt; \", text)\n",
    "\n",
    "def remove_special_chars_and_digits(text):\n",
    "    return re.sub(\"(\\\\d|\\\\W)+\",\" \", text)\n",
    "\n",
    "def remove_stop_words(tokenized_text):\n",
    "    return [w for w in tokenized_text if not w in set(stopwords.words('english'))]\n",
    "\n",
    "def normalize_text(text: str) -> str:\n",
    "    text = remove_punctuation(text)\n",
    "    text = lower_case(text)\n",
    "    text = remove_tags(text)\n",
    "    text = remove_special_chars_and_digits(text)\n",
    "    \n",
    "    return text"
   ]
  },
  {
   "cell_type": "code",
   "execution_count": 22,
   "metadata": {},
   "outputs": [],
   "source": [
    "class_corpus = pd.read_csv('ClassCorpus_V2.csv')"
   ]
  },
  {
   "cell_type": "code",
   "execution_count": 23,
   "metadata": {},
   "outputs": [
    {
     "data": {
      "text/html": [
       "<div>\n",
       "<style scoped>\n",
       "    .dataframe tbody tr th:only-of-type {\n",
       "        vertical-align: middle;\n",
       "    }\n",
       "\n",
       "    .dataframe tbody tr th {\n",
       "        vertical-align: top;\n",
       "    }\n",
       "\n",
       "    .dataframe thead th {\n",
       "        text-align: right;\n",
       "    }\n",
       "</style>\n",
       "<table border=\"1\" class=\"dataframe\">\n",
       "  <thead>\n",
       "    <tr style=\"text-align: right;\">\n",
       "      <th></th>\n",
       "      <th>FileName</th>\n",
       "      <th>StudentName</th>\n",
       "      <th>Genre</th>\n",
       "      <th>ReviewType</th>\n",
       "      <th>MovieTitle</th>\n",
       "      <th>MovieReview</th>\n",
       "    </tr>\n",
       "  </thead>\n",
       "  <tbody>\n",
       "    <tr>\n",
       "      <th>0</th>\n",
       "      <td>KHS_Doc1_TheRing</td>\n",
       "      <td>KHS</td>\n",
       "      <td>Horror</td>\n",
       "      <td>Negative</td>\n",
       "      <td>The Ring</td>\n",
       "      <td>Described as a drama, horror and mystery, The ...</td>\n",
       "    </tr>\n",
       "    <tr>\n",
       "      <th>1</th>\n",
       "      <td>KHS_Doc2_TheRing</td>\n",
       "      <td>KHS</td>\n",
       "      <td>Horror</td>\n",
       "      <td>Negative</td>\n",
       "      <td>The Ring</td>\n",
       "      <td>I hated it, but I grant that it does tap into...</td>\n",
       "    </tr>\n",
       "    <tr>\n",
       "      <th>2</th>\n",
       "      <td>KHS_Doc3_TheRing</td>\n",
       "      <td>KHS</td>\n",
       "      <td>Horror</td>\n",
       "      <td>Negative</td>\n",
       "      <td>The Ring</td>\n",
       "      <td>Ehren Kruger (no relation to Freddy) showed a ...</td>\n",
       "    </tr>\n",
       "    <tr>\n",
       "      <th>3</th>\n",
       "      <td>KHS_Doc4_TheRing</td>\n",
       "      <td>KHS</td>\n",
       "      <td>Horror</td>\n",
       "      <td>Negative</td>\n",
       "      <td>The Ring</td>\n",
       "      <td>Not all arthouse thrillers are destined to be ...</td>\n",
       "    </tr>\n",
       "    <tr>\n",
       "      <th>4</th>\n",
       "      <td>KHS_Doc5_TheRing</td>\n",
       "      <td>KHS</td>\n",
       "      <td>Horror</td>\n",
       "      <td>Negative</td>\n",
       "      <td>The Ring</td>\n",
       "      <td>Rarely has a more serious effort produced a le...</td>\n",
       "    </tr>\n",
       "  </tbody>\n",
       "</table>\n",
       "</div>"
      ],
      "text/plain": [
       "           FileName StudentName   Genre ReviewType MovieTitle  \\\n",
       "0  KHS_Doc1_TheRing         KHS  Horror   Negative   The Ring   \n",
       "1  KHS_Doc2_TheRing         KHS  Horror   Negative   The Ring   \n",
       "2  KHS_Doc3_TheRing         KHS  Horror   Negative   The Ring   \n",
       "3  KHS_Doc4_TheRing         KHS  Horror   Negative   The Ring   \n",
       "4  KHS_Doc5_TheRing         KHS  Horror   Negative   The Ring   \n",
       "\n",
       "                                         MovieReview  \n",
       "0  Described as a drama, horror and mystery, The ...  \n",
       "1   I hated it, but I grant that it does tap into...  \n",
       "2  Ehren Kruger (no relation to Freddy) showed a ...  \n",
       "3  Not all arthouse thrillers are destined to be ...  \n",
       "4  Rarely has a more serious effort produced a le...  "
      ]
     },
     "execution_count": 23,
     "metadata": {},
     "output_type": "execute_result"
    }
   ],
   "source": [
    "class_corpus.head()"
   ]
  },
  {
   "cell_type": "code",
   "execution_count": 24,
   "metadata": {},
   "outputs": [],
   "source": [
    "class_corpus_copy = class_corpus.copy()"
   ]
  },
  {
   "cell_type": "code",
   "execution_count": 25,
   "metadata": {},
   "outputs": [],
   "source": [
    "class_corpus_copy['normalized_review_text'] = class_corpus_copy['MovieReview'].apply(normalize_text)"
   ]
  },
  {
   "cell_type": "code",
   "execution_count": 27,
   "metadata": {},
   "outputs": [
    {
     "data": {
      "text/html": [
       "<div>\n",
       "<style scoped>\n",
       "    .dataframe tbody tr th:only-of-type {\n",
       "        vertical-align: middle;\n",
       "    }\n",
       "\n",
       "    .dataframe tbody tr th {\n",
       "        vertical-align: top;\n",
       "    }\n",
       "\n",
       "    .dataframe thead th {\n",
       "        text-align: right;\n",
       "    }\n",
       "</style>\n",
       "<table border=\"1\" class=\"dataframe\">\n",
       "  <thead>\n",
       "    <tr style=\"text-align: right;\">\n",
       "      <th></th>\n",
       "      <th>MovieReview</th>\n",
       "      <th>normalized_review_text</th>\n",
       "    </tr>\n",
       "  </thead>\n",
       "  <tbody>\n",
       "    <tr>\n",
       "      <th>0</th>\n",
       "      <td>Described as a drama, horror and mystery, The ...</td>\n",
       "      <td>described as a drama horror and mystery the ri...</td>\n",
       "    </tr>\n",
       "    <tr>\n",
       "      <th>1</th>\n",
       "      <td>I hated it, but I grant that it does tap into...</td>\n",
       "      <td>i hated it but i grant that it does tap into ...</td>\n",
       "    </tr>\n",
       "    <tr>\n",
       "      <th>2</th>\n",
       "      <td>Ehren Kruger (no relation to Freddy) showed a ...</td>\n",
       "      <td>ehren kruger no relation to freddy showed a ge...</td>\n",
       "    </tr>\n",
       "    <tr>\n",
       "      <th>3</th>\n",
       "      <td>Not all arthouse thrillers are destined to be ...</td>\n",
       "      <td>not all arthouse thrillers are destined to be ...</td>\n",
       "    </tr>\n",
       "    <tr>\n",
       "      <th>4</th>\n",
       "      <td>Rarely has a more serious effort produced a le...</td>\n",
       "      <td>rarely has a more serious effort produced a le...</td>\n",
       "    </tr>\n",
       "  </tbody>\n",
       "</table>\n",
       "</div>"
      ],
      "text/plain": [
       "                                         MovieReview  \\\n",
       "0  Described as a drama, horror and mystery, The ...   \n",
       "1   I hated it, but I grant that it does tap into...   \n",
       "2  Ehren Kruger (no relation to Freddy) showed a ...   \n",
       "3  Not all arthouse thrillers are destined to be ...   \n",
       "4  Rarely has a more serious effort produced a le...   \n",
       "\n",
       "                              normalized_review_text  \n",
       "0  described as a drama horror and mystery the ri...  \n",
       "1   i hated it but i grant that it does tap into ...  \n",
       "2  ehren kruger no relation to freddy showed a ge...  \n",
       "3  not all arthouse thrillers are destined to be ...  \n",
       "4  rarely has a more serious effort produced a le...  "
      ]
     },
     "execution_count": 27,
     "metadata": {},
     "output_type": "execute_result"
    }
   ],
   "source": [
    "class_corpus_copy.loc[:, ['MovieReview', 'normalized_review_text']].head()"
   ]
  },
  {
   "cell_type": "markdown",
   "metadata": {},
   "source": [
    "# Vectorizing documents"
   ]
  },
  {
   "cell_type": "markdown",
   "metadata": {},
   "source": [
    "## Method 1: TF-IDF\n",
    "\n",
    "Representing the documents as vectors in the vocabulary space using TF-IDF scores"
   ]
  },
  {
   "cell_type": "code",
   "execution_count": 29,
   "metadata": {},
   "outputs": [],
   "source": [
    "vectorizer_tfidf = TfidfVectorizer(stop_words=set(stopwords.words('english')))"
   ]
  },
  {
   "cell_type": "code",
   "execution_count": 30,
   "metadata": {},
   "outputs": [],
   "source": [
    "tfidf_corpus = vectorizer_tfidf.fit_transform(class_corpus_copy['normalized_review_text'])"
   ]
  },
  {
   "cell_type": "code",
   "execution_count": 36,
   "metadata": {},
   "outputs": [],
   "source": [
    "tfidf_vectors_corpus = pd.DataFrame(tfidf_corpus.toarray(), \n",
    "                                    columns=vectorizer_tfidf.get_feature_names_out(), \n",
    "                                    index=class_corpus_copy.index)"
   ]
  },
  {
   "cell_type": "code",
   "execution_count": 37,
   "metadata": {},
   "outputs": [
    {
     "data": {
      "text/plain": [
       "(190, 14974)"
      ]
     },
     "execution_count": 37,
     "metadata": {},
     "output_type": "execute_result"
    }
   ],
   "source": [
    "tfidf_vectors_corpus.shape"
   ]
  },
  {
   "cell_type": "code",
   "execution_count": 39,
   "metadata": {},
   "outputs": [
    {
     "data": {
      "text/plain": [
       "abandoned     0.0\n",
       "abandoning    0.0\n",
       "abanoub       0.0\n",
       "abashed       0.0\n",
       "abating       0.0\n",
       "             ... \n",
       "zooming       0.0\n",
       "zoomy         0.0\n",
       "zora          0.0\n",
       "zorro         0.0\n",
       "zuckerberg    0.0\n",
       "Name: 0, Length: 14974, dtype: float64"
      ]
     },
     "execution_count": 39,
     "metadata": {},
     "output_type": "execute_result"
    }
   ],
   "source": [
    "tfidf_vectors_corpus.loc[0, :]"
   ]
  },
  {
   "cell_type": "markdown",
   "metadata": {},
   "source": [
    "## Method 2: `Doc2Vec`\n",
    "\n",
    "Representing each document in the embedding space using [`Doc2Vec`](https://arxiv.org/pdf/1405.4053v2.pdf)"
   ]
  },
  {
   "cell_type": "code",
   "execution_count": 42,
   "metadata": {},
   "outputs": [],
   "source": [
    "class_corpus_copy['normalized_review_tokens'] = class_corpus_copy['normalized_review_text'].apply(nltk.word_tokenize)\n",
    "class_corpus_copy['normalized_review_tokens'] = class_corpus_copy['normalized_review_tokens'].apply(remove_stop_words)"
   ]
  },
  {
   "cell_type": "code",
   "execution_count": 44,
   "metadata": {},
   "outputs": [
    {
     "data": {
      "text/html": [
       "<div>\n",
       "<style scoped>\n",
       "    .dataframe tbody tr th:only-of-type {\n",
       "        vertical-align: middle;\n",
       "    }\n",
       "\n",
       "    .dataframe tbody tr th {\n",
       "        vertical-align: top;\n",
       "    }\n",
       "\n",
       "    .dataframe thead th {\n",
       "        text-align: right;\n",
       "    }\n",
       "</style>\n",
       "<table border=\"1\" class=\"dataframe\">\n",
       "  <thead>\n",
       "    <tr style=\"text-align: right;\">\n",
       "      <th></th>\n",
       "      <th>MovieReview</th>\n",
       "      <th>normalized_review_text</th>\n",
       "      <th>normalized_review_tokens</th>\n",
       "    </tr>\n",
       "  </thead>\n",
       "  <tbody>\n",
       "    <tr>\n",
       "      <th>0</th>\n",
       "      <td>Described as a drama, horror and mystery, The ...</td>\n",
       "      <td>described as a drama horror and mystery the ri...</td>\n",
       "      <td>[described, drama, horror, mystery, ring, horr...</td>\n",
       "    </tr>\n",
       "    <tr>\n",
       "      <th>1</th>\n",
       "      <td>I hated it, but I grant that it does tap into...</td>\n",
       "      <td>i hated it but i grant that it does tap into ...</td>\n",
       "      <td>[hated, grant, tap, vein, technological, horro...</td>\n",
       "    </tr>\n",
       "    <tr>\n",
       "      <th>2</th>\n",
       "      <td>Ehren Kruger (no relation to Freddy) showed a ...</td>\n",
       "      <td>ehren kruger no relation to freddy showed a ge...</td>\n",
       "      <td>[ehren, kruger, relation, freddy, showed, genu...</td>\n",
       "    </tr>\n",
       "    <tr>\n",
       "      <th>3</th>\n",
       "      <td>Not all arthouse thrillers are destined to be ...</td>\n",
       "      <td>not all arthouse thrillers are destined to be ...</td>\n",
       "      <td>[arthouse, thrillers, destined, ruined, hollyw...</td>\n",
       "    </tr>\n",
       "    <tr>\n",
       "      <th>4</th>\n",
       "      <td>Rarely has a more serious effort produced a le...</td>\n",
       "      <td>rarely has a more serious effort produced a le...</td>\n",
       "      <td>[rarely, serious, effort, produced, less, seri...</td>\n",
       "    </tr>\n",
       "  </tbody>\n",
       "</table>\n",
       "</div>"
      ],
      "text/plain": [
       "                                         MovieReview  \\\n",
       "0  Described as a drama, horror and mystery, The ...   \n",
       "1   I hated it, but I grant that it does tap into...   \n",
       "2  Ehren Kruger (no relation to Freddy) showed a ...   \n",
       "3  Not all arthouse thrillers are destined to be ...   \n",
       "4  Rarely has a more serious effort produced a le...   \n",
       "\n",
       "                              normalized_review_text  \\\n",
       "0  described as a drama horror and mystery the ri...   \n",
       "1   i hated it but i grant that it does tap into ...   \n",
       "2  ehren kruger no relation to freddy showed a ge...   \n",
       "3  not all arthouse thrillers are destined to be ...   \n",
       "4  rarely has a more serious effort produced a le...   \n",
       "\n",
       "                            normalized_review_tokens  \n",
       "0  [described, drama, horror, mystery, ring, horr...  \n",
       "1  [hated, grant, tap, vein, technological, horro...  \n",
       "2  [ehren, kruger, relation, freddy, showed, genu...  \n",
       "3  [arthouse, thrillers, destined, ruined, hollyw...  \n",
       "4  [rarely, serious, effort, produced, less, seri...  "
      ]
     },
     "execution_count": 44,
     "metadata": {},
     "output_type": "execute_result"
    }
   ],
   "source": [
    "(class_corpus_copy.loc[:, ['MovieReview', 'normalized_review_text', 'normalized_review_tokens']]\n",
    "                  .head())"
   ]
  },
  {
   "cell_type": "code",
   "execution_count": 74,
   "metadata": {},
   "outputs": [],
   "source": [
    "review_tokens_corpus = class_corpus_copy['normalized_review_tokens']"
   ]
  },
  {
   "cell_type": "code",
   "execution_count": 49,
   "metadata": {},
   "outputs": [],
   "source": [
    "tagged_documents = [TaggedDocument(review_tokens, [i]) \n",
    "                    for i, review_tokens in enumerate(review_tokens_corpus)]"
   ]
  },
  {
   "cell_type": "code",
   "execution_count": 50,
   "metadata": {},
   "outputs": [
    {
     "data": {
      "text/plain": [
       "TaggedDocument(words=['described', 'drama', 'horror', 'mystery', 'ring', 'horrifically', 'filmed', 'allegedly', 'dramatic', 'work', 'mystery', 'movie', 'ever', 'made', 'based', 'japanese', 'novel', 'ringu', 'remake', 'hideo', 'nakata', 'japanese', 'film', 'name', 'written', 'hiroshi', 'takahashi', 'ring', 'story', 'mysterious', 'videotape', 'kills', 'viewers', 'seven', 'days', 'seeing', 'tape', 'watch', 'tape', 'phone', 'rings', 'ominous', 'voice', 'tells', 'die', 'wait', 'week', 'die', 'piece', 'cake', 'seems', 'luck', 'would', 'young', 'teenaged', 'girl', 'named', 'katie', 'journalist', 'aunt', 'dies', 'seeing', 'tape', 'sending', 'aunt', 'investigative', 'mode', 'cause', 'katies', 'death', 'initially', 'aunt', 'rachel', 'views', 'alleged', 'myth', 'tape', 'great', 'cynicism', 'skepticism', 'suffering', 'nightmares', 'bizarre', 'physical', 'symptoms', 'mention', 'realizing', 'young', 'son', 'viewed', 'tape', 'begins', 'believe', 'something', 'evil', 'going', 'may', 'truth', 'legacy', 'age', 'old', 'horror', 'stories', 'tape', 'masterfully', 'eerie', 'bizarre', 'grainy', 'sepia', 'toned', 'black', 'white', 'footage', 'depicting', 'collection', 'images', 'seemingly', 'compiled', 'worst', 'nightmares', 'world', 'writhing', 'maggots', 'burning', 'trees', 'bushes', 'covered', 'cisterns', 'stormy', 'nights', 'dead', 'creatures', 'dismembered', 'yet', 'moving', 'fingers', 'ring', 'like', 'tunneling', 'vision', 'like', 'eye', 'tornado', 'course', 'strange', 'visions', 'people', 'places', 'bit', 'video', 'technology', 'good', 'old', 'fashioned', 'detective', 'work', 'prove', 'key', 'tape', 'mysteries', 'five', 'days', 'go', 'day', 'viewing', 'tape', 'rachel', 'embarks', 'full', 'scale', 'investigation', 'together', 'ex', 'boyfriend', 'father', 'son', 'noah', 'taking', 'woods', 'pacific', 'northwest', 'deep', 'horrors', 'well', 'morgan', 'family', 'naomi', 'watts', 'stars', 'rachel', 'unfortunately', 'bright', 'beginning', 'film', 'rapidly', 'reduces', 'dim', 'flickering', 'bulb', 'performance', 'gets', 'increasingly', 'erratic', 'settling', 'mindless', 'banality', 'zombies', 'campiest', 'horror', 'films', 'ever', 'made', 'talented', 'actress', 'believe', 'performance', 'lack', 'thereof', 'due', 'ehren', 'krugers', 'poor', 'script', 'gore', 'verbinskis', 'even', 'worse', 'directing', 'martin', 'henderson', 'seems', 'aptly', 'cast', 'non', 'committal', 'non', 'family', 'man', 'noah', 'character', 'really', 'dont', 'expect', 'much', 'thus', 'actually', 'pleasantly', 'surprised', 'development', 'character', 'actually', 'make', 'david', 'dorfman', 'young', 'aidan', 'keller', 'impressive', 'seems', 'verbinski', 'tried', 'make', 'clone', 'haley', 'joel', 'osment', 'sixth', 'sense', 'starring', 'role', 'sorry', 'guys', 'didnt', 'work', 'dorfman', 'always', 'engaging', 'recurring', 'television', 'performances', 'family', 'law', 'perhaps', 'television', 'remain', 'awhile', 'longer', 'well', 'find', 'next', 'month', 'heads', 'cast', 'much', 'anticipated', 'wrinkle', 'time', 'based', 'time', 'honored', 'caldecott', 'award', 'winning', 'book', 'madeline', 'lengle', 'director', 'gore', 'verbinski', 'best', 'known', 'mouse', 'hunt', 'mexican', 'next', 'pirates', 'caribbean', 'proven', 'talent', 'although', 'going', 'mouse', 'hunt', 'mexican', 'ring', 'seems', 'steadily', 'deteriorating', 'uses', 'hitchcockian', 'techniques', 'close', 'ups', 'inanimate', 'objects', 'creepy', 'crawly', 'flying', 'things', 'including', 'birds', 'artfully', 'effectively', 'create', 'tension', 'cant', 'carry', 'small', 'nuances', 'big', 'picture', 'scare', 'pants', 'instead', 'loses', 'story', 'audience', 'gets', 'laugh', 'instead', 'collective', 'terrifying', 'gasp', 'shriek', 'although', 'visually', 'stimulating', 'cinematographer', 'bojan', 'bazelli', 'cant', 'save', 'film', 'idiocy', 'story', 'goes', 'bad', 'worse', 'finally', 'becomes', 'ridiculously', 'absurd', 'accounts', 'almost', 'non', 'stop', 'chortling', 'audience', 'film', 'screams', 'stop', 'already', 'minute', 'mark', 'yet', 'like', 'energizer', 'bunny', 'nowhere', 'near', 'cute', 'keeps', 'going', 'going', 'going', 'going', 'excess', 'writer', 'ehren', 'kruger', 'previously', 'brought', 'us', 'scream', 'reindeer', 'games', 'latter', 'also', 'explanation', 'upon', 'explanation', 'contained', 'throughout', 'clearly', 'penchant', 'wanting', 'mysterious', 'case', 'creepy', 'yet', 'explain', 'away', 'mystery', 'unfortunately', 'doesnt', 'know', 'understand', 'less', 'concept', 'especially', 'supernatural', 'fright', 'flick', 'horrifically', 'terrifying', 'film', 'going', 'experience', 'sure', 'horrifically', 'terrifying', 'film', 'way', 'thing', 'possibly', 'worse', 'actually', 'watching', 'ring', 'paying', 'late', 'fees', 'goes', 'video', 'takes', 'seven', 'days', 'view'], tags=[0])"
      ]
     },
     "execution_count": 50,
     "metadata": {},
     "output_type": "execute_result"
    }
   ],
   "source": [
    "tagged_documents[0]"
   ]
  },
  {
   "cell_type": "markdown",
   "metadata": {},
   "source": [
    "Two key hyperparameters to keep in mind while we work with Doc2Vec is the `embedding` dimension and the `window` size."
   ]
  },
  {
   "cell_type": "markdown",
   "metadata": {},
   "source": [
    "To avoid infrequent words (the long tail), we might want to restrict the `min_count` parameter."
   ]
  },
  {
   "cell_type": "code",
   "execution_count": 206,
   "metadata": {},
   "outputs": [],
   "source": [
    "model_doc2vec = Doc2Vec(tagged_documents,\n",
    "                        vector_size=100,\n",
    "                        window=3,\n",
    "                        min_count=2)"
   ]
  },
  {
   "cell_type": "code",
   "execution_count": 207,
   "metadata": {},
   "outputs": [
    {
     "data": {
      "text/plain": [
       "array([-0.8737392 , -0.9754083 , -0.04677773, -0.00873916, -0.24345328,\n",
       "       -0.25828594,  0.10859907,  0.43284616,  0.16339013,  0.3387927 ,\n",
       "        0.37267712,  0.4502329 , -0.06496087, -0.59493905,  0.23213503,\n",
       "        0.3021128 , -0.35284752,  0.50435126, -0.16321227,  0.17409332,\n",
       "        0.4509245 , -0.31002715,  1.0427468 , -1.8291677 ,  0.12559049,\n",
       "        0.90181714,  0.8942417 , -0.43158785, -0.3074751 ,  1.0254965 ,\n",
       "       -0.8271346 , -0.7545851 , -0.2707015 , -1.824565  , -0.5061409 ,\n",
       "       -0.4091496 ,  0.46979573, -2.323473  , -0.44126284, -0.5484306 ,\n",
       "       -0.3083939 ,  0.6563588 ,  0.07035815, -0.0180777 , -0.4134582 ,\n",
       "        0.6022267 ,  0.5861687 , -0.3606131 ,  0.597439  ,  0.21577424,\n",
       "       -1.3062915 , -1.2743512 ,  0.20396022, -0.03730412, -1.334417  ,\n",
       "        0.19532284,  0.3844644 , -0.7807368 , -0.51481086, -0.07087898,\n",
       "        0.33060288,  0.13815461, -0.82439786, -0.48677963,  0.15166548,\n",
       "        0.74125564, -0.81162703, -0.23389836, -0.27040845,  0.839836  ,\n",
       "        0.2859178 ,  0.23048899, -0.36487228,  0.87286687, -0.05544013,\n",
       "        0.79254854,  1.0276179 ,  0.15122868,  0.45842144, -1.0767924 ,\n",
       "        1.3550935 ,  0.9368625 , -0.15032254, -0.3006166 ,  0.61750346,\n",
       "        0.02333016, -0.25780937, -0.15256087, -0.603218  , -0.9109227 ,\n",
       "        0.3812372 , -0.73691773, -0.5750801 , -0.01447648,  0.50958866,\n",
       "       -0.77634656,  0.5005963 , -0.16717672, -0.79877037,  0.99769324],\n",
       "      dtype=float32)"
      ]
     },
     "execution_count": 207,
     "metadata": {},
     "output_type": "execute_result"
    }
   ],
   "source": [
    "model_doc2vec.infer_vector(review_tokens_corpus[0])"
   ]
  },
  {
   "cell_type": "code",
   "execution_count": 208,
   "metadata": {},
   "outputs": [],
   "source": [
    "doc2vec_corpus = pd.DataFrame()\n",
    "\n",
    "for review_tokens in review_tokens_corpus:\n",
    "    doc_vector = pd.DataFrame(model_doc2vec.infer_vector(review_tokens)).transpose()\n",
    "    doc2vec_corpus = pd.concat([doc2vec_corpus, doc_vector], axis=0)\n",
    "\n",
    "doc2vec_corpus.index = class_corpus_copy.index"
   ]
  },
  {
   "cell_type": "code",
   "execution_count": 209,
   "metadata": {},
   "outputs": [
    {
     "data": {
      "text/plain": [
       "(190, 100)"
      ]
     },
     "execution_count": 209,
     "metadata": {},
     "output_type": "execute_result"
    }
   ],
   "source": [
    "doc2vec_corpus.shape"
   ]
  },
  {
   "cell_type": "code",
   "execution_count": 210,
   "metadata": {},
   "outputs": [
    {
     "data": {
      "text/plain": [
       "0    -0.881811\n",
       "1    -0.984418\n",
       "2    -0.047466\n",
       "3    -0.009259\n",
       "4    -0.245987\n",
       "        ...   \n",
       "95   -0.783775\n",
       "96    0.505157\n",
       "97   -0.168532\n",
       "98   -0.805992\n",
       "99    1.007004\n",
       "Name: 0, Length: 100, dtype: float32"
      ]
     },
     "execution_count": 210,
     "metadata": {},
     "output_type": "execute_result"
    }
   ],
   "source": [
    "doc2vec_corpus.loc[0, :]"
   ]
  },
  {
   "cell_type": "markdown",
   "metadata": {},
   "source": [
    "# Clustering"
   ]
  },
  {
   "cell_type": "code",
   "execution_count": 211,
   "metadata": {},
   "outputs": [],
   "source": [
    "normalized_doc2vec_corpus = normalize(doc2vec_corpus)"
   ]
  },
  {
   "cell_type": "code",
   "execution_count": 248,
   "metadata": {},
   "outputs": [],
   "source": [
    "model_kmeans = KMeans(n_clusters=4, random_state=20130810)"
   ]
  },
  {
   "cell_type": "code",
   "execution_count": 249,
   "metadata": {},
   "outputs": [
    {
     "data": {
      "text/plain": [
       "KMeans(n_clusters=4, random_state=20130810)"
      ]
     },
     "execution_count": 249,
     "metadata": {},
     "output_type": "execute_result"
    }
   ],
   "source": [
    "model_kmeans.fit(normalized_doc2vec_corpus)"
   ]
  },
  {
   "cell_type": "code",
   "execution_count": 250,
   "metadata": {},
   "outputs": [],
   "source": [
    "labels_kmeans = model_kmeans.labels_"
   ]
  },
  {
   "cell_type": "code",
   "execution_count": 251,
   "metadata": {},
   "outputs": [
    {
     "data": {
      "text/plain": [
       "0.63120055"
      ]
     },
     "execution_count": 251,
     "metadata": {},
     "output_type": "execute_result"
    }
   ],
   "source": [
    "silhouette_score(normalized_doc2vec_corpus, labels_kmeans)"
   ]
  },
  {
   "cell_type": "code",
   "execution_count": 252,
   "metadata": {},
   "outputs": [
    {
     "name": "stdout",
     "output_type": "stream",
     "text": [
      "k = 4, silhouette score = 0.6312005519866943\n",
      "k = 5, silhouette score = 0.6337428092956543\n",
      "k = 6, silhouette score = 0.2487308830022812\n",
      "k = 7, silhouette score = 0.3469430208206177\n",
      "k = 8, silhouette score = 0.31952086091041565\n",
      "k = 9, silhouette score = 0.28529122471809387\n"
     ]
    }
   ],
   "source": [
    "for k in [4, 5, 6, 7, 8, 9]:\n",
    "    model_kmeans = KMeans(n_clusters=k, random_state=20130810)\n",
    "    model_kmeans.fit(normalized_doc2vec_corpus)\n",
    "    sil_score = silhouette_score(normalized_doc2vec_corpus, model_kmeans.labels_)\n",
    "    print(f\"k = {k}, silhouette score = {sil_score}\")"
   ]
  },
  {
   "cell_type": "code",
   "execution_count": 253,
   "metadata": {},
   "outputs": [],
   "source": [
    "genres_corpus = class_corpus['Genre']"
   ]
  },
  {
   "cell_type": "code",
   "execution_count": 254,
   "metadata": {},
   "outputs": [],
   "source": [
    "model_kmeans = KMeans(n_clusters=4)\n",
    "model_kmeans.fit(normalized_doc2vec_corpus)\n",
    "labels_kmeans = model_kmeans.labels_"
   ]
  },
  {
   "cell_type": "code",
   "execution_count": 255,
   "metadata": {},
   "outputs": [],
   "source": [
    "model_tsne = TSNE(n_components=2)"
   ]
  },
  {
   "cell_type": "code",
   "execution_count": 256,
   "metadata": {},
   "outputs": [
    {
     "name": "stderr",
     "output_type": "stream",
     "text": [
      "/Users/prashasth/opt/anaconda3/envs/mlclasses/lib/python3.9/site-packages/sklearn/manifold/_t_sne.py:780: FutureWarning: The default initialization in TSNE will change from 'random' to 'pca' in 1.2.\n",
      "  warnings.warn(\n",
      "/Users/prashasth/opt/anaconda3/envs/mlclasses/lib/python3.9/site-packages/sklearn/manifold/_t_sne.py:790: FutureWarning: The default learning rate in TSNE will change from 200.0 to 'auto' in 1.2.\n",
      "  warnings.warn(\n"
     ]
    }
   ],
   "source": [
    "transformed_values = model_tsne.fit_transform(normalized_doc2vec_corpus)\n",
    "X, Y = [], []\n",
    "\n",
    "for value in transformed_values:\n",
    "    X.append(value[0])\n",
    "    Y.append(value[1])"
   ]
  },
  {
   "cell_type": "code",
   "execution_count": 257,
   "metadata": {},
   "outputs": [
    {
     "data": {
      "text/plain": [
       "<AxesSubplot:>"
      ]
     },
     "execution_count": 257,
     "metadata": {},
     "output_type": "execute_result"
    },
    {
     "data": {
      "image/png": "[encoded data removed]",
      "text/plain": [
       "<Figure size 1296x648 with 1 Axes>"
      ]
     },
     "metadata": {
      "needs_background": "light"
     },
     "output_type": "display_data"
    }
   ],
   "source": [
    "plt.figure(figsize=(18, 9))\n",
    "\n",
    "sns.scatterplot(x=X, \n",
    "                y=Y, \n",
    "                hue=genres_corpus)"
   ]
  },
  {
   "cell_type": "code",
   "execution_count": 258,
   "metadata": {},
   "outputs": [
    {
     "data": {
      "text/plain": [
       "<AxesSubplot:>"
      ]
     },
     "execution_count": 258,
     "metadata": {},
     "output_type": "execute_result"
    },
    {
     "data": {
      "image/png": "[encoded data removed]",
      "text/plain": [
       "<Figure size 1296x648 with 1 Axes>"
      ]
     },
     "metadata": {
      "needs_background": "light"
     },
     "output_type": "display_data"
    }
   ],
   "source": [
    "plt.figure(figsize=(18, 9))\n",
    "\n",
    "labels_kmeans_str = pd.Series(labels_kmeans.astype(str), name='cluster')\n",
    "\n",
    "sns.scatterplot(x=X, \n",
    "                y=Y, \n",
    "                hue=labels_kmeans_str,\n",
    "                hue_order=['0', '1', '2', '3'])"
   ]
  },
  {
   "cell_type": "code",
   "execution_count": 259,
   "metadata": {},
   "outputs": [
    {
     "data": {
      "text/plain": [
       "(array(['0', '1', '2', '3'], dtype=object), array([  4, 173,  12,   1]))"
      ]
     },
     "execution_count": 259,
     "metadata": {},
     "output_type": "execute_result"
    }
   ],
   "source": [
    "np.unique(labels_kmeans_str, return_counts=True)"
   ]
  },
  {
   "cell_type": "code",
   "execution_count": null,
   "metadata": {},
   "outputs": [],
   "source": []
  }
 ],
 "metadata": {
  "interpreter": {
   "hash": "75fcad4e19f5af42d64cdc79268b66fa58f219a19da0ef330c45af912faafc6c"
  },
  "kernelspec": {
   "display_name": "Python 3.9.12 ('mlclasses')",
   "language": "python",
   "name": "python3"
  },
  "language_info": {
   "codemirror_mode": {
    "name": "ipython",
    "version": 3
   },
   "file_extension": ".py",
   "mimetype": "text/x-python",
   "name": "python",
   "nbconvert_exporter": "python",
   "pygments_lexer": "ipython3",
   "version": "3.9.12"
  },
  "orig_nbformat": 4
 },
 "nbformat": 4,
 "nbformat_minor": 2
}
