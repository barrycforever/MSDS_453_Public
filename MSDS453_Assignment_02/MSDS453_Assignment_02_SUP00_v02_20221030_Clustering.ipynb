{
 "cells": [
  {
   "cell_type": "code",
   "execution_count": 1,
   "metadata": {
    "colab": {
     "base_uri": "https://localhost:8080/"
    },
    "executionInfo": {
     "elapsed": 3162,
     "status": "ok",
     "timestamp": 1665657044106,
     "user": {
      "displayName": "Pavankumar Gurazada",
      "userId": "10690826909418856210"
     },
     "user_tz": -330
    },
    "id": "6u6CMrIcfjKW",
    "outputId": "5f501585-519b-4254-e6eb-35c5dc22dfe2"
   },
   "outputs": [],
   "source": [
    "# ! pip install gensim==3.8.3"
   ]
  },
  {
   "cell_type": "code",
   "execution_count": 2,
   "metadata": {
    "executionInfo": {
     "elapsed": 2070,
     "status": "ok",
     "timestamp": 1665657046173,
     "user": {
      "displayName": "Pavankumar Gurazada",
      "userId": "10690826909418856210"
     },
     "user_tz": -330
    },
    "id": "U-dBc7ujfK2E"
   },
   "outputs": [],
   "source": [
    "import nltk\n",
    "import re\n",
    "\n",
    "import pandas as pd\n",
    "import numpy as np\n",
    "\n",
    "import matplotlib.pyplot as plt\n",
    "import seaborn as sns\n",
    "\n",
    "from nltk.corpus import stopwords\n",
    "from nltk.stem.wordnet import WordNetLemmatizer\n",
    "from gensim.models.doc2vec import Doc2Vec, TaggedDocument\n",
    "\n",
    "from sklearn.feature_extraction.text import TfidfVectorizer\n",
    "\n",
    "from sklearn.preprocessing import StandardScaler\n",
    "from sklearn.cluster import KMeans\n",
    "from sklearn.metrics import silhouette_score\n",
    "from sklearn.manifold import TSNE"
   ]
  },
  {
   "cell_type": "code",
   "execution_count": 3,
   "metadata": {
    "executionInfo": {
     "elapsed": 10,
     "status": "ok",
     "timestamp": 1665657046176,
     "user": {
      "displayName": "Pavankumar Gurazada",
      "userId": "10690826909418856210"
     },
     "user_tz": -330
    },
    "id": "YyIgWiIj4Iia"
   },
   "outputs": [],
   "source": [
    "sns.set_context('talk')"
   ]
  },
  {
   "cell_type": "code",
   "execution_count": 4,
   "metadata": {
    "colab": {
     "base_uri": "https://localhost:8080/"
    },
    "executionInfo": {
     "elapsed": 1017,
     "status": "ok",
     "timestamp": 1665657047187,
     "user": {
      "displayName": "Pavankumar Gurazada",
      "userId": "10690826909418856210"
     },
     "user_tz": -330
    },
    "id": "tavAXOobgXz9",
    "outputId": "73c2b51b-ee5d-4653-f00d-606428057b88"
   },
   "outputs": [
    {
     "name": "stderr",
     "output_type": "stream",
     "text": [
      "[nltk_data] Downloading package stopwords to\n",
      "[nltk_data]     /home/jensen116/nltk_data...\n",
      "[nltk_data]   Package stopwords is already up-to-date!\n",
      "[nltk_data] Downloading package punkt to /home/jensen116/nltk_data...\n",
      "[nltk_data]   Package punkt is already up-to-date!\n",
      "[nltk_data] Downloading package wordnet to\n",
      "[nltk_data]     /home/jensen116/nltk_data...\n",
      "[nltk_data]   Package wordnet is already up-to-date!\n",
      "[nltk_data] Downloading package omw-1.4 to\n",
      "[nltk_data]     /home/jensen116/nltk_data...\n",
      "[nltk_data]   Package omw-1.4 is already up-to-date!\n"
     ]
    },
    {
     "data": {
      "text/plain": [
       "True"
      ]
     },
     "execution_count": 4,
     "metadata": {},
     "output_type": "execute_result"
    }
   ],
   "source": [
    "nltk.download('stopwords')\n",
    "nltk.download('punkt')\n",
    "nltk.download('wordnet')\n",
    "nltk.download('omw-1.4')"
   ]
  },
  {
   "cell_type": "code",
   "execution_count": 5,
   "metadata": {},
   "outputs": [],
   "source": [
    "def add_movie_descriptor(data: pd.DataFrame, corpus_df: pd.DataFrame):\n",
    "    \"\"\"\n",
    "    Adds \"Movie Description\" to the supplied dataframe, in the form {Genre}_{P|N}_{Movie Title}_{DocID}\n",
    "    \"\"\"\n",
    "    review = np.where(corpus_df['Review Type (pos or neg)'] == 'Positive', 'P', 'N')\n",
    "    data['Descriptor'] = corpus_df['Genre of Movie'] + '_' + corpus_df['Movie Title'] + '_' + review + '_' + corpus_df['Doc_ID'].astype(str)\n",
    "\n",
    "def get_corpus_df(path):\n",
    "    data = pd.read_csv(path, encoding=\"utf-8\")\n",
    "    add_movie_descriptor(data, data)\n",
    "    sorted_data = data.sort_values(['Descriptor'])\n",
    "    indexed_data = sorted_data.set_index(['Doc_ID'])\n",
    "    indexed_data['Doc_ID'] = indexed_data.index\n",
    "    return indexed_data"
   ]
  },
  {
   "cell_type": "markdown",
   "metadata": {
    "id": "TIm9iGUGi2ay"
   },
   "source": [
    "# Data"
   ]
  },
  {
   "cell_type": "code",
   "execution_count": 10,
   "metadata": {},
   "outputs": [],
   "source": [
    "CORPUS_PATH=\\\n",
    "'https://raw.githubusercontent.com/djp840/MSDS_453_Public/main/MSDS453_ClassCorpus/MSDS453_QA_20220906.csv'\n",
    "class_corpus = get_corpus_df(CORPUS_PATH)\n"
   ]
  },
  {
   "cell_type": "code",
   "execution_count": 13,
   "metadata": {
    "colab": {
     "base_uri": "https://localhost:8080/"
    },
    "executionInfo": {
     "elapsed": 9,
     "status": "ok",
     "timestamp": 1665657047188,
     "user": {
      "displayName": "Pavankumar Gurazada",
      "userId": "10690826909418856210"
     },
     "user_tz": -330
    },
    "id": "L2omUYiMi_Bi",
    "outputId": "f22e79ca-5a0e-43f8-ae3c-a26eca0da925"
   },
   "outputs": [
    {
     "name": "stdout",
     "output_type": "stream",
     "text": [
      "<class 'pandas.core.frame.DataFrame'>\n",
      "Int64Index: 200 entries, 40 to 199\n",
      "Data columns (total 9 columns):\n",
      " #   Column                    Non-Null Count  Dtype \n",
      "---  ------                    --------------  ----- \n",
      " 0   DSI_Title                 200 non-null    object\n",
      " 1   Text                      200 non-null    object\n",
      " 2   Submission File Name      200 non-null    object\n",
      " 3   Student Name              200 non-null    object\n",
      " 4   Genre of Movie            200 non-null    object\n",
      " 5   Review Type (pos or neg)  200 non-null    object\n",
      " 6   Movie Title               200 non-null    object\n",
      " 7   Descriptor                200 non-null    object\n",
      " 8   Doc_ID                    200 non-null    int64 \n",
      "dtypes: int64(1), object(8)\n",
      "memory usage: 15.6+ KB\n"
     ]
    }
   ],
   "source": [
    "class_corpus.info()"
   ]
  },
  {
   "cell_type": "markdown",
   "metadata": {
    "id": "oUApF6gXi0Ob"
   },
   "source": [
    "# Preprocessing"
   ]
  },
  {
   "cell_type": "code",
   "execution_count": 14,
   "metadata": {
    "executionInfo": {
     "elapsed": 7,
     "status": "ok",
     "timestamp": 1665657047188,
     "user": {
      "displayName": "Pavankumar Gurazada",
      "userId": "10690826909418856210"
     },
     "user_tz": -330
    },
    "id": "3f0E2HBMgaoP"
   },
   "outputs": [],
   "source": [
    "STOP_WORDS = set(nltk.corpus.stopwords.words('english'))"
   ]
  },
  {
   "cell_type": "code",
   "execution_count": 15,
   "metadata": {
    "executionInfo": {
     "elapsed": 7,
     "status": "ok",
     "timestamp": 1665657047189,
     "user": {
      "displayName": "Pavankumar Gurazada",
      "userId": "10690826909418856210"
     },
     "user_tz": -330
    },
    "id": "x9UqR31CgbG9"
   },
   "outputs": [],
   "source": [
    "def remove_punctuation(text):\n",
    "    return re.sub('[^a-zA-Z]', ' ', str(text))\n",
    "\n",
    "def lower_case(text):\n",
    "    return text.lower()    \n",
    "\n",
    "def remove_tags(text):    \n",
    "    return re.sub(\"&lt;/?.*?&gt;\",\" &lt;&gt; \", text)\n",
    "\n",
    "def remove_special_chars_and_digits(text):\n",
    "    return re.sub(\"(\\\\d|\\\\W)+\",\" \", text)\n",
    "\n",
    "def remove_stop_words(tokenized_text):\n",
    "    return [w for w in tokenized_text if not w in STOP_WORDS]"
   ]
  },
  {
   "cell_type": "code",
   "execution_count": 16,
   "metadata": {
    "executionInfo": {
     "elapsed": 7,
     "status": "ok",
     "timestamp": 1665657047189,
     "user": {
      "displayName": "Pavankumar Gurazada",
      "userId": "10690826909418856210"
     },
     "user_tz": -330
    },
    "id": "MIDZVFNOgeCG"
   },
   "outputs": [],
   "source": [
    "def normalize(input_text):\n",
    "    '''\n",
    "    Normalization involves the following steps:\n",
    "    1. Remove punctuation\n",
    "    2. Lower case all words\n",
    "    3. Remove tags (i.e., HTML tags)\n",
    "    4. Remove all special characters and digits\n",
    "    '''\n",
    "    text = remove_punctuation(input_text)\n",
    "    text = lower_case(text)\n",
    "    text = remove_tags(text)\n",
    "    text = remove_special_chars_and_digits(text)\n",
    "\n",
    "    return text"
   ]
  },
  {
   "cell_type": "code",
   "execution_count": 17,
   "metadata": {
    "executionInfo": {
     "elapsed": 7,
     "status": "ok",
     "timestamp": 1665657047189,
     "user": {
      "displayName": "Pavankumar Gurazada",
      "userId": "10690826909418856210"
     },
     "user_tz": -330
    },
    "id": "-mbmpZgqgjT0"
   },
   "outputs": [],
   "source": [
    "def tokenize(text):\n",
    "    '''\n",
    "    Tokenization involves the following steps:\n",
    "    1. Break text down to tokens (i.e., words separated by white spaces)\n",
    "    2. Remove stop words from the tokens generated in step 1\n",
    "    '''\n",
    "    tokens = nltk.word_tokenize(text)\n",
    "    tokenized_text = remove_stop_words(tokens)\n",
    "    \n",
    "    return tokenized_text"
   ]
  },
  {
   "cell_type": "code",
   "execution_count": 18,
   "metadata": {
    "executionInfo": {
     "elapsed": 8,
     "status": "ok",
     "timestamp": 1665657047190,
     "user": {
      "displayName": "Pavankumar Gurazada",
      "userId": "10690826909418856210"
     },
     "user_tz": -330
    },
    "id": "QI9DxUomgl7s"
   },
   "outputs": [],
   "source": [
    "def lemmatize(tokenized_text, lemmatizer=WordNetLemmatizer()):\n",
    "    '''\n",
    "    Lemmatization is applied to each word in the list of normalized tokens\n",
    "    (stop words are removed)\n",
    "    '''\n",
    "    return [lemmatizer.lemmatize(word) for word in tokenized_text]"
   ]
  },
  {
   "cell_type": "code",
   "execution_count": 19,
   "metadata": {
    "executionInfo": {
     "elapsed": 7,
     "status": "ok",
     "timestamp": 1665657047190,
     "user": {
      "displayName": "Pavankumar Gurazada",
      "userId": "10690826909418856210"
     },
     "user_tz": -330
    },
    "id": "__exS2R4gooV"
   },
   "outputs": [],
   "source": [
    "def join_tokens(lemmatized_tokens):\n",
    "    return ' '.join(lemmatized_tokens)"
   ]
  },
  {
   "cell_type": "code",
   "execution_count": 20,
   "metadata": {
    "executionInfo": {
     "elapsed": 2256,
     "status": "ok",
     "timestamp": 1665657049439,
     "user": {
      "displayName": "Pavankumar Gurazada",
      "userId": "10690826909418856210"
     },
     "user_tz": -330
    },
    "id": "CohWDClbgrO-"
   },
   "outputs": [],
   "source": [
    "class_corpus['normalized_review'] = class_corpus['Text'].apply(normalize)\n",
    "class_corpus['tokenized_review'] = class_corpus['normalized_review'].apply(tokenize)\n",
    "class_corpus['lemmatized_tokens'] = class_corpus['tokenized_review'].apply(lemmatize)\n",
    "class_corpus['lemmatized_text'] = class_corpus['lemmatized_tokens'].apply(join_tokens)"
   ]
  },
  {
   "cell_type": "code",
   "execution_count": 21,
   "metadata": {
    "colab": {
     "base_uri": "https://localhost:8080/"
    },
    "executionInfo": {
     "elapsed": 8,
     "status": "ok",
     "timestamp": 1665657049439,
     "user": {
      "displayName": "Pavankumar Gurazada",
      "userId": "10690826909418856210"
     },
     "user_tz": -330
    },
    "id": "d6rvCluFgwMt",
    "outputId": "ef55119b-7a94-437d-b02c-c0295a3988c3"
   },
   "outputs": [
    {
     "name": "stdout",
     "output_type": "stream",
     "text": [
      "<class 'pandas.core.frame.DataFrame'>\n",
      "Int64Index: 200 entries, 40 to 199\n",
      "Data columns (total 13 columns):\n",
      " #   Column                    Non-Null Count  Dtype \n",
      "---  ------                    --------------  ----- \n",
      " 0   DSI_Title                 200 non-null    object\n",
      " 1   Text                      200 non-null    object\n",
      " 2   Submission File Name      200 non-null    object\n",
      " 3   Student Name              200 non-null    object\n",
      " 4   Genre of Movie            200 non-null    object\n",
      " 5   Review Type (pos or neg)  200 non-null    object\n",
      " 6   Movie Title               200 non-null    object\n",
      " 7   Descriptor                200 non-null    object\n",
      " 8   Doc_ID                    200 non-null    int64 \n",
      " 9   normalized_review         200 non-null    object\n",
      " 10  tokenized_review          200 non-null    object\n",
      " 11  lemmatized_tokens         200 non-null    object\n",
      " 12  lemmatized_text           200 non-null    object\n",
      "dtypes: int64(1), object(12)\n",
      "memory usage: 21.9+ KB\n"
     ]
    }
   ],
   "source": [
    "class_corpus.info()"
   ]
  },
  {
   "cell_type": "markdown",
   "metadata": {
    "id": "0KBfKMoVjET6"
   },
   "source": [
    "# Feature Extraction"
   ]
  },
  {
   "cell_type": "markdown",
   "metadata": {
    "id": "gRlrmxayjGMa"
   },
   "source": [
    "## Method 1: TF-IDF"
   ]
  },
  {
   "cell_type": "code",
   "execution_count": 22,
   "metadata": {
    "executionInfo": {
     "elapsed": 7,
     "status": "ok",
     "timestamp": 1665657049440,
     "user": {
      "displayName": "Pavankumar Gurazada",
      "userId": "10690826909418856210"
     },
     "user_tz": -330
    },
    "id": "UK1PBPvMiKsN"
   },
   "outputs": [],
   "source": [
    "tfidf_vectorizer = TfidfVectorizer()"
   ]
  },
  {
   "cell_type": "code",
   "execution_count": 23,
   "metadata": {
    "executionInfo": {
     "elapsed": 6,
     "status": "ok",
     "timestamp": 1665657049440,
     "user": {
      "displayName": "Pavankumar Gurazada",
      "userId": "10690826909418856210"
     },
     "user_tz": -330
    },
    "id": "Tpf5d7NHiLVa"
   },
   "outputs": [],
   "source": [
    "dtm_class_corpus = tfidf_vectorizer.fit_transform(class_corpus['lemmatized_text'])"
   ]
  },
  {
   "cell_type": "code",
   "execution_count": 24,
   "metadata": {
    "executionInfo": {
     "elapsed": 6,
     "status": "ok",
     "timestamp": 1665657049440,
     "user": {
      "displayName": "Pavankumar Gurazada",
      "userId": "10690826909418856210"
     },
     "user_tz": -330
    },
    "id": "fQxLyNNviOxr"
   },
   "outputs": [],
   "source": [
    "features_tfidf_scores = pd.DataFrame(dtm_class_corpus.toarray(), \n",
    "                                     columns=tfidf_vectorizer.get_feature_names_out(), \n",
    "                                     index=class_corpus.index)"
   ]
  },
  {
   "cell_type": "code",
   "execution_count": 25,
   "metadata": {
    "colab": {
     "base_uri": "https://localhost:8080/"
    },
    "executionInfo": {
     "elapsed": 6,
     "status": "ok",
     "timestamp": 1665657049440,
     "user": {
      "displayName": "Pavankumar Gurazada",
      "userId": "10690826909418856210"
     },
     "user_tz": -330
    },
    "id": "mng4HQHkiPd6",
    "outputId": "8ba394b0-d341-465f-ef3b-4f53ee893884"
   },
   "outputs": [
    {
     "data": {
      "text/plain": [
       "(200, 13478)"
      ]
     },
     "execution_count": 25,
     "metadata": {},
     "output_type": "execute_result"
    }
   ],
   "source": [
    "features_tfidf_scores.shape"
   ]
  },
  {
   "cell_type": "markdown",
   "metadata": {
    "id": "k_i9cCBUjJAa"
   },
   "source": [
    "## Method 2: Doc2Vec"
   ]
  },
  {
   "cell_type": "code",
   "execution_count": 26,
   "metadata": {
    "executionInfo": {
     "elapsed": 5,
     "status": "ok",
     "timestamp": 1665657049441,
     "user": {
      "displayName": "Pavankumar Gurazada",
      "userId": "10690826909418856210"
     },
     "user_tz": -330
    },
    "id": "Trb-HZFEiYIS"
   },
   "outputs": [],
   "source": [
    "documents = [TaggedDocument(doc, [i]) for i, doc in enumerate(class_corpus.lemmatized_tokens)]"
   ]
  },
  {
   "cell_type": "code",
   "execution_count": 27,
   "metadata": {
    "colab": {
     "base_uri": "https://localhost:8080/"
    },
    "executionInfo": {
     "elapsed": 3174,
     "status": "ok",
     "timestamp": 1665657052610,
     "user": {
      "displayName": "Pavankumar Gurazada",
      "userId": "10690826909418856210"
     },
     "user_tz": -330
    },
    "id": "k_8VjV7jiaGi",
    "outputId": "b11a0c6f-0207-49be-bb82-4f62121ef632"
   },
   "outputs": [],
   "source": [
    "model_doc2vec = Doc2Vec(documents,\n",
    "                        vector_size=200,\n",
    "                        min_count=1,\n",
    "                        workers=4)"
   ]
  },
  {
   "cell_type": "code",
   "execution_count": 28,
   "metadata": {
    "executionInfo": {
     "elapsed": 1160,
     "status": "ok",
     "timestamp": 1665657053767,
     "user": {
      "displayName": "Pavankumar Gurazada",
      "userId": "10690826909418856210"
     },
     "user_tz": -330
    },
    "id": "t-WaDCrqicST"
   },
   "outputs": [],
   "source": [
    "features_doc2vec = pd.DataFrame()\n",
    "\n",
    "for document in documents:\n",
    "    vector = pd.DataFrame(model_doc2vec.infer_vector(document.words)).transpose()\n",
    "    features_doc2vec = pd.concat([features_doc2vec, vector])"
   ]
  },
  {
   "cell_type": "code",
   "execution_count": 29,
   "metadata": {
    "colab": {
     "base_uri": "https://localhost:8080/"
    },
    "executionInfo": {
     "elapsed": 17,
     "status": "ok",
     "timestamp": 1665657053768,
     "user": {
      "displayName": "Pavankumar Gurazada",
      "userId": "10690826909418856210"
     },
     "user_tz": -330
    },
    "id": "iflibYJyieYz",
    "outputId": "cc149d93-a70f-4fe0-e900-14b5ab538b7b"
   },
   "outputs": [
    {
     "data": {
      "text/plain": [
       "(200, 200)"
      ]
     },
     "execution_count": 29,
     "metadata": {},
     "output_type": "execute_result"
    }
   ],
   "source": [
    "features_doc2vec.shape"
   ]
  },
  {
   "cell_type": "markdown",
   "metadata": {
    "id": "EcRb1jnMkMuD"
   },
   "source": [
    "# Clustering"
   ]
  },
  {
   "cell_type": "markdown",
   "metadata": {
    "id": "4J1fmzaSmxat"
   },
   "source": [
    "Before clustering, we need to scale the data to bring parity between all the columns. "
   ]
  },
  {
   "cell_type": "code",
   "execution_count": 30,
   "metadata": {
    "executionInfo": {
     "elapsed": 14,
     "status": "ok",
     "timestamp": 1665657053768,
     "user": {
      "displayName": "Pavankumar Gurazada",
      "userId": "10690826909418856210"
     },
     "user_tz": -330
    },
    "id": "FWabEy0lmxEN"
   },
   "outputs": [],
   "source": [
    "standard_scaler = StandardScaler()"
   ]
  },
  {
   "cell_type": "code",
   "execution_count": 31,
   "metadata": {
    "colab": {
     "base_uri": "https://localhost:8080/"
    },
    "executionInfo": {
     "elapsed": 14,
     "status": "ok",
     "timestamp": 1665657053768,
     "user": {
      "displayName": "Pavankumar Gurazada",
      "userId": "10690826909418856210"
     },
     "user_tz": -330
    },
    "id": "aI6hEojKnSMA",
    "outputId": "40a0c2ab-1e31-4b80-e995-fc28f680969d",
    "scrolled": true
   },
   "outputs": [
    {
     "name": "stdout",
     "output_type": "stream",
     "text": [
      "Help on class StandardScaler in module sklearn.preprocessing._data:\n",
      "\n",
      "class StandardScaler(sklearn.base._OneToOneFeatureMixin, sklearn.base.TransformerMixin, sklearn.base.BaseEstimator)\n",
      " |  StandardScaler(*, copy=True, with_mean=True, with_std=True)\n",
      " |  \n",
      " |  Standardize features by removing the mean and scaling to unit variance.\n",
      " |  \n",
      " |  The standard score of a sample `x` is calculated as:\n",
      " |  \n",
      " |      z = (x - u) / s\n",
      " |  \n",
      " |  where `u` is the mean of the training samples or zero if `with_mean=False`,\n",
      " |  and `s` is the standard deviation of the training samples or one if\n",
      " |  `with_std=False`.\n",
      " |  \n",
      " |  Centering and scaling happen independently on each feature by computing\n",
      " |  the relevant statistics on the samples in the training set. Mean and\n",
      " |  standard deviation are then stored to be used on later data using\n",
      " |  :meth:`transform`.\n",
      " |  \n",
      " |  Standardization of a dataset is a common requirement for many\n",
      " |  machine learning estimators: they might behave badly if the\n",
      " |  individual features do not more or less look like standard normally\n",
      " |  distributed data (e.g. Gaussian with 0 mean and unit variance).\n",
      " |  \n",
      " |  For instance many elements used in the objective function of\n",
      " |  a learning algorithm (such as the RBF kernel of Support Vector\n",
      " |  Machines or the L1 and L2 regularizers of linear models) assume that\n",
      " |  all features are centered around 0 and have variance in the same\n",
      " |  order. If a feature has a variance that is orders of magnitude larger\n",
      " |  than others, it might dominate the objective function and make the\n",
      " |  estimator unable to learn from other features correctly as expected.\n",
      " |  \n",
      " |  This scaler can also be applied to sparse CSR or CSC matrices by passing\n",
      " |  `with_mean=False` to avoid breaking the sparsity structure of the data.\n",
      " |  \n",
      " |  Read more in the :ref:`User Guide <preprocessing_scaler>`.\n",
      " |  \n",
      " |  Parameters\n",
      " |  ----------\n",
      " |  copy : bool, default=True\n",
      " |      If False, try to avoid a copy and do inplace scaling instead.\n",
      " |      This is not guaranteed to always work inplace; e.g. if the data is\n",
      " |      not a NumPy array or scipy.sparse CSR matrix, a copy may still be\n",
      " |      returned.\n",
      " |  \n",
      " |  with_mean : bool, default=True\n",
      " |      If True, center the data before scaling.\n",
      " |      This does not work (and will raise an exception) when attempted on\n",
      " |      sparse matrices, because centering them entails building a dense\n",
      " |      matrix which in common use cases is likely to be too large to fit in\n",
      " |      memory.\n",
      " |  \n",
      " |  with_std : bool, default=True\n",
      " |      If True, scale the data to unit variance (or equivalently,\n",
      " |      unit standard deviation).\n",
      " |  \n",
      " |  Attributes\n",
      " |  ----------\n",
      " |  scale_ : ndarray of shape (n_features,) or None\n",
      " |      Per feature relative scaling of the data to achieve zero mean and unit\n",
      " |      variance. Generally this is calculated using `np.sqrt(var_)`. If a\n",
      " |      variance is zero, we can't achieve unit variance, and the data is left\n",
      " |      as-is, giving a scaling factor of 1. `scale_` is equal to `None`\n",
      " |      when `with_std=False`.\n",
      " |  \n",
      " |      .. versionadded:: 0.17\n",
      " |         *scale_*\n",
      " |  \n",
      " |  mean_ : ndarray of shape (n_features,) or None\n",
      " |      The mean value for each feature in the training set.\n",
      " |      Equal to ``None`` when ``with_mean=False``.\n",
      " |  \n",
      " |  var_ : ndarray of shape (n_features,) or None\n",
      " |      The variance for each feature in the training set. Used to compute\n",
      " |      `scale_`. Equal to ``None`` when ``with_std=False``.\n",
      " |  \n",
      " |  n_features_in_ : int\n",
      " |      Number of features seen during :term:`fit`.\n",
      " |  \n",
      " |      .. versionadded:: 0.24\n",
      " |  \n",
      " |  feature_names_in_ : ndarray of shape (`n_features_in_`,)\n",
      " |      Names of features seen during :term:`fit`. Defined only when `X`\n",
      " |      has feature names that are all strings.\n",
      " |  \n",
      " |      .. versionadded:: 1.0\n",
      " |  \n",
      " |  n_samples_seen_ : int or ndarray of shape (n_features,)\n",
      " |      The number of samples processed by the estimator for each feature.\n",
      " |      If there are no missing samples, the ``n_samples_seen`` will be an\n",
      " |      integer, otherwise it will be an array of dtype int. If\n",
      " |      `sample_weights` are used it will be a float (if no missing data)\n",
      " |      or an array of dtype float that sums the weights seen so far.\n",
      " |      Will be reset on new calls to fit, but increments across\n",
      " |      ``partial_fit`` calls.\n",
      " |  \n",
      " |  See Also\n",
      " |  --------\n",
      " |  scale : Equivalent function without the estimator API.\n",
      " |  \n",
      " |  :class:`~sklearn.decomposition.PCA` : Further removes the linear\n",
      " |      correlation across features with 'whiten=True'.\n",
      " |  \n",
      " |  Notes\n",
      " |  -----\n",
      " |  NaNs are treated as missing values: disregarded in fit, and maintained in\n",
      " |  transform.\n",
      " |  \n",
      " |  We use a biased estimator for the standard deviation, equivalent to\n",
      " |  `numpy.std(x, ddof=0)`. Note that the choice of `ddof` is unlikely to\n",
      " |  affect model performance.\n",
      " |  \n",
      " |  For a comparison of the different scalers, transformers, and normalizers,\n",
      " |  see :ref:`examples/preprocessing/plot_all_scaling.py\n",
      " |  <sphx_glr_auto_examples_preprocessing_plot_all_scaling.py>`.\n",
      " |  \n",
      " |  Examples\n",
      " |  --------\n",
      " |  >>> from sklearn.preprocessing import StandardScaler\n",
      " |  >>> data = [[0, 0], [0, 0], [1, 1], [1, 1]]\n",
      " |  >>> scaler = StandardScaler()\n",
      " |  >>> print(scaler.fit(data))\n",
      " |  StandardScaler()\n",
      " |  >>> print(scaler.mean_)\n",
      " |  [0.5 0.5]\n",
      " |  >>> print(scaler.transform(data))\n",
      " |  [[-1. -1.]\n",
      " |   [-1. -1.]\n",
      " |   [ 1.  1.]\n",
      " |   [ 1.  1.]]\n",
      " |  >>> print(scaler.transform([[2, 2]]))\n",
      " |  [[3. 3.]]\n",
      " |  \n",
      " |  Method resolution order:\n",
      " |      StandardScaler\n",
      " |      sklearn.base._OneToOneFeatureMixin\n",
      " |      sklearn.base.TransformerMixin\n",
      " |      sklearn.base.BaseEstimator\n",
      " |      builtins.object\n",
      " |  \n",
      " |  Methods defined here:\n",
      " |  \n",
      " |  __init__(self, *, copy=True, with_mean=True, with_std=True)\n",
      " |      Initialize self.  See help(type(self)) for accurate signature.\n",
      " |  \n",
      " |  fit(self, X, y=None, sample_weight=None)\n",
      " |      Compute the mean and std to be used for later scaling.\n",
      " |      \n",
      " |      Parameters\n",
      " |      ----------\n",
      " |      X : {array-like, sparse matrix} of shape (n_samples, n_features)\n",
      " |          The data used to compute the mean and standard deviation\n",
      " |          used for later scaling along the features axis.\n",
      " |      \n",
      " |      y : None\n",
      " |          Ignored.\n",
      " |      \n",
      " |      sample_weight : array-like of shape (n_samples,), default=None\n",
      " |          Individual weights for each sample.\n",
      " |      \n",
      " |          .. versionadded:: 0.24\n",
      " |             parameter *sample_weight* support to StandardScaler.\n",
      " |      \n",
      " |      Returns\n",
      " |      -------\n",
      " |      self : object\n",
      " |          Fitted scaler.\n",
      " |  \n",
      " |  inverse_transform(self, X, copy=None)\n",
      " |      Scale back the data to the original representation.\n",
      " |      \n",
      " |      Parameters\n",
      " |      ----------\n",
      " |      X : {array-like, sparse matrix} of shape (n_samples, n_features)\n",
      " |          The data used to scale along the features axis.\n",
      " |      copy : bool, default=None\n",
      " |          Copy the input X or not.\n",
      " |      \n",
      " |      Returns\n",
      " |      -------\n",
      " |      X_tr : {ndarray, sparse matrix} of shape (n_samples, n_features)\n",
      " |          Transformed array.\n",
      " |  \n",
      " |  partial_fit(self, X, y=None, sample_weight=None)\n",
      " |      Online computation of mean and std on X for later scaling.\n",
      " |      \n",
      " |      All of X is processed as a single batch. This is intended for cases\n",
      " |      when :meth:`fit` is not feasible due to very large number of\n",
      " |      `n_samples` or because X is read from a continuous stream.\n",
      " |      \n",
      " |      The algorithm for incremental mean and std is given in Equation 1.5a,b\n",
      " |      in Chan, Tony F., Gene H. Golub, and Randall J. LeVeque. \"Algorithms\n",
      " |      for computing the sample variance: Analysis and recommendations.\"\n",
      " |      The American Statistician 37.3 (1983): 242-247:\n",
      " |      \n",
      " |      Parameters\n",
      " |      ----------\n",
      " |      X : {array-like, sparse matrix} of shape (n_samples, n_features)\n",
      " |          The data used to compute the mean and standard deviation\n",
      " |          used for later scaling along the features axis.\n",
      " |      \n",
      " |      y : None\n",
      " |          Ignored.\n",
      " |      \n",
      " |      sample_weight : array-like of shape (n_samples,), default=None\n",
      " |          Individual weights for each sample.\n",
      " |      \n",
      " |          .. versionadded:: 0.24\n",
      " |             parameter *sample_weight* support to StandardScaler.\n",
      " |      \n",
      " |      Returns\n",
      " |      -------\n",
      " |      self : object\n",
      " |          Fitted scaler.\n",
      " |  \n",
      " |  transform(self, X, copy=None)\n",
      " |      Perform standardization by centering and scaling.\n",
      " |      \n",
      " |      Parameters\n",
      " |      ----------\n",
      " |      X : {array-like, sparse matrix of shape (n_samples, n_features)\n",
      " |          The data used to scale along the features axis.\n",
      " |      copy : bool, default=None\n",
      " |          Copy the input X or not.\n",
      " |      \n",
      " |      Returns\n",
      " |      -------\n",
      " |      X_tr : {ndarray, sparse matrix} of shape (n_samples, n_features)\n",
      " |          Transformed array.\n",
      " |  \n",
      " |  ----------------------------------------------------------------------\n",
      " |  Methods inherited from sklearn.base._OneToOneFeatureMixin:\n",
      " |  \n",
      " |  get_feature_names_out(self, input_features=None)\n",
      " |      Get output feature names for transformation.\n",
      " |      \n",
      " |      Parameters\n",
      " |      ----------\n",
      " |      input_features : array-like of str or None, default=None\n",
      " |          Input features.\n",
      " |      \n",
      " |          - If `input_features` is `None`, then `feature_names_in_` is\n",
      " |            used as feature names in. If `feature_names_in_` is not defined,\n",
      " |            then the following input feature names are generated:\n",
      " |            `[\"x0\", \"x1\", ..., \"x(n_features_in_ - 1)\"]`.\n",
      " |          - If `input_features` is an array-like, then `input_features` must\n",
      " |            match `feature_names_in_` if `feature_names_in_` is defined.\n",
      " |      \n",
      " |      Returns\n",
      " |      -------\n",
      " |      feature_names_out : ndarray of str objects\n",
      " |          Same as input features.\n",
      " |  \n",
      " |  ----------------------------------------------------------------------\n",
      " |  Data descriptors inherited from sklearn.base._OneToOneFeatureMixin:\n",
      " |  \n",
      " |  __dict__\n",
      " |      dictionary for instance variables (if defined)\n",
      " |  \n",
      " |  __weakref__\n",
      " |      list of weak references to the object (if defined)\n",
      " |  \n",
      " |  ----------------------------------------------------------------------\n",
      " |  Methods inherited from sklearn.base.TransformerMixin:\n",
      " |  \n",
      " |  fit_transform(self, X, y=None, **fit_params)\n",
      " |      Fit to data, then transform it.\n",
      " |      \n",
      " |      Fits transformer to `X` and `y` with optional parameters `fit_params`\n",
      " |      and returns a transformed version of `X`.\n",
      " |      \n",
      " |      Parameters\n",
      " |      ----------\n",
      " |      X : array-like of shape (n_samples, n_features)\n",
      " |          Input samples.\n",
      " |      \n",
      " |      y :  array-like of shape (n_samples,) or (n_samples, n_outputs),                 default=None\n",
      " |          Target values (None for unsupervised transformations).\n",
      " |      \n",
      " |      **fit_params : dict\n",
      " |          Additional fit parameters.\n",
      " |      \n",
      " |      Returns\n",
      " |      -------\n",
      " |      X_new : ndarray array of shape (n_samples, n_features_new)\n",
      " |          Transformed array.\n",
      " |  \n",
      " |  ----------------------------------------------------------------------\n",
      " |  Methods inherited from sklearn.base.BaseEstimator:\n",
      " |  \n",
      " |  __getstate__(self)\n",
      " |  \n",
      " |  __repr__(self, N_CHAR_MAX=700)\n",
      " |      Return repr(self).\n",
      " |  \n",
      " |  __setstate__(self, state)\n",
      " |  \n",
      " |  get_params(self, deep=True)\n",
      " |      Get parameters for this estimator.\n",
      " |      \n",
      " |      Parameters\n",
      " |      ----------\n",
      " |      deep : bool, default=True\n",
      " |          If True, will return the parameters for this estimator and\n",
      " |          contained subobjects that are estimators.\n",
      " |      \n",
      " |      Returns\n",
      " |      -------\n",
      " |      params : dict\n",
      " |          Parameter names mapped to their values.\n",
      " |  \n",
      " |  set_params(self, **params)\n",
      " |      Set the parameters of this estimator.\n",
      " |      \n",
      " |      The method works on simple estimators as well as on nested objects\n",
      " |      (such as :class:`~sklearn.pipeline.Pipeline`). The latter have\n",
      " |      parameters of the form ``<component>__<parameter>`` so that it's\n",
      " |      possible to update each component of a nested object.\n",
      " |      \n",
      " |      Parameters\n",
      " |      ----------\n",
      " |      **params : dict\n",
      " |          Estimator parameters.\n",
      " |      \n",
      " |      Returns\n",
      " |      -------\n",
      " |      self : estimator instance\n",
      " |          Estimator instance.\n",
      "\n"
     ]
    }
   ],
   "source": [
    "help(StandardScaler)"
   ]
  },
  {
   "cell_type": "code",
   "execution_count": 32,
   "metadata": {
    "executionInfo": {
     "elapsed": 12,
     "status": "ok",
     "timestamp": 1665657053768,
     "user": {
      "displayName": "Pavankumar Gurazada",
      "userId": "10690826909418856210"
     },
     "user_tz": -330
    },
    "id": "khKJTH6cnJf2"
   },
   "outputs": [],
   "source": [
    "transformed_features_doc2vec = standard_scaler.fit_transform(features_doc2vec)"
   ]
  },
  {
   "cell_type": "code",
   "execution_count": 33,
   "metadata": {
    "executionInfo": {
     "elapsed": 12,
     "status": "ok",
     "timestamp": 1665657053769,
     "user": {
      "displayName": "Pavankumar Gurazada",
      "userId": "10690826909418856210"
     },
     "user_tz": -330
    },
    "id": "oeXEJngWj2GZ"
   },
   "outputs": [],
   "source": [
    "model_kmeans = KMeans(n_clusters=4, \n",
    "                      random_state=20130810)"
   ]
  },
  {
   "cell_type": "code",
   "execution_count": 34,
   "metadata": {
    "colab": {
     "base_uri": "https://localhost:8080/"
    },
    "executionInfo": {
     "elapsed": 12,
     "status": "ok",
     "timestamp": 1665657053769,
     "user": {
      "displayName": "Pavankumar Gurazada",
      "userId": "10690826909418856210"
     },
     "user_tz": -330
    },
    "id": "ENbkc6j8kcYp",
    "outputId": "457f6b08-7ed1-4b33-9496-ce1ebac6898d"
   },
   "outputs": [
    {
     "data": {
      "text/html": [
       "<style>#sk-container-id-1 {color: black;background-color: white;}#sk-container-id-1 pre{padding: 0;}#sk-container-id-1 div.sk-toggleable {background-color: white;}#sk-container-id-1 label.sk-toggleable__label {cursor: pointer;display: block;width: 100%;margin-bottom: 0;padding: 0.3em;box-sizing: border-box;text-align: center;}#sk-container-id-1 label.sk-toggleable__label-arrow:before {content: \"▸\";float: left;margin-right: 0.25em;color: #696969;}#sk-container-id-1 label.sk-toggleable__label-arrow:hover:before {color: black;}#sk-container-id-1 div.sk-estimator:hover label.sk-toggleable__label-arrow:before {color: black;}#sk-container-id-1 div.sk-toggleable__content {max-height: 0;max-width: 0;overflow: hidden;text-align: left;background-color: #f0f8ff;}#sk-container-id-1 div.sk-toggleable__content pre {margin: 0.2em;color: black;border-radius: 0.25em;background-color: #f0f8ff;}#sk-container-id-1 input.sk-toggleable__control:checked~div.sk-toggleable__content {max-height: 200px;max-width: 100%;overflow: auto;}#sk-container-id-1 input.sk-toggleable__control:checked~label.sk-toggleable__label-arrow:before {content: \"▾\";}#sk-container-id-1 div.sk-estimator input.sk-toggleable__control:checked~label.sk-toggleable__label {background-color: #d4ebff;}#sk-container-id-1 div.sk-label input.sk-toggleable__control:checked~label.sk-toggleable__label {background-color: #d4ebff;}#sk-container-id-1 input.sk-hidden--visually {border: 0;clip: rect(1px 1px 1px 1px);clip: rect(1px, 1px, 1px, 1px);height: 1px;margin: -1px;overflow: hidden;padding: 0;position: absolute;width: 1px;}#sk-container-id-1 div.sk-estimator {font-family: monospace;background-color: #f0f8ff;border: 1px dotted black;border-radius: 0.25em;box-sizing: border-box;margin-bottom: 0.5em;}#sk-container-id-1 div.sk-estimator:hover {background-color: #d4ebff;}#sk-container-id-1 div.sk-parallel-item::after {content: \"\";width: 100%;border-bottom: 1px solid gray;flex-grow: 1;}#sk-container-id-1 div.sk-label:hover label.sk-toggleable__label {background-color: #d4ebff;}#sk-container-id-1 div.sk-serial::before {content: \"\";position: absolute;border-left: 1px solid gray;box-sizing: border-box;top: 0;bottom: 0;left: 50%;z-index: 0;}#sk-container-id-1 div.sk-serial {display: flex;flex-direction: column;align-items: center;background-color: white;padding-right: 0.2em;padding-left: 0.2em;position: relative;}#sk-container-id-1 div.sk-item {position: relative;z-index: 1;}#sk-container-id-1 div.sk-parallel {display: flex;align-items: stretch;justify-content: center;background-color: white;position: relative;}#sk-container-id-1 div.sk-item::before, #sk-container-id-1 div.sk-parallel-item::before {content: \"\";position: absolute;border-left: 1px solid gray;box-sizing: border-box;top: 0;bottom: 0;left: 50%;z-index: -1;}#sk-container-id-1 div.sk-parallel-item {display: flex;flex-direction: column;z-index: 1;position: relative;background-color: white;}#sk-container-id-1 div.sk-parallel-item:first-child::after {align-self: flex-end;width: 50%;}#sk-container-id-1 div.sk-parallel-item:last-child::after {align-self: flex-start;width: 50%;}#sk-container-id-1 div.sk-parallel-item:only-child::after {width: 0;}#sk-container-id-1 div.sk-dashed-wrapped {border: 1px dashed gray;margin: 0 0.4em 0.5em 0.4em;box-sizing: border-box;padding-bottom: 0.4em;background-color: white;}#sk-container-id-1 div.sk-label label {font-family: monospace;font-weight: bold;display: inline-block;line-height: 1.2em;}#sk-container-id-1 div.sk-label-container {text-align: center;}#sk-container-id-1 div.sk-container {/* jupyter's `normalize.less` sets `[hidden] { display: none; }` but bootstrap.min.css set `[hidden] { display: none !important; }` so we also need the `!important` here to be able to override the default hidden behavior on the sphinx rendered scikit-learn.org. See: https://github.com/scikit-learn/scikit-learn/issues/21755 */display: inline-block !important;position: relative;}#sk-container-id-1 div.sk-text-repr-fallback {display: none;}</style><div id=\"sk-container-id-1\" class=\"sk-top-container\"><div class=\"sk-text-repr-fallback\"><pre>KMeans(n_clusters=4, random_state=20130810)</pre><b>In a Jupyter environment, please rerun this cell to show the HTML representation or trust the notebook. <br />On GitHub, the HTML representation is unable to render, please try loading this page with nbviewer.org.</b></div><div class=\"sk-container\" hidden><div class=\"sk-item\"><div class=\"sk-estimator sk-toggleable\"><input class=\"sk-toggleable__control sk-hidden--visually\" id=\"sk-estimator-id-1\" type=\"checkbox\" checked><label for=\"sk-estimator-id-1\" class=\"sk-toggleable__label sk-toggleable__label-arrow\">KMeans</label><div class=\"sk-toggleable__content\"><pre>KMeans(n_clusters=4, random_state=20130810)</pre></div></div></div></div></div>"
      ],
      "text/plain": [
       "KMeans(n_clusters=4, random_state=20130810)"
      ]
     },
     "execution_count": 34,
     "metadata": {},
     "output_type": "execute_result"
    }
   ],
   "source": [
    "model_kmeans.fit(transformed_features_doc2vec)"
   ]
  },
  {
   "cell_type": "code",
   "execution_count": 35,
   "metadata": {
    "executionInfo": {
     "elapsed": 7,
     "status": "ok",
     "timestamp": 1665657053769,
     "user": {
      "displayName": "Pavankumar Gurazada",
      "userId": "10690826909418856210"
     },
     "user_tz": -330
    },
    "id": "8C6gBumikfMb"
   },
   "outputs": [],
   "source": [
    "labels_kmeans = model_kmeans.labels_"
   ]
  },
  {
   "cell_type": "markdown",
   "metadata": {
    "id": "WAha-A4i4Xww"
   },
   "source": [
    "Quality of clustering is determined using the [silhouette score](https://scikit-learn.org/stable/modules/generated/sklearn.metrics.silhouette_score.html)."
   ]
  },
  {
   "cell_type": "code",
   "execution_count": 36,
   "metadata": {
    "colab": {
     "base_uri": "https://localhost:8080/"
    },
    "executionInfo": {
     "elapsed": 8,
     "status": "ok",
     "timestamp": 1665657053770,
     "user": {
      "displayName": "Pavankumar Gurazada",
      "userId": "10690826909418856210"
     },
     "user_tz": -330
    },
    "id": "RsHRABFRkiNR",
    "outputId": "3db63e9d-b5fb-4ece-fe3b-f395ce82c09c"
   },
   "outputs": [
    {
     "data": {
      "text/plain": [
       "0.49246106"
      ]
     },
     "execution_count": 36,
     "metadata": {},
     "output_type": "execute_result"
    }
   ],
   "source": [
    "silhouette_score(transformed_features_doc2vec, labels_kmeans)"
   ]
  },
  {
   "cell_type": "code",
   "execution_count": 37,
   "metadata": {
    "colab": {
     "base_uri": "https://localhost:8080/"
    },
    "executionInfo": {
     "elapsed": 2026,
     "status": "ok",
     "timestamp": 1665657055790,
     "user": {
      "displayName": "Pavankumar Gurazada",
      "userId": "10690826909418856210"
     },
     "user_tz": -330
    },
    "id": "Knve5ZS2klsA",
    "outputId": "af43b03a-a7b3-4eb2-c3f4-6f10871ecbd5"
   },
   "outputs": [
    {
     "name": "stdout",
     "output_type": "stream",
     "text": [
      "k = 4, silhouette score = 0.49246105551719666\n",
      "k = 5, silhouette score = 0.47145989537239075\n",
      "k = 6, silhouette score = 0.4666896164417267\n",
      "k = 7, silhouette score = 0.3958945572376251\n",
      "k = 8, silhouette score = 0.36373645067214966\n",
      "k = 9, silhouette score = 0.35742247104644775\n"
     ]
    }
   ],
   "source": [
    "for k in [4, 5, 6, 7, 8, 9]:\n",
    "    \n",
    "    model_kmeans = KMeans(n_clusters=k, \n",
    "                          random_state=20130810)\n",
    "    model_kmeans.fit(transformed_features_doc2vec)\n",
    "    sil_score = silhouette_score(transformed_features_doc2vec, model_kmeans.labels_)\n",
    "    print(f\"k = {k}, silhouette score = {sil_score}\")"
   ]
  },
  {
   "cell_type": "code",
   "execution_count": 38,
   "metadata": {
    "executionInfo": {
     "elapsed": 7,
     "status": "ok",
     "timestamp": 1665657055791,
     "user": {
      "displayName": "Pavankumar Gurazada",
      "userId": "10690826909418856210"
     },
     "user_tz": -330
    },
    "id": "dlhAm80Ok0zN"
   },
   "outputs": [],
   "source": [
    "model_kmeans = KMeans(n_clusters=4)\n",
    "model_kmeans.fit(transformed_features_doc2vec)\n",
    "labels_kmeans = model_kmeans.labels_"
   ]
  },
  {
   "cell_type": "code",
   "execution_count": 39,
   "metadata": {
    "executionInfo": {
     "elapsed": 6,
     "status": "ok",
     "timestamp": 1665657055791,
     "user": {
      "displayName": "Pavankumar Gurazada",
      "userId": "10690826909418856210"
     },
     "user_tz": -330
    },
    "id": "piX8yxOpk23V"
   },
   "outputs": [],
   "source": [
    "model_tsne = TSNE(n_components=2)"
   ]
  },
  {
   "cell_type": "code",
   "execution_count": 40,
   "metadata": {
    "colab": {
     "base_uri": "https://localhost:8080/"
    },
    "executionInfo": {
     "elapsed": 2484,
     "status": "ok",
     "timestamp": 1665657058270,
     "user": {
      "displayName": "Pavankumar Gurazada",
      "userId": "10690826909418856210"
     },
     "user_tz": -330
    },
    "id": "D4IO8U3Fk64V",
    "outputId": "3c99453d-bb5b-413e-acb1-1f6866075b67"
   },
   "outputs": [
    {
     "name": "stderr",
     "output_type": "stream",
     "text": [
      "/home/jensen116/.local/lib/python3.8/site-packages/sklearn/manifold/_t_sne.py:795: FutureWarning: The default initialization in TSNE will change from 'random' to 'pca' in 1.2.\n",
      "  warnings.warn(\n",
      "/home/jensen116/.local/lib/python3.8/site-packages/sklearn/manifold/_t_sne.py:805: FutureWarning: The default learning rate in TSNE will change from 200.0 to 'auto' in 1.2.\n",
      "  warnings.warn(\n"
     ]
    }
   ],
   "source": [
    "transformed_values = model_tsne.fit_transform(transformed_features_doc2vec)\n",
    "X, Y = [], []\n",
    "\n",
    "for value in transformed_values:\n",
    "    X.append(value[0])\n",
    "    Y.append(value[1])"
   ]
  },
  {
   "cell_type": "code",
   "execution_count": 41,
   "metadata": {
    "colab": {
     "base_uri": "https://localhost:8080/",
     "height": 568
    },
    "executionInfo": {
     "elapsed": 1126,
     "status": "ok",
     "timestamp": 1665657059392,
     "user": {
      "displayName": "Pavankumar Gurazada",
      "userId": "10690826909418856210"
     },
     "user_tz": -330
    },
    "id": "Yg6RKCpak-xc",
    "outputId": "9d1d290d-7c68-4788-83d9-60988a7dd793"
   },
   "outputs": [
    {
     "data": {
      "image/png": "[encoded data removed]",
      "text/plain": [
       "<Figure size 1296x648 with 1 Axes>"
      ]
     },
     "metadata": {
      "needs_background": "light"
     },
     "output_type": "display_data"
    }
   ],
   "source": [
    "plt.figure(figsize=(18, 9))\n",
    "\n",
    "labels_kmeans_str = pd.Series(labels_kmeans.astype(str), name='cluster')\n",
    "\n",
    "sns.scatterplot(x=X, \n",
    "                y=Y, \n",
    "                hue=labels_kmeans_str,\n",
    "                hue_order=['0', '1', '2', '3']);"
   ]
  },
  {
   "cell_type": "markdown",
   "metadata": {
    "id": "9PFmnSUl4qvH"
   },
   "source": [
    "Once the cluster assignment is done, we can then look at the composition of the clusters to qualitatively assess the clusters."
   ]
  },
  {
   "cell_type": "code",
   "execution_count": 42,
   "metadata": {
    "executionInfo": {
     "elapsed": 9,
     "status": "ok",
     "timestamp": 1665657059393,
     "user": {
      "displayName": "Pavankumar Gurazada",
      "userId": "10690826909418856210"
     },
     "user_tz": -330
    },
    "id": "G6IycCRrlCEt"
   },
   "outputs": [],
   "source": [
    "documents_by_cluster = (class_corpus.loc[:, ['DSI_Title', 'Genre of Movie', 'Text']]\n",
    "                                    .assign(cluster_label=labels_kmeans))"
   ]
  },
  {
   "cell_type": "code",
   "execution_count": 43,
   "metadata": {
    "colab": {
     "base_uri": "https://localhost:8080/",
     "height": 833
    },
    "executionInfo": {
     "elapsed": 10,
     "status": "ok",
     "timestamp": 1665657059394,
     "user": {
      "displayName": "Pavankumar Gurazada",
      "userId": "10690826909418856210"
     },
     "user_tz": -330
    },
    "id": "4fqPtPp-pdYc",
    "outputId": "91494fba-0b00-40d5-80e0-d9b382aef621"
   },
   "outputs": [
    {
     "data": {
      "text/html": [
       "<div>\n",
       "<style scoped>\n",
       "    .dataframe tbody tr th:only-of-type {\n",
       "        vertical-align: middle;\n",
       "    }\n",
       "\n",
       "    .dataframe tbody tr th {\n",
       "        vertical-align: top;\n",
       "    }\n",
       "\n",
       "    .dataframe thead th {\n",
       "        text-align: right;\n",
       "    }\n",
       "</style>\n",
       "<table border=\"1\" class=\"dataframe\">\n",
       "  <thead>\n",
       "    <tr style=\"text-align: right;\">\n",
       "      <th></th>\n",
       "      <th>DSI_Title</th>\n",
       "      <th>Genre of Movie</th>\n",
       "      <th>Text</th>\n",
       "      <th>cluster_label</th>\n",
       "    </tr>\n",
       "    <tr>\n",
       "      <th>Doc_ID</th>\n",
       "      <th></th>\n",
       "      <th></th>\n",
       "      <th></th>\n",
       "      <th></th>\n",
       "    </tr>\n",
       "  </thead>\n",
       "  <tbody>\n",
       "    <tr>\n",
       "      <th>40</th>\n",
       "      <td>KCM_Doc1_AngelHasFallen</td>\n",
       "      <td>Action</td>\n",
       "      <td>Boredom sets in long before the start of Angel...</td>\n",
       "      <td>1</td>\n",
       "    </tr>\n",
       "    <tr>\n",
       "      <th>41</th>\n",
       "      <td>KCM_Doc2_AngelHasFallen</td>\n",
       "      <td>Action</td>\n",
       "      <td>\\nWho ARE all these people?\\n\\nThat was what...</td>\n",
       "      <td>1</td>\n",
       "    </tr>\n",
       "    <tr>\n",
       "      <th>42</th>\n",
       "      <td>KCM_Doc3_AngelHasFallen</td>\n",
       "      <td>Action</td>\n",
       "      <td>Ric Roman Waughs Angel Has Fallen sees U.S. S...</td>\n",
       "      <td>1</td>\n",
       "    </tr>\n",
       "    <tr>\n",
       "      <th>43</th>\n",
       "      <td>KCM_Doc4_AngelHasFallen</td>\n",
       "      <td>Action</td>\n",
       "      <td>There is a certain mindless pleasure in the Fa...</td>\n",
       "      <td>1</td>\n",
       "    </tr>\n",
       "    <tr>\n",
       "      <th>45</th>\n",
       "      <td>KCM_Doc6_AngelHasFallen</td>\n",
       "      <td>Action</td>\n",
       "      <td>American movie presidents can only make us wis...</td>\n",
       "      <td>1</td>\n",
       "    </tr>\n",
       "    <tr>\n",
       "      <th>...</th>\n",
       "      <td>...</td>\n",
       "      <td>...</td>\n",
       "      <td>...</td>\n",
       "      <td>...</td>\n",
       "    </tr>\n",
       "    <tr>\n",
       "      <th>191</th>\n",
       "      <td>JSA_Doc2_PitchBlack</td>\n",
       "      <td>Sci-Fi</td>\n",
       "      <td>No other movie opening thrills me more than a ...</td>\n",
       "      <td>1</td>\n",
       "    </tr>\n",
       "    <tr>\n",
       "      <th>192</th>\n",
       "      <td>JSA_Doc3_PitchBlack</td>\n",
       "      <td>Sci-Fi</td>\n",
       "      <td>It's sci-fi season once again, what with this ...</td>\n",
       "      <td>1</td>\n",
       "    </tr>\n",
       "    <tr>\n",
       "      <th>197</th>\n",
       "      <td>JSA_Doc8_PitchBlack</td>\n",
       "      <td>Sci-Fi</td>\n",
       "      <td>Is it an active contempt for the audience, I h...</td>\n",
       "      <td>1</td>\n",
       "    </tr>\n",
       "    <tr>\n",
       "      <th>190</th>\n",
       "      <td>JSA_Doc1_PitchBlack</td>\n",
       "      <td>Sci-Fi</td>\n",
       "      <td>It's Vin Diesel week! Suddenly, this largely u...</td>\n",
       "      <td>1</td>\n",
       "    </tr>\n",
       "    <tr>\n",
       "      <th>194</th>\n",
       "      <td>JSA_Doc5_PitchBlack</td>\n",
       "      <td>Sci-Fi</td>\n",
       "      <td>Richard B. Riddick (Vin Diesel) cant seem to ...</td>\n",
       "      <td>1</td>\n",
       "    </tr>\n",
       "  </tbody>\n",
       "</table>\n",
       "<p>93 rows × 4 columns</p>\n",
       "</div>"
      ],
      "text/plain": [
       "                      DSI_Title Genre of Movie  \\\n",
       "Doc_ID                                           \n",
       "40      KCM_Doc1_AngelHasFallen         Action   \n",
       "41      KCM_Doc2_AngelHasFallen         Action   \n",
       "42      KCM_Doc3_AngelHasFallen         Action   \n",
       "43      KCM_Doc4_AngelHasFallen         Action   \n",
       "45      KCM_Doc6_AngelHasFallen         Action   \n",
       "...                         ...            ...   \n",
       "191         JSA_Doc2_PitchBlack         Sci-Fi   \n",
       "192         JSA_Doc3_PitchBlack         Sci-Fi   \n",
       "197         JSA_Doc8_PitchBlack         Sci-Fi   \n",
       "190         JSA_Doc1_PitchBlack         Sci-Fi   \n",
       "194         JSA_Doc5_PitchBlack         Sci-Fi   \n",
       "\n",
       "                                                     Text  cluster_label  \n",
       "Doc_ID                                                                    \n",
       "40      Boredom sets in long before the start of Angel...              1  \n",
       "41      \\nWho ARE all these people?\\n\\nThat was what...              1  \n",
       "42      Ric Roman Waughs Angel Has Fallen sees U.S. S...              1  \n",
       "43      There is a certain mindless pleasure in the Fa...              1  \n",
       "45      American movie presidents can only make us wis...              1  \n",
       "...                                                   ...            ...  \n",
       "191     No other movie opening thrills me more than a ...              1  \n",
       "192     It's sci-fi season once again, what with this ...              1  \n",
       "197     Is it an active contempt for the audience, I h...              1  \n",
       "190     It's Vin Diesel week! Suddenly, this largely u...              1  \n",
       "194     Richard B. Riddick (Vin Diesel) cant seem to ...              1  \n",
       "\n",
       "[93 rows x 4 columns]"
      ]
     },
     "execution_count": 43,
     "metadata": {},
     "output_type": "execute_result"
    }
   ],
   "source": [
    "documents_by_cluster.query(f\"cluster_label == 1\")"
   ]
  },
  {
   "cell_type": "markdown",
   "metadata": {
    "id": "gAzvcpVh4wIf"
   },
   "source": [
    "# Conclusion"
   ]
  },
  {
   "cell_type": "markdown",
   "metadata": {
    "id": "d4DryKdk4xsX"
   },
   "source": [
    "Quality of features extracted from text (e.g., `tf-idf` and `doc2vec`) can be acertained by the quality of the clusters generated using these features. These clusters also highlight potential patterns within the corpus.\n",
    " "
   ]
  }
 ],
 "metadata": {
  "colab": {
   "authorship_tag": "ABX9TyMiTPun2nq+pZBhrC1z1qFU",
   "provenance": []
  },
  "kernelspec": {
   "display_name": "Python 3",
   "language": "python",
   "name": "python3"
  },
  "language_info": {
   "codemirror_mode": {
    "name": "ipython",
    "version": 3
   },
   "file_extension": ".py",
   "mimetype": "text/x-python",
   "name": "python",
   "nbconvert_exporter": "python",
   "pygments_lexer": "ipython3",
   "version": "3.8.10"
  }
 },
 "nbformat": 4,
 "nbformat_minor": 1
}
