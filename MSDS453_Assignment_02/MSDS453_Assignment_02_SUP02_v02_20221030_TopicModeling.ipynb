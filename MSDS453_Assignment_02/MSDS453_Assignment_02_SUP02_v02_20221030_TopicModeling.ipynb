{
 "cells": [
  {
   "cell_type": "code",
   "execution_count": 1,
   "metadata": {
    "colab": {
     "base_uri": "https://localhost:8080/"
    },
    "executionInfo": {
     "elapsed": 2752,
     "status": "ok",
     "timestamp": 1665657616105,
     "user": {
      "displayName": "Pavankumar Gurazada",
      "userId": "10690826909418856210"
     },
     "user_tz": -330
    },
    "id": "6u6CMrIcfjKW",
    "outputId": "7898be9a-6d89-4f0e-9f03-6521fd3084ed"
   },
   "outputs": [],
   "source": [
    "#! pip install gensim==3.8.3"
   ]
  },
  {
   "cell_type": "code",
   "execution_count": 6,
   "metadata": {
    "colab": {
     "base_uri": "https://localhost:8080/"
    },
    "executionInfo": {
     "elapsed": 3285,
     "status": "ok",
     "timestamp": 1665657619385,
     "user": {
      "displayName": "Pavankumar Gurazada",
      "userId": "10690826909418856210"
     },
     "user_tz": -330
    },
    "id": "duoH9xQJxJO_",
    "outputId": "a2274820-6856-4f86-9c6d-53e493380fd9",
    "scrolled": true
   },
   "outputs": [],
   "source": [
    "#! pip install pyLDAvis"
   ]
  },
  {
   "cell_type": "code",
   "execution_count": 7,
   "metadata": {
    "executionInfo": {
     "elapsed": 23,
     "status": "ok",
     "timestamp": 1665657619386,
     "user": {
      "displayName": "Pavankumar Gurazada",
      "userId": "10690826909418856210"
     },
     "user_tz": -330
    },
    "id": "U-dBc7ujfK2E"
   },
   "outputs": [],
   "source": [
    "import nltk\n",
    "import re\n",
    "\n",
    "import pyLDAvis\n",
    "import pyLDAvis.gensim as gensimvis\n",
    "\n",
    "import pandas as pd\n",
    "import numpy as np\n",
    "\n",
    "import matplotlib.pyplot as plt\n",
    "import seaborn as sns\n",
    "\n",
    "from nltk.corpus import stopwords\n",
    "from nltk.stem.wordnet import WordNetLemmatizer\n",
    "\n",
    "from gensim import corpora\n",
    "from gensim.models.doc2vec import Doc2Vec, TaggedDocument\n",
    "from gensim.models import CoherenceModel\n",
    "from gensim.models import LsiModel, LdaModel"
   ]
  },
  {
   "cell_type": "code",
   "execution_count": 8,
   "metadata": {
    "executionInfo": {
     "elapsed": 22,
     "status": "ok",
     "timestamp": 1665657619386,
     "user": {
      "displayName": "Pavankumar Gurazada",
      "userId": "10690826909418856210"
     },
     "user_tz": -330
    },
    "id": "6FSriQmp7X6V"
   },
   "outputs": [],
   "source": [
    "sns.set_context('talk')"
   ]
  },
  {
   "cell_type": "code",
   "execution_count": 9,
   "metadata": {
    "colab": {
     "base_uri": "https://localhost:8080/"
    },
    "executionInfo": {
     "elapsed": 15,
     "status": "ok",
     "timestamp": 1665657619388,
     "user": {
      "displayName": "Pavankumar Gurazada",
      "userId": "10690826909418856210"
     },
     "user_tz": -330
    },
    "id": "tavAXOobgXz9",
    "outputId": "35cf999d-871a-47af-ad50-44d25a0b3934"
   },
   "outputs": [
    {
     "name": "stderr",
     "output_type": "stream",
     "text": [
      "[nltk_data] Downloading package stopwords to\n",
      "[nltk_data]     /home/jensen116/nltk_data...\n",
      "[nltk_data]   Package stopwords is already up-to-date!\n",
      "[nltk_data] Downloading package punkt to /home/jensen116/nltk_data...\n",
      "[nltk_data]   Package punkt is already up-to-date!\n",
      "[nltk_data] Downloading package wordnet to\n",
      "[nltk_data]     /home/jensen116/nltk_data...\n",
      "[nltk_data]   Package wordnet is already up-to-date!\n",
      "[nltk_data] Downloading package omw-1.4 to\n",
      "[nltk_data]     /home/jensen116/nltk_data...\n",
      "[nltk_data]   Package omw-1.4 is already up-to-date!\n"
     ]
    },
    {
     "data": {
      "text/plain": [
       "True"
      ]
     },
     "execution_count": 9,
     "metadata": {},
     "output_type": "execute_result"
    }
   ],
   "source": [
    "nltk.download('stopwords',quiet=True)\n",
    "nltk.download('punkt',quiet=True)\n",
    "nltk.download('wordnet',quiet=True)\n",
    "nltk.download('omw-1.4',quiet=True)"
   ]
  },
  {
   "cell_type": "code",
   "execution_count": 10,
   "metadata": {},
   "outputs": [],
   "source": [
    "def add_movie_descriptor(data: pd.DataFrame, corpus_df: pd.DataFrame):\n",
    "    \"\"\"\n",
    "    Adds \"Movie Description\" to the supplied dataframe, in the form {Genre}_{P|N}_{Movie Title}_{DocID}\n",
    "    \"\"\"\n",
    "    review = np.where(corpus_df['Review Type (pos or neg)'] == 'Positive', 'P', 'N')\n",
    "    data['Descriptor'] = corpus_df['Genre of Movie'] + '_' + corpus_df['Movie Title'] + '_' + review + '_' + corpus_df['Doc_ID'].astype(str)\n",
    "\n",
    "def get_corpus_df(path):\n",
    "    data = pd.read_csv(path, encoding=\"utf-8\")\n",
    "    add_movie_descriptor(data, data)\n",
    "    sorted_data = data.sort_values(['Descriptor'])\n",
    "    indexed_data = sorted_data.set_index(['Doc_ID'])\n",
    "    indexed_data['Doc_ID'] = indexed_data.index\n",
    "    return indexed_data"
   ]
  },
  {
   "cell_type": "markdown",
   "metadata": {
    "id": "TIm9iGUGi2ay"
   },
   "source": [
    "# Data"
   ]
  },
  {
   "cell_type": "code",
   "execution_count": 11,
   "metadata": {
    "executionInfo": {
     "elapsed": 13,
     "status": "ok",
     "timestamp": 1665657619388,
     "user": {
      "displayName": "Pavankumar Gurazada",
      "userId": "10690826909418856210"
     },
     "user_tz": -330
    },
    "id": "YRfybc_ai5e7"
   },
   "outputs": [],
   "source": [
    "CORPUS_PATH=\\\n",
    "'https://raw.githubusercontent.com/djp840/MSDS_453_Public/main/MSDS453_ClassCorpus/MSDS453_QA_20220906.csv'\n",
    "class_corpus = get_corpus_df(CORPUS_PATH)"
   ]
  },
  {
   "cell_type": "code",
   "execution_count": 12,
   "metadata": {
    "colab": {
     "base_uri": "https://localhost:8080/"
    },
    "executionInfo": {
     "elapsed": 14,
     "status": "ok",
     "timestamp": 1665657619389,
     "user": {
      "displayName": "Pavankumar Gurazada",
      "userId": "10690826909418856210"
     },
     "user_tz": -330
    },
    "id": "L2omUYiMi_Bi",
    "outputId": "4bf36ab6-6e6d-4a2d-f0b5-244f3be8b62b"
   },
   "outputs": [
    {
     "name": "stdout",
     "output_type": "stream",
     "text": [
      "<class 'pandas.core.frame.DataFrame'>\n",
      "Int64Index: 200 entries, 40 to 199\n",
      "Data columns (total 9 columns):\n",
      " #   Column                    Non-Null Count  Dtype \n",
      "---  ------                    --------------  ----- \n",
      " 0   DSI_Title                 200 non-null    object\n",
      " 1   Text                      200 non-null    object\n",
      " 2   Submission File Name      200 non-null    object\n",
      " 3   Student Name              200 non-null    object\n",
      " 4   Genre of Movie            200 non-null    object\n",
      " 5   Review Type (pos or neg)  200 non-null    object\n",
      " 6   Movie Title               200 non-null    object\n",
      " 7   Descriptor                200 non-null    object\n",
      " 8   Doc_ID                    200 non-null    int64 \n",
      "dtypes: int64(1), object(8)\n",
      "memory usage: 15.6+ KB\n"
     ]
    }
   ],
   "source": [
    "class_corpus.info()"
   ]
  },
  {
   "cell_type": "markdown",
   "metadata": {
    "id": "oUApF6gXi0Ob"
   },
   "source": [
    "# Preprocessing"
   ]
  },
  {
   "cell_type": "code",
   "execution_count": 13,
   "metadata": {
    "executionInfo": {
     "elapsed": 13,
     "status": "ok",
     "timestamp": 1665657619390,
     "user": {
      "displayName": "Pavankumar Gurazada",
      "userId": "10690826909418856210"
     },
     "user_tz": -330
    },
    "id": "3f0E2HBMgaoP"
   },
   "outputs": [],
   "source": [
    "STOP_WORDS = set(nltk.corpus.stopwords.words('english'))"
   ]
  },
  {
   "cell_type": "code",
   "execution_count": 14,
   "metadata": {
    "executionInfo": {
     "elapsed": 12,
     "status": "ok",
     "timestamp": 1665657619390,
     "user": {
      "displayName": "Pavankumar Gurazada",
      "userId": "10690826909418856210"
     },
     "user_tz": -330
    },
    "id": "x9UqR31CgbG9"
   },
   "outputs": [],
   "source": [
    "def remove_punctuation(text):\n",
    "    return re.sub('[^a-zA-Z]', ' ', str(text))\n",
    "\n",
    "def lower_case(text):\n",
    "    return text.lower()    \n",
    "\n",
    "def remove_tags(text):    \n",
    "    return re.sub(\"&lt;/?.*?&gt;\",\" &lt;&gt; \", text)\n",
    "\n",
    "def remove_special_chars_and_digits(text):\n",
    "    return re.sub(\"(\\\\d|\\\\W)+\",\" \", text)\n",
    "\n",
    "def remove_stop_words(tokenized_text):\n",
    "    return [w for w in tokenized_text if not w in STOP_WORDS]"
   ]
  },
  {
   "cell_type": "code",
   "execution_count": 15,
   "metadata": {
    "executionInfo": {
     "elapsed": 13,
     "status": "ok",
     "timestamp": 1665657619391,
     "user": {
      "displayName": "Pavankumar Gurazada",
      "userId": "10690826909418856210"
     },
     "user_tz": -330
    },
    "id": "MIDZVFNOgeCG"
   },
   "outputs": [],
   "source": [
    "def normalize(input_text):\n",
    "    '''\n",
    "    Normalization involves the following steps:\n",
    "    1. Remove punctuation\n",
    "    2. Lower case all words\n",
    "    3. Remove tags (i.e., HTML tags)\n",
    "    4. Remove all special characters and digits\n",
    "    '''\n",
    "    text = remove_punctuation(input_text)\n",
    "    text = lower_case(text)\n",
    "    text = remove_tags(text)\n",
    "    text = remove_special_chars_and_digits(text)\n",
    "\n",
    "    return text"
   ]
  },
  {
   "cell_type": "code",
   "execution_count": 16,
   "metadata": {
    "executionInfo": {
     "elapsed": 13,
     "status": "ok",
     "timestamp": 1665657619391,
     "user": {
      "displayName": "Pavankumar Gurazada",
      "userId": "10690826909418856210"
     },
     "user_tz": -330
    },
    "id": "-mbmpZgqgjT0"
   },
   "outputs": [],
   "source": [
    "def tokenize(text):\n",
    "    '''\n",
    "    Tokenization involves the following steps:\n",
    "    1. Break text down to tokens (i.e., words separated by white spaces)\n",
    "    2. Remove stop words from the tokens generated in step 1\n",
    "    '''\n",
    "    tokens = nltk.word_tokenize(text)\n",
    "    tokenized_text = remove_stop_words(tokens)\n",
    "    \n",
    "    return tokenized_text"
   ]
  },
  {
   "cell_type": "code",
   "execution_count": 17,
   "metadata": {
    "executionInfo": {
     "elapsed": 13,
     "status": "ok",
     "timestamp": 1665657619391,
     "user": {
      "displayName": "Pavankumar Gurazada",
      "userId": "10690826909418856210"
     },
     "user_tz": -330
    },
    "id": "QI9DxUomgl7s"
   },
   "outputs": [],
   "source": [
    "def lemmatize(tokenized_text, lemmatizer=WordNetLemmatizer()):\n",
    "    '''\n",
    "    Lemmatization is applied to each word in the list of normalized tokens\n",
    "    (stop words are removed)\n",
    "    '''\n",
    "    return [lemmatizer.lemmatize(word) for word in tokenized_text]"
   ]
  },
  {
   "cell_type": "code",
   "execution_count": 18,
   "metadata": {
    "executionInfo": {
     "elapsed": 13,
     "status": "ok",
     "timestamp": 1665657619392,
     "user": {
      "displayName": "Pavankumar Gurazada",
      "userId": "10690826909418856210"
     },
     "user_tz": -330
    },
    "id": "__exS2R4gooV"
   },
   "outputs": [],
   "source": [
    "def join_tokens(lemmatized_tokens):\n",
    "    return ' '.join(lemmatized_tokens)"
   ]
  },
  {
   "cell_type": "code",
   "execution_count": 19,
   "metadata": {
    "executionInfo": {
     "elapsed": 623,
     "status": "ok",
     "timestamp": 1665657620002,
     "user": {
      "displayName": "Pavankumar Gurazada",
      "userId": "10690826909418856210"
     },
     "user_tz": -330
    },
    "id": "CohWDClbgrO-"
   },
   "outputs": [],
   "source": [
    "class_corpus['normalized_review'] = class_corpus['Text'].apply(normalize)\n",
    "class_corpus['tokenized_review'] = class_corpus['normalized_review'].apply(tokenize)\n",
    "class_corpus['lemmatized_tokens'] = class_corpus['tokenized_review'].apply(lemmatize)\n",
    "class_corpus['lemmatized_text'] = class_corpus['lemmatized_tokens'].apply(join_tokens)"
   ]
  },
  {
   "cell_type": "code",
   "execution_count": 20,
   "metadata": {
    "colab": {
     "base_uri": "https://localhost:8080/"
    },
    "executionInfo": {
     "elapsed": 7,
     "status": "ok",
     "timestamp": 1665657620003,
     "user": {
      "displayName": "Pavankumar Gurazada",
      "userId": "10690826909418856210"
     },
     "user_tz": -330
    },
    "id": "d6rvCluFgwMt",
    "outputId": "2c607982-48cd-4829-a668-44ac2e1b8f69"
   },
   "outputs": [
    {
     "name": "stdout",
     "output_type": "stream",
     "text": [
      "<class 'pandas.core.frame.DataFrame'>\n",
      "Int64Index: 200 entries, 40 to 199\n",
      "Data columns (total 13 columns):\n",
      " #   Column                    Non-Null Count  Dtype \n",
      "---  ------                    --------------  ----- \n",
      " 0   DSI_Title                 200 non-null    object\n",
      " 1   Text                      200 non-null    object\n",
      " 2   Submission File Name      200 non-null    object\n",
      " 3   Student Name              200 non-null    object\n",
      " 4   Genre of Movie            200 non-null    object\n",
      " 5   Review Type (pos or neg)  200 non-null    object\n",
      " 6   Movie Title               200 non-null    object\n",
      " 7   Descriptor                200 non-null    object\n",
      " 8   Doc_ID                    200 non-null    int64 \n",
      " 9   normalized_review         200 non-null    object\n",
      " 10  tokenized_review          200 non-null    object\n",
      " 11  lemmatized_tokens         200 non-null    object\n",
      " 12  lemmatized_text           200 non-null    object\n",
      "dtypes: int64(1), object(12)\n",
      "memory usage: 21.9+ KB\n"
     ]
    }
   ],
   "source": [
    "class_corpus.info()"
   ]
  },
  {
   "cell_type": "markdown",
   "metadata": {
    "id": "oDMnLzHn7AdC"
   },
   "source": [
    "# Latent Semantic Analysis (LSA)"
   ]
  },
  {
   "cell_type": "code",
   "execution_count": 21,
   "metadata": {
    "executionInfo": {
     "elapsed": 5,
     "status": "ok",
     "timestamp": 1665657620003,
     "user": {
      "displayName": "Pavankumar Gurazada",
      "userId": "10690826909418856210"
     },
     "user_tz": -330
    },
    "id": "kXsS1ZeUWyyQ"
   },
   "outputs": [],
   "source": [
    "# Experiment with this number to be 2, 4, 6, 8 and analyze themes in the topics\n",
    "NUM_TOPICS = 2"
   ]
  },
  {
   "cell_type": "code",
   "execution_count": 22,
   "metadata": {
    "executionInfo": {
     "elapsed": 4,
     "status": "ok",
     "timestamp": 1665657620003,
     "user": {
      "displayName": "Pavankumar Gurazada",
      "userId": "10690826909418856210"
     },
     "user_tz": -330
    },
    "id": "L3mVaaOEbj6D"
   },
   "outputs": [],
   "source": [
    "processed_text = class_corpus['lemmatized_tokens'].tolist()"
   ]
  },
  {
   "cell_type": "code",
   "execution_count": 23,
   "metadata": {
    "executionInfo": {
     "elapsed": 5,
     "status": "ok",
     "timestamp": 1665657620004,
     "user": {
      "displayName": "Pavankumar Gurazada",
      "userId": "10690826909418856210"
     },
     "user_tz": -330
    },
    "id": "Q0NRAgs4b7U8"
   },
   "outputs": [],
   "source": [
    "dictionary = corpora.Dictionary(processed_text)"
   ]
  },
  {
   "cell_type": "code",
   "execution_count": 24,
   "metadata": {
    "executionInfo": {
     "elapsed": 5,
     "status": "ok",
     "timestamp": 1665657620004,
     "user": {
      "displayName": "Pavankumar Gurazada",
      "userId": "10690826909418856210"
     },
     "user_tz": -330
    },
    "id": "085IvwktcLJS"
   },
   "outputs": [],
   "source": [
    "doc_term_matrix = [dictionary.doc2bow(doc) for doc in processed_text]"
   ]
  },
  {
   "cell_type": "code",
   "execution_count": 25,
   "metadata": {
    "executionInfo": {
     "elapsed": 4267,
     "status": "ok",
     "timestamp": 1665657624266,
     "user": {
      "displayName": "Pavankumar Gurazada",
      "userId": "10690826909418856210"
     },
     "user_tz": -330
    },
    "id": "iZcSL6QvWyyR"
   },
   "outputs": [],
   "source": [
    "lsamodel = LsiModel(doc_term_matrix,\n",
    "                    num_topics=NUM_TOPICS,\n",
    "                    id2word=dictionary,\n",
    "                    power_iters=100)"
   ]
  },
  {
   "cell_type": "code",
   "execution_count": 26,
   "metadata": {
    "colab": {
     "base_uri": "https://localhost:8080/"
    },
    "executionInfo": {
     "elapsed": 4,
     "status": "ok",
     "timestamp": 1665657624266,
     "user": {
      "displayName": "Pavankumar Gurazada",
      "userId": "10690826909418856210"
     },
     "user_tz": -330
    },
    "id": "_Z-55Y1eWyyR",
    "outputId": "89b09b6e-563b-4c10-ed54-1b0052adda4e"
   },
   "outputs": [
    {
     "data": {
      "text/plain": [
       "[(0,\n",
       "  '0.416*\"film\" + 0.317*\"movie\" + 0.230*\"one\" + 0.172*\"like\" + 0.171*\"time\" + 0.132*\"scene\" + 0.124*\"get\" + 0.122*\"make\" + 0.114*\"character\" + 0.111*\"even\"'),\n",
       " (1,\n",
       "  '-0.405*\"anderton\" + 0.300*\"movie\" + -0.262*\"spielberg\" + -0.259*\"report\" + -0.245*\"minority\" + -0.220*\"film\" + -0.156*\"technology\" + -0.148*\"precrime\" + -0.121*\"future\" + -0.096*\"dick\"')]"
      ]
     },
     "execution_count": 26,
     "metadata": {},
     "output_type": "execute_result"
    }
   ],
   "source": [
    "lsamodel.print_topics(num_words=10)"
   ]
  },
  {
   "cell_type": "code",
   "execution_count": 27,
   "metadata": {
    "executionInfo": {
     "elapsed": 32278,
     "status": "ok",
     "timestamp": 1665657656541,
     "user": {
      "displayName": "Pavankumar Gurazada",
      "userId": "10690826909418856210"
     },
     "user_tz": -330
    },
    "id": "60z69Jmu9Sut"
   },
   "outputs": [],
   "source": [
    "topics = [2, 4, 6, 8]\n",
    "coherence_values = {}\n",
    "\n",
    "for t in topics:\n",
    "    lsamodel = LsiModel(doc_term_matrix,\n",
    "                        num_topics=t,\n",
    "                        id2word=dictionary,\n",
    "                        power_iters=100)\n",
    "\n",
    "    coherence_model_lsa = CoherenceModel(model=lsamodel, \n",
    "                                         dictionary=dictionary, \n",
    "                                         texts=processed_text, \n",
    "                                         coherence='c_v')\n",
    "    \n",
    "    coherence_lsa = coherence_model_lsa.get_coherence()\n",
    "\n",
    "    coherence_values[str(t) + ' topics'] = coherence_lsa \n"
   ]
  },
  {
   "cell_type": "code",
   "execution_count": 28,
   "metadata": {
    "colab": {
     "base_uri": "https://localhost:8080/"
    },
    "executionInfo": {
     "elapsed": 15,
     "status": "ok",
     "timestamp": 1665657656542,
     "user": {
      "displayName": "Pavankumar Gurazada",
      "userId": "10690826909418856210"
     },
     "user_tz": -330
    },
    "id": "gLZTdgzSgb-k",
    "outputId": "223529b9-44aa-4998-b6a8-00c503ac9aa6"
   },
   "outputs": [
    {
     "name": "stdout",
     "output_type": "stream",
     "text": [
      "{'2 topics': 0.28665398782892637, '4 topics': 0.2847956138114596, '6 topics': 0.3215720600003867, '8 topics': 0.3674387789524757}\n"
     ]
    }
   ],
   "source": [
    "print(coherence_values)"
   ]
  },
  {
   "cell_type": "markdown",
   "metadata": {
    "id": "YfgcKj-UfQRm"
   },
   "source": [
    "# Latent Dirichlet Allocation (LDA)"
   ]
  },
  {
   "cell_type": "markdown",
   "metadata": {
    "id": "m6hyeUB8oVHe"
   },
   "source": [
    "The implementation of LDA in gensim needs a careful tuning of two hyperparameters - iterations and passes. The [documentation](https://radimrehurek.com/gensim/models/ldamodel.html) and the suggested [tutorial](https://radimrehurek.com/gensim/auto_examples/tutorials/run_lda.html) suggest to use high values for both these parameters.   "
   ]
  },
  {
   "cell_type": "code",
   "execution_count": 29,
   "metadata": {
    "executionInfo": {
     "elapsed": 13,
     "status": "ok",
     "timestamp": 1665657656542,
     "user": {
      "displayName": "Pavankumar Gurazada",
      "userId": "10690826909418856210"
     },
     "user_tz": -330
    },
    "id": "VWIeeHBDgvcW"
   },
   "outputs": [],
   "source": [
    "# Experiment with this number to be 2, 4, 6, 8 and analyze themes in the topics\n",
    "NUM_TOPICS = 4"
   ]
  },
  {
   "cell_type": "code",
   "execution_count": 30,
   "metadata": {
    "colab": {
     "base_uri": "https://localhost:8080/"
    },
    "executionInfo": {
     "elapsed": 3029,
     "status": "ok",
     "timestamp": 1665657659558,
     "user": {
      "displayName": "Pavankumar Gurazada",
      "userId": "10690826909418856210"
     },
     "user_tz": -330
    },
    "id": "qWREFo_WcqJR",
    "outputId": "d4fd0b98-d0d6-495e-8b58-8a5b300a273c"
   },
   "outputs": [],
   "source": [
    "ldamodel = LdaModel(doc_term_matrix,\n",
    "                    num_topics=NUM_TOPICS,\n",
    "                    id2word = dictionary,\n",
    "                    alpha='auto',\n",
    "                    eta='auto',\n",
    "                    eval_every=1,\n",
    "                    iterations=100,\n",
    "                    passes=20,\n",
    "                    random_state=20130810)"
   ]
  },
  {
   "cell_type": "code",
   "execution_count": 31,
   "metadata": {
    "colab": {
     "base_uri": "https://localhost:8080/"
    },
    "executionInfo": {
     "elapsed": 1325,
     "status": "ok",
     "timestamp": 1665657660880,
     "user": {
      "displayName": "Pavankumar Gurazada",
      "userId": "10690826909418856210"
     },
     "user_tz": -330
    },
    "id": "kW1NkcE8wfav",
    "outputId": "eea202e1-2f3e-4758-9dc6-964c8261025a"
   },
   "outputs": [
    {
     "name": "stderr",
     "output_type": "stream",
     "text": [
      "/home/jensen116/.local/lib/python3.8/site-packages/pyLDAvis/_prepare.py:247: FutureWarning: In a future version of pandas all arguments of DataFrame.drop except for the argument 'labels' will be keyword-only.\n",
      "  default_term_info = default_term_info.sort_values(\n"
     ]
    }
   ],
   "source": [
    "lda_display = gensimvis.prepare(ldamodel, \n",
    "                                doc_term_matrix, \n",
    "                                dictionary, \n",
    "                                sort_topics=False)"
   ]
  },
  {
   "cell_type": "code",
   "execution_count": 32,
   "metadata": {
    "colab": {
     "base_uri": "https://localhost:8080/",
     "height": 861
    },
    "executionInfo": {
     "elapsed": 8,
     "status": "ok",
     "timestamp": 1665657660881,
     "user": {
      "displayName": "Pavankumar Gurazada",
      "userId": "10690826909418856210"
     },
     "user_tz": -330
    },
    "id": "7zmeM1ucyDj2",
    "outputId": "2a8a8907-3167-4f47-9cde-9505ea2808da"
   },
   "outputs": [
    {
     "data": {
      "text/html": [
       "\n",
       "<link rel=\"stylesheet\" type=\"text/css\" href=\"https://cdn.jsdelivr.net/gh/bmabey/pyLDAvis@3.2.2/pyLDAvis/js/ldavis.v1.0.0.css\">\n",
       "\n",
       "\n",
       "<div id=\"ldavis_el485491405504138094724649568383\"></div>\n",
       "<script type=\"text/javascript\">\n",
       "\n",
       "var ldavis_el485491405504138094724649568383_data = {\"mdsDat\": {\"x\": [0.01916563186380273, -0.09533134783641709, 0.0006033203755846313, 0.07556239559702965], \"y\": [-0.03198397480732059, -0.0343794305841759, 0.10244286282098097, -0.03607945742948445], \"topics\": [1, 2, 3, 4], \"cluster\": [1, 1, 1, 1], \"Freq\": [22.890928313564523, 14.640749950024714, 28.173187098692825, 34.29513463771794]}, \"tinfo\": {\"Term\": [\"bond\", \"elle\", \"batman\", \"craig\", \"die\", \"bryan\", \"anderton\", \"cruise\", \"spielberg\", \"holmes\", \"report\", \"loretta\", \"preston\", \"time\", \"gru\", \"minority\", \"kim\", \"planet\", \"toxic\", \"blonde\", \"banning\", \"mike\", \"hell\", \"witherspoon\", \"joker\", \"neeson\", \"inception\", \"raimi\", \"alien\", \"legally\", \"elle\", \"bryan\", \"kim\", \"witherspoon\", \"wayne\", \"gotham\", \"nicholson\", \"burton\", \"keaton\", \"harvard\", \"reese\", \"vicki\", \"legally\", \"blonde\", \"morel\", \"luketic\", \"basinger\", \"vale\", \"paris\", \"neeson\", \"maggie\", \"sorority\", \"albanian\", \"vivian\", \"napier\", \"selma\", \"amanda\", \"batman\", \"davis\", \"warner\", \"joker\", \"besson\", \"liam\", \"bruce\", \"taken\", \"daughter\", \"film\", \"law\", \"way\", \"noa\", \"action\", \"one\", \"character\", \"get\", \"like\", \"movie\", \"make\", \"take\", \"much\", \"would\", \"even\", \"u\", \"story\", \"best\", \"time\", \"first\", \"scene\", \"man\", \"look\", \"craig\", \"madeleine\", \"spectre\", \"safin\", \"lyutsifer\", \"fukunaga\", \"malek\", \"royale\", \"casino\", \"bond\", \"seydoux\", \"armas\", \"swann\", \"madeline\", \"nomi\", \"paloma\", \"lynch\", \"blofeld\", \"lashana\", \"ana\", \"ramus\", \"leiter\", \"vesper\", \"joji\", \"connery\", \"nanobots\", \"felix\", \"aston\", \"lynd\", \"fleming\", \"die\", \"preston\", \"cuba\", \"gru\", \"minion\", \"lucy\", \"bratt\", \"james\", \"villain\", \"time\", \"franchise\", \"bale\", \"world\", \"emotion\", \"movie\", \"family\", \"feel\", \"one\", \"new\", \"film\", \"come\", \"get\", \"action\", \"u\", \"like\", \"character\", \"sequence\", \"make\", \"much\", \"even\", \"scene\", \"way\", \"story\", \"never\", \"year\", \"anderton\", \"loretta\", \"bullock\", \"spielberg\", \"cruise\", \"report\", \"precrime\", \"inception\", \"cog\", \"planet\", \"minority\", \"cobb\", \"kosinski\", \"oblivion\", \"riseborough\", \"philip\", \"radcliffe\", \"tatum\", \"kurylenko\", \"beth\", \"tron\", \"fairfax\", \"trainer\", \"hitchcock\", \"agatha\", \"steven\", \"precogs\", \"alan\", \"eclipse\", \"scanner\", \"earth\", \"dash\", \"alien\", \"tom\", \"sun\", \"pre\", \"nolan\", \"dream\", \"science\", \"moon\", \"twohy\", \"lost\", \"space\", \"pitch\", \"jack\", \"technology\", \"fiction\", \"diesel\", \"riddick\", \"human\", \"movie\", \"film\", \"like\", \"one\", \"city\", \"make\", \"year\", \"well\", \"get\", \"look\", \"character\", \"even\", \"story\", \"thing\", \"time\", \"scene\", \"also\", \"would\", \"much\", \"go\", \"holmes\", \"raimi\", \"pennywise\", \"christine\", \"banning\", \"ferrell\", \"melvin\", \"muschietti\", \"reilly\", \"clay\", \"avenger\", \"trumbull\", \"hader\", \"loser\", \"lohman\", \"derry\", \"troma\", \"sherlock\", \"ganush\", \"nolte\", \"skarsgard\", \"gypsy\", \"tromaville\", \"zac\", \"toxic\", \"toxie\", \"grandpa\", \"loan\", \"richie\", \"mcavoy\", \"efron\", \"mike\", \"fallen\", \"angel\", \"hell\", \"watson\", \"chapter\", \"drag\", \"niro\", \"president\", \"bill\", \"horror\", \"dirty\", \"clown\", \"comedy\", \"king\", \"film\", \"movie\", \"one\", \"time\", \"scene\", \"first\", \"like\", \"old\", \"even\", \"thing\", \"two\", \"make\", \"get\", \"would\", \"character\", \"also\", \"good\", \"much\", \"see\", \"take\", \"come\", \"way\", \"action\", \"people\"], \"Freq\": [156.0, 87.0, 94.0, 54.0, 64.0, 59.0, 68.0, 72.0, 72.0, 81.0, 69.0, 65.0, 59.0, 371.0, 58.0, 65.0, 45.0, 57.0, 75.0, 48.0, 64.0, 78.0, 86.0, 38.0, 45.0, 41.0, 44.0, 50.0, 59.0, 37.0, 87.1015661664529, 58.429831218401084, 44.912059182548575, 38.09508246035337, 32.273430208845454, 28.900837755184245, 28.878542723785348, 27.219293124105643, 24.68162596961387, 24.65373689479825, 23.812761723588974, 15.397654621808874, 35.503897207047615, 46.57147106676426, 12.025943993677732, 11.17831038341869, 11.173858298097063, 11.172500358376878, 26.31877384741548, 39.011808711805884, 9.493070199340602, 9.48161303042728, 8.648811152815025, 8.64783983213644, 8.646899536442673, 8.644734350482851, 8.64251904723986, 87.90851170238955, 7.8039435392795236, 28.889518408799642, 42.06924459659399, 22.039175508699497, 15.382266229338303, 26.368206194382438, 51.73189974949637, 31.194882409647967, 223.37683593410893, 23.23453476228045, 71.52617895276113, 32.67503670465001, 68.1278214424758, 110.75434636255044, 74.82971933636287, 77.1219024917374, 91.46845210669046, 114.7596719027738, 74.42922974001182, 51.604186592754715, 52.67165608583428, 51.199993090523655, 52.69763593081483, 45.89168978399168, 45.115979248156584, 42.2434904574906, 51.78152063290954, 42.705834327422956, 44.51610878013038, 38.16964504502429, 39.219657017799534, 53.2834655785982, 21.915588589501212, 20.308131435769802, 19.503245848274066, 15.481846286903538, 15.48138836712912, 14.676724107524352, 13.872633774036856, 13.87262308924212, 148.9425950692165, 9.851025095969346, 9.850925116818598, 9.85073050091447, 9.047369023067924, 8.242768872231576, 8.242679577875563, 8.242621574704136, 8.242377350824448, 8.242341480442118, 8.242064438978595, 8.241781291918079, 7.437746672003137, 7.437388731379467, 7.437184193880227, 6.63299159164311, 5.829599204211791, 5.8293519275336045, 5.82914090283756, 5.828019380990046, 5.827403478893453, 52.3654280148436, 43.447144286585434, 9.047047716026206, 37.60400248664502, 21.31937093761108, 17.235450063039924, 16.952092359428132, 25.933895665995163, 28.169426423923763, 90.60597867431106, 23.187648510056643, 15.790214042194831, 38.61054678439926, 23.741821494658897, 85.5397435636494, 26.50960461758833, 33.34649643678572, 66.75124637447449, 36.24952463869047, 76.87716529022512, 37.03560498745008, 44.725766197508285, 37.78662394548169, 33.057298729650846, 42.57991750100034, 37.18291777888057, 26.825798221824435, 35.41561304309358, 32.062867936329226, 33.114016672910346, 27.98515340110069, 26.88573381469885, 25.11545107397889, 24.475517347624255, 24.532288714857437, 68.09570003580528, 64.54091177161469, 36.34024380751625, 70.72831540440727, 70.73745024953075, 68.07725998510263, 28.426113591946773, 43.03510424178948, 20.494373098583758, 55.251032758958345, 62.79117477832414, 16.08783689510787, 16.08261299734191, 36.34665875984735, 14.319702441228584, 14.31901953078125, 14.302409386352524, 33.659833519348545, 13.437639152580099, 13.436757977809345, 13.436559713485925, 13.42862473467528, 12.559569054267751, 11.6786064997704, 11.67372405722811, 10.794863838871319, 10.790358832855835, 42.37476949208138, 12.417807125773361, 9.915759828827952, 38.036898832616544, 19.574776170574978, 53.65596543592912, 38.89456679773669, 23.12799153779978, 42.53631232555458, 42.38525253460412, 58.309608011743116, 33.587553690152774, 19.598907141672093, 20.364154559586254, 72.5576988479771, 37.92254878261571, 38.12130362665789, 62.701935272040586, 23.994860436151217, 34.57135888645721, 24.32909883844616, 26.513253525094125, 50.327539221348445, 229.39723848429273, 233.41238769571638, 139.23160576767435, 153.66251099634755, 55.718989432715304, 88.86330340143078, 67.43239278987049, 64.1639980751721, 77.8155277171067, 60.33399543208094, 73.89145672998825, 70.80294503299172, 62.195618123263436, 62.444356137552056, 70.65037255868478, 63.09517419973602, 59.50227806395952, 59.93729642478567, 57.49353443305183, 55.738457520650506, 80.70858365460589, 50.20238260678376, 48.31384044623638, 44.7076795435445, 63.34697056839709, 44.607947995776286, 34.72435603184809, 31.997190011034956, 34.527638923788295, 22.935098816193296, 52.001730231403634, 20.216669540691587, 18.4011910273987, 42.03117484637271, 19.262864377596973, 17.488008958986214, 19.234315761702113, 17.479123830236922, 16.58827436309932, 24.421568341684146, 16.548003455613088, 15.652834779007017, 14.768108363371695, 19.06035495220363, 71.88749934239847, 14.715513585657446, 43.21626151978845, 12.95270940505453, 12.946966250908233, 12.94373131318754, 34.33099332581904, 73.65768872760165, 57.437004833901646, 41.73408975073891, 77.93949841871964, 65.42800001514897, 45.40313662704952, 50.79780422463577, 39.98541417627395, 41.528523268975086, 32.235837060681455, 108.51509643390395, 36.22371167565382, 24.656439658550266, 77.73817606082922, 28.933486777638443, 346.72471170557657, 275.2455135271204, 206.104852631442, 158.18828649318706, 119.08604696358377, 99.26248448034757, 160.85501218547785, 75.79642681741736, 114.71823923758531, 90.76018500074757, 84.25838745494511, 110.10483725664463, 109.89306727452667, 88.4897825322341, 99.47014263225961, 85.31094447756757, 81.6052272268293, 88.73507644479606, 79.58617557554632, 80.40854161672836, 79.66127547262887, 78.58664328505746, 75.72516701219666, 72.17102970037088], \"Total\": [156.0, 87.0, 94.0, 54.0, 64.0, 59.0, 68.0, 72.0, 72.0, 81.0, 69.0, 65.0, 59.0, 371.0, 58.0, 65.0, 45.0, 57.0, 75.0, 48.0, 64.0, 78.0, 86.0, 38.0, 45.0, 41.0, 44.0, 50.0, 59.0, 37.0, 87.84718983656136, 59.13132689644284, 45.619257313391, 38.868332879700404, 32.94863289387218, 29.57036023793394, 29.569195868373633, 27.881641000262366, 25.347779669470974, 25.350862412314108, 24.506111762256257, 16.05815956158349, 37.24562994213955, 48.99153709375999, 12.680838761276037, 11.8364353288989, 11.835499321547918, 11.835301351879536, 27.944708358982595, 41.4913166782647, 10.147314616474683, 10.147736694756752, 9.302756414041376, 9.302710239612804, 9.302200204141206, 9.302738590417498, 9.302877307524495, 94.8008555609925, 8.458114146907786, 31.33310227940939, 45.731962722177364, 24.63907804701437, 16.965636789874544, 30.670483972362042, 72.75804117742084, 43.265984179149186, 880.3911006256269, 36.77256729517657, 223.26382964745, 64.74531407108125, 222.2796806777833, 537.2729563648145, 285.3742364774913, 309.55626368087906, 434.134987560843, 704.9421674778364, 308.8129834411808, 191.2417335849016, 230.96313490001137, 219.81582685092079, 271.3328368743022, 174.14276354020083, 185.92190579172245, 147.18311727502115, 371.22615835909244, 198.20860540571778, 254.68248334455086, 129.75914408447898, 164.055378004751, 54.80359767038539, 22.582036549232644, 20.97278246960285, 20.168248655298022, 16.145359197029066, 16.14540849301675, 15.340855979994346, 14.536275273986178, 14.536278177337891, 156.81564506728424, 10.513402524947056, 10.513412837654595, 10.513423711527826, 9.708759708035137, 8.904214472127373, 8.904232247173045, 8.90423514241763, 8.904245124743246, 8.904267498627098, 8.904278496218629, 8.904310009603691, 8.099713036068499, 8.099738011680307, 8.09975296678357, 7.295160563195976, 6.490493718578025, 6.490531037184106, 6.490541794124232, 6.490651201534833, 6.490706311811109, 64.54429213161755, 59.18528672826417, 10.61367394633926, 58.95918454467346, 31.054481703151662, 25.345609288104, 25.359699771766625, 50.8956264118484, 60.221546537684944, 371.22615835909244, 47.80824471781298, 28.531530833521522, 150.13907602416566, 62.880700438846695, 704.9421674778364, 78.24262292801481, 129.3164837257521, 537.2729563648145, 158.7800404312399, 880.3911006256269, 192.39291205829704, 309.55626368087906, 222.2796806777833, 174.14276354020083, 434.134987560843, 285.3742364774913, 110.71939477632803, 308.8129834411808, 230.96313490001137, 271.3328368743022, 254.68248334455086, 223.26382964745, 185.92190579172245, 151.07552016116693, 192.90455054830628, 68.76162402773981, 65.23218630535258, 37.012662992414135, 72.20932151626434, 72.24916353809826, 69.56488870370579, 29.077283405661404, 44.07840914289971, 21.14035144262091, 57.26988328679901, 65.22902895156817, 16.731012651758423, 16.730594720166813, 37.86556815682097, 14.966772026313732, 14.96687951014215, 14.965143699816869, 35.27428961065296, 14.084904079263497, 14.084804688898394, 14.084854084309244, 14.084235458735376, 13.203337830879091, 12.321502633367436, 12.320990986451939, 11.439554204838277, 11.438965758206626, 45.00102964086622, 13.205372629058935, 10.55773233028237, 41.37471864467095, 21.099127052206697, 59.80574373658544, 42.94523644325342, 25.60124518369968, 50.63276930758943, 50.78913740264618, 76.19790237872115, 40.52508360216277, 21.94278928393004, 22.95958827515219, 104.79386632746349, 48.49235621225462, 49.68275796993727, 93.47864013167907, 28.19277813103334, 46.5879689149085, 29.125805105768315, 32.77077601358637, 80.04107776574443, 704.9421674778364, 880.3911006256269, 434.134987560843, 537.2729563648145, 104.73591855017983, 308.8129834411808, 192.90455054830628, 187.58320085247578, 309.55626368087906, 164.055378004751, 285.3742364774913, 271.3328368743022, 185.92190579172245, 204.28162689867438, 371.22615835909244, 254.68248334455086, 204.29141703267408, 219.81582685092079, 230.96313490001137, 179.84932546004734, 81.78003340759741, 50.872787903240805, 49.051705118765135, 45.414884203868496, 64.4717233760138, 45.411214670968114, 35.412440252617564, 32.683919729506385, 35.40574776751872, 23.590162546141833, 53.532828001461866, 20.862630238398573, 19.044308852591055, 43.52764248764712, 19.951639921830385, 18.134644426761415, 19.95097371890188, 18.134065933043644, 17.225726622373905, 25.38277815176035, 17.224009627709084, 16.31483601281393, 15.406957908478576, 19.93511992416721, 75.22014943100189, 15.404764984771829, 45.307002363103, 13.58817053999654, 13.587757005172953, 13.587651742200507, 36.2256940074869, 78.87058837078573, 61.649163517440826, 45.251879990904406, 86.86225815620848, 72.82170361434773, 49.68444987135001, 55.9827757345803, 44.23008593521808, 46.93151884648828, 36.1113681942551, 143.71673013109876, 42.35608012384239, 27.090147639898788, 114.8896342433944, 33.27395237593065, 880.3911006256269, 704.9421674778364, 537.2729563648145, 371.22615835909244, 254.68248334455086, 198.20860540571778, 434.134987560843, 130.5834563547303, 271.3328368743022, 204.28162689867438, 180.0530566439548, 308.8129834411808, 309.55626368087906, 219.81582685092079, 285.3742364774913, 204.29141703267408, 185.29428298159482, 230.96313490001137, 181.32847084596477, 191.2417335849016, 192.39291205829704, 223.26382964745, 222.2796806777833, 157.88642279363222], \"Category\": [\"Default\", \"Default\", \"Default\", \"Default\", \"Default\", \"Default\", \"Default\", \"Default\", \"Default\", \"Default\", \"Default\", \"Default\", \"Default\", \"Default\", \"Default\", \"Default\", \"Default\", \"Default\", \"Default\", \"Default\", \"Default\", \"Default\", \"Default\", \"Default\", \"Default\", \"Default\", \"Default\", \"Default\", \"Default\", \"Default\", \"Topic1\", \"Topic1\", \"Topic1\", \"Topic1\", \"Topic1\", \"Topic1\", \"Topic1\", \"Topic1\", \"Topic1\", \"Topic1\", \"Topic1\", \"Topic1\", \"Topic1\", \"Topic1\", \"Topic1\", \"Topic1\", \"Topic1\", \"Topic1\", \"Topic1\", \"Topic1\", \"Topic1\", \"Topic1\", \"Topic1\", \"Topic1\", \"Topic1\", \"Topic1\", \"Topic1\", \"Topic1\", \"Topic1\", \"Topic1\", \"Topic1\", \"Topic1\", \"Topic1\", \"Topic1\", \"Topic1\", \"Topic1\", \"Topic1\", \"Topic1\", \"Topic1\", \"Topic1\", \"Topic1\", \"Topic1\", \"Topic1\", \"Topic1\", \"Topic1\", \"Topic1\", \"Topic1\", \"Topic1\", \"Topic1\", \"Topic1\", \"Topic1\", \"Topic1\", \"Topic1\", \"Topic1\", \"Topic1\", \"Topic1\", \"Topic1\", \"Topic1\", \"Topic1\", \"Topic2\", \"Topic2\", \"Topic2\", \"Topic2\", \"Topic2\", \"Topic2\", \"Topic2\", \"Topic2\", \"Topic2\", \"Topic2\", \"Topic2\", \"Topic2\", \"Topic2\", \"Topic2\", \"Topic2\", \"Topic2\", \"Topic2\", \"Topic2\", \"Topic2\", \"Topic2\", \"Topic2\", \"Topic2\", \"Topic2\", \"Topic2\", \"Topic2\", \"Topic2\", \"Topic2\", \"Topic2\", \"Topic2\", \"Topic2\", \"Topic2\", \"Topic2\", \"Topic2\", \"Topic2\", \"Topic2\", \"Topic2\", \"Topic2\", \"Topic2\", \"Topic2\", \"Topic2\", \"Topic2\", \"Topic2\", \"Topic2\", \"Topic2\", \"Topic2\", \"Topic2\", \"Topic2\", \"Topic2\", \"Topic2\", \"Topic2\", \"Topic2\", \"Topic2\", \"Topic2\", \"Topic2\", \"Topic2\", \"Topic2\", \"Topic2\", \"Topic2\", \"Topic2\", \"Topic2\", \"Topic2\", \"Topic2\", \"Topic2\", \"Topic2\", \"Topic2\", \"Topic3\", \"Topic3\", \"Topic3\", \"Topic3\", \"Topic3\", \"Topic3\", \"Topic3\", \"Topic3\", \"Topic3\", \"Topic3\", \"Topic3\", \"Topic3\", \"Topic3\", \"Topic3\", \"Topic3\", \"Topic3\", \"Topic3\", \"Topic3\", \"Topic3\", \"Topic3\", \"Topic3\", \"Topic3\", \"Topic3\", \"Topic3\", \"Topic3\", \"Topic3\", \"Topic3\", \"Topic3\", \"Topic3\", \"Topic3\", \"Topic3\", \"Topic3\", \"Topic3\", \"Topic3\", \"Topic3\", \"Topic3\", \"Topic3\", \"Topic3\", \"Topic3\", \"Topic3\", \"Topic3\", \"Topic3\", \"Topic3\", \"Topic3\", \"Topic3\", \"Topic3\", \"Topic3\", \"Topic3\", \"Topic3\", \"Topic3\", \"Topic3\", \"Topic3\", \"Topic3\", \"Topic3\", \"Topic3\", \"Topic3\", \"Topic3\", \"Topic3\", \"Topic3\", \"Topic3\", \"Topic3\", \"Topic3\", \"Topic3\", \"Topic3\", \"Topic3\", \"Topic3\", \"Topic3\", \"Topic3\", \"Topic3\", \"Topic3\", \"Topic4\", \"Topic4\", \"Topic4\", \"Topic4\", \"Topic4\", \"Topic4\", \"Topic4\", \"Topic4\", \"Topic4\", \"Topic4\", \"Topic4\", \"Topic4\", \"Topic4\", \"Topic4\", \"Topic4\", \"Topic4\", \"Topic4\", \"Topic4\", \"Topic4\", \"Topic4\", \"Topic4\", \"Topic4\", \"Topic4\", \"Topic4\", \"Topic4\", \"Topic4\", \"Topic4\", \"Topic4\", \"Topic4\", \"Topic4\", \"Topic4\", \"Topic4\", \"Topic4\", \"Topic4\", \"Topic4\", \"Topic4\", \"Topic4\", \"Topic4\", \"Topic4\", \"Topic4\", \"Topic4\", \"Topic4\", \"Topic4\", \"Topic4\", \"Topic4\", \"Topic4\", \"Topic4\", \"Topic4\", \"Topic4\", \"Topic4\", \"Topic4\", \"Topic4\", \"Topic4\", \"Topic4\", \"Topic4\", \"Topic4\", \"Topic4\", \"Topic4\", \"Topic4\", \"Topic4\", \"Topic4\", \"Topic4\", \"Topic4\", \"Topic4\", \"Topic4\", \"Topic4\", \"Topic4\", \"Topic4\", \"Topic4\", \"Topic4\"], \"logprob\": [30.0, 29.0, 28.0, 27.0, 26.0, 25.0, 24.0, 23.0, 22.0, 21.0, 20.0, 19.0, 18.0, 17.0, 16.0, 15.0, 14.0, 13.0, 12.0, 11.0, 10.0, 9.0, 8.0, 7.0, 6.0, 5.0, 4.0, 3.0, 2.0, 1.0, -5.4611, -5.8604, -6.1235, -6.2881, -6.4539, -6.5643, -6.5651, -6.6243, -6.7221, -6.7233, -6.758, -7.194, -6.3585, -6.0872, -7.4411, -7.5142, -7.5146, -7.5147, -6.6579, -6.2643, -7.6776, -7.6788, -7.7708, -7.7709, -7.771, -7.7712, -7.7715, -5.4519, -7.8736, -6.5647, -6.1889, -6.8354, -7.195, -6.656, -5.9821, -6.4879, -4.5193, -6.7826, -5.6581, -6.4416, -5.7068, -5.2209, -5.613, -5.5828, -5.4122, -5.1853, -5.6183, -5.9846, -5.9641, -5.9925, -5.9636, -6.1019, -6.119, -6.1847, -5.9812, -6.1739, -6.1323, -6.2861, -6.259, -5.5056, -6.3941, -6.4702, -6.5107, -6.7416, -6.7416, -6.795, -6.8513, -6.8513, -4.4777, -7.1937, -7.1937, -7.1937, -7.2788, -7.3719, -7.3719, -7.3719, -7.372, -7.372, -7.372, -7.372, -7.4747, -7.4747, -7.4748, -7.5892, -7.7183, -7.7184, -7.7184, -7.7186, -7.7187, -5.523, -5.7097, -7.2788, -5.8541, -6.4216, -6.6343, -6.6509, -6.2257, -6.143, -4.9747, -6.3376, -6.7219, -5.8277, -6.314, -5.0323, -6.2038, -5.9743, -5.2803, -5.8908, -5.139, -5.8694, -5.6807, -5.8493, -5.983, -5.7299, -5.8654, -6.1919, -5.9141, -6.0136, -5.9813, -6.1496, -6.1897, -6.2578, -6.2836, -6.2813, -5.9149, -5.9685, -6.5429, -5.877, -5.8768, -5.9152, -6.7885, -6.3738, -7.1157, -6.1239, -5.996, -7.3578, -7.3581, -6.5427, -7.4742, -7.4742, -7.4754, -6.6195, -7.5378, -7.5378, -7.5378, -7.5384, -7.6053, -7.6781, -7.6785, -7.7567, -7.7572, -6.3893, -7.6167, -7.8417, -6.4973, -7.1616, -6.1532, -6.475, -6.9948, -6.3855, -6.389, -6.0701, -6.6217, -7.1603, -7.122, -5.8514, -6.5003, -6.495, -5.9974, -6.958, -6.5928, -6.9441, -6.8582, -6.2173, -4.7004, -4.683, -5.1997, -5.1011, -6.1155, -5.6487, -5.9247, -5.9744, -5.7815, -6.0359, -5.8332, -5.8759, -6.0055, -6.0015, -5.8781, -5.9912, -6.0498, -6.0425, -6.0841, -6.1151, -5.9416, -6.4164, -6.4547, -6.5323, -6.1838, -6.5345, -6.785, -6.8668, -6.7907, -7.1998, -6.3812, -7.3259, -7.42, -6.594, -7.3743, -7.4709, -7.3758, -7.4714, -7.5238, -7.137, -7.5262, -7.5818, -7.64, -7.3848, -6.0574, -7.6436, -6.5662, -7.7711, -7.7716, -7.7718, -6.7964, -6.033, -6.2818, -6.6011, -5.9765, -6.1515, -6.5169, -6.4046, -6.6439, -6.6061, -6.8594, -5.6456, -6.7427, -7.1274, -5.9791, -6.9675, -4.4839, -4.7148, -5.0041, -5.2687, -5.5526, -5.7347, -5.2519, -6.0044, -5.59, -5.8242, -5.8986, -5.631, -5.6329, -5.8496, -5.7326, -5.8861, -5.9306, -5.8468, -5.9556, -5.9453, -5.9547, -5.9683, -6.0053, -6.0534], \"loglift\": [30.0, 29.0, 28.0, 27.0, 26.0, 25.0, 24.0, 23.0, 22.0, 21.0, 20.0, 19.0, 18.0, 17.0, 16.0, 15.0, 14.0, 13.0, 12.0, 11.0, 10.0, 9.0, 8.0, 7.0, 6.0, 5.0, 4.0, 3.0, 2.0, 1.0, 1.4659, 1.4625, 1.4588, 1.4543, 1.4537, 1.4515, 1.4508, 1.4504, 1.4478, 1.4465, 1.4457, 1.4324, 1.4265, 1.4238, 1.4214, 1.4172, 1.4169, 1.4168, 1.4145, 1.4128, 1.4078, 1.4065, 1.4015, 1.4014, 1.4014, 1.4011, 1.4008, 1.3989, 1.3939, 1.3932, 1.3909, 1.3629, 1.3765, 1.3233, 1.1334, 1.1473, 0.1029, 1.0153, 0.3361, 0.7906, 0.2919, -0.1048, 0.1358, 0.0847, -0.0829, -0.3408, 0.0515, 0.1645, -0.0038, 0.0174, -0.1643, 0.1408, 0.0583, 0.2262, -0.4953, -0.0606, -0.2697, 0.2508, 0.0434, 1.8932, 1.8914, 1.8892, 1.8878, 1.8794, 1.8794, 1.8771, 1.8746, 1.8746, 1.8699, 1.8563, 1.8563, 1.8563, 1.8508, 1.8442, 1.8442, 1.8442, 1.8441, 1.8441, 1.8441, 1.844, 1.8361, 1.836, 1.836, 1.8262, 1.814, 1.8139, 1.8139, 1.8137, 1.8136, 1.7123, 1.6122, 1.7617, 1.4716, 1.5452, 1.5357, 1.5186, 1.2471, 1.1616, 0.5111, 1.1978, 1.3297, 0.5633, 0.9474, -0.1878, 0.8391, 0.5661, -0.1642, 0.4443, -0.5168, 0.2737, -0.0132, 0.1494, 0.2597, -0.4006, -0.1166, 0.5037, -0.2442, -0.0532, -0.182, -0.287, -0.1954, -0.0805, 0.1013, -0.1408, 1.2571, 1.2561, 1.2485, 1.2461, 1.2457, 1.2452, 1.2442, 1.2428, 1.2358, 1.2309, 1.2287, 1.2276, 1.2273, 1.2259, 1.2226, 1.2225, 1.2215, 1.22, 1.2198, 1.2197, 1.2197, 1.2191, 1.2168, 1.2132, 1.2128, 1.2088, 1.2084, 1.2067, 1.2053, 1.2041, 1.1827, 1.1918, 1.1583, 1.1677, 1.1652, 1.0926, 1.0859, 0.9992, 1.079, 1.1538, 1.1468, 0.8992, 1.0209, 1.0019, 0.8675, 1.1056, 0.9685, 1.0868, 1.0549, 0.8028, 0.1441, -0.0608, 0.1296, 0.0151, 0.6357, 0.0212, 0.2157, 0.194, -0.114, 0.2665, -0.0844, -0.0766, 0.1718, 0.0816, -0.3923, -0.1286, 0.0333, -0.0327, -0.1238, 0.0954, 1.057, 1.0569, 1.055, 1.0545, 1.0526, 1.0523, 1.0505, 1.0489, 1.0451, 1.042, 1.0411, 1.0387, 1.0358, 1.0352, 1.035, 1.0339, 1.0336, 1.0334, 1.0325, 1.0316, 1.0301, 1.0287, 1.0278, 1.0253, 1.0248, 1.0244, 1.0229, 1.0223, 1.0219, 1.0216, 1.0164, 1.0018, 0.9994, 0.9892, 0.9618, 0.9631, 0.9801, 0.973, 0.9693, 0.9479, 0.9566, 0.7892, 0.9138, 0.976, 0.6795, 0.9304, 0.1383, 0.1297, 0.112, 0.2171, 0.31, 0.3786, 0.0773, 0.5262, 0.2093, 0.2589, 0.3108, 0.0389, 0.0345, 0.1603, 0.0162, 0.1969, 0.2501, 0.1136, 0.2467, 0.2037, 0.1884, 0.026, -0.0067, 0.2873]}, \"token.table\": {\"Topic\": [1, 2, 3, 4, 3, 3, 4, 1, 1, 2, 3, 4, 1, 2, 3, 4, 1, 2, 3, 1, 3, 4, 2, 2, 1, 4, 1, 2, 4, 1, 4, 1, 1, 2, 3, 4, 1, 4, 1, 2, 3, 4, 3, 1, 3, 4, 2, 1, 2, 3, 1, 2, 4, 1, 2, 1, 4, 1, 3, 1, 2, 1, 2, 3, 4, 1, 2, 3, 4, 4, 1, 2, 3, 4, 4, 1, 4, 3, 3, 1, 2, 3, 4, 1, 2, 3, 4, 2, 1, 2, 1, 3, 2, 4, 1, 3, 1, 2, 3, 4, 1, 4, 1, 2, 3, 4, 1, 3, 4, 1, 3, 4, 1, 2, 3, 4, 1, 2, 3, 4, 1, 3, 4, 3, 1, 4, 1, 1, 2, 3, 4, 1, 2, 3, 4, 3, 1, 3, 4, 1, 2, 3, 4, 1, 2, 3, 4, 2, 4, 1, 2, 3, 4, 1, 2, 3, 4, 1, 2, 3, 4, 2, 1, 2, 3, 4, 2, 4, 1, 2, 3, 4, 1, 2, 3, 4, 1, 2, 3, 4, 1, 1, 4, 1, 2, 4, 4, 1, 1, 3, 4, 3, 3, 4, 1, 2, 3, 4, 1, 2, 3, 4, 3, 4, 1, 3, 4, 1, 2, 3, 4, 2, 1, 2, 3, 4, 1, 1, 1, 2, 3, 4, 3, 3, 2, 1, 2, 3, 4, 1, 4, 2, 1, 4, 1, 2, 3, 4, 4, 4, 1, 2, 3, 4, 3, 1, 4, 1, 2, 3, 4, 1, 2, 1, 2, 2, 2, 2, 2, 1, 1, 2, 3, 4, 2, 1, 2, 3, 4, 4, 4, 1, 3, 4, 1, 2, 1, 3, 4, 1, 3, 1, 1, 2, 3, 4, 1, 2, 3, 4, 4, 2, 1, 1, 3, 4, 1, 2, 3, 4, 1, 2, 3, 4, 1, 1, 4, 1, 4, 1, 3, 4, 2, 1, 3, 1, 2, 3, 4, 1, 2, 3, 4, 2, 1, 4, 4, 1, 2, 3, 4, 3, 3, 4, 1, 3, 4, 2, 3, 4, 3, 3, 1, 2, 3, 4, 1, 2, 4, 3, 4, 2, 1, 4, 2, 3, 4, 3, 4, 3, 2, 2, 3, 1, 2, 3, 4, 1, 3, 4, 1, 2, 3, 4, 1, 1, 2, 3, 4, 2, 4, 4, 1, 1, 2, 3, 4, 2, 2, 3, 3, 1, 2, 3, 4, 3, 4, 2, 1, 2, 3, 4, 1, 2, 3, 4, 3, 4, 2, 3, 4, 1, 2, 3, 4, 1, 2, 3, 4, 1, 2, 3, 1, 4, 4, 3, 4, 4, 3, 4, 1, 2, 3, 4, 3, 4, 1, 2, 3, 4, 1, 2, 1, 1, 2, 3, 4, 1, 1, 3, 1, 2, 3, 4, 1, 2, 3, 4, 1, 1, 2, 3, 4, 1, 1, 2, 3, 4, 1, 2, 3, 4, 1, 2, 3, 4, 4], \"Freq\": [0.30592090015898854, 0.17095579714767006, 0.18445230744880192, 0.3419115942953401, 0.9739476323937825, 0.9333119783076933, 0.04444342753846159, 0.9674551927873333, 0.016720802008658275, 0.03344160401731655, 0.902923308467547, 0.05016240602597483, 0.18600879347722343, 0.10768930148681358, 0.29369809496403704, 0.4160723011990524, 0.9674426204374944, 0.8984444953510105, 0.9889237050679234, 0.044197058783016274, 0.044197058783016274, 0.9281382344433418, 0.9511659205642751, 0.9244220575594614, 0.0186801265192396, 0.9713665790004592, 0.14019577229625632, 0.5607830891850253, 0.28039154459251264, 0.015510675806938988, 0.9771725758371562, 0.9294073448995267, 0.9282616647207682, 0.010548428008190548, 0.04219371203276219, 0.010548428008190548, 0.8928905520742827, 0.08117186837038934, 0.2853588154510975, 0.10870812017184667, 0.25818178540813586, 0.34650713304776126, 0.9229804947346246, 0.08307633163778229, 0.02769211054592743, 0.8861475374696778, 0.8984478625559715, 0.9593493649740243, 0.020411688616468603, 0.020411688616468603, 0.012753829499230566, 0.9501602976926772, 0.03188457374807642, 0.3154611478841927, 0.6703549392539095, 0.8477205649388926, 0.13041854845213732, 0.9808675543773245, 0.9726400936722202, 0.9683791567270352, 0.9631076008043138, 0.040254043371289856, 0.020127021685644928, 0.020127021685644928, 0.9057159758540217, 0.26281279251329887, 0.12965431097322744, 0.2593086219464549, 0.34691288611755444, 0.9908645764237541, 0.28643468654573123, 0.028643468654573127, 0.5346780815520317, 0.16231298904258104, 0.9749826842020487, 0.07382757844606093, 0.9228447305757616, 0.9563079254690783, 0.9460580659826754, 0.155930900359311, 0.1923147771098169, 0.2338963505389665, 0.415815734291496, 0.20019212482889762, 0.01740801085468675, 0.10444806512812049, 0.6789124233327832, 0.959540223873199, 0.018246977251648155, 0.9670897943373521, 0.013840990691507208, 0.9827103390970118, 0.8479627361366392, 0.09421808179295992, 0.04739532576516775, 0.947906515303355, 0.7164982049556513, 0.09245138128460016, 0.09245138128460016, 0.06933853596345013, 0.9458373179941928, 0.937432220888378, 0.06197294707087766, 0.8056483119214096, 0.06197294707087766, 0.06197294707087766, 0.034333814854853636, 0.8240115565164873, 0.10300144456456091, 0.09443744530430204, 0.04721872265215102, 0.8499370077387183, 0.017862636978578834, 0.03572527395715767, 0.03572527395715767, 0.9109944859075206, 0.1312372084771795, 0.03937116254315385, 0.7611758091676412, 0.0787423250863077, 0.04833869728942796, 0.9184352484991312, 0.02416934864471398, 0.9087210438570688, 0.02760471613858733, 0.9385603487119693, 0.9903560963288918, 0.3975782684595447, 0.3816751377211629, 0.15903130738381788, 0.06361252295352715, 0.1953320527310626, 0.12162184415330313, 0.2616712404510461, 0.42383369932211695, 0.9230177980258838, 0.016220820250336332, 0.048662460751008996, 0.9245867542691709, 0.39620348653854287, 0.34508045601744053, 0.19171136445413364, 0.07668454578165346, 0.20105712165155598, 0.25518788517312874, 0.1855911892168209, 0.3557164459989067, 0.9244235896302067, 0.9909446449748677, 0.04292953838904071, 0.06439430758356107, 0.7512669218082125, 0.1502533843616425, 0.25329651769711314, 0.08746112942904803, 0.2646551059346518, 0.39414301184259304, 0.2169431539664098, 0.11603936142389362, 0.16649125769515172, 0.49947377308545515, 0.9243986265534503, 0.2510027312408082, 0.48108856821154905, 0.06275068281020205, 0.2091689427006735, 0.9290567040460969, 0.9868959593216395, 0.24874314957935773, 0.14536937313079348, 0.25197358009337534, 0.3553473565419396, 0.20572776631413817, 0.12232461780840648, 0.3113717544213983, 0.36141364352483735, 0.20507918209097967, 0.08634912930146513, 0.2698410290670785, 0.4425392876700088, 0.980711758891518, 0.04414328681406552, 0.9490806665024086, 0.35617860325202205, 0.6445136630274685, 0.9807024715071206, 0.9451642555960243, 0.9861597445243647, 0.03453743966228646, 0.06907487932457292, 0.8979734312194478, 0.9739071894935294, 0.012227923593720364, 0.9904618110913495, 0.13916264294182, 0.048706925029637, 0.062623189323819, 0.758436404032919, 0.21239094318237145, 0.07496150935848404, 0.6246792446540337, 0.08745509425156471, 0.9755342998109672, 0.022686844181650397, 0.2567431443824204, 0.6739507540038536, 0.07488341711153929, 0.05894416105077363, 0.5108493957733715, 0.03929610736718242, 0.3929610736718242, 0.8642238879020673, 0.9183948708948024, 0.021866544545114344, 0.04373308909022869, 0.021866544545114344, 0.9862796791669354, 0.9864255283873455, 0.03005353823621414, 0.06010707647242828, 0.03005353823621414, 0.87155260885021, 0.9563318141173927, 0.9229739817070712, 0.8984456050128187, 0.6254662562822175, 0.08158255516724576, 0.19035929539024013, 0.10877674022299436, 0.9665563465009287, 0.026848787402803574, 0.8642281484329862, 0.8841401113191532, 0.05894267408794354, 0.20961222340377844, 0.09904753413585135, 0.32017691267170556, 0.3708523952528388, 0.9567145158897388, 0.9523026715819418, 0.23772460540044332, 0.09143254053863205, 0.3657301621545282, 0.29867963242619805, 0.9964406174543082, 0.022973906760141993, 0.9649040839259637, 0.14313814849742715, 0.06679780263213267, 0.6966056560208121, 0.0954254323316181, 0.3156365234334616, 0.6707276122961059, 0.9293338487765208, 0.8984488697844387, 0.9244064753596974, 0.9290595406982444, 0.9742256838543456, 0.9269979143217897, 0.8869341633882172, 0.23962723061511007, 0.11333720366930883, 0.2882003179019567, 0.356202640103542, 0.9777811628999811, 0.29285026707066064, 0.077065859755437, 0.37762271280164134, 0.25431733719294214, 0.9567510447463575, 0.988353238306217, 0.012678997591583934, 0.050715990366335735, 0.938245821777211, 0.28981324132312297, 0.6762308964206203, 0.01533059768132512, 0.9658276539234825, 0.01533059768132512, 0.0911461152053588, 0.911461152053588, 0.9463096429113869, 0.16313394957128258, 0.1219958231576548, 0.3248493430593366, 0.39010292288784965, 0.22947385098035136, 0.13855024964851403, 0.24679263218641562, 0.38534288183492965, 0.9790747335335989, 0.9244289048190488, 0.9675130401937951, 0.9399557093455705, 0.024101428444758217, 0.024101428444758217, 0.23829141850112648, 0.15886094566741765, 0.2581490367095537, 0.34419871561273824, 0.20783468696930288, 0.22672874942105767, 0.2519208326900641, 0.3086030200453285, 0.9807503771523788, 0.09043617970488751, 0.9043617970488752, 0.5096893956490911, 0.4942442624476035, 0.157513996281874, 0.8269484804798386, 0.9455229784741096, 0.8984509554483653, 0.02640921683410324, 0.9507318060277167, 0.17613257178245031, 0.09955319274660235, 0.14550082016811114, 0.5820032806724446, 0.20659889667819, 0.12470383853548406, 0.28663270349947084, 0.38341777221357787, 0.8984491619184658, 0.9304087080100987, 0.03578495030808072, 0.9785592546432642, 0.17100900458863869, 0.06333666836616247, 0.31034967499419613, 0.45602401223636985, 0.9353987242640022, 0.7648528695406476, 0.2214047780249243, 0.01746118452856189, 0.960365149070904, 0.01746118452856189, 0.11850033253268354, 0.8492523831508987, 0.039500110844227845, 0.9616253980049114, 0.9629510298251708, 0.021307641955313074, 0.021307641955313074, 0.06392292586593923, 0.8949209621231492, 0.13516872929466722, 0.7265319199588364, 0.13516872929466722, 0.9355072213687677, 0.9828437178457601, 0.8984413156518188, 0.9793475290096506, 0.9885400593659838, 0.014375067920531712, 0.9775046185961564, 0.9567436328932589, 0.8239048104569182, 0.18308995787931515, 0.9354054418271349, 0.9631077931672163, 0.9916577458869328, 0.9471730942938716, 0.17669059689166414, 0.10994081584370212, 0.24736683564832979, 0.46724846733573405, 0.07402822482616406, 0.8389865480298593, 0.09870429976821873, 0.18750502798251897, 0.07169309893449255, 0.3033169570305454, 0.44118830113533875, 0.9674570463874648, 0.12644577788997471, 0.24385971450209407, 0.31611444472493677, 0.31611444472493677, 0.9511668535729692, 0.9374621258557815, 0.9869943391491892, 0.8868972728322979, 0.02062180677760689, 0.04124361355521378, 0.7836286575490619, 0.16497445422085513, 0.9536169093913617, 0.01384862755945936, 0.9832525567216145, 0.9615759323337643, 0.24203710589332542, 0.13446505882962523, 0.3334733458974706, 0.2850659247188055, 0.8983938021360033, 0.07812120018573943, 0.9511649367879215, 0.2719071775037777, 0.10980866783806406, 0.1987013989450683, 0.41831873462119645, 0.7146976355946383, 0.02748837059979378, 0.123697667699072, 0.13744185299896888, 0.963874832782795, 0.028349259787729262, 0.03547007660444946, 0.8512818385067871, 0.10641022981334838, 0.1762273022128238, 0.07342804258867658, 0.3035025760331965, 0.4454634583713045, 0.14007633575675896, 0.24513358757432815, 0.19125807382172857, 0.4256165586455368, 0.04657093930878088, 0.04657093930878088, 0.9081333165212272, 0.039882930606935936, 0.9571903345664625, 0.9737246893950051, 0.9845995131319341, 0.9523344708734234, 0.9735860959122485, 0.9229772578533285, 0.9586518943900533, 0.18883322857013846, 0.09997053277242623, 0.23881849495635157, 0.46652915293798913, 0.8710957600944796, 0.08710957600944796, 0.26415108537875537, 0.1894996916847593, 0.31583281947459885, 0.22969659598152642, 0.9294228911419409, 0.8642254835780591, 0.9341045555360551, 0.31550169486448404, 0.46494986611608174, 0.0498160570838659, 0.16605352361288633, 0.9674599947955164, 0.9255387398731152, 0.0638302579222838, 0.0137321698115694, 0.08239301886941638, 0.0137321698115694, 0.8925910377520109, 0.32248842149529233, 0.12093315806073462, 0.206034269288659, 0.35384146247400133, 0.9712087327893775, 0.1919148401157313, 0.0906264522768731, 0.3411819379835223, 0.3731677446694775, 0.977659631495183, 0.1998147370719888, 0.25975915819358547, 0.3463455442581139, 0.19315424583625584, 0.23201241116540816, 0.09098525928055222, 0.27295577784165664, 0.4003351408344298, 0.18662079198066944, 0.12959777220879823, 0.34732202951957925, 0.3369542077428754, 0.9530918335217251], \"Term\": [\"action\", \"action\", \"action\", \"action\", \"agatha\", \"alan\", \"alan\", \"albanian\", \"alien\", \"alien\", \"alien\", \"alien\", \"also\", \"also\", \"also\", \"also\", \"amanda\", \"ana\", \"anderton\", \"angel\", \"angel\", \"angel\", \"armas\", \"aston\", \"avenger\", \"avenger\", \"bale\", \"bale\", \"bale\", \"banning\", \"banning\", \"basinger\", \"batman\", \"batman\", \"batman\", \"batman\", \"besson\", \"besson\", \"best\", \"best\", \"best\", \"best\", \"beth\", \"bill\", \"bill\", \"bill\", \"blofeld\", \"blonde\", \"blonde\", \"blonde\", \"bond\", \"bond\", \"bond\", \"bratt\", \"bratt\", \"bruce\", \"bruce\", \"bryan\", \"bullock\", \"burton\", \"casino\", \"chapter\", \"chapter\", \"chapter\", \"chapter\", \"character\", \"character\", \"character\", \"character\", \"christine\", \"city\", \"city\", \"city\", \"city\", \"clay\", \"clown\", \"clown\", \"cobb\", \"cog\", \"come\", \"come\", \"come\", \"come\", \"comedy\", \"comedy\", \"comedy\", \"comedy\", \"connery\", \"craig\", \"craig\", \"cruise\", \"cruise\", \"cuba\", \"cuba\", \"dash\", \"dash\", \"daughter\", \"daughter\", \"daughter\", \"daughter\", \"davis\", \"derry\", \"die\", \"die\", \"die\", \"die\", \"diesel\", \"diesel\", \"diesel\", \"dirty\", \"dirty\", \"dirty\", \"drag\", \"drag\", \"drag\", \"drag\", \"dream\", \"dream\", \"dream\", \"dream\", \"earth\", \"earth\", \"earth\", \"eclipse\", \"efron\", \"efron\", \"elle\", \"emotion\", \"emotion\", \"emotion\", \"emotion\", \"even\", \"even\", \"even\", \"even\", \"fairfax\", \"fallen\", \"fallen\", \"fallen\", \"family\", \"family\", \"family\", \"family\", \"feel\", \"feel\", \"feel\", \"feel\", \"felix\", \"ferrell\", \"fiction\", \"fiction\", \"fiction\", \"fiction\", \"film\", \"film\", \"film\", \"film\", \"first\", \"first\", \"first\", \"first\", \"fleming\", \"franchise\", \"franchise\", \"franchise\", \"franchise\", \"fukunaga\", \"ganush\", \"get\", \"get\", \"get\", \"get\", \"go\", \"go\", \"go\", \"go\", \"good\", \"good\", \"good\", \"good\", \"gotham\", \"grandpa\", \"grandpa\", \"gru\", \"gru\", \"gypsy\", \"hader\", \"harvard\", \"hell\", \"hell\", \"hell\", \"hitchcock\", \"holmes\", \"holmes\", \"horror\", \"horror\", \"horror\", \"horror\", \"human\", \"human\", \"human\", \"human\", \"inception\", \"inception\", \"jack\", \"jack\", \"jack\", \"james\", \"james\", \"james\", \"james\", \"joji\", \"joker\", \"joker\", \"joker\", \"joker\", \"keaton\", \"kim\", \"king\", \"king\", \"king\", \"king\", \"kosinski\", \"kurylenko\", \"lashana\", \"law\", \"law\", \"law\", \"law\", \"legally\", \"legally\", \"leiter\", \"liam\", \"liam\", \"like\", \"like\", \"like\", \"like\", \"loan\", \"lohman\", \"look\", \"look\", \"look\", \"look\", \"loretta\", \"loser\", \"loser\", \"lost\", \"lost\", \"lost\", \"lost\", \"lucy\", \"lucy\", \"luketic\", \"lynch\", \"lynd\", \"lyutsifer\", \"madeleine\", \"madeline\", \"maggie\", \"make\", \"make\", \"make\", \"make\", \"malek\", \"man\", \"man\", \"man\", \"man\", \"mcavoy\", \"melvin\", \"mike\", \"mike\", \"mike\", \"minion\", \"minion\", \"minority\", \"minority\", \"minority\", \"moon\", \"moon\", \"morel\", \"movie\", \"movie\", \"movie\", \"movie\", \"much\", \"much\", \"much\", \"much\", \"muschietti\", \"nanobots\", \"napier\", \"neeson\", \"neeson\", \"neeson\", \"never\", \"never\", \"never\", \"never\", \"new\", \"new\", \"new\", \"new\", \"nicholson\", \"niro\", \"niro\", \"noa\", \"noa\", \"nolan\", \"nolan\", \"nolte\", \"nomi\", \"oblivion\", \"oblivion\", \"old\", \"old\", \"old\", \"old\", \"one\", \"one\", \"one\", \"one\", \"paloma\", \"paris\", \"paris\", \"pennywise\", \"people\", \"people\", \"people\", \"people\", \"philip\", \"pitch\", \"pitch\", \"planet\", \"planet\", \"planet\", \"pre\", \"pre\", \"pre\", \"precogs\", \"precrime\", \"president\", \"president\", \"president\", \"president\", \"preston\", \"preston\", \"preston\", \"radcliffe\", \"raimi\", \"ramus\", \"reese\", \"reilly\", \"report\", \"report\", \"richie\", \"riddick\", \"riddick\", \"riseborough\", \"royale\", \"safin\", \"scanner\", \"scene\", \"scene\", \"scene\", \"scene\", \"science\", \"science\", \"science\", \"see\", \"see\", \"see\", \"see\", \"selma\", \"sequence\", \"sequence\", \"sequence\", \"sequence\", \"seydoux\", \"sherlock\", \"skarsgard\", \"sorority\", \"space\", \"space\", \"space\", \"space\", \"spectre\", \"spielberg\", \"spielberg\", \"steven\", \"story\", \"story\", \"story\", \"story\", \"sun\", \"sun\", \"swann\", \"take\", \"take\", \"take\", \"take\", \"taken\", \"taken\", \"taken\", \"taken\", \"tatum\", \"tatum\", \"technology\", \"technology\", \"technology\", \"thing\", \"thing\", \"thing\", \"thing\", \"time\", \"time\", \"time\", \"time\", \"tom\", \"tom\", \"tom\", \"toxic\", \"toxic\", \"toxie\", \"trainer\", \"troma\", \"tromaville\", \"tron\", \"trumbull\", \"two\", \"two\", \"two\", \"two\", \"twohy\", \"twohy\", \"u\", \"u\", \"u\", \"u\", \"vale\", \"vesper\", \"vicki\", \"villain\", \"villain\", \"villain\", \"villain\", \"vivian\", \"warner\", \"warner\", \"watson\", \"watson\", \"watson\", \"watson\", \"way\", \"way\", \"way\", \"way\", \"wayne\", \"well\", \"well\", \"well\", \"well\", \"witherspoon\", \"world\", \"world\", \"world\", \"world\", \"would\", \"would\", \"would\", \"would\", \"year\", \"year\", \"year\", \"year\", \"zac\"]}, \"R\": 30, \"lambda.step\": 0.01, \"plot.opts\": {\"xlab\": \"PC1\", \"ylab\": \"PC2\"}, \"topic.order\": [1, 2, 3, 4]};\n",
       "\n",
       "function LDAvis_load_lib(url, callback){\n",
       "  var s = document.createElement('script');\n",
       "  s.src = url;\n",
       "  s.async = true;\n",
       "  s.onreadystatechange = s.onload = callback;\n",
       "  s.onerror = function(){console.warn(\"failed to load library \" + url);};\n",
       "  document.getElementsByTagName(\"head\")[0].appendChild(s);\n",
       "}\n",
       "\n",
       "if(typeof(LDAvis) !== \"undefined\"){\n",
       "   // already loaded: just create the visualization\n",
       "   !function(LDAvis){\n",
       "       new LDAvis(\"#\" + \"ldavis_el485491405504138094724649568383\", ldavis_el485491405504138094724649568383_data);\n",
       "   }(LDAvis);\n",
       "}else if(typeof define === \"function\" && define.amd){\n",
       "   // require.js is available: use it to load d3/LDAvis\n",
       "   require.config({paths: {d3: \"https://d3js.org/d3.v5\"}});\n",
       "   require([\"d3\"], function(d3){\n",
       "      window.d3 = d3;\n",
       "      LDAvis_load_lib(\"https://cdn.jsdelivr.net/gh/bmabey/pyLDAvis@3.2.2/pyLDAvis/js/ldavis.v3.0.0.js\", function(){\n",
       "        new LDAvis(\"#\" + \"ldavis_el485491405504138094724649568383\", ldavis_el485491405504138094724649568383_data);\n",
       "      });\n",
       "    });\n",
       "}else{\n",
       "    // require.js not available: dynamically load d3 & LDAvis\n",
       "    LDAvis_load_lib(\"https://d3js.org/d3.v5.js\", function(){\n",
       "         LDAvis_load_lib(\"https://cdn.jsdelivr.net/gh/bmabey/pyLDAvis@3.2.2/pyLDAvis/js/ldavis.v3.0.0.js\", function(){\n",
       "                 new LDAvis(\"#\" + \"ldavis_el485491405504138094724649568383\", ldavis_el485491405504138094724649568383_data);\n",
       "            })\n",
       "         });\n",
       "}\n",
       "</script>"
      ],
      "text/plain": [
       "<IPython.core.display.HTML object>"
      ]
     },
     "execution_count": 32,
     "metadata": {},
     "output_type": "execute_result"
    }
   ],
   "source": [
    "pyLDAvis.display(lda_display)"
   ]
  },
  {
   "cell_type": "code",
   "execution_count": 33,
   "metadata": {
    "colab": {
     "base_uri": "https://localhost:8080/"
    },
    "executionInfo": {
     "elapsed": 7,
     "status": "ok",
     "timestamp": 1665657660881,
     "user": {
      "displayName": "Pavankumar Gurazada",
      "userId": "10690826909418856210"
     },
     "user_tz": -330
    },
    "id": "GHfnY_yadFob",
    "outputId": "b40a3076-fd0a-4ffa-963a-b0c28b60582b"
   },
   "outputs": [
    {
     "data": {
      "text/plain": [
       "[(0,\n",
       "  '0.011*\"film\" + 0.006*\"movie\" + 0.005*\"one\" + 0.004*\"like\" + 0.004*\"batman\" + 0.004*\"elle\" + 0.004*\"get\" + 0.004*\"character\" + 0.004*\"make\" + 0.003*\"way\"'),\n",
       " (1,\n",
       "  '0.011*\"bond\" + 0.007*\"time\" + 0.007*\"movie\" + 0.006*\"film\" + 0.005*\"one\" + 0.004*\"craig\" + 0.004*\"die\" + 0.003*\"get\" + 0.003*\"preston\" + 0.003*\"like\"'),\n",
       " (2,\n",
       "  '0.009*\"film\" + 0.009*\"movie\" + 0.006*\"one\" + 0.006*\"like\" + 0.004*\"make\" + 0.003*\"get\" + 0.003*\"character\" + 0.003*\"lost\" + 0.003*\"even\" + 0.003*\"cruise\"'),\n",
       " (3,\n",
       "  '0.011*\"film\" + 0.009*\"movie\" + 0.007*\"one\" + 0.005*\"like\" + 0.005*\"time\" + 0.004*\"scene\" + 0.004*\"even\" + 0.004*\"make\" + 0.004*\"get\" + 0.004*\"horror\"')]"
      ]
     },
     "execution_count": 33,
     "metadata": {},
     "output_type": "execute_result"
    }
   ],
   "source": [
    "ldamodel.print_topics(num_words=10)"
   ]
  },
  {
   "cell_type": "code",
   "execution_count": 34,
   "metadata": {
    "colab": {
     "base_uri": "https://localhost:8080/"
    },
    "executionInfo": {
     "elapsed": 17925,
     "status": "ok",
     "timestamp": 1665657678801,
     "user": {
      "displayName": "Pavankumar Gurazada",
      "userId": "10690826909418856210"
     },
     "user_tz": -330
    },
    "id": "TmMG_qGFeGvH",
    "outputId": "af65ce22-c0a9-44fb-a60b-3d1cd46f562b"
   },
   "outputs": [],
   "source": [
    "topics = [2, 4, 6, 8]\n",
    "coherence_values = {}\n",
    "\n",
    "for t in topics:\n",
    "    ldamodel = LdaModel(doc_term_matrix,\n",
    "                        num_topics=t,\n",
    "                        id2word = dictionary,\n",
    "                        alpha='auto',\n",
    "                        eta='auto',\n",
    "                        iterations=100,\n",
    "                        passes=20,\n",
    "                        random_state=20130810)\n",
    "\n",
    "    coherence_model_lda = CoherenceModel(model=ldamodel, \n",
    "                                         dictionary=dictionary, \n",
    "                                         texts=processed_text, \n",
    "                                         coherence='c_v')\n",
    "    \n",
    "    coherence_lda = coherence_model_lda.get_coherence()\n",
    "    coherence_values[str(t) + ' topics'] = coherence_lda "
   ]
  },
  {
   "cell_type": "code",
   "execution_count": 35,
   "metadata": {
    "colab": {
     "base_uri": "https://localhost:8080/"
    },
    "executionInfo": {
     "elapsed": 14,
     "status": "ok",
     "timestamp": 1665657678802,
     "user": {
      "displayName": "Pavankumar Gurazada",
      "userId": "10690826909418856210"
     },
     "user_tz": -330
    },
    "id": "VnEfAVEwg-GB",
    "outputId": "acbc0abc-ad55-4239-9c12-d9b51a1ab6d1"
   },
   "outputs": [
    {
     "name": "stdout",
     "output_type": "stream",
     "text": [
      "{'2 topics': 0.24759174785329124, '4 topics': 0.23238133565424585, '6 topics': 0.2762221214715257, '8 topics': 0.27565416248731994}\n"
     ]
    }
   ],
   "source": [
    "print(coherence_values)"
   ]
  }
 ],
 "metadata": {
  "colab": {
   "authorship_tag": "ABX9TyOpwdK9KkHS+9F+PB7OzA4Z",
   "collapsed_sections": [],
   "provenance": []
  },
  "kernelspec": {
   "display_name": "Python 3",
   "language": "python",
   "name": "python3"
  },
  "language_info": {
   "codemirror_mode": {
    "name": "ipython",
    "version": 3
   },
   "file_extension": ".py",
   "mimetype": "text/x-python",
   "name": "python",
   "nbconvert_exporter": "python",
   "pygments_lexer": "ipython3",
   "version": "3.8.10"
  }
 },
 "nbformat": 4,
 "nbformat_minor": 1
}
